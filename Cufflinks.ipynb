{
 "cells": [
  {
   "cell_type": "code",
   "execution_count": 5,
   "id": "99728957",
   "metadata": {},
   "outputs": [],
   "source": [
    "import pandas as pd\n",
    "import numpy as np "
   ]
  },
  {
   "cell_type": "code",
   "execution_count": 6,
   "id": "fd6c769f",
   "metadata": {},
   "outputs": [
    {
     "name": "stdout",
     "output_type": "stream",
     "text": [
      "Requirement already satisfied: plotly in /Users/perimtemizoz/opt/anaconda3/lib/python3.9/site-packages (5.6.0)\n",
      "Requirement already satisfied: six in /Users/perimtemizoz/opt/anaconda3/lib/python3.9/site-packages (from plotly) (1.16.0)\n",
      "Requirement already satisfied: tenacity>=6.2.0 in /Users/perimtemizoz/opt/anaconda3/lib/python3.9/site-packages (from plotly) (8.0.1)\n",
      "Note: you may need to restart the kernel to use updated packages.\n"
     ]
    }
   ],
   "source": [
    "pip install plotly"
   ]
  },
  {
   "cell_type": "code",
   "execution_count": 7,
   "id": "b59570a9",
   "metadata": {},
   "outputs": [],
   "source": [
    "from plotly import __version__"
   ]
  },
  {
   "cell_type": "code",
   "execution_count": 20,
   "id": "b4e30386",
   "metadata": {},
   "outputs": [],
   "source": [
    "%matplotlib inline"
   ]
  },
  {
   "cell_type": "code",
   "execution_count": 6,
   "id": "1acd2cc5",
   "metadata": {},
   "outputs": [
    {
     "name": "stdout",
     "output_type": "stream",
     "text": [
      "Collecting cufflinks\n",
      "  Downloading cufflinks-0.17.3.tar.gz (81 kB)\n",
      "\u001b[K     |████████████████████████████████| 81 kB 872 kB/s eta 0:00:011\n",
      "\u001b[?25hRequirement already satisfied: numpy>=1.9.2 in /Users/perimtemizoz/opt/anaconda3/lib/python3.9/site-packages (from cufflinks) (1.20.3)\n",
      "Requirement already satisfied: pandas>=0.19.2 in /Users/perimtemizoz/opt/anaconda3/lib/python3.9/site-packages (from cufflinks) (1.3.4)\n",
      "Requirement already satisfied: plotly>=4.1.1 in /Users/perimtemizoz/opt/anaconda3/lib/python3.9/site-packages (from cufflinks) (5.6.0)\n",
      "Requirement already satisfied: six>=1.9.0 in /Users/perimtemizoz/opt/anaconda3/lib/python3.9/site-packages (from cufflinks) (1.16.0)\n",
      "Collecting colorlover>=0.2.1\n",
      "  Downloading colorlover-0.3.0-py3-none-any.whl (8.9 kB)\n",
      "Requirement already satisfied: setuptools>=34.4.1 in /Users/perimtemizoz/opt/anaconda3/lib/python3.9/site-packages (from cufflinks) (58.0.4)\n",
      "Requirement already satisfied: ipython>=5.3.0 in /Users/perimtemizoz/opt/anaconda3/lib/python3.9/site-packages (from cufflinks) (7.29.0)\n",
      "Requirement already satisfied: ipywidgets>=7.0.0 in /Users/perimtemizoz/opt/anaconda3/lib/python3.9/site-packages (from cufflinks) (7.6.5)\n",
      "Requirement already satisfied: decorator in /Users/perimtemizoz/opt/anaconda3/lib/python3.9/site-packages (from ipython>=5.3.0->cufflinks) (5.1.0)\n",
      "Requirement already satisfied: matplotlib-inline in /Users/perimtemizoz/opt/anaconda3/lib/python3.9/site-packages (from ipython>=5.3.0->cufflinks) (0.1.2)\n",
      "Requirement already satisfied: traitlets>=4.2 in /Users/perimtemizoz/opt/anaconda3/lib/python3.9/site-packages (from ipython>=5.3.0->cufflinks) (5.1.0)\n",
      "Requirement already satisfied: pickleshare in /Users/perimtemizoz/opt/anaconda3/lib/python3.9/site-packages (from ipython>=5.3.0->cufflinks) (0.7.5)\n",
      "Requirement already satisfied: prompt-toolkit!=3.0.0,!=3.0.1,<3.1.0,>=2.0.0 in /Users/perimtemizoz/opt/anaconda3/lib/python3.9/site-packages (from ipython>=5.3.0->cufflinks) (3.0.20)\n",
      "Requirement already satisfied: appnope in /Users/perimtemizoz/opt/anaconda3/lib/python3.9/site-packages (from ipython>=5.3.0->cufflinks) (0.1.2)\n",
      "Requirement already satisfied: pygments in /Users/perimtemizoz/opt/anaconda3/lib/python3.9/site-packages (from ipython>=5.3.0->cufflinks) (2.10.0)\n",
      "Requirement already satisfied: jedi>=0.16 in /Users/perimtemizoz/opt/anaconda3/lib/python3.9/site-packages (from ipython>=5.3.0->cufflinks) (0.18.0)\n",
      "Requirement already satisfied: backcall in /Users/perimtemizoz/opt/anaconda3/lib/python3.9/site-packages (from ipython>=5.3.0->cufflinks) (0.2.0)\n",
      "Requirement already satisfied: pexpect>4.3 in /Users/perimtemizoz/opt/anaconda3/lib/python3.9/site-packages (from ipython>=5.3.0->cufflinks) (4.8.0)\n",
      "Requirement already satisfied: widgetsnbextension~=3.5.0 in /Users/perimtemizoz/opt/anaconda3/lib/python3.9/site-packages (from ipywidgets>=7.0.0->cufflinks) (3.5.1)\n",
      "Requirement already satisfied: ipykernel>=4.5.1 in /Users/perimtemizoz/opt/anaconda3/lib/python3.9/site-packages (from ipywidgets>=7.0.0->cufflinks) (6.4.1)\n",
      "Requirement already satisfied: jupyterlab-widgets>=1.0.0 in /Users/perimtemizoz/opt/anaconda3/lib/python3.9/site-packages (from ipywidgets>=7.0.0->cufflinks) (1.0.0)\n",
      "Requirement already satisfied: ipython-genutils~=0.2.0 in /Users/perimtemizoz/opt/anaconda3/lib/python3.9/site-packages (from ipywidgets>=7.0.0->cufflinks) (0.2.0)\n",
      "Requirement already satisfied: nbformat>=4.2.0 in /Users/perimtemizoz/opt/anaconda3/lib/python3.9/site-packages (from ipywidgets>=7.0.0->cufflinks) (5.1.3)\n",
      "Requirement already satisfied: debugpy<2.0,>=1.0.0 in /Users/perimtemizoz/opt/anaconda3/lib/python3.9/site-packages (from ipykernel>=4.5.1->ipywidgets>=7.0.0->cufflinks) (1.4.1)\n",
      "Requirement already satisfied: jupyter-client<8.0 in /Users/perimtemizoz/opt/anaconda3/lib/python3.9/site-packages (from ipykernel>=4.5.1->ipywidgets>=7.0.0->cufflinks) (6.1.12)\n",
      "Requirement already satisfied: tornado<7.0,>=4.2 in /Users/perimtemizoz/opt/anaconda3/lib/python3.9/site-packages (from ipykernel>=4.5.1->ipywidgets>=7.0.0->cufflinks) (6.1)\n",
      "Requirement already satisfied: parso<0.9.0,>=0.8.0 in /Users/perimtemizoz/opt/anaconda3/lib/python3.9/site-packages (from jedi>=0.16->ipython>=5.3.0->cufflinks) (0.8.2)\n",
      "Requirement already satisfied: python-dateutil>=2.1 in /Users/perimtemizoz/opt/anaconda3/lib/python3.9/site-packages (from jupyter-client<8.0->ipykernel>=4.5.1->ipywidgets>=7.0.0->cufflinks) (2.8.2)\n",
      "Requirement already satisfied: pyzmq>=13 in /Users/perimtemizoz/opt/anaconda3/lib/python3.9/site-packages (from jupyter-client<8.0->ipykernel>=4.5.1->ipywidgets>=7.0.0->cufflinks) (22.2.1)\n",
      "Requirement already satisfied: jupyter-core>=4.6.0 in /Users/perimtemizoz/opt/anaconda3/lib/python3.9/site-packages (from jupyter-client<8.0->ipykernel>=4.5.1->ipywidgets>=7.0.0->cufflinks) (4.8.1)\n",
      "Requirement already satisfied: jsonschema!=2.5.0,>=2.4 in /Users/perimtemizoz/opt/anaconda3/lib/python3.9/site-packages (from nbformat>=4.2.0->ipywidgets>=7.0.0->cufflinks) (3.2.0)\n",
      "Requirement already satisfied: attrs>=17.4.0 in /Users/perimtemizoz/opt/anaconda3/lib/python3.9/site-packages (from jsonschema!=2.5.0,>=2.4->nbformat>=4.2.0->ipywidgets>=7.0.0->cufflinks) (21.2.0)\n",
      "Requirement already satisfied: pyrsistent>=0.14.0 in /Users/perimtemizoz/opt/anaconda3/lib/python3.9/site-packages (from jsonschema!=2.5.0,>=2.4->nbformat>=4.2.0->ipywidgets>=7.0.0->cufflinks) (0.18.0)\n",
      "Requirement already satisfied: pytz>=2017.3 in /Users/perimtemizoz/opt/anaconda3/lib/python3.9/site-packages (from pandas>=0.19.2->cufflinks) (2021.3)\n",
      "Requirement already satisfied: ptyprocess>=0.5 in /Users/perimtemizoz/opt/anaconda3/lib/python3.9/site-packages (from pexpect>4.3->ipython>=5.3.0->cufflinks) (0.7.0)\n",
      "Requirement already satisfied: tenacity>=6.2.0 in /Users/perimtemizoz/opt/anaconda3/lib/python3.9/site-packages (from plotly>=4.1.1->cufflinks) (8.0.1)\n",
      "Requirement already satisfied: wcwidth in /Users/perimtemizoz/opt/anaconda3/lib/python3.9/site-packages (from prompt-toolkit!=3.0.0,!=3.0.1,<3.1.0,>=2.0.0->ipython>=5.3.0->cufflinks) (0.2.5)\n",
      "Requirement already satisfied: notebook>=4.4.1 in /Users/perimtemizoz/opt/anaconda3/lib/python3.9/site-packages (from widgetsnbextension~=3.5.0->ipywidgets>=7.0.0->cufflinks) (6.4.5)\n",
      "Requirement already satisfied: Send2Trash>=1.5.0 in /Users/perimtemizoz/opt/anaconda3/lib/python3.9/site-packages (from notebook>=4.4.1->widgetsnbextension~=3.5.0->ipywidgets>=7.0.0->cufflinks) (1.8.0)\n",
      "Requirement already satisfied: argon2-cffi in /Users/perimtemizoz/opt/anaconda3/lib/python3.9/site-packages (from notebook>=4.4.1->widgetsnbextension~=3.5.0->ipywidgets>=7.0.0->cufflinks) (20.1.0)\n",
      "Requirement already satisfied: terminado>=0.8.3 in /Users/perimtemizoz/opt/anaconda3/lib/python3.9/site-packages (from notebook>=4.4.1->widgetsnbextension~=3.5.0->ipywidgets>=7.0.0->cufflinks) (0.9.4)\n",
      "Requirement already satisfied: nbconvert in /Users/perimtemizoz/opt/anaconda3/lib/python3.9/site-packages (from notebook>=4.4.1->widgetsnbextension~=3.5.0->ipywidgets>=7.0.0->cufflinks) (6.1.0)\n",
      "Requirement already satisfied: prometheus-client in /Users/perimtemizoz/opt/anaconda3/lib/python3.9/site-packages (from notebook>=4.4.1->widgetsnbextension~=3.5.0->ipywidgets>=7.0.0->cufflinks) (0.11.0)\n",
      "Requirement already satisfied: jinja2 in /Users/perimtemizoz/opt/anaconda3/lib/python3.9/site-packages (from notebook>=4.4.1->widgetsnbextension~=3.5.0->ipywidgets>=7.0.0->cufflinks) (2.11.3)\n",
      "Requirement already satisfied: cffi>=1.0.0 in /Users/perimtemizoz/opt/anaconda3/lib/python3.9/site-packages (from argon2-cffi->notebook>=4.4.1->widgetsnbextension~=3.5.0->ipywidgets>=7.0.0->cufflinks) (1.14.6)\n",
      "Requirement already satisfied: pycparser in /Users/perimtemizoz/opt/anaconda3/lib/python3.9/site-packages (from cffi>=1.0.0->argon2-cffi->notebook>=4.4.1->widgetsnbextension~=3.5.0->ipywidgets>=7.0.0->cufflinks) (2.20)\n",
      "Requirement already satisfied: MarkupSafe>=0.23 in /Users/perimtemizoz/opt/anaconda3/lib/python3.9/site-packages (from jinja2->notebook>=4.4.1->widgetsnbextension~=3.5.0->ipywidgets>=7.0.0->cufflinks) (1.1.1)\n",
      "Requirement already satisfied: jupyterlab-pygments in /Users/perimtemizoz/opt/anaconda3/lib/python3.9/site-packages (from nbconvert->notebook>=4.4.1->widgetsnbextension~=3.5.0->ipywidgets>=7.0.0->cufflinks) (0.1.2)\n",
      "Requirement already satisfied: mistune<2,>=0.8.1 in /Users/perimtemizoz/opt/anaconda3/lib/python3.9/site-packages (from nbconvert->notebook>=4.4.1->widgetsnbextension~=3.5.0->ipywidgets>=7.0.0->cufflinks) (0.8.4)\n",
      "Requirement already satisfied: bleach in /Users/perimtemizoz/opt/anaconda3/lib/python3.9/site-packages (from nbconvert->notebook>=4.4.1->widgetsnbextension~=3.5.0->ipywidgets>=7.0.0->cufflinks) (4.0.0)\n",
      "Requirement already satisfied: testpath in /Users/perimtemizoz/opt/anaconda3/lib/python3.9/site-packages (from nbconvert->notebook>=4.4.1->widgetsnbextension~=3.5.0->ipywidgets>=7.0.0->cufflinks) (0.5.0)\n",
      "Requirement already satisfied: nbclient<0.6.0,>=0.5.0 in /Users/perimtemizoz/opt/anaconda3/lib/python3.9/site-packages (from nbconvert->notebook>=4.4.1->widgetsnbextension~=3.5.0->ipywidgets>=7.0.0->cufflinks) (0.5.3)\n",
      "Requirement already satisfied: pandocfilters>=1.4.1 in /Users/perimtemizoz/opt/anaconda3/lib/python3.9/site-packages (from nbconvert->notebook>=4.4.1->widgetsnbextension~=3.5.0->ipywidgets>=7.0.0->cufflinks) (1.4.3)\n",
      "Requirement already satisfied: entrypoints>=0.2.2 in /Users/perimtemizoz/opt/anaconda3/lib/python3.9/site-packages (from nbconvert->notebook>=4.4.1->widgetsnbextension~=3.5.0->ipywidgets>=7.0.0->cufflinks) (0.3)\n",
      "Requirement already satisfied: defusedxml in /Users/perimtemizoz/opt/anaconda3/lib/python3.9/site-packages (from nbconvert->notebook>=4.4.1->widgetsnbextension~=3.5.0->ipywidgets>=7.0.0->cufflinks) (0.7.1)\n",
      "Requirement already satisfied: async-generator in /Users/perimtemizoz/opt/anaconda3/lib/python3.9/site-packages (from nbclient<0.6.0,>=0.5.0->nbconvert->notebook>=4.4.1->widgetsnbextension~=3.5.0->ipywidgets>=7.0.0->cufflinks) (1.10)\n",
      "Requirement already satisfied: nest-asyncio in /Users/perimtemizoz/opt/anaconda3/lib/python3.9/site-packages (from nbclient<0.6.0,>=0.5.0->nbconvert->notebook>=4.4.1->widgetsnbextension~=3.5.0->ipywidgets>=7.0.0->cufflinks) (1.5.1)\n",
      "Requirement already satisfied: webencodings in /Users/perimtemizoz/opt/anaconda3/lib/python3.9/site-packages (from bleach->nbconvert->notebook>=4.4.1->widgetsnbextension~=3.5.0->ipywidgets>=7.0.0->cufflinks) (0.5.1)\n",
      "Requirement already satisfied: packaging in /Users/perimtemizoz/opt/anaconda3/lib/python3.9/site-packages (from bleach->nbconvert->notebook>=4.4.1->widgetsnbextension~=3.5.0->ipywidgets>=7.0.0->cufflinks) (21.0)\n",
      "Requirement already satisfied: pyparsing>=2.0.2 in /Users/perimtemizoz/opt/anaconda3/lib/python3.9/site-packages (from packaging->bleach->nbconvert->notebook>=4.4.1->widgetsnbextension~=3.5.0->ipywidgets>=7.0.0->cufflinks) (3.0.4)\n",
      "Building wheels for collected packages: cufflinks\n",
      "  Building wheel for cufflinks (setup.py) ... \u001b[?25ldone\n",
      "\u001b[?25h  Created wheel for cufflinks: filename=cufflinks-0.17.3-py3-none-any.whl size=67917 sha256=d2c17ab04c7d54fd5ac779384f57d64bc1144c4723b18244606df48e4eb99240\n",
      "  Stored in directory: /Users/perimtemizoz/Library/Caches/pip/wheels/29/b4/f8/2fd2206eeeba6ccad8167e4e8894b8c4ec27bf1342037fd136\n",
      "Successfully built cufflinks\n",
      "Installing collected packages: colorlover, cufflinks\n",
      "Successfully installed colorlover-0.3.0 cufflinks-0.17.3\n",
      "Note: you may need to restart the kernel to use updated packages.\n"
     ]
    }
   ],
   "source": [
    "pip install cufflinks"
   ]
  },
  {
   "cell_type": "code",
   "execution_count": 9,
   "id": "2b40d921",
   "metadata": {},
   "outputs": [],
   "source": [
    "import cufflinks as cf"
   ]
  },
  {
   "cell_type": "code",
   "execution_count": 18,
   "id": "c6097530",
   "metadata": {},
   "outputs": [
    {
     "data": {
      "text/html": [
       "        <script type=\"text/javascript\">\n",
       "        window.PlotlyConfig = {MathJaxConfig: 'local'};\n",
       "        if (window.MathJax) {MathJax.Hub.Config({SVG: {font: \"STIX-Web\"}});}\n",
       "        if (typeof require !== 'undefined') {\n",
       "        require.undef(\"plotly\");\n",
       "        requirejs.config({\n",
       "            paths: {\n",
       "                'plotly': ['https://cdn.plot.ly/plotly-2.9.0.min']\n",
       "            }\n",
       "        });\n",
       "        require(['plotly'], function(Plotly) {\n",
       "            window._Plotly = Plotly;\n",
       "        });\n",
       "        }\n",
       "        </script>\n",
       "        "
      ]
     },
     "metadata": {},
     "output_type": "display_data"
    }
   ],
   "source": [
    "# For offline use\n",
    "cf.go_offline()"
   ]
  },
  {
   "cell_type": "code",
   "execution_count": 12,
   "id": "c6373ceb",
   "metadata": {},
   "outputs": [],
   "source": [
    "df = pd.DataFrame(np.random.randn(100,4),columns='A B C D'.split())"
   ]
  },
  {
   "cell_type": "code",
   "execution_count": 13,
   "id": "34e449df",
   "metadata": {},
   "outputs": [
    {
     "data": {
      "text/html": [
       "<div>\n",
       "<style scoped>\n",
       "    .dataframe tbody tr th:only-of-type {\n",
       "        vertical-align: middle;\n",
       "    }\n",
       "\n",
       "    .dataframe tbody tr th {\n",
       "        vertical-align: top;\n",
       "    }\n",
       "\n",
       "    .dataframe thead th {\n",
       "        text-align: right;\n",
       "    }\n",
       "</style>\n",
       "<table border=\"1\" class=\"dataframe\">\n",
       "  <thead>\n",
       "    <tr style=\"text-align: right;\">\n",
       "      <th></th>\n",
       "      <th>A</th>\n",
       "      <th>B</th>\n",
       "      <th>C</th>\n",
       "      <th>D</th>\n",
       "    </tr>\n",
       "  </thead>\n",
       "  <tbody>\n",
       "    <tr>\n",
       "      <th>0</th>\n",
       "      <td>0.296791</td>\n",
       "      <td>-0.757165</td>\n",
       "      <td>1.340179</td>\n",
       "      <td>0.245260</td>\n",
       "    </tr>\n",
       "    <tr>\n",
       "      <th>1</th>\n",
       "      <td>-0.042206</td>\n",
       "      <td>0.304184</td>\n",
       "      <td>-1.955307</td>\n",
       "      <td>-0.813492</td>\n",
       "    </tr>\n",
       "    <tr>\n",
       "      <th>2</th>\n",
       "      <td>0.056235</td>\n",
       "      <td>-0.363434</td>\n",
       "      <td>0.096751</td>\n",
       "      <td>-0.063020</td>\n",
       "    </tr>\n",
       "    <tr>\n",
       "      <th>3</th>\n",
       "      <td>0.183965</td>\n",
       "      <td>-2.048236</td>\n",
       "      <td>-0.875963</td>\n",
       "      <td>1.676768</td>\n",
       "    </tr>\n",
       "    <tr>\n",
       "      <th>4</th>\n",
       "      <td>1.947190</td>\n",
       "      <td>-0.181088</td>\n",
       "      <td>0.554143</td>\n",
       "      <td>0.324423</td>\n",
       "    </tr>\n",
       "  </tbody>\n",
       "</table>\n",
       "</div>"
      ],
      "text/plain": [
       "          A         B         C         D\n",
       "0  0.296791 -0.757165  1.340179  0.245260\n",
       "1 -0.042206  0.304184 -1.955307 -0.813492\n",
       "2  0.056235 -0.363434  0.096751 -0.063020\n",
       "3  0.183965 -2.048236 -0.875963  1.676768\n",
       "4  1.947190 -0.181088  0.554143  0.324423"
      ]
     },
     "execution_count": 13,
     "metadata": {},
     "output_type": "execute_result"
    }
   ],
   "source": [
    "df.head()"
   ]
  },
  {
   "cell_type": "code",
   "execution_count": 14,
   "id": "ecec59bb",
   "metadata": {},
   "outputs": [],
   "source": [
    "df2 = pd.DataFrame({'Category':['A','B','C'],'Values':[32,43,50]})"
   ]
  },
  {
   "cell_type": "code",
   "execution_count": 15,
   "id": "487db4bc",
   "metadata": {},
   "outputs": [
    {
     "data": {
      "text/html": [
       "<div>\n",
       "<style scoped>\n",
       "    .dataframe tbody tr th:only-of-type {\n",
       "        vertical-align: middle;\n",
       "    }\n",
       "\n",
       "    .dataframe tbody tr th {\n",
       "        vertical-align: top;\n",
       "    }\n",
       "\n",
       "    .dataframe thead th {\n",
       "        text-align: right;\n",
       "    }\n",
       "</style>\n",
       "<table border=\"1\" class=\"dataframe\">\n",
       "  <thead>\n",
       "    <tr style=\"text-align: right;\">\n",
       "      <th></th>\n",
       "      <th>Category</th>\n",
       "      <th>Values</th>\n",
       "    </tr>\n",
       "  </thead>\n",
       "  <tbody>\n",
       "    <tr>\n",
       "      <th>0</th>\n",
       "      <td>A</td>\n",
       "      <td>32</td>\n",
       "    </tr>\n",
       "    <tr>\n",
       "      <th>1</th>\n",
       "      <td>B</td>\n",
       "      <td>43</td>\n",
       "    </tr>\n",
       "    <tr>\n",
       "      <th>2</th>\n",
       "      <td>C</td>\n",
       "      <td>50</td>\n",
       "    </tr>\n",
       "  </tbody>\n",
       "</table>\n",
       "</div>"
      ],
      "text/plain": [
       "  Category  Values\n",
       "0        A      32\n",
       "1        B      43\n",
       "2        C      50"
      ]
     },
     "execution_count": 15,
     "metadata": {},
     "output_type": "execute_result"
    }
   ],
   "source": [
    "df2.head()"
   ]
  },
  {
   "cell_type": "code",
   "execution_count": 16,
   "id": "dc0ed54e",
   "metadata": {},
   "outputs": [],
   "source": [
    "from plotly.offline import download_plotlyjs,init_notebook_mode,plot,iplot"
   ]
  },
  {
   "cell_type": "code",
   "execution_count": 17,
   "id": "85dfda1a",
   "metadata": {},
   "outputs": [
    {
     "data": {
      "text/html": [
       "        <script type=\"text/javascript\">\n",
       "        window.PlotlyConfig = {MathJaxConfig: 'local'};\n",
       "        if (window.MathJax) {MathJax.Hub.Config({SVG: {font: \"STIX-Web\"}});}\n",
       "        if (typeof require !== 'undefined') {\n",
       "        require.undef(\"plotly\");\n",
       "        requirejs.config({\n",
       "            paths: {\n",
       "                'plotly': ['https://cdn.plot.ly/plotly-2.9.0.min']\n",
       "            }\n",
       "        });\n",
       "        require(['plotly'], function(Plotly) {\n",
       "            window._Plotly = Plotly;\n",
       "        });\n",
       "        }\n",
       "        </script>\n",
       "        "
      ]
     },
     "metadata": {},
     "output_type": "display_data"
    }
   ],
   "source": [
    "# For Notebooks\n",
    "init_notebook_mode(connected=True)"
   ]
  },
  {
   "cell_type": "code",
   "execution_count": 40,
   "id": "d3413997",
   "metadata": {},
   "outputs": [
    {
     "data": {
      "application/vnd.plotly.v1+json": {
       "config": {
        "linkText": "Export to plot.ly",
        "plotlyServerURL": "https://plot.ly",
        "showLink": true
       },
       "data": [
        {
         "line": {
          "color": "rgba(255, 153, 51, 1.0)",
          "dash": "solid",
          "shape": "linear",
          "width": 1.3
         },
         "mode": "lines",
         "name": "A",
         "text": "",
         "type": "scatter",
         "x": [
          0,
          1,
          2,
          3,
          4,
          5,
          6,
          7,
          8,
          9,
          10,
          11,
          12,
          13,
          14,
          15,
          16,
          17,
          18,
          19,
          20,
          21,
          22,
          23,
          24,
          25,
          26,
          27,
          28,
          29,
          30,
          31,
          32,
          33,
          34,
          35,
          36,
          37,
          38,
          39,
          40,
          41,
          42,
          43,
          44,
          45,
          46,
          47,
          48,
          49,
          50,
          51,
          52,
          53,
          54,
          55,
          56,
          57,
          58,
          59,
          60,
          61,
          62,
          63,
          64,
          65,
          66,
          67,
          68,
          69,
          70,
          71,
          72,
          73,
          74,
          75,
          76,
          77,
          78,
          79,
          80,
          81,
          82,
          83,
          84,
          85,
          86,
          87,
          88,
          89,
          90,
          91,
          92,
          93,
          94,
          95,
          96,
          97,
          98,
          99
         ],
         "y": [
          0.29679088647994234,
          -0.042206202349754085,
          0.05623496351276302,
          0.18396487905995018,
          1.9471896766346395,
          0.43208920801474165,
          1.6081901135096244,
          -0.33939886596474583,
          -0.005108983403875583,
          0.8530884673894046,
          -1.0049122922726699,
          -0.12868851992931754,
          1.7353868610859655,
          -0.08546583156278803,
          0.19057248696326243,
          -2.215582342343689,
          0.5808233212565269,
          0.5556244407586608,
          0.6393629473270924,
          0.8517397885188276,
          1.004772451678126,
          1.764774535802342,
          -1.5928023745870552,
          0.4490624254607539,
          -0.7527723767987775,
          -0.44542373319935846,
          0.34087288647274944,
          0.7583254810032551,
          1.1582430952918201,
          -0.3687962067699432,
          0.8684466366474232,
          1.1573101491711728,
          0.8106533155680704,
          0.49441830258067543,
          0.6885849650903538,
          -0.4702465281680946,
          0.7258776199325154,
          -2.229493254691975,
          -0.4286484838911737,
          -0.3528594259863507,
          -1.6078191886771733,
          1.7925932159412024,
          -1.4917867638583655,
          -0.8522939738286025,
          -0.3029444850990843,
          -0.15564219622621273,
          -0.8516913437553745,
          1.9066382724108697,
          -0.6264844604156597,
          0.06234625415648561,
          -3.6576914024430116,
          0.8489453033047615,
          0.6663080066373779,
          -2.794668362290301,
          -0.14340193607480287,
          0.46961643534909486,
          0.19466760147991485,
          -0.18305973698227745,
          0.2533686282037615,
          0.22681881963847014,
          -0.5853685803435907,
          1.2286869071151012,
          0.9278399975997879,
          -0.4069069923876818,
          0.2798037596885753,
          -1.440231742955656,
          -0.25905094443393784,
          -0.1670331195018515,
          -0.7801423654656153,
          -0.33638723727069586,
          0.1696828002144026,
          -1.6534073036946215,
          0.20741424731862965,
          -0.437475299257197,
          -0.605281305177192,
          1.2030690694557755,
          -1.6945689313328423,
          0.9344417133260021,
          0.46676346426075643,
          1.9170319083784906,
          0.34351232000814336,
          0.4415030752463328,
          -1.8460478325197323,
          0.8234785283616356,
          0.09775233667726059,
          0.4426520294879391,
          1.3332588195304493,
          0.6786094057326916,
          -1.072784991063228,
          0.1431368184337798,
          0.37685245253890953,
          -0.008279655793517674,
          -0.04025830813754167,
          -1.496699137527211,
          0.44668384965429475,
          0.8282233080065341,
          0.9187031152698922,
          0.07574685540103843,
          0.23778114530311967,
          1.1209179473646502
         ]
        },
        {
         "line": {
          "color": "rgba(55, 128, 191, 1.0)",
          "dash": "solid",
          "shape": "linear",
          "width": 1.3
         },
         "mode": "lines",
         "name": "B",
         "text": "",
         "type": "scatter",
         "x": [
          0,
          1,
          2,
          3,
          4,
          5,
          6,
          7,
          8,
          9,
          10,
          11,
          12,
          13,
          14,
          15,
          16,
          17,
          18,
          19,
          20,
          21,
          22,
          23,
          24,
          25,
          26,
          27,
          28,
          29,
          30,
          31,
          32,
          33,
          34,
          35,
          36,
          37,
          38,
          39,
          40,
          41,
          42,
          43,
          44,
          45,
          46,
          47,
          48,
          49,
          50,
          51,
          52,
          53,
          54,
          55,
          56,
          57,
          58,
          59,
          60,
          61,
          62,
          63,
          64,
          65,
          66,
          67,
          68,
          69,
          70,
          71,
          72,
          73,
          74,
          75,
          76,
          77,
          78,
          79,
          80,
          81,
          82,
          83,
          84,
          85,
          86,
          87,
          88,
          89,
          90,
          91,
          92,
          93,
          94,
          95,
          96,
          97,
          98,
          99
         ],
         "y": [
          -0.7571651498351455,
          0.3041841546141356,
          -0.3634338798273758,
          -2.0482361777995144,
          -0.18108815038638867,
          -0.21190299395233114,
          -0.7806951399891963,
          1.8590985191190108,
          0.48036674314609656,
          1.8873083466347365,
          1.1056779689437921,
          -1.3231700180419348,
          0.3342805753940904,
          -0.20369594444050604,
          0.39088820371926375,
          -0.48776057521970073,
          -1.1414327259670378,
          -0.7808846359062693,
          1.4920293778079048,
          0.71079751035893,
          0.2307135496211187,
          -0.7211267802065155,
          -0.3877863925049786,
          0.5293063371459275,
          -1.698225399775976,
          -0.7432359964184969,
          -1.0633879580111423,
          -1.1564930777360236,
          -0.6354873928530012,
          1.6168674082839893,
          -2.1397231605343183,
          0.8591667284039247,
          -0.4525164669746582,
          0.6479933531495566,
          0.4928251204016213,
          0.5301247456285414,
          1.2692158824055362,
          0.4903818486766852,
          -1.1042304957167466,
          -0.3604927522499086,
          0.13344340017146225,
          -0.5371434200006895,
          -1.8037554935945654,
          0.5237936559711996,
          1.500251268452096,
          2.179319647875672,
          -0.009000371183924594,
          0.7041273574304793,
          0.8935279013253304,
          -3.375008844495114,
          1.1894387874864698,
          -0.27110581005903794,
          -0.3603941406302465,
          -0.19626364838529733,
          2.504563093248634,
          0.03156911621838102,
          0.29881409996396646,
          -0.386394740622949,
          -0.3698428488757272,
          0.8246534678107472,
          -1.9114009699387526,
          -0.4623680380986253,
          0.9077405464515336,
          -0.7295099857464294,
          0.6764853912798772,
          -0.541361568392655,
          0.47232880482121675,
          0.6296488331438715,
          1.7669189062507158,
          0.5757234831604158,
          -0.7518036824883677,
          -0.6340399776230848,
          -1.4504687727889098,
          0.4229339994405687,
          -0.7844403212340828,
          0.500292917366162,
          -0.45417782594598816,
          -0.2602529926846372,
          1.6907017072679549,
          2.0122414821517025,
          -0.9944724957993845,
          -0.4618705938551304,
          0.15912344530429562,
          0.06113220007641856,
          0.5169371398966918,
          -1.1232577387697515,
          -0.21463034116679147,
          -0.42893393668424407,
          -1.0968561308131135,
          2.4209582185902776,
          -1.242139030854014,
          -0.9981972941910361,
          1.6073060927944351,
          -1.2621170591121773,
          0.9289617974150245,
          -0.22342478108118818,
          0.23205496907907777,
          -0.7706448922950906,
          -0.20410847471802354,
          -0.3025804522844425
         ]
        },
        {
         "line": {
          "color": "rgba(50, 171, 96, 1.0)",
          "dash": "solid",
          "shape": "linear",
          "width": 1.3
         },
         "mode": "lines",
         "name": "C",
         "text": "",
         "type": "scatter",
         "x": [
          0,
          1,
          2,
          3,
          4,
          5,
          6,
          7,
          8,
          9,
          10,
          11,
          12,
          13,
          14,
          15,
          16,
          17,
          18,
          19,
          20,
          21,
          22,
          23,
          24,
          25,
          26,
          27,
          28,
          29,
          30,
          31,
          32,
          33,
          34,
          35,
          36,
          37,
          38,
          39,
          40,
          41,
          42,
          43,
          44,
          45,
          46,
          47,
          48,
          49,
          50,
          51,
          52,
          53,
          54,
          55,
          56,
          57,
          58,
          59,
          60,
          61,
          62,
          63,
          64,
          65,
          66,
          67,
          68,
          69,
          70,
          71,
          72,
          73,
          74,
          75,
          76,
          77,
          78,
          79,
          80,
          81,
          82,
          83,
          84,
          85,
          86,
          87,
          88,
          89,
          90,
          91,
          92,
          93,
          94,
          95,
          96,
          97,
          98,
          99
         ],
         "y": [
          1.3401787857219047,
          -1.9553069612319784,
          0.09675136225434358,
          -0.8759626344625551,
          0.5541427096618632,
          1.3165355670097862,
          1.408684673970268,
          -0.8967317424310816,
          1.2647177893278923,
          -0.8049786030037357,
          -0.06522744548821288,
          1.4644919945838932,
          0.4350597896711922,
          -0.8890187839422852,
          0.8867845306851252,
          -1.2114753081096763,
          -1.3938600325853063,
          1.490322147153945,
          -0.3553943255278688,
          0.07275987339103501,
          0.9468715674905341,
          -0.7148656043530932,
          1.130693472818898,
          0.6658723771144244,
          0.9517837492043227,
          -0.12139122701139177,
          0.6011921603130448,
          -0.22843679020738578,
          -0.4576461130254673,
          1.5217598592429153,
          0.06970244363116698,
          -0.36510742882975694,
          1.79964304659319,
          -0.4400648704861409,
          -1.5500450343003,
          0.7208936566883917,
          0.9148340324849574,
          0.5769584974237918,
          0.7266845772317149,
          -0.7613464781713648,
          -0.18127576515236662,
          0.9813822416561983,
          0.8648986685162713,
          -0.23479550261196794,
          0.9016435261415309,
          0.22909739222432027,
          -1.2677417034299547,
          0.02441969904149327,
          1.8962194603065503,
          0.9181516111950895,
          0.022466458072359596,
          -1.6147166715521313,
          0.3641207738676737,
          -1.1393813221479803,
          1.2684436695379524,
          0.07019548392944641,
          -0.6071693419292494,
          1.426350084965751,
          1.6962148664066656,
          0.19878318228660752,
          0.6347943664894169,
          -1.1188234248778783,
          0.7196057917579274,
          1.3439620810898105,
          -0.9282648100560266,
          0.15984599683557435,
          -0.02043117007082602,
          -0.6465765462806012,
          -0.01337361338853624,
          -1.7988309469098755,
          0.5443194498205624,
          -2.5290357260174927,
          0.9675397250912268,
          -0.6300044340653279,
          -0.5524294384364697,
          -0.5490247837882021,
          -0.3632026938472756,
          1.9574891488442245,
          -0.8240201845184999,
          -1.6353559803347641,
          -0.5264511550055844,
          1.4312770258432483,
          0.9065704277847233,
          -0.3117201080331889,
          0.16822989010638462,
          0.1578247697613285,
          0.20578184362978333,
          0.022514408713525055,
          0.2807742047625913,
          0.04862287024487184,
          0.7054300808952286,
          -0.8566338963035328,
          -2.8904122011862747,
          -0.8214752611638811,
          -0.21645791311558232,
          -0.5476883796592708,
          -0.5276737589252545,
          -0.7598497779233351,
          -2.030836851081924,
          0.00264599696123195
         ]
        },
        {
         "line": {
          "color": "rgba(128, 0, 128, 1.0)",
          "dash": "solid",
          "shape": "linear",
          "width": 1.3
         },
         "mode": "lines",
         "name": "D",
         "text": "",
         "type": "scatter",
         "x": [
          0,
          1,
          2,
          3,
          4,
          5,
          6,
          7,
          8,
          9,
          10,
          11,
          12,
          13,
          14,
          15,
          16,
          17,
          18,
          19,
          20,
          21,
          22,
          23,
          24,
          25,
          26,
          27,
          28,
          29,
          30,
          31,
          32,
          33,
          34,
          35,
          36,
          37,
          38,
          39,
          40,
          41,
          42,
          43,
          44,
          45,
          46,
          47,
          48,
          49,
          50,
          51,
          52,
          53,
          54,
          55,
          56,
          57,
          58,
          59,
          60,
          61,
          62,
          63,
          64,
          65,
          66,
          67,
          68,
          69,
          70,
          71,
          72,
          73,
          74,
          75,
          76,
          77,
          78,
          79,
          80,
          81,
          82,
          83,
          84,
          85,
          86,
          87,
          88,
          89,
          90,
          91,
          92,
          93,
          94,
          95,
          96,
          97,
          98,
          99
         ],
         "y": [
          0.24525988548592925,
          -0.8134924347641136,
          -0.06301976921784228,
          1.6767678320421202,
          0.3244226225073001,
          -0.1955763371715922,
          -1.3411201785288194,
          1.9063827326757339,
          1.3474940840274094,
          1.8649816545434144,
          0.38784495530139607,
          -0.4614739762068934,
          2.624423249892742,
          1.1723960416063304,
          -0.7989430846361074,
          -1.6086674507023928,
          1.0626446977057926,
          0.3061122651420492,
          -3.8974087795971033,
          0.49509476013264314,
          -0.22890394797898309,
          1.531323123544235,
          -0.3299867649224163,
          -0.6180478692371327,
          -1.604779874246786,
          -0.7642244120224729,
          0.8028952271987085,
          -1.24118922536906,
          -0.4037680962139133,
          0.12671719764900752,
          -0.28368615581630663,
          0.5987350777489968,
          0.6987771419987823,
          -0.20066747894606912,
          1.1824188305674441,
          -0.32855086090261704,
          -0.9129891829296052,
          0.6837732875317857,
          -0.4821839815272349,
          -0.29299875846855944,
          0.2358883415177,
          -1.3480057073255023,
          0.6119263056858619,
          -0.5359176160660698,
          0.7954426240488578,
          -0.3360177186601398,
          -0.07746324253214303,
          -1.5648236415728372,
          0.2933756393149718,
          -0.04695088194711037,
          0.1766689682198699,
          -0.5239465195284316,
          2.1456067871766065,
          0.7615389563566171,
          -0.8272853511020328,
          -1.777287515861347,
          -1.699059001829908,
          0.48721507787091894,
          -1.6101843077172044,
          -0.35869981031815207,
          -0.7743598576732503,
          -0.9464883862911435,
          0.4157114601709713,
          1.0317807200645843,
          -0.23342785269896626,
          0.3283854501960172,
          0.34753742525171183,
          1.7770888208835824,
          -0.2751178467213051,
          -0.6696298796044111,
          1.21538700080969,
          2.1383020557715504,
          2.2551676774077345,
          0.37425799100418256,
          -1.3985445283206148,
          -0.06632952359706587,
          -2.007849101781652,
          1.4629465385445042,
          -0.30830681518190695,
          0.454900046618444,
          0.9704785861065522,
          1.058971235277724,
          -0.8688765333946045,
          -0.8805605039388629,
          0.9199033135573567,
          -1.0383100618925594,
          -1.0034127373954553,
          0.6512179848694126,
          -1.3803849052078925,
          -0.26599409292614745,
          0.09329712767283055,
          -1.7980971334936897,
          -1.3816592922590543,
          2.06826412084128,
          0.3773835170733553,
          0.4945583546436987,
          -0.12522417275069883,
          -1.042172817742925,
          -1.9831712321804318,
          -0.7012602384195061
         ]
        }
       ],
       "layout": {
        "legend": {
         "bgcolor": "#F5F6F9",
         "font": {
          "color": "#4D5663"
         }
        },
        "paper_bgcolor": "#F5F6F9",
        "plot_bgcolor": "#F5F6F9",
        "template": {
         "data": {
          "bar": [
           {
            "error_x": {
             "color": "#2a3f5f"
            },
            "error_y": {
             "color": "#2a3f5f"
            },
            "marker": {
             "line": {
              "color": "#E5ECF6",
              "width": 0.5
             },
             "pattern": {
              "fillmode": "overlay",
              "size": 10,
              "solidity": 0.2
             }
            },
            "type": "bar"
           }
          ],
          "barpolar": [
           {
            "marker": {
             "line": {
              "color": "#E5ECF6",
              "width": 0.5
             },
             "pattern": {
              "fillmode": "overlay",
              "size": 10,
              "solidity": 0.2
             }
            },
            "type": "barpolar"
           }
          ],
          "carpet": [
           {
            "aaxis": {
             "endlinecolor": "#2a3f5f",
             "gridcolor": "white",
             "linecolor": "white",
             "minorgridcolor": "white",
             "startlinecolor": "#2a3f5f"
            },
            "baxis": {
             "endlinecolor": "#2a3f5f",
             "gridcolor": "white",
             "linecolor": "white",
             "minorgridcolor": "white",
             "startlinecolor": "#2a3f5f"
            },
            "type": "carpet"
           }
          ],
          "choropleth": [
           {
            "colorbar": {
             "outlinewidth": 0,
             "ticks": ""
            },
            "type": "choropleth"
           }
          ],
          "contour": [
           {
            "colorbar": {
             "outlinewidth": 0,
             "ticks": ""
            },
            "colorscale": [
             [
              0,
              "#0d0887"
             ],
             [
              0.1111111111111111,
              "#46039f"
             ],
             [
              0.2222222222222222,
              "#7201a8"
             ],
             [
              0.3333333333333333,
              "#9c179e"
             ],
             [
              0.4444444444444444,
              "#bd3786"
             ],
             [
              0.5555555555555556,
              "#d8576b"
             ],
             [
              0.6666666666666666,
              "#ed7953"
             ],
             [
              0.7777777777777778,
              "#fb9f3a"
             ],
             [
              0.8888888888888888,
              "#fdca26"
             ],
             [
              1,
              "#f0f921"
             ]
            ],
            "type": "contour"
           }
          ],
          "contourcarpet": [
           {
            "colorbar": {
             "outlinewidth": 0,
             "ticks": ""
            },
            "type": "contourcarpet"
           }
          ],
          "heatmap": [
           {
            "colorbar": {
             "outlinewidth": 0,
             "ticks": ""
            },
            "colorscale": [
             [
              0,
              "#0d0887"
             ],
             [
              0.1111111111111111,
              "#46039f"
             ],
             [
              0.2222222222222222,
              "#7201a8"
             ],
             [
              0.3333333333333333,
              "#9c179e"
             ],
             [
              0.4444444444444444,
              "#bd3786"
             ],
             [
              0.5555555555555556,
              "#d8576b"
             ],
             [
              0.6666666666666666,
              "#ed7953"
             ],
             [
              0.7777777777777778,
              "#fb9f3a"
             ],
             [
              0.8888888888888888,
              "#fdca26"
             ],
             [
              1,
              "#f0f921"
             ]
            ],
            "type": "heatmap"
           }
          ],
          "heatmapgl": [
           {
            "colorbar": {
             "outlinewidth": 0,
             "ticks": ""
            },
            "colorscale": [
             [
              0,
              "#0d0887"
             ],
             [
              0.1111111111111111,
              "#46039f"
             ],
             [
              0.2222222222222222,
              "#7201a8"
             ],
             [
              0.3333333333333333,
              "#9c179e"
             ],
             [
              0.4444444444444444,
              "#bd3786"
             ],
             [
              0.5555555555555556,
              "#d8576b"
             ],
             [
              0.6666666666666666,
              "#ed7953"
             ],
             [
              0.7777777777777778,
              "#fb9f3a"
             ],
             [
              0.8888888888888888,
              "#fdca26"
             ],
             [
              1,
              "#f0f921"
             ]
            ],
            "type": "heatmapgl"
           }
          ],
          "histogram": [
           {
            "marker": {
             "pattern": {
              "fillmode": "overlay",
              "size": 10,
              "solidity": 0.2
             }
            },
            "type": "histogram"
           }
          ],
          "histogram2d": [
           {
            "colorbar": {
             "outlinewidth": 0,
             "ticks": ""
            },
            "colorscale": [
             [
              0,
              "#0d0887"
             ],
             [
              0.1111111111111111,
              "#46039f"
             ],
             [
              0.2222222222222222,
              "#7201a8"
             ],
             [
              0.3333333333333333,
              "#9c179e"
             ],
             [
              0.4444444444444444,
              "#bd3786"
             ],
             [
              0.5555555555555556,
              "#d8576b"
             ],
             [
              0.6666666666666666,
              "#ed7953"
             ],
             [
              0.7777777777777778,
              "#fb9f3a"
             ],
             [
              0.8888888888888888,
              "#fdca26"
             ],
             [
              1,
              "#f0f921"
             ]
            ],
            "type": "histogram2d"
           }
          ],
          "histogram2dcontour": [
           {
            "colorbar": {
             "outlinewidth": 0,
             "ticks": ""
            },
            "colorscale": [
             [
              0,
              "#0d0887"
             ],
             [
              0.1111111111111111,
              "#46039f"
             ],
             [
              0.2222222222222222,
              "#7201a8"
             ],
             [
              0.3333333333333333,
              "#9c179e"
             ],
             [
              0.4444444444444444,
              "#bd3786"
             ],
             [
              0.5555555555555556,
              "#d8576b"
             ],
             [
              0.6666666666666666,
              "#ed7953"
             ],
             [
              0.7777777777777778,
              "#fb9f3a"
             ],
             [
              0.8888888888888888,
              "#fdca26"
             ],
             [
              1,
              "#f0f921"
             ]
            ],
            "type": "histogram2dcontour"
           }
          ],
          "mesh3d": [
           {
            "colorbar": {
             "outlinewidth": 0,
             "ticks": ""
            },
            "type": "mesh3d"
           }
          ],
          "parcoords": [
           {
            "line": {
             "colorbar": {
              "outlinewidth": 0,
              "ticks": ""
             }
            },
            "type": "parcoords"
           }
          ],
          "pie": [
           {
            "automargin": true,
            "type": "pie"
           }
          ],
          "scatter": [
           {
            "marker": {
             "colorbar": {
              "outlinewidth": 0,
              "ticks": ""
             }
            },
            "type": "scatter"
           }
          ],
          "scatter3d": [
           {
            "line": {
             "colorbar": {
              "outlinewidth": 0,
              "ticks": ""
             }
            },
            "marker": {
             "colorbar": {
              "outlinewidth": 0,
              "ticks": ""
             }
            },
            "type": "scatter3d"
           }
          ],
          "scattercarpet": [
           {
            "marker": {
             "colorbar": {
              "outlinewidth": 0,
              "ticks": ""
             }
            },
            "type": "scattercarpet"
           }
          ],
          "scattergeo": [
           {
            "marker": {
             "colorbar": {
              "outlinewidth": 0,
              "ticks": ""
             }
            },
            "type": "scattergeo"
           }
          ],
          "scattergl": [
           {
            "marker": {
             "colorbar": {
              "outlinewidth": 0,
              "ticks": ""
             }
            },
            "type": "scattergl"
           }
          ],
          "scattermapbox": [
           {
            "marker": {
             "colorbar": {
              "outlinewidth": 0,
              "ticks": ""
             }
            },
            "type": "scattermapbox"
           }
          ],
          "scatterpolar": [
           {
            "marker": {
             "colorbar": {
              "outlinewidth": 0,
              "ticks": ""
             }
            },
            "type": "scatterpolar"
           }
          ],
          "scatterpolargl": [
           {
            "marker": {
             "colorbar": {
              "outlinewidth": 0,
              "ticks": ""
             }
            },
            "type": "scatterpolargl"
           }
          ],
          "scatterternary": [
           {
            "marker": {
             "colorbar": {
              "outlinewidth": 0,
              "ticks": ""
             }
            },
            "type": "scatterternary"
           }
          ],
          "surface": [
           {
            "colorbar": {
             "outlinewidth": 0,
             "ticks": ""
            },
            "colorscale": [
             [
              0,
              "#0d0887"
             ],
             [
              0.1111111111111111,
              "#46039f"
             ],
             [
              0.2222222222222222,
              "#7201a8"
             ],
             [
              0.3333333333333333,
              "#9c179e"
             ],
             [
              0.4444444444444444,
              "#bd3786"
             ],
             [
              0.5555555555555556,
              "#d8576b"
             ],
             [
              0.6666666666666666,
              "#ed7953"
             ],
             [
              0.7777777777777778,
              "#fb9f3a"
             ],
             [
              0.8888888888888888,
              "#fdca26"
             ],
             [
              1,
              "#f0f921"
             ]
            ],
            "type": "surface"
           }
          ],
          "table": [
           {
            "cells": {
             "fill": {
              "color": "#EBF0F8"
             },
             "line": {
              "color": "white"
             }
            },
            "header": {
             "fill": {
              "color": "#C8D4E3"
             },
             "line": {
              "color": "white"
             }
            },
            "type": "table"
           }
          ]
         },
         "layout": {
          "annotationdefaults": {
           "arrowcolor": "#2a3f5f",
           "arrowhead": 0,
           "arrowwidth": 1
          },
          "autotypenumbers": "strict",
          "coloraxis": {
           "colorbar": {
            "outlinewidth": 0,
            "ticks": ""
           }
          },
          "colorscale": {
           "diverging": [
            [
             0,
             "#8e0152"
            ],
            [
             0.1,
             "#c51b7d"
            ],
            [
             0.2,
             "#de77ae"
            ],
            [
             0.3,
             "#f1b6da"
            ],
            [
             0.4,
             "#fde0ef"
            ],
            [
             0.5,
             "#f7f7f7"
            ],
            [
             0.6,
             "#e6f5d0"
            ],
            [
             0.7,
             "#b8e186"
            ],
            [
             0.8,
             "#7fbc41"
            ],
            [
             0.9,
             "#4d9221"
            ],
            [
             1,
             "#276419"
            ]
           ],
           "sequential": [
            [
             0,
             "#0d0887"
            ],
            [
             0.1111111111111111,
             "#46039f"
            ],
            [
             0.2222222222222222,
             "#7201a8"
            ],
            [
             0.3333333333333333,
             "#9c179e"
            ],
            [
             0.4444444444444444,
             "#bd3786"
            ],
            [
             0.5555555555555556,
             "#d8576b"
            ],
            [
             0.6666666666666666,
             "#ed7953"
            ],
            [
             0.7777777777777778,
             "#fb9f3a"
            ],
            [
             0.8888888888888888,
             "#fdca26"
            ],
            [
             1,
             "#f0f921"
            ]
           ],
           "sequentialminus": [
            [
             0,
             "#0d0887"
            ],
            [
             0.1111111111111111,
             "#46039f"
            ],
            [
             0.2222222222222222,
             "#7201a8"
            ],
            [
             0.3333333333333333,
             "#9c179e"
            ],
            [
             0.4444444444444444,
             "#bd3786"
            ],
            [
             0.5555555555555556,
             "#d8576b"
            ],
            [
             0.6666666666666666,
             "#ed7953"
            ],
            [
             0.7777777777777778,
             "#fb9f3a"
            ],
            [
             0.8888888888888888,
             "#fdca26"
            ],
            [
             1,
             "#f0f921"
            ]
           ]
          },
          "colorway": [
           "#636efa",
           "#EF553B",
           "#00cc96",
           "#ab63fa",
           "#FFA15A",
           "#19d3f3",
           "#FF6692",
           "#B6E880",
           "#FF97FF",
           "#FECB52"
          ],
          "font": {
           "color": "#2a3f5f"
          },
          "geo": {
           "bgcolor": "white",
           "lakecolor": "white",
           "landcolor": "#E5ECF6",
           "showlakes": true,
           "showland": true,
           "subunitcolor": "white"
          },
          "hoverlabel": {
           "align": "left"
          },
          "hovermode": "closest",
          "mapbox": {
           "style": "light"
          },
          "paper_bgcolor": "white",
          "plot_bgcolor": "#E5ECF6",
          "polar": {
           "angularaxis": {
            "gridcolor": "white",
            "linecolor": "white",
            "ticks": ""
           },
           "bgcolor": "#E5ECF6",
           "radialaxis": {
            "gridcolor": "white",
            "linecolor": "white",
            "ticks": ""
           }
          },
          "scene": {
           "xaxis": {
            "backgroundcolor": "#E5ECF6",
            "gridcolor": "white",
            "gridwidth": 2,
            "linecolor": "white",
            "showbackground": true,
            "ticks": "",
            "zerolinecolor": "white"
           },
           "yaxis": {
            "backgroundcolor": "#E5ECF6",
            "gridcolor": "white",
            "gridwidth": 2,
            "linecolor": "white",
            "showbackground": true,
            "ticks": "",
            "zerolinecolor": "white"
           },
           "zaxis": {
            "backgroundcolor": "#E5ECF6",
            "gridcolor": "white",
            "gridwidth": 2,
            "linecolor": "white",
            "showbackground": true,
            "ticks": "",
            "zerolinecolor": "white"
           }
          },
          "shapedefaults": {
           "line": {
            "color": "#2a3f5f"
           }
          },
          "ternary": {
           "aaxis": {
            "gridcolor": "white",
            "linecolor": "white",
            "ticks": ""
           },
           "baxis": {
            "gridcolor": "white",
            "linecolor": "white",
            "ticks": ""
           },
           "bgcolor": "#E5ECF6",
           "caxis": {
            "gridcolor": "white",
            "linecolor": "white",
            "ticks": ""
           }
          },
          "title": {
           "x": 0.05
          },
          "xaxis": {
           "automargin": true,
           "gridcolor": "white",
           "linecolor": "white",
           "ticks": "",
           "title": {
            "standoff": 15
           },
           "zerolinecolor": "white",
           "zerolinewidth": 2
          },
          "yaxis": {
           "automargin": true,
           "gridcolor": "white",
           "linecolor": "white",
           "ticks": "",
           "title": {
            "standoff": 15
           },
           "zerolinecolor": "white",
           "zerolinewidth": 2
          }
         }
        },
        "title": {
         "font": {
          "color": "#4D5663"
         }
        },
        "xaxis": {
         "gridcolor": "#E1E5ED",
         "showgrid": true,
         "tickfont": {
          "color": "#4D5663"
         },
         "title": {
          "font": {
           "color": "#4D5663"
          },
          "text": ""
         },
         "zerolinecolor": "#E1E5ED"
        },
        "yaxis": {
         "gridcolor": "#E1E5ED",
         "showgrid": true,
         "tickfont": {
          "color": "#4D5663"
         },
         "title": {
          "font": {
           "color": "#4D5663"
          },
          "text": ""
         },
         "zerolinecolor": "#E1E5ED"
        }
       }
      },
      "text/html": [
       "<div>                            <div id=\"ac977564-f10b-4b00-b330-c56641c46c4d\" class=\"plotly-graph-div\" style=\"height:525px; width:100%;\"></div>            <script type=\"text/javascript\">                require([\"plotly\"], function(Plotly) {                    window.PLOTLYENV=window.PLOTLYENV || {};\n",
       "                    window.PLOTLYENV.BASE_URL='https://plot.ly';                                    if (document.getElementById(\"ac977564-f10b-4b00-b330-c56641c46c4d\")) {                    Plotly.newPlot(                        \"ac977564-f10b-4b00-b330-c56641c46c4d\",                        [{\"line\":{\"color\":\"rgba(255, 153, 51, 1.0)\",\"dash\":\"solid\",\"shape\":\"linear\",\"width\":1.3},\"mode\":\"lines\",\"name\":\"A\",\"text\":\"\",\"x\":[0,1,2,3,4,5,6,7,8,9,10,11,12,13,14,15,16,17,18,19,20,21,22,23,24,25,26,27,28,29,30,31,32,33,34,35,36,37,38,39,40,41,42,43,44,45,46,47,48,49,50,51,52,53,54,55,56,57,58,59,60,61,62,63,64,65,66,67,68,69,70,71,72,73,74,75,76,77,78,79,80,81,82,83,84,85,86,87,88,89,90,91,92,93,94,95,96,97,98,99],\"y\":[0.29679088647994234,-0.042206202349754085,0.05623496351276302,0.18396487905995018,1.9471896766346395,0.43208920801474165,1.6081901135096244,-0.33939886596474583,-0.005108983403875583,0.8530884673894046,-1.0049122922726699,-0.12868851992931754,1.7353868610859655,-0.08546583156278803,0.19057248696326243,-2.215582342343689,0.5808233212565269,0.5556244407586608,0.6393629473270924,0.8517397885188276,1.004772451678126,1.764774535802342,-1.5928023745870552,0.4490624254607539,-0.7527723767987775,-0.44542373319935846,0.34087288647274944,0.7583254810032551,1.1582430952918201,-0.3687962067699432,0.8684466366474232,1.1573101491711728,0.8106533155680704,0.49441830258067543,0.6885849650903538,-0.4702465281680946,0.7258776199325154,-2.229493254691975,-0.4286484838911737,-0.3528594259863507,-1.6078191886771733,1.7925932159412024,-1.4917867638583655,-0.8522939738286025,-0.3029444850990843,-0.15564219622621273,-0.8516913437553745,1.9066382724108697,-0.6264844604156597,0.06234625415648561,-3.6576914024430116,0.8489453033047615,0.6663080066373779,-2.794668362290301,-0.14340193607480287,0.46961643534909486,0.19466760147991485,-0.18305973698227745,0.2533686282037615,0.22681881963847014,-0.5853685803435907,1.2286869071151012,0.9278399975997879,-0.4069069923876818,0.2798037596885753,-1.440231742955656,-0.25905094443393784,-0.1670331195018515,-0.7801423654656153,-0.33638723727069586,0.1696828002144026,-1.6534073036946215,0.20741424731862965,-0.437475299257197,-0.605281305177192,1.2030690694557755,-1.6945689313328423,0.9344417133260021,0.46676346426075643,1.9170319083784906,0.34351232000814336,0.4415030752463328,-1.8460478325197323,0.8234785283616356,0.09775233667726059,0.4426520294879391,1.3332588195304493,0.6786094057326916,-1.072784991063228,0.1431368184337798,0.37685245253890953,-0.008279655793517674,-0.04025830813754167,-1.496699137527211,0.44668384965429475,0.8282233080065341,0.9187031152698922,0.07574685540103843,0.23778114530311967,1.1209179473646502],\"type\":\"scatter\"},{\"line\":{\"color\":\"rgba(55, 128, 191, 1.0)\",\"dash\":\"solid\",\"shape\":\"linear\",\"width\":1.3},\"mode\":\"lines\",\"name\":\"B\",\"text\":\"\",\"x\":[0,1,2,3,4,5,6,7,8,9,10,11,12,13,14,15,16,17,18,19,20,21,22,23,24,25,26,27,28,29,30,31,32,33,34,35,36,37,38,39,40,41,42,43,44,45,46,47,48,49,50,51,52,53,54,55,56,57,58,59,60,61,62,63,64,65,66,67,68,69,70,71,72,73,74,75,76,77,78,79,80,81,82,83,84,85,86,87,88,89,90,91,92,93,94,95,96,97,98,99],\"y\":[-0.7571651498351455,0.3041841546141356,-0.3634338798273758,-2.0482361777995144,-0.18108815038638867,-0.21190299395233114,-0.7806951399891963,1.8590985191190108,0.48036674314609656,1.8873083466347365,1.1056779689437921,-1.3231700180419348,0.3342805753940904,-0.20369594444050604,0.39088820371926375,-0.48776057521970073,-1.1414327259670378,-0.7808846359062693,1.4920293778079048,0.71079751035893,0.2307135496211187,-0.7211267802065155,-0.3877863925049786,0.5293063371459275,-1.698225399775976,-0.7432359964184969,-1.0633879580111423,-1.1564930777360236,-0.6354873928530012,1.6168674082839893,-2.1397231605343183,0.8591667284039247,-0.4525164669746582,0.6479933531495566,0.4928251204016213,0.5301247456285414,1.2692158824055362,0.4903818486766852,-1.1042304957167466,-0.3604927522499086,0.13344340017146225,-0.5371434200006895,-1.8037554935945654,0.5237936559711996,1.500251268452096,2.179319647875672,-0.009000371183924594,0.7041273574304793,0.8935279013253304,-3.375008844495114,1.1894387874864698,-0.27110581005903794,-0.3603941406302465,-0.19626364838529733,2.504563093248634,0.03156911621838102,0.29881409996396646,-0.386394740622949,-0.3698428488757272,0.8246534678107472,-1.9114009699387526,-0.4623680380986253,0.9077405464515336,-0.7295099857464294,0.6764853912798772,-0.541361568392655,0.47232880482121675,0.6296488331438715,1.7669189062507158,0.5757234831604158,-0.7518036824883677,-0.6340399776230848,-1.4504687727889098,0.4229339994405687,-0.7844403212340828,0.500292917366162,-0.45417782594598816,-0.2602529926846372,1.6907017072679549,2.0122414821517025,-0.9944724957993845,-0.4618705938551304,0.15912344530429562,0.06113220007641856,0.5169371398966918,-1.1232577387697515,-0.21463034116679147,-0.42893393668424407,-1.0968561308131135,2.4209582185902776,-1.242139030854014,-0.9981972941910361,1.6073060927944351,-1.2621170591121773,0.9289617974150245,-0.22342478108118818,0.23205496907907777,-0.7706448922950906,-0.20410847471802354,-0.3025804522844425],\"type\":\"scatter\"},{\"line\":{\"color\":\"rgba(50, 171, 96, 1.0)\",\"dash\":\"solid\",\"shape\":\"linear\",\"width\":1.3},\"mode\":\"lines\",\"name\":\"C\",\"text\":\"\",\"x\":[0,1,2,3,4,5,6,7,8,9,10,11,12,13,14,15,16,17,18,19,20,21,22,23,24,25,26,27,28,29,30,31,32,33,34,35,36,37,38,39,40,41,42,43,44,45,46,47,48,49,50,51,52,53,54,55,56,57,58,59,60,61,62,63,64,65,66,67,68,69,70,71,72,73,74,75,76,77,78,79,80,81,82,83,84,85,86,87,88,89,90,91,92,93,94,95,96,97,98,99],\"y\":[1.3401787857219047,-1.9553069612319784,0.09675136225434358,-0.8759626344625551,0.5541427096618632,1.3165355670097862,1.408684673970268,-0.8967317424310816,1.2647177893278923,-0.8049786030037357,-0.06522744548821288,1.4644919945838932,0.4350597896711922,-0.8890187839422852,0.8867845306851252,-1.2114753081096763,-1.3938600325853063,1.490322147153945,-0.3553943255278688,0.07275987339103501,0.9468715674905341,-0.7148656043530932,1.130693472818898,0.6658723771144244,0.9517837492043227,-0.12139122701139177,0.6011921603130448,-0.22843679020738578,-0.4576461130254673,1.5217598592429153,0.06970244363116698,-0.36510742882975694,1.79964304659319,-0.4400648704861409,-1.5500450343003,0.7208936566883917,0.9148340324849574,0.5769584974237918,0.7266845772317149,-0.7613464781713648,-0.18127576515236662,0.9813822416561983,0.8648986685162713,-0.23479550261196794,0.9016435261415309,0.22909739222432027,-1.2677417034299547,0.02441969904149327,1.8962194603065503,0.9181516111950895,0.022466458072359596,-1.6147166715521313,0.3641207738676737,-1.1393813221479803,1.2684436695379524,0.07019548392944641,-0.6071693419292494,1.426350084965751,1.6962148664066656,0.19878318228660752,0.6347943664894169,-1.1188234248778783,0.7196057917579274,1.3439620810898105,-0.9282648100560266,0.15984599683557435,-0.02043117007082602,-0.6465765462806012,-0.01337361338853624,-1.7988309469098755,0.5443194498205624,-2.5290357260174927,0.9675397250912268,-0.6300044340653279,-0.5524294384364697,-0.5490247837882021,-0.3632026938472756,1.9574891488442245,-0.8240201845184999,-1.6353559803347641,-0.5264511550055844,1.4312770258432483,0.9065704277847233,-0.3117201080331889,0.16822989010638462,0.1578247697613285,0.20578184362978333,0.022514408713525055,0.2807742047625913,0.04862287024487184,0.7054300808952286,-0.8566338963035328,-2.8904122011862747,-0.8214752611638811,-0.21645791311558232,-0.5476883796592708,-0.5276737589252545,-0.7598497779233351,-2.030836851081924,0.00264599696123195],\"type\":\"scatter\"},{\"line\":{\"color\":\"rgba(128, 0, 128, 1.0)\",\"dash\":\"solid\",\"shape\":\"linear\",\"width\":1.3},\"mode\":\"lines\",\"name\":\"D\",\"text\":\"\",\"x\":[0,1,2,3,4,5,6,7,8,9,10,11,12,13,14,15,16,17,18,19,20,21,22,23,24,25,26,27,28,29,30,31,32,33,34,35,36,37,38,39,40,41,42,43,44,45,46,47,48,49,50,51,52,53,54,55,56,57,58,59,60,61,62,63,64,65,66,67,68,69,70,71,72,73,74,75,76,77,78,79,80,81,82,83,84,85,86,87,88,89,90,91,92,93,94,95,96,97,98,99],\"y\":[0.24525988548592925,-0.8134924347641136,-0.06301976921784228,1.6767678320421202,0.3244226225073001,-0.1955763371715922,-1.3411201785288194,1.9063827326757339,1.3474940840274094,1.8649816545434144,0.38784495530139607,-0.4614739762068934,2.624423249892742,1.1723960416063304,-0.7989430846361074,-1.6086674507023928,1.0626446977057926,0.3061122651420492,-3.8974087795971033,0.49509476013264314,-0.22890394797898309,1.531323123544235,-0.3299867649224163,-0.6180478692371327,-1.604779874246786,-0.7642244120224729,0.8028952271987085,-1.24118922536906,-0.4037680962139133,0.12671719764900752,-0.28368615581630663,0.5987350777489968,0.6987771419987823,-0.20066747894606912,1.1824188305674441,-0.32855086090261704,-0.9129891829296052,0.6837732875317857,-0.4821839815272349,-0.29299875846855944,0.2358883415177,-1.3480057073255023,0.6119263056858619,-0.5359176160660698,0.7954426240488578,-0.3360177186601398,-0.07746324253214303,-1.5648236415728372,0.2933756393149718,-0.04695088194711037,0.1766689682198699,-0.5239465195284316,2.1456067871766065,0.7615389563566171,-0.8272853511020328,-1.777287515861347,-1.699059001829908,0.48721507787091894,-1.6101843077172044,-0.35869981031815207,-0.7743598576732503,-0.9464883862911435,0.4157114601709713,1.0317807200645843,-0.23342785269896626,0.3283854501960172,0.34753742525171183,1.7770888208835824,-0.2751178467213051,-0.6696298796044111,1.21538700080969,2.1383020557715504,2.2551676774077345,0.37425799100418256,-1.3985445283206148,-0.06632952359706587,-2.007849101781652,1.4629465385445042,-0.30830681518190695,0.454900046618444,0.9704785861065522,1.058971235277724,-0.8688765333946045,-0.8805605039388629,0.9199033135573567,-1.0383100618925594,-1.0034127373954553,0.6512179848694126,-1.3803849052078925,-0.26599409292614745,0.09329712767283055,-1.7980971334936897,-1.3816592922590543,2.06826412084128,0.3773835170733553,0.4945583546436987,-0.12522417275069883,-1.042172817742925,-1.9831712321804318,-0.7012602384195061],\"type\":\"scatter\"}],                        {\"legend\":{\"bgcolor\":\"#F5F6F9\",\"font\":{\"color\":\"#4D5663\"}},\"paper_bgcolor\":\"#F5F6F9\",\"plot_bgcolor\":\"#F5F6F9\",\"template\":{\"data\":{\"barpolar\":[{\"marker\":{\"line\":{\"color\":\"#E5ECF6\",\"width\":0.5},\"pattern\":{\"fillmode\":\"overlay\",\"size\":10,\"solidity\":0.2}},\"type\":\"barpolar\"}],\"bar\":[{\"error_x\":{\"color\":\"#2a3f5f\"},\"error_y\":{\"color\":\"#2a3f5f\"},\"marker\":{\"line\":{\"color\":\"#E5ECF6\",\"width\":0.5},\"pattern\":{\"fillmode\":\"overlay\",\"size\":10,\"solidity\":0.2}},\"type\":\"bar\"}],\"carpet\":[{\"aaxis\":{\"endlinecolor\":\"#2a3f5f\",\"gridcolor\":\"white\",\"linecolor\":\"white\",\"minorgridcolor\":\"white\",\"startlinecolor\":\"#2a3f5f\"},\"baxis\":{\"endlinecolor\":\"#2a3f5f\",\"gridcolor\":\"white\",\"linecolor\":\"white\",\"minorgridcolor\":\"white\",\"startlinecolor\":\"#2a3f5f\"},\"type\":\"carpet\"}],\"choropleth\":[{\"colorbar\":{\"outlinewidth\":0,\"ticks\":\"\"},\"type\":\"choropleth\"}],\"contourcarpet\":[{\"colorbar\":{\"outlinewidth\":0,\"ticks\":\"\"},\"type\":\"contourcarpet\"}],\"contour\":[{\"colorbar\":{\"outlinewidth\":0,\"ticks\":\"\"},\"colorscale\":[[0.0,\"#0d0887\"],[0.1111111111111111,\"#46039f\"],[0.2222222222222222,\"#7201a8\"],[0.3333333333333333,\"#9c179e\"],[0.4444444444444444,\"#bd3786\"],[0.5555555555555556,\"#d8576b\"],[0.6666666666666666,\"#ed7953\"],[0.7777777777777778,\"#fb9f3a\"],[0.8888888888888888,\"#fdca26\"],[1.0,\"#f0f921\"]],\"type\":\"contour\"}],\"heatmapgl\":[{\"colorbar\":{\"outlinewidth\":0,\"ticks\":\"\"},\"colorscale\":[[0.0,\"#0d0887\"],[0.1111111111111111,\"#46039f\"],[0.2222222222222222,\"#7201a8\"],[0.3333333333333333,\"#9c179e\"],[0.4444444444444444,\"#bd3786\"],[0.5555555555555556,\"#d8576b\"],[0.6666666666666666,\"#ed7953\"],[0.7777777777777778,\"#fb9f3a\"],[0.8888888888888888,\"#fdca26\"],[1.0,\"#f0f921\"]],\"type\":\"heatmapgl\"}],\"heatmap\":[{\"colorbar\":{\"outlinewidth\":0,\"ticks\":\"\"},\"colorscale\":[[0.0,\"#0d0887\"],[0.1111111111111111,\"#46039f\"],[0.2222222222222222,\"#7201a8\"],[0.3333333333333333,\"#9c179e\"],[0.4444444444444444,\"#bd3786\"],[0.5555555555555556,\"#d8576b\"],[0.6666666666666666,\"#ed7953\"],[0.7777777777777778,\"#fb9f3a\"],[0.8888888888888888,\"#fdca26\"],[1.0,\"#f0f921\"]],\"type\":\"heatmap\"}],\"histogram2dcontour\":[{\"colorbar\":{\"outlinewidth\":0,\"ticks\":\"\"},\"colorscale\":[[0.0,\"#0d0887\"],[0.1111111111111111,\"#46039f\"],[0.2222222222222222,\"#7201a8\"],[0.3333333333333333,\"#9c179e\"],[0.4444444444444444,\"#bd3786\"],[0.5555555555555556,\"#d8576b\"],[0.6666666666666666,\"#ed7953\"],[0.7777777777777778,\"#fb9f3a\"],[0.8888888888888888,\"#fdca26\"],[1.0,\"#f0f921\"]],\"type\":\"histogram2dcontour\"}],\"histogram2d\":[{\"colorbar\":{\"outlinewidth\":0,\"ticks\":\"\"},\"colorscale\":[[0.0,\"#0d0887\"],[0.1111111111111111,\"#46039f\"],[0.2222222222222222,\"#7201a8\"],[0.3333333333333333,\"#9c179e\"],[0.4444444444444444,\"#bd3786\"],[0.5555555555555556,\"#d8576b\"],[0.6666666666666666,\"#ed7953\"],[0.7777777777777778,\"#fb9f3a\"],[0.8888888888888888,\"#fdca26\"],[1.0,\"#f0f921\"]],\"type\":\"histogram2d\"}],\"histogram\":[{\"marker\":{\"pattern\":{\"fillmode\":\"overlay\",\"size\":10,\"solidity\":0.2}},\"type\":\"histogram\"}],\"mesh3d\":[{\"colorbar\":{\"outlinewidth\":0,\"ticks\":\"\"},\"type\":\"mesh3d\"}],\"parcoords\":[{\"line\":{\"colorbar\":{\"outlinewidth\":0,\"ticks\":\"\"}},\"type\":\"parcoords\"}],\"pie\":[{\"automargin\":true,\"type\":\"pie\"}],\"scatter3d\":[{\"line\":{\"colorbar\":{\"outlinewidth\":0,\"ticks\":\"\"}},\"marker\":{\"colorbar\":{\"outlinewidth\":0,\"ticks\":\"\"}},\"type\":\"scatter3d\"}],\"scattercarpet\":[{\"marker\":{\"colorbar\":{\"outlinewidth\":0,\"ticks\":\"\"}},\"type\":\"scattercarpet\"}],\"scattergeo\":[{\"marker\":{\"colorbar\":{\"outlinewidth\":0,\"ticks\":\"\"}},\"type\":\"scattergeo\"}],\"scattergl\":[{\"marker\":{\"colorbar\":{\"outlinewidth\":0,\"ticks\":\"\"}},\"type\":\"scattergl\"}],\"scattermapbox\":[{\"marker\":{\"colorbar\":{\"outlinewidth\":0,\"ticks\":\"\"}},\"type\":\"scattermapbox\"}],\"scatterpolargl\":[{\"marker\":{\"colorbar\":{\"outlinewidth\":0,\"ticks\":\"\"}},\"type\":\"scatterpolargl\"}],\"scatterpolar\":[{\"marker\":{\"colorbar\":{\"outlinewidth\":0,\"ticks\":\"\"}},\"type\":\"scatterpolar\"}],\"scatter\":[{\"marker\":{\"colorbar\":{\"outlinewidth\":0,\"ticks\":\"\"}},\"type\":\"scatter\"}],\"scatterternary\":[{\"marker\":{\"colorbar\":{\"outlinewidth\":0,\"ticks\":\"\"}},\"type\":\"scatterternary\"}],\"surface\":[{\"colorbar\":{\"outlinewidth\":0,\"ticks\":\"\"},\"colorscale\":[[0.0,\"#0d0887\"],[0.1111111111111111,\"#46039f\"],[0.2222222222222222,\"#7201a8\"],[0.3333333333333333,\"#9c179e\"],[0.4444444444444444,\"#bd3786\"],[0.5555555555555556,\"#d8576b\"],[0.6666666666666666,\"#ed7953\"],[0.7777777777777778,\"#fb9f3a\"],[0.8888888888888888,\"#fdca26\"],[1.0,\"#f0f921\"]],\"type\":\"surface\"}],\"table\":[{\"cells\":{\"fill\":{\"color\":\"#EBF0F8\"},\"line\":{\"color\":\"white\"}},\"header\":{\"fill\":{\"color\":\"#C8D4E3\"},\"line\":{\"color\":\"white\"}},\"type\":\"table\"}]},\"layout\":{\"annotationdefaults\":{\"arrowcolor\":\"#2a3f5f\",\"arrowhead\":0,\"arrowwidth\":1},\"autotypenumbers\":\"strict\",\"coloraxis\":{\"colorbar\":{\"outlinewidth\":0,\"ticks\":\"\"}},\"colorscale\":{\"diverging\":[[0,\"#8e0152\"],[0.1,\"#c51b7d\"],[0.2,\"#de77ae\"],[0.3,\"#f1b6da\"],[0.4,\"#fde0ef\"],[0.5,\"#f7f7f7\"],[0.6,\"#e6f5d0\"],[0.7,\"#b8e186\"],[0.8,\"#7fbc41\"],[0.9,\"#4d9221\"],[1,\"#276419\"]],\"sequential\":[[0.0,\"#0d0887\"],[0.1111111111111111,\"#46039f\"],[0.2222222222222222,\"#7201a8\"],[0.3333333333333333,\"#9c179e\"],[0.4444444444444444,\"#bd3786\"],[0.5555555555555556,\"#d8576b\"],[0.6666666666666666,\"#ed7953\"],[0.7777777777777778,\"#fb9f3a\"],[0.8888888888888888,\"#fdca26\"],[1.0,\"#f0f921\"]],\"sequentialminus\":[[0.0,\"#0d0887\"],[0.1111111111111111,\"#46039f\"],[0.2222222222222222,\"#7201a8\"],[0.3333333333333333,\"#9c179e\"],[0.4444444444444444,\"#bd3786\"],[0.5555555555555556,\"#d8576b\"],[0.6666666666666666,\"#ed7953\"],[0.7777777777777778,\"#fb9f3a\"],[0.8888888888888888,\"#fdca26\"],[1.0,\"#f0f921\"]]},\"colorway\":[\"#636efa\",\"#EF553B\",\"#00cc96\",\"#ab63fa\",\"#FFA15A\",\"#19d3f3\",\"#FF6692\",\"#B6E880\",\"#FF97FF\",\"#FECB52\"],\"font\":{\"color\":\"#2a3f5f\"},\"geo\":{\"bgcolor\":\"white\",\"lakecolor\":\"white\",\"landcolor\":\"#E5ECF6\",\"showlakes\":true,\"showland\":true,\"subunitcolor\":\"white\"},\"hoverlabel\":{\"align\":\"left\"},\"hovermode\":\"closest\",\"mapbox\":{\"style\":\"light\"},\"paper_bgcolor\":\"white\",\"plot_bgcolor\":\"#E5ECF6\",\"polar\":{\"angularaxis\":{\"gridcolor\":\"white\",\"linecolor\":\"white\",\"ticks\":\"\"},\"bgcolor\":\"#E5ECF6\",\"radialaxis\":{\"gridcolor\":\"white\",\"linecolor\":\"white\",\"ticks\":\"\"}},\"scene\":{\"xaxis\":{\"backgroundcolor\":\"#E5ECF6\",\"gridcolor\":\"white\",\"gridwidth\":2,\"linecolor\":\"white\",\"showbackground\":true,\"ticks\":\"\",\"zerolinecolor\":\"white\"},\"yaxis\":{\"backgroundcolor\":\"#E5ECF6\",\"gridcolor\":\"white\",\"gridwidth\":2,\"linecolor\":\"white\",\"showbackground\":true,\"ticks\":\"\",\"zerolinecolor\":\"white\"},\"zaxis\":{\"backgroundcolor\":\"#E5ECF6\",\"gridcolor\":\"white\",\"gridwidth\":2,\"linecolor\":\"white\",\"showbackground\":true,\"ticks\":\"\",\"zerolinecolor\":\"white\"}},\"shapedefaults\":{\"line\":{\"color\":\"#2a3f5f\"}},\"ternary\":{\"aaxis\":{\"gridcolor\":\"white\",\"linecolor\":\"white\",\"ticks\":\"\"},\"baxis\":{\"gridcolor\":\"white\",\"linecolor\":\"white\",\"ticks\":\"\"},\"bgcolor\":\"#E5ECF6\",\"caxis\":{\"gridcolor\":\"white\",\"linecolor\":\"white\",\"ticks\":\"\"}},\"title\":{\"x\":0.05},\"xaxis\":{\"automargin\":true,\"gridcolor\":\"white\",\"linecolor\":\"white\",\"ticks\":\"\",\"title\":{\"standoff\":15},\"zerolinecolor\":\"white\",\"zerolinewidth\":2},\"yaxis\":{\"automargin\":true,\"gridcolor\":\"white\",\"linecolor\":\"white\",\"ticks\":\"\",\"title\":{\"standoff\":15},\"zerolinecolor\":\"white\",\"zerolinewidth\":2}}},\"title\":{\"font\":{\"color\":\"#4D5663\"}},\"xaxis\":{\"gridcolor\":\"#E1E5ED\",\"showgrid\":true,\"tickfont\":{\"color\":\"#4D5663\"},\"title\":{\"font\":{\"color\":\"#4D5663\"},\"text\":\"\"},\"zerolinecolor\":\"#E1E5ED\"},\"yaxis\":{\"gridcolor\":\"#E1E5ED\",\"showgrid\":true,\"tickfont\":{\"color\":\"#4D5663\"},\"title\":{\"font\":{\"color\":\"#4D5663\"},\"text\":\"\"},\"zerolinecolor\":\"#E1E5ED\"}},                        {\"showLink\": true, \"linkText\": \"Export to plot.ly\", \"plotlyServerURL\": \"https://plot.ly\", \"responsive\": true}                    ).then(function(){\n",
       "                            \n",
       "var gd = document.getElementById('ac977564-f10b-4b00-b330-c56641c46c4d');\n",
       "var x = new MutationObserver(function (mutations, observer) {{\n",
       "        var display = window.getComputedStyle(gd).display;\n",
       "        if (!display || display === 'none') {{\n",
       "            console.log([gd, 'removed!']);\n",
       "            Plotly.purge(gd);\n",
       "            observer.disconnect();\n",
       "        }}\n",
       "}});\n",
       "\n",
       "// Listen for the removal of the full notebook cells\n",
       "var notebookContainer = gd.closest('#notebook-container');\n",
       "if (notebookContainer) {{\n",
       "    x.observe(notebookContainer, {childList: true});\n",
       "}}\n",
       "\n",
       "// Listen for the clearing of the current output cell\n",
       "var outputEl = gd.closest('.output');\n",
       "if (outputEl) {{\n",
       "    x.observe(outputEl, {childList: true});\n",
       "}}\n",
       "\n",
       "                        })                };                });            </script>        </div>"
      ]
     },
     "metadata": {},
     "output_type": "display_data"
    }
   ],
   "source": [
    "df.iplot()\n",
    "### you can scroll on , zoom in and out "
   ]
  },
  {
   "cell_type": "code",
   "execution_count": 25,
   "id": "21fa676e",
   "metadata": {},
   "outputs": [
    {
     "data": {
      "application/vnd.plotly.v1+json": {
       "config": {
        "linkText": "Export to plot.ly",
        "plotlyServerURL": "https://plot.ly",
        "showLink": true
       },
       "data": [
        {
         "line": {
          "color": "rgba(255, 153, 51, 1.0)",
          "dash": "solid",
          "shape": "linear",
          "width": 1.3
         },
         "marker": {
          "size": 12,
          "symbol": "circle"
         },
         "mode": "markers",
         "name": "B",
         "text": "",
         "type": "scatter",
         "x": [
          0.29679088647994234,
          -0.042206202349754085,
          0.05623496351276302,
          0.18396487905995018,
          1.9471896766346395,
          0.43208920801474165,
          1.6081901135096244,
          -0.33939886596474583,
          -0.005108983403875583,
          0.8530884673894046,
          -1.0049122922726699,
          -0.12868851992931754,
          1.7353868610859655,
          -0.08546583156278803,
          0.19057248696326243,
          -2.215582342343689,
          0.5808233212565269,
          0.5556244407586608,
          0.6393629473270924,
          0.8517397885188276,
          1.004772451678126,
          1.764774535802342,
          -1.5928023745870552,
          0.4490624254607539,
          -0.7527723767987775,
          -0.44542373319935846,
          0.34087288647274944,
          0.7583254810032551,
          1.1582430952918201,
          -0.3687962067699432,
          0.8684466366474232,
          1.1573101491711728,
          0.8106533155680704,
          0.49441830258067543,
          0.6885849650903538,
          -0.4702465281680946,
          0.7258776199325154,
          -2.229493254691975,
          -0.4286484838911737,
          -0.3528594259863507,
          -1.6078191886771733,
          1.7925932159412024,
          -1.4917867638583655,
          -0.8522939738286025,
          -0.3029444850990843,
          -0.15564219622621273,
          -0.8516913437553745,
          1.9066382724108697,
          -0.6264844604156597,
          0.06234625415648561,
          -3.6576914024430116,
          0.8489453033047615,
          0.6663080066373779,
          -2.794668362290301,
          -0.14340193607480287,
          0.46961643534909486,
          0.19466760147991485,
          -0.18305973698227745,
          0.2533686282037615,
          0.22681881963847014,
          -0.5853685803435907,
          1.2286869071151012,
          0.9278399975997879,
          -0.4069069923876818,
          0.2798037596885753,
          -1.440231742955656,
          -0.25905094443393784,
          -0.1670331195018515,
          -0.7801423654656153,
          -0.33638723727069586,
          0.1696828002144026,
          -1.6534073036946215,
          0.20741424731862965,
          -0.437475299257197,
          -0.605281305177192,
          1.2030690694557755,
          -1.6945689313328423,
          0.9344417133260021,
          0.46676346426075643,
          1.9170319083784906,
          0.34351232000814336,
          0.4415030752463328,
          -1.8460478325197323,
          0.8234785283616356,
          0.09775233667726059,
          0.4426520294879391,
          1.3332588195304493,
          0.6786094057326916,
          -1.072784991063228,
          0.1431368184337798,
          0.37685245253890953,
          -0.008279655793517674,
          -0.04025830813754167,
          -1.496699137527211,
          0.44668384965429475,
          0.8282233080065341,
          0.9187031152698922,
          0.07574685540103843,
          0.23778114530311967,
          1.1209179473646502
         ],
         "y": [
          -0.7571651498351455,
          0.3041841546141356,
          -0.3634338798273758,
          -2.0482361777995144,
          -0.18108815038638867,
          -0.21190299395233114,
          -0.7806951399891963,
          1.8590985191190108,
          0.48036674314609656,
          1.8873083466347365,
          1.1056779689437921,
          -1.3231700180419348,
          0.3342805753940904,
          -0.20369594444050604,
          0.39088820371926375,
          -0.48776057521970073,
          -1.1414327259670378,
          -0.7808846359062693,
          1.4920293778079048,
          0.71079751035893,
          0.2307135496211187,
          -0.7211267802065155,
          -0.3877863925049786,
          0.5293063371459275,
          -1.698225399775976,
          -0.7432359964184969,
          -1.0633879580111423,
          -1.1564930777360236,
          -0.6354873928530012,
          1.6168674082839893,
          -2.1397231605343183,
          0.8591667284039247,
          -0.4525164669746582,
          0.6479933531495566,
          0.4928251204016213,
          0.5301247456285414,
          1.2692158824055362,
          0.4903818486766852,
          -1.1042304957167466,
          -0.3604927522499086,
          0.13344340017146225,
          -0.5371434200006895,
          -1.8037554935945654,
          0.5237936559711996,
          1.500251268452096,
          2.179319647875672,
          -0.009000371183924594,
          0.7041273574304793,
          0.8935279013253304,
          -3.375008844495114,
          1.1894387874864698,
          -0.27110581005903794,
          -0.3603941406302465,
          -0.19626364838529733,
          2.504563093248634,
          0.03156911621838102,
          0.29881409996396646,
          -0.386394740622949,
          -0.3698428488757272,
          0.8246534678107472,
          -1.9114009699387526,
          -0.4623680380986253,
          0.9077405464515336,
          -0.7295099857464294,
          0.6764853912798772,
          -0.541361568392655,
          0.47232880482121675,
          0.6296488331438715,
          1.7669189062507158,
          0.5757234831604158,
          -0.7518036824883677,
          -0.6340399776230848,
          -1.4504687727889098,
          0.4229339994405687,
          -0.7844403212340828,
          0.500292917366162,
          -0.45417782594598816,
          -0.2602529926846372,
          1.6907017072679549,
          2.0122414821517025,
          -0.9944724957993845,
          -0.4618705938551304,
          0.15912344530429562,
          0.06113220007641856,
          0.5169371398966918,
          -1.1232577387697515,
          -0.21463034116679147,
          -0.42893393668424407,
          -1.0968561308131135,
          2.4209582185902776,
          -1.242139030854014,
          -0.9981972941910361,
          1.6073060927944351,
          -1.2621170591121773,
          0.9289617974150245,
          -0.22342478108118818,
          0.23205496907907777,
          -0.7706448922950906,
          -0.20410847471802354,
          -0.3025804522844425
         ]
        }
       ],
       "layout": {
        "legend": {
         "bgcolor": "#F5F6F9",
         "font": {
          "color": "#4D5663"
         }
        },
        "paper_bgcolor": "#F5F6F9",
        "plot_bgcolor": "#F5F6F9",
        "template": {
         "data": {
          "bar": [
           {
            "error_x": {
             "color": "#2a3f5f"
            },
            "error_y": {
             "color": "#2a3f5f"
            },
            "marker": {
             "line": {
              "color": "#E5ECF6",
              "width": 0.5
             },
             "pattern": {
              "fillmode": "overlay",
              "size": 10,
              "solidity": 0.2
             }
            },
            "type": "bar"
           }
          ],
          "barpolar": [
           {
            "marker": {
             "line": {
              "color": "#E5ECF6",
              "width": 0.5
             },
             "pattern": {
              "fillmode": "overlay",
              "size": 10,
              "solidity": 0.2
             }
            },
            "type": "barpolar"
           }
          ],
          "carpet": [
           {
            "aaxis": {
             "endlinecolor": "#2a3f5f",
             "gridcolor": "white",
             "linecolor": "white",
             "minorgridcolor": "white",
             "startlinecolor": "#2a3f5f"
            },
            "baxis": {
             "endlinecolor": "#2a3f5f",
             "gridcolor": "white",
             "linecolor": "white",
             "minorgridcolor": "white",
             "startlinecolor": "#2a3f5f"
            },
            "type": "carpet"
           }
          ],
          "choropleth": [
           {
            "colorbar": {
             "outlinewidth": 0,
             "ticks": ""
            },
            "type": "choropleth"
           }
          ],
          "contour": [
           {
            "colorbar": {
             "outlinewidth": 0,
             "ticks": ""
            },
            "colorscale": [
             [
              0,
              "#0d0887"
             ],
             [
              0.1111111111111111,
              "#46039f"
             ],
             [
              0.2222222222222222,
              "#7201a8"
             ],
             [
              0.3333333333333333,
              "#9c179e"
             ],
             [
              0.4444444444444444,
              "#bd3786"
             ],
             [
              0.5555555555555556,
              "#d8576b"
             ],
             [
              0.6666666666666666,
              "#ed7953"
             ],
             [
              0.7777777777777778,
              "#fb9f3a"
             ],
             [
              0.8888888888888888,
              "#fdca26"
             ],
             [
              1,
              "#f0f921"
             ]
            ],
            "type": "contour"
           }
          ],
          "contourcarpet": [
           {
            "colorbar": {
             "outlinewidth": 0,
             "ticks": ""
            },
            "type": "contourcarpet"
           }
          ],
          "heatmap": [
           {
            "colorbar": {
             "outlinewidth": 0,
             "ticks": ""
            },
            "colorscale": [
             [
              0,
              "#0d0887"
             ],
             [
              0.1111111111111111,
              "#46039f"
             ],
             [
              0.2222222222222222,
              "#7201a8"
             ],
             [
              0.3333333333333333,
              "#9c179e"
             ],
             [
              0.4444444444444444,
              "#bd3786"
             ],
             [
              0.5555555555555556,
              "#d8576b"
             ],
             [
              0.6666666666666666,
              "#ed7953"
             ],
             [
              0.7777777777777778,
              "#fb9f3a"
             ],
             [
              0.8888888888888888,
              "#fdca26"
             ],
             [
              1,
              "#f0f921"
             ]
            ],
            "type": "heatmap"
           }
          ],
          "heatmapgl": [
           {
            "colorbar": {
             "outlinewidth": 0,
             "ticks": ""
            },
            "colorscale": [
             [
              0,
              "#0d0887"
             ],
             [
              0.1111111111111111,
              "#46039f"
             ],
             [
              0.2222222222222222,
              "#7201a8"
             ],
             [
              0.3333333333333333,
              "#9c179e"
             ],
             [
              0.4444444444444444,
              "#bd3786"
             ],
             [
              0.5555555555555556,
              "#d8576b"
             ],
             [
              0.6666666666666666,
              "#ed7953"
             ],
             [
              0.7777777777777778,
              "#fb9f3a"
             ],
             [
              0.8888888888888888,
              "#fdca26"
             ],
             [
              1,
              "#f0f921"
             ]
            ],
            "type": "heatmapgl"
           }
          ],
          "histogram": [
           {
            "marker": {
             "pattern": {
              "fillmode": "overlay",
              "size": 10,
              "solidity": 0.2
             }
            },
            "type": "histogram"
           }
          ],
          "histogram2d": [
           {
            "colorbar": {
             "outlinewidth": 0,
             "ticks": ""
            },
            "colorscale": [
             [
              0,
              "#0d0887"
             ],
             [
              0.1111111111111111,
              "#46039f"
             ],
             [
              0.2222222222222222,
              "#7201a8"
             ],
             [
              0.3333333333333333,
              "#9c179e"
             ],
             [
              0.4444444444444444,
              "#bd3786"
             ],
             [
              0.5555555555555556,
              "#d8576b"
             ],
             [
              0.6666666666666666,
              "#ed7953"
             ],
             [
              0.7777777777777778,
              "#fb9f3a"
             ],
             [
              0.8888888888888888,
              "#fdca26"
             ],
             [
              1,
              "#f0f921"
             ]
            ],
            "type": "histogram2d"
           }
          ],
          "histogram2dcontour": [
           {
            "colorbar": {
             "outlinewidth": 0,
             "ticks": ""
            },
            "colorscale": [
             [
              0,
              "#0d0887"
             ],
             [
              0.1111111111111111,
              "#46039f"
             ],
             [
              0.2222222222222222,
              "#7201a8"
             ],
             [
              0.3333333333333333,
              "#9c179e"
             ],
             [
              0.4444444444444444,
              "#bd3786"
             ],
             [
              0.5555555555555556,
              "#d8576b"
             ],
             [
              0.6666666666666666,
              "#ed7953"
             ],
             [
              0.7777777777777778,
              "#fb9f3a"
             ],
             [
              0.8888888888888888,
              "#fdca26"
             ],
             [
              1,
              "#f0f921"
             ]
            ],
            "type": "histogram2dcontour"
           }
          ],
          "mesh3d": [
           {
            "colorbar": {
             "outlinewidth": 0,
             "ticks": ""
            },
            "type": "mesh3d"
           }
          ],
          "parcoords": [
           {
            "line": {
             "colorbar": {
              "outlinewidth": 0,
              "ticks": ""
             }
            },
            "type": "parcoords"
           }
          ],
          "pie": [
           {
            "automargin": true,
            "type": "pie"
           }
          ],
          "scatter": [
           {
            "marker": {
             "colorbar": {
              "outlinewidth": 0,
              "ticks": ""
             }
            },
            "type": "scatter"
           }
          ],
          "scatter3d": [
           {
            "line": {
             "colorbar": {
              "outlinewidth": 0,
              "ticks": ""
             }
            },
            "marker": {
             "colorbar": {
              "outlinewidth": 0,
              "ticks": ""
             }
            },
            "type": "scatter3d"
           }
          ],
          "scattercarpet": [
           {
            "marker": {
             "colorbar": {
              "outlinewidth": 0,
              "ticks": ""
             }
            },
            "type": "scattercarpet"
           }
          ],
          "scattergeo": [
           {
            "marker": {
             "colorbar": {
              "outlinewidth": 0,
              "ticks": ""
             }
            },
            "type": "scattergeo"
           }
          ],
          "scattergl": [
           {
            "marker": {
             "colorbar": {
              "outlinewidth": 0,
              "ticks": ""
             }
            },
            "type": "scattergl"
           }
          ],
          "scattermapbox": [
           {
            "marker": {
             "colorbar": {
              "outlinewidth": 0,
              "ticks": ""
             }
            },
            "type": "scattermapbox"
           }
          ],
          "scatterpolar": [
           {
            "marker": {
             "colorbar": {
              "outlinewidth": 0,
              "ticks": ""
             }
            },
            "type": "scatterpolar"
           }
          ],
          "scatterpolargl": [
           {
            "marker": {
             "colorbar": {
              "outlinewidth": 0,
              "ticks": ""
             }
            },
            "type": "scatterpolargl"
           }
          ],
          "scatterternary": [
           {
            "marker": {
             "colorbar": {
              "outlinewidth": 0,
              "ticks": ""
             }
            },
            "type": "scatterternary"
           }
          ],
          "surface": [
           {
            "colorbar": {
             "outlinewidth": 0,
             "ticks": ""
            },
            "colorscale": [
             [
              0,
              "#0d0887"
             ],
             [
              0.1111111111111111,
              "#46039f"
             ],
             [
              0.2222222222222222,
              "#7201a8"
             ],
             [
              0.3333333333333333,
              "#9c179e"
             ],
             [
              0.4444444444444444,
              "#bd3786"
             ],
             [
              0.5555555555555556,
              "#d8576b"
             ],
             [
              0.6666666666666666,
              "#ed7953"
             ],
             [
              0.7777777777777778,
              "#fb9f3a"
             ],
             [
              0.8888888888888888,
              "#fdca26"
             ],
             [
              1,
              "#f0f921"
             ]
            ],
            "type": "surface"
           }
          ],
          "table": [
           {
            "cells": {
             "fill": {
              "color": "#EBF0F8"
             },
             "line": {
              "color": "white"
             }
            },
            "header": {
             "fill": {
              "color": "#C8D4E3"
             },
             "line": {
              "color": "white"
             }
            },
            "type": "table"
           }
          ]
         },
         "layout": {
          "annotationdefaults": {
           "arrowcolor": "#2a3f5f",
           "arrowhead": 0,
           "arrowwidth": 1
          },
          "autotypenumbers": "strict",
          "coloraxis": {
           "colorbar": {
            "outlinewidth": 0,
            "ticks": ""
           }
          },
          "colorscale": {
           "diverging": [
            [
             0,
             "#8e0152"
            ],
            [
             0.1,
             "#c51b7d"
            ],
            [
             0.2,
             "#de77ae"
            ],
            [
             0.3,
             "#f1b6da"
            ],
            [
             0.4,
             "#fde0ef"
            ],
            [
             0.5,
             "#f7f7f7"
            ],
            [
             0.6,
             "#e6f5d0"
            ],
            [
             0.7,
             "#b8e186"
            ],
            [
             0.8,
             "#7fbc41"
            ],
            [
             0.9,
             "#4d9221"
            ],
            [
             1,
             "#276419"
            ]
           ],
           "sequential": [
            [
             0,
             "#0d0887"
            ],
            [
             0.1111111111111111,
             "#46039f"
            ],
            [
             0.2222222222222222,
             "#7201a8"
            ],
            [
             0.3333333333333333,
             "#9c179e"
            ],
            [
             0.4444444444444444,
             "#bd3786"
            ],
            [
             0.5555555555555556,
             "#d8576b"
            ],
            [
             0.6666666666666666,
             "#ed7953"
            ],
            [
             0.7777777777777778,
             "#fb9f3a"
            ],
            [
             0.8888888888888888,
             "#fdca26"
            ],
            [
             1,
             "#f0f921"
            ]
           ],
           "sequentialminus": [
            [
             0,
             "#0d0887"
            ],
            [
             0.1111111111111111,
             "#46039f"
            ],
            [
             0.2222222222222222,
             "#7201a8"
            ],
            [
             0.3333333333333333,
             "#9c179e"
            ],
            [
             0.4444444444444444,
             "#bd3786"
            ],
            [
             0.5555555555555556,
             "#d8576b"
            ],
            [
             0.6666666666666666,
             "#ed7953"
            ],
            [
             0.7777777777777778,
             "#fb9f3a"
            ],
            [
             0.8888888888888888,
             "#fdca26"
            ],
            [
             1,
             "#f0f921"
            ]
           ]
          },
          "colorway": [
           "#636efa",
           "#EF553B",
           "#00cc96",
           "#ab63fa",
           "#FFA15A",
           "#19d3f3",
           "#FF6692",
           "#B6E880",
           "#FF97FF",
           "#FECB52"
          ],
          "font": {
           "color": "#2a3f5f"
          },
          "geo": {
           "bgcolor": "white",
           "lakecolor": "white",
           "landcolor": "#E5ECF6",
           "showlakes": true,
           "showland": true,
           "subunitcolor": "white"
          },
          "hoverlabel": {
           "align": "left"
          },
          "hovermode": "closest",
          "mapbox": {
           "style": "light"
          },
          "paper_bgcolor": "white",
          "plot_bgcolor": "#E5ECF6",
          "polar": {
           "angularaxis": {
            "gridcolor": "white",
            "linecolor": "white",
            "ticks": ""
           },
           "bgcolor": "#E5ECF6",
           "radialaxis": {
            "gridcolor": "white",
            "linecolor": "white",
            "ticks": ""
           }
          },
          "scene": {
           "xaxis": {
            "backgroundcolor": "#E5ECF6",
            "gridcolor": "white",
            "gridwidth": 2,
            "linecolor": "white",
            "showbackground": true,
            "ticks": "",
            "zerolinecolor": "white"
           },
           "yaxis": {
            "backgroundcolor": "#E5ECF6",
            "gridcolor": "white",
            "gridwidth": 2,
            "linecolor": "white",
            "showbackground": true,
            "ticks": "",
            "zerolinecolor": "white"
           },
           "zaxis": {
            "backgroundcolor": "#E5ECF6",
            "gridcolor": "white",
            "gridwidth": 2,
            "linecolor": "white",
            "showbackground": true,
            "ticks": "",
            "zerolinecolor": "white"
           }
          },
          "shapedefaults": {
           "line": {
            "color": "#2a3f5f"
           }
          },
          "ternary": {
           "aaxis": {
            "gridcolor": "white",
            "linecolor": "white",
            "ticks": ""
           },
           "baxis": {
            "gridcolor": "white",
            "linecolor": "white",
            "ticks": ""
           },
           "bgcolor": "#E5ECF6",
           "caxis": {
            "gridcolor": "white",
            "linecolor": "white",
            "ticks": ""
           }
          },
          "title": {
           "x": 0.05
          },
          "xaxis": {
           "automargin": true,
           "gridcolor": "white",
           "linecolor": "white",
           "ticks": "",
           "title": {
            "standoff": 15
           },
           "zerolinecolor": "white",
           "zerolinewidth": 2
          },
          "yaxis": {
           "automargin": true,
           "gridcolor": "white",
           "linecolor": "white",
           "ticks": "",
           "title": {
            "standoff": 15
           },
           "zerolinecolor": "white",
           "zerolinewidth": 2
          }
         }
        },
        "title": {
         "font": {
          "color": "#4D5663"
         }
        },
        "xaxis": {
         "gridcolor": "#E1E5ED",
         "showgrid": true,
         "tickfont": {
          "color": "#4D5663"
         },
         "title": {
          "font": {
           "color": "#4D5663"
          },
          "text": ""
         },
         "zerolinecolor": "#E1E5ED"
        },
        "yaxis": {
         "gridcolor": "#E1E5ED",
         "showgrid": true,
         "tickfont": {
          "color": "#4D5663"
         },
         "title": {
          "font": {
           "color": "#4D5663"
          },
          "text": ""
         },
         "zerolinecolor": "#E1E5ED"
        }
       }
      },
      "text/html": [
       "<div>                            <div id=\"8a020a1e-08f6-479f-aaa3-9c7f61152a6d\" class=\"plotly-graph-div\" style=\"height:525px; width:100%;\"></div>            <script type=\"text/javascript\">                require([\"plotly\"], function(Plotly) {                    window.PLOTLYENV=window.PLOTLYENV || {};\n",
       "                    window.PLOTLYENV.BASE_URL='https://plot.ly';                                    if (document.getElementById(\"8a020a1e-08f6-479f-aaa3-9c7f61152a6d\")) {                    Plotly.newPlot(                        \"8a020a1e-08f6-479f-aaa3-9c7f61152a6d\",                        [{\"line\":{\"color\":\"rgba(255, 153, 51, 1.0)\",\"dash\":\"solid\",\"shape\":\"linear\",\"width\":1.3},\"marker\":{\"size\":12,\"symbol\":\"circle\"},\"mode\":\"markers\",\"name\":\"B\",\"text\":\"\",\"x\":[0.29679088647994234,-0.042206202349754085,0.05623496351276302,0.18396487905995018,1.9471896766346395,0.43208920801474165,1.6081901135096244,-0.33939886596474583,-0.005108983403875583,0.8530884673894046,-1.0049122922726699,-0.12868851992931754,1.7353868610859655,-0.08546583156278803,0.19057248696326243,-2.215582342343689,0.5808233212565269,0.5556244407586608,0.6393629473270924,0.8517397885188276,1.004772451678126,1.764774535802342,-1.5928023745870552,0.4490624254607539,-0.7527723767987775,-0.44542373319935846,0.34087288647274944,0.7583254810032551,1.1582430952918201,-0.3687962067699432,0.8684466366474232,1.1573101491711728,0.8106533155680704,0.49441830258067543,0.6885849650903538,-0.4702465281680946,0.7258776199325154,-2.229493254691975,-0.4286484838911737,-0.3528594259863507,-1.6078191886771733,1.7925932159412024,-1.4917867638583655,-0.8522939738286025,-0.3029444850990843,-0.15564219622621273,-0.8516913437553745,1.9066382724108697,-0.6264844604156597,0.06234625415648561,-3.6576914024430116,0.8489453033047615,0.6663080066373779,-2.794668362290301,-0.14340193607480287,0.46961643534909486,0.19466760147991485,-0.18305973698227745,0.2533686282037615,0.22681881963847014,-0.5853685803435907,1.2286869071151012,0.9278399975997879,-0.4069069923876818,0.2798037596885753,-1.440231742955656,-0.25905094443393784,-0.1670331195018515,-0.7801423654656153,-0.33638723727069586,0.1696828002144026,-1.6534073036946215,0.20741424731862965,-0.437475299257197,-0.605281305177192,1.2030690694557755,-1.6945689313328423,0.9344417133260021,0.46676346426075643,1.9170319083784906,0.34351232000814336,0.4415030752463328,-1.8460478325197323,0.8234785283616356,0.09775233667726059,0.4426520294879391,1.3332588195304493,0.6786094057326916,-1.072784991063228,0.1431368184337798,0.37685245253890953,-0.008279655793517674,-0.04025830813754167,-1.496699137527211,0.44668384965429475,0.8282233080065341,0.9187031152698922,0.07574685540103843,0.23778114530311967,1.1209179473646502],\"y\":[-0.7571651498351455,0.3041841546141356,-0.3634338798273758,-2.0482361777995144,-0.18108815038638867,-0.21190299395233114,-0.7806951399891963,1.8590985191190108,0.48036674314609656,1.8873083466347365,1.1056779689437921,-1.3231700180419348,0.3342805753940904,-0.20369594444050604,0.39088820371926375,-0.48776057521970073,-1.1414327259670378,-0.7808846359062693,1.4920293778079048,0.71079751035893,0.2307135496211187,-0.7211267802065155,-0.3877863925049786,0.5293063371459275,-1.698225399775976,-0.7432359964184969,-1.0633879580111423,-1.1564930777360236,-0.6354873928530012,1.6168674082839893,-2.1397231605343183,0.8591667284039247,-0.4525164669746582,0.6479933531495566,0.4928251204016213,0.5301247456285414,1.2692158824055362,0.4903818486766852,-1.1042304957167466,-0.3604927522499086,0.13344340017146225,-0.5371434200006895,-1.8037554935945654,0.5237936559711996,1.500251268452096,2.179319647875672,-0.009000371183924594,0.7041273574304793,0.8935279013253304,-3.375008844495114,1.1894387874864698,-0.27110581005903794,-0.3603941406302465,-0.19626364838529733,2.504563093248634,0.03156911621838102,0.29881409996396646,-0.386394740622949,-0.3698428488757272,0.8246534678107472,-1.9114009699387526,-0.4623680380986253,0.9077405464515336,-0.7295099857464294,0.6764853912798772,-0.541361568392655,0.47232880482121675,0.6296488331438715,1.7669189062507158,0.5757234831604158,-0.7518036824883677,-0.6340399776230848,-1.4504687727889098,0.4229339994405687,-0.7844403212340828,0.500292917366162,-0.45417782594598816,-0.2602529926846372,1.6907017072679549,2.0122414821517025,-0.9944724957993845,-0.4618705938551304,0.15912344530429562,0.06113220007641856,0.5169371398966918,-1.1232577387697515,-0.21463034116679147,-0.42893393668424407,-1.0968561308131135,2.4209582185902776,-1.242139030854014,-0.9981972941910361,1.6073060927944351,-1.2621170591121773,0.9289617974150245,-0.22342478108118818,0.23205496907907777,-0.7706448922950906,-0.20410847471802354,-0.3025804522844425],\"type\":\"scatter\"}],                        {\"legend\":{\"bgcolor\":\"#F5F6F9\",\"font\":{\"color\":\"#4D5663\"}},\"paper_bgcolor\":\"#F5F6F9\",\"plot_bgcolor\":\"#F5F6F9\",\"template\":{\"data\":{\"barpolar\":[{\"marker\":{\"line\":{\"color\":\"#E5ECF6\",\"width\":0.5},\"pattern\":{\"fillmode\":\"overlay\",\"size\":10,\"solidity\":0.2}},\"type\":\"barpolar\"}],\"bar\":[{\"error_x\":{\"color\":\"#2a3f5f\"},\"error_y\":{\"color\":\"#2a3f5f\"},\"marker\":{\"line\":{\"color\":\"#E5ECF6\",\"width\":0.5},\"pattern\":{\"fillmode\":\"overlay\",\"size\":10,\"solidity\":0.2}},\"type\":\"bar\"}],\"carpet\":[{\"aaxis\":{\"endlinecolor\":\"#2a3f5f\",\"gridcolor\":\"white\",\"linecolor\":\"white\",\"minorgridcolor\":\"white\",\"startlinecolor\":\"#2a3f5f\"},\"baxis\":{\"endlinecolor\":\"#2a3f5f\",\"gridcolor\":\"white\",\"linecolor\":\"white\",\"minorgridcolor\":\"white\",\"startlinecolor\":\"#2a3f5f\"},\"type\":\"carpet\"}],\"choropleth\":[{\"colorbar\":{\"outlinewidth\":0,\"ticks\":\"\"},\"type\":\"choropleth\"}],\"contourcarpet\":[{\"colorbar\":{\"outlinewidth\":0,\"ticks\":\"\"},\"type\":\"contourcarpet\"}],\"contour\":[{\"colorbar\":{\"outlinewidth\":0,\"ticks\":\"\"},\"colorscale\":[[0.0,\"#0d0887\"],[0.1111111111111111,\"#46039f\"],[0.2222222222222222,\"#7201a8\"],[0.3333333333333333,\"#9c179e\"],[0.4444444444444444,\"#bd3786\"],[0.5555555555555556,\"#d8576b\"],[0.6666666666666666,\"#ed7953\"],[0.7777777777777778,\"#fb9f3a\"],[0.8888888888888888,\"#fdca26\"],[1.0,\"#f0f921\"]],\"type\":\"contour\"}],\"heatmapgl\":[{\"colorbar\":{\"outlinewidth\":0,\"ticks\":\"\"},\"colorscale\":[[0.0,\"#0d0887\"],[0.1111111111111111,\"#46039f\"],[0.2222222222222222,\"#7201a8\"],[0.3333333333333333,\"#9c179e\"],[0.4444444444444444,\"#bd3786\"],[0.5555555555555556,\"#d8576b\"],[0.6666666666666666,\"#ed7953\"],[0.7777777777777778,\"#fb9f3a\"],[0.8888888888888888,\"#fdca26\"],[1.0,\"#f0f921\"]],\"type\":\"heatmapgl\"}],\"heatmap\":[{\"colorbar\":{\"outlinewidth\":0,\"ticks\":\"\"},\"colorscale\":[[0.0,\"#0d0887\"],[0.1111111111111111,\"#46039f\"],[0.2222222222222222,\"#7201a8\"],[0.3333333333333333,\"#9c179e\"],[0.4444444444444444,\"#bd3786\"],[0.5555555555555556,\"#d8576b\"],[0.6666666666666666,\"#ed7953\"],[0.7777777777777778,\"#fb9f3a\"],[0.8888888888888888,\"#fdca26\"],[1.0,\"#f0f921\"]],\"type\":\"heatmap\"}],\"histogram2dcontour\":[{\"colorbar\":{\"outlinewidth\":0,\"ticks\":\"\"},\"colorscale\":[[0.0,\"#0d0887\"],[0.1111111111111111,\"#46039f\"],[0.2222222222222222,\"#7201a8\"],[0.3333333333333333,\"#9c179e\"],[0.4444444444444444,\"#bd3786\"],[0.5555555555555556,\"#d8576b\"],[0.6666666666666666,\"#ed7953\"],[0.7777777777777778,\"#fb9f3a\"],[0.8888888888888888,\"#fdca26\"],[1.0,\"#f0f921\"]],\"type\":\"histogram2dcontour\"}],\"histogram2d\":[{\"colorbar\":{\"outlinewidth\":0,\"ticks\":\"\"},\"colorscale\":[[0.0,\"#0d0887\"],[0.1111111111111111,\"#46039f\"],[0.2222222222222222,\"#7201a8\"],[0.3333333333333333,\"#9c179e\"],[0.4444444444444444,\"#bd3786\"],[0.5555555555555556,\"#d8576b\"],[0.6666666666666666,\"#ed7953\"],[0.7777777777777778,\"#fb9f3a\"],[0.8888888888888888,\"#fdca26\"],[1.0,\"#f0f921\"]],\"type\":\"histogram2d\"}],\"histogram\":[{\"marker\":{\"pattern\":{\"fillmode\":\"overlay\",\"size\":10,\"solidity\":0.2}},\"type\":\"histogram\"}],\"mesh3d\":[{\"colorbar\":{\"outlinewidth\":0,\"ticks\":\"\"},\"type\":\"mesh3d\"}],\"parcoords\":[{\"line\":{\"colorbar\":{\"outlinewidth\":0,\"ticks\":\"\"}},\"type\":\"parcoords\"}],\"pie\":[{\"automargin\":true,\"type\":\"pie\"}],\"scatter3d\":[{\"line\":{\"colorbar\":{\"outlinewidth\":0,\"ticks\":\"\"}},\"marker\":{\"colorbar\":{\"outlinewidth\":0,\"ticks\":\"\"}},\"type\":\"scatter3d\"}],\"scattercarpet\":[{\"marker\":{\"colorbar\":{\"outlinewidth\":0,\"ticks\":\"\"}},\"type\":\"scattercarpet\"}],\"scattergeo\":[{\"marker\":{\"colorbar\":{\"outlinewidth\":0,\"ticks\":\"\"}},\"type\":\"scattergeo\"}],\"scattergl\":[{\"marker\":{\"colorbar\":{\"outlinewidth\":0,\"ticks\":\"\"}},\"type\":\"scattergl\"}],\"scattermapbox\":[{\"marker\":{\"colorbar\":{\"outlinewidth\":0,\"ticks\":\"\"}},\"type\":\"scattermapbox\"}],\"scatterpolargl\":[{\"marker\":{\"colorbar\":{\"outlinewidth\":0,\"ticks\":\"\"}},\"type\":\"scatterpolargl\"}],\"scatterpolar\":[{\"marker\":{\"colorbar\":{\"outlinewidth\":0,\"ticks\":\"\"}},\"type\":\"scatterpolar\"}],\"scatter\":[{\"marker\":{\"colorbar\":{\"outlinewidth\":0,\"ticks\":\"\"}},\"type\":\"scatter\"}],\"scatterternary\":[{\"marker\":{\"colorbar\":{\"outlinewidth\":0,\"ticks\":\"\"}},\"type\":\"scatterternary\"}],\"surface\":[{\"colorbar\":{\"outlinewidth\":0,\"ticks\":\"\"},\"colorscale\":[[0.0,\"#0d0887\"],[0.1111111111111111,\"#46039f\"],[0.2222222222222222,\"#7201a8\"],[0.3333333333333333,\"#9c179e\"],[0.4444444444444444,\"#bd3786\"],[0.5555555555555556,\"#d8576b\"],[0.6666666666666666,\"#ed7953\"],[0.7777777777777778,\"#fb9f3a\"],[0.8888888888888888,\"#fdca26\"],[1.0,\"#f0f921\"]],\"type\":\"surface\"}],\"table\":[{\"cells\":{\"fill\":{\"color\":\"#EBF0F8\"},\"line\":{\"color\":\"white\"}},\"header\":{\"fill\":{\"color\":\"#C8D4E3\"},\"line\":{\"color\":\"white\"}},\"type\":\"table\"}]},\"layout\":{\"annotationdefaults\":{\"arrowcolor\":\"#2a3f5f\",\"arrowhead\":0,\"arrowwidth\":1},\"autotypenumbers\":\"strict\",\"coloraxis\":{\"colorbar\":{\"outlinewidth\":0,\"ticks\":\"\"}},\"colorscale\":{\"diverging\":[[0,\"#8e0152\"],[0.1,\"#c51b7d\"],[0.2,\"#de77ae\"],[0.3,\"#f1b6da\"],[0.4,\"#fde0ef\"],[0.5,\"#f7f7f7\"],[0.6,\"#e6f5d0\"],[0.7,\"#b8e186\"],[0.8,\"#7fbc41\"],[0.9,\"#4d9221\"],[1,\"#276419\"]],\"sequential\":[[0.0,\"#0d0887\"],[0.1111111111111111,\"#46039f\"],[0.2222222222222222,\"#7201a8\"],[0.3333333333333333,\"#9c179e\"],[0.4444444444444444,\"#bd3786\"],[0.5555555555555556,\"#d8576b\"],[0.6666666666666666,\"#ed7953\"],[0.7777777777777778,\"#fb9f3a\"],[0.8888888888888888,\"#fdca26\"],[1.0,\"#f0f921\"]],\"sequentialminus\":[[0.0,\"#0d0887\"],[0.1111111111111111,\"#46039f\"],[0.2222222222222222,\"#7201a8\"],[0.3333333333333333,\"#9c179e\"],[0.4444444444444444,\"#bd3786\"],[0.5555555555555556,\"#d8576b\"],[0.6666666666666666,\"#ed7953\"],[0.7777777777777778,\"#fb9f3a\"],[0.8888888888888888,\"#fdca26\"],[1.0,\"#f0f921\"]]},\"colorway\":[\"#636efa\",\"#EF553B\",\"#00cc96\",\"#ab63fa\",\"#FFA15A\",\"#19d3f3\",\"#FF6692\",\"#B6E880\",\"#FF97FF\",\"#FECB52\"],\"font\":{\"color\":\"#2a3f5f\"},\"geo\":{\"bgcolor\":\"white\",\"lakecolor\":\"white\",\"landcolor\":\"#E5ECF6\",\"showlakes\":true,\"showland\":true,\"subunitcolor\":\"white\"},\"hoverlabel\":{\"align\":\"left\"},\"hovermode\":\"closest\",\"mapbox\":{\"style\":\"light\"},\"paper_bgcolor\":\"white\",\"plot_bgcolor\":\"#E5ECF6\",\"polar\":{\"angularaxis\":{\"gridcolor\":\"white\",\"linecolor\":\"white\",\"ticks\":\"\"},\"bgcolor\":\"#E5ECF6\",\"radialaxis\":{\"gridcolor\":\"white\",\"linecolor\":\"white\",\"ticks\":\"\"}},\"scene\":{\"xaxis\":{\"backgroundcolor\":\"#E5ECF6\",\"gridcolor\":\"white\",\"gridwidth\":2,\"linecolor\":\"white\",\"showbackground\":true,\"ticks\":\"\",\"zerolinecolor\":\"white\"},\"yaxis\":{\"backgroundcolor\":\"#E5ECF6\",\"gridcolor\":\"white\",\"gridwidth\":2,\"linecolor\":\"white\",\"showbackground\":true,\"ticks\":\"\",\"zerolinecolor\":\"white\"},\"zaxis\":{\"backgroundcolor\":\"#E5ECF6\",\"gridcolor\":\"white\",\"gridwidth\":2,\"linecolor\":\"white\",\"showbackground\":true,\"ticks\":\"\",\"zerolinecolor\":\"white\"}},\"shapedefaults\":{\"line\":{\"color\":\"#2a3f5f\"}},\"ternary\":{\"aaxis\":{\"gridcolor\":\"white\",\"linecolor\":\"white\",\"ticks\":\"\"},\"baxis\":{\"gridcolor\":\"white\",\"linecolor\":\"white\",\"ticks\":\"\"},\"bgcolor\":\"#E5ECF6\",\"caxis\":{\"gridcolor\":\"white\",\"linecolor\":\"white\",\"ticks\":\"\"}},\"title\":{\"x\":0.05},\"xaxis\":{\"automargin\":true,\"gridcolor\":\"white\",\"linecolor\":\"white\",\"ticks\":\"\",\"title\":{\"standoff\":15},\"zerolinecolor\":\"white\",\"zerolinewidth\":2},\"yaxis\":{\"automargin\":true,\"gridcolor\":\"white\",\"linecolor\":\"white\",\"ticks\":\"\",\"title\":{\"standoff\":15},\"zerolinecolor\":\"white\",\"zerolinewidth\":2}}},\"title\":{\"font\":{\"color\":\"#4D5663\"}},\"xaxis\":{\"gridcolor\":\"#E1E5ED\",\"showgrid\":true,\"tickfont\":{\"color\":\"#4D5663\"},\"title\":{\"font\":{\"color\":\"#4D5663\"},\"text\":\"\"},\"zerolinecolor\":\"#E1E5ED\"},\"yaxis\":{\"gridcolor\":\"#E1E5ED\",\"showgrid\":true,\"tickfont\":{\"color\":\"#4D5663\"},\"title\":{\"font\":{\"color\":\"#4D5663\"},\"text\":\"\"},\"zerolinecolor\":\"#E1E5ED\"}},                        {\"showLink\": true, \"linkText\": \"Export to plot.ly\", \"plotlyServerURL\": \"https://plot.ly\", \"responsive\": true}                    ).then(function(){\n",
       "                            \n",
       "var gd = document.getElementById('8a020a1e-08f6-479f-aaa3-9c7f61152a6d');\n",
       "var x = new MutationObserver(function (mutations, observer) {{\n",
       "        var display = window.getComputedStyle(gd).display;\n",
       "        if (!display || display === 'none') {{\n",
       "            console.log([gd, 'removed!']);\n",
       "            Plotly.purge(gd);\n",
       "            observer.disconnect();\n",
       "        }}\n",
       "}});\n",
       "\n",
       "// Listen for the removal of the full notebook cells\n",
       "var notebookContainer = gd.closest('#notebook-container');\n",
       "if (notebookContainer) {{\n",
       "    x.observe(notebookContainer, {childList: true});\n",
       "}}\n",
       "\n",
       "// Listen for the clearing of the current output cell\n",
       "var outputEl = gd.closest('.output');\n",
       "if (outputEl) {{\n",
       "    x.observe(outputEl, {childList: true});\n",
       "}}\n",
       "\n",
       "                        })                };                });            </script>        </div>"
      ]
     },
     "metadata": {},
     "output_type": "display_data"
    }
   ],
   "source": [
    "df.iplot(kind='scatter',x='A',y='B',mode='markers')"
   ]
  },
  {
   "cell_type": "code",
   "execution_count": 26,
   "id": "070806a2",
   "metadata": {},
   "outputs": [
    {
     "data": {
      "application/vnd.plotly.v1+json": {
       "config": {
        "linkText": "Export to plot.ly",
        "plotlyServerURL": "https://plot.ly",
        "showLink": true
       },
       "data": [
        {
         "marker": {
          "color": "rgba(255, 153, 51, 0.6)",
          "line": {
           "color": "rgba(255, 153, 51, 1.0)",
           "width": 1
          }
         },
         "name": "Values",
         "orientation": "v",
         "text": "",
         "type": "bar",
         "x": [
          "A",
          "B",
          "C"
         ],
         "y": [
          32,
          43,
          50
         ]
        }
       ],
       "layout": {
        "legend": {
         "bgcolor": "#F5F6F9",
         "font": {
          "color": "#4D5663"
         }
        },
        "paper_bgcolor": "#F5F6F9",
        "plot_bgcolor": "#F5F6F9",
        "template": {
         "data": {
          "bar": [
           {
            "error_x": {
             "color": "#2a3f5f"
            },
            "error_y": {
             "color": "#2a3f5f"
            },
            "marker": {
             "line": {
              "color": "#E5ECF6",
              "width": 0.5
             },
             "pattern": {
              "fillmode": "overlay",
              "size": 10,
              "solidity": 0.2
             }
            },
            "type": "bar"
           }
          ],
          "barpolar": [
           {
            "marker": {
             "line": {
              "color": "#E5ECF6",
              "width": 0.5
             },
             "pattern": {
              "fillmode": "overlay",
              "size": 10,
              "solidity": 0.2
             }
            },
            "type": "barpolar"
           }
          ],
          "carpet": [
           {
            "aaxis": {
             "endlinecolor": "#2a3f5f",
             "gridcolor": "white",
             "linecolor": "white",
             "minorgridcolor": "white",
             "startlinecolor": "#2a3f5f"
            },
            "baxis": {
             "endlinecolor": "#2a3f5f",
             "gridcolor": "white",
             "linecolor": "white",
             "minorgridcolor": "white",
             "startlinecolor": "#2a3f5f"
            },
            "type": "carpet"
           }
          ],
          "choropleth": [
           {
            "colorbar": {
             "outlinewidth": 0,
             "ticks": ""
            },
            "type": "choropleth"
           }
          ],
          "contour": [
           {
            "colorbar": {
             "outlinewidth": 0,
             "ticks": ""
            },
            "colorscale": [
             [
              0,
              "#0d0887"
             ],
             [
              0.1111111111111111,
              "#46039f"
             ],
             [
              0.2222222222222222,
              "#7201a8"
             ],
             [
              0.3333333333333333,
              "#9c179e"
             ],
             [
              0.4444444444444444,
              "#bd3786"
             ],
             [
              0.5555555555555556,
              "#d8576b"
             ],
             [
              0.6666666666666666,
              "#ed7953"
             ],
             [
              0.7777777777777778,
              "#fb9f3a"
             ],
             [
              0.8888888888888888,
              "#fdca26"
             ],
             [
              1,
              "#f0f921"
             ]
            ],
            "type": "contour"
           }
          ],
          "contourcarpet": [
           {
            "colorbar": {
             "outlinewidth": 0,
             "ticks": ""
            },
            "type": "contourcarpet"
           }
          ],
          "heatmap": [
           {
            "colorbar": {
             "outlinewidth": 0,
             "ticks": ""
            },
            "colorscale": [
             [
              0,
              "#0d0887"
             ],
             [
              0.1111111111111111,
              "#46039f"
             ],
             [
              0.2222222222222222,
              "#7201a8"
             ],
             [
              0.3333333333333333,
              "#9c179e"
             ],
             [
              0.4444444444444444,
              "#bd3786"
             ],
             [
              0.5555555555555556,
              "#d8576b"
             ],
             [
              0.6666666666666666,
              "#ed7953"
             ],
             [
              0.7777777777777778,
              "#fb9f3a"
             ],
             [
              0.8888888888888888,
              "#fdca26"
             ],
             [
              1,
              "#f0f921"
             ]
            ],
            "type": "heatmap"
           }
          ],
          "heatmapgl": [
           {
            "colorbar": {
             "outlinewidth": 0,
             "ticks": ""
            },
            "colorscale": [
             [
              0,
              "#0d0887"
             ],
             [
              0.1111111111111111,
              "#46039f"
             ],
             [
              0.2222222222222222,
              "#7201a8"
             ],
             [
              0.3333333333333333,
              "#9c179e"
             ],
             [
              0.4444444444444444,
              "#bd3786"
             ],
             [
              0.5555555555555556,
              "#d8576b"
             ],
             [
              0.6666666666666666,
              "#ed7953"
             ],
             [
              0.7777777777777778,
              "#fb9f3a"
             ],
             [
              0.8888888888888888,
              "#fdca26"
             ],
             [
              1,
              "#f0f921"
             ]
            ],
            "type": "heatmapgl"
           }
          ],
          "histogram": [
           {
            "marker": {
             "pattern": {
              "fillmode": "overlay",
              "size": 10,
              "solidity": 0.2
             }
            },
            "type": "histogram"
           }
          ],
          "histogram2d": [
           {
            "colorbar": {
             "outlinewidth": 0,
             "ticks": ""
            },
            "colorscale": [
             [
              0,
              "#0d0887"
             ],
             [
              0.1111111111111111,
              "#46039f"
             ],
             [
              0.2222222222222222,
              "#7201a8"
             ],
             [
              0.3333333333333333,
              "#9c179e"
             ],
             [
              0.4444444444444444,
              "#bd3786"
             ],
             [
              0.5555555555555556,
              "#d8576b"
             ],
             [
              0.6666666666666666,
              "#ed7953"
             ],
             [
              0.7777777777777778,
              "#fb9f3a"
             ],
             [
              0.8888888888888888,
              "#fdca26"
             ],
             [
              1,
              "#f0f921"
             ]
            ],
            "type": "histogram2d"
           }
          ],
          "histogram2dcontour": [
           {
            "colorbar": {
             "outlinewidth": 0,
             "ticks": ""
            },
            "colorscale": [
             [
              0,
              "#0d0887"
             ],
             [
              0.1111111111111111,
              "#46039f"
             ],
             [
              0.2222222222222222,
              "#7201a8"
             ],
             [
              0.3333333333333333,
              "#9c179e"
             ],
             [
              0.4444444444444444,
              "#bd3786"
             ],
             [
              0.5555555555555556,
              "#d8576b"
             ],
             [
              0.6666666666666666,
              "#ed7953"
             ],
             [
              0.7777777777777778,
              "#fb9f3a"
             ],
             [
              0.8888888888888888,
              "#fdca26"
             ],
             [
              1,
              "#f0f921"
             ]
            ],
            "type": "histogram2dcontour"
           }
          ],
          "mesh3d": [
           {
            "colorbar": {
             "outlinewidth": 0,
             "ticks": ""
            },
            "type": "mesh3d"
           }
          ],
          "parcoords": [
           {
            "line": {
             "colorbar": {
              "outlinewidth": 0,
              "ticks": ""
             }
            },
            "type": "parcoords"
           }
          ],
          "pie": [
           {
            "automargin": true,
            "type": "pie"
           }
          ],
          "scatter": [
           {
            "marker": {
             "colorbar": {
              "outlinewidth": 0,
              "ticks": ""
             }
            },
            "type": "scatter"
           }
          ],
          "scatter3d": [
           {
            "line": {
             "colorbar": {
              "outlinewidth": 0,
              "ticks": ""
             }
            },
            "marker": {
             "colorbar": {
              "outlinewidth": 0,
              "ticks": ""
             }
            },
            "type": "scatter3d"
           }
          ],
          "scattercarpet": [
           {
            "marker": {
             "colorbar": {
              "outlinewidth": 0,
              "ticks": ""
             }
            },
            "type": "scattercarpet"
           }
          ],
          "scattergeo": [
           {
            "marker": {
             "colorbar": {
              "outlinewidth": 0,
              "ticks": ""
             }
            },
            "type": "scattergeo"
           }
          ],
          "scattergl": [
           {
            "marker": {
             "colorbar": {
              "outlinewidth": 0,
              "ticks": ""
             }
            },
            "type": "scattergl"
           }
          ],
          "scattermapbox": [
           {
            "marker": {
             "colorbar": {
              "outlinewidth": 0,
              "ticks": ""
             }
            },
            "type": "scattermapbox"
           }
          ],
          "scatterpolar": [
           {
            "marker": {
             "colorbar": {
              "outlinewidth": 0,
              "ticks": ""
             }
            },
            "type": "scatterpolar"
           }
          ],
          "scatterpolargl": [
           {
            "marker": {
             "colorbar": {
              "outlinewidth": 0,
              "ticks": ""
             }
            },
            "type": "scatterpolargl"
           }
          ],
          "scatterternary": [
           {
            "marker": {
             "colorbar": {
              "outlinewidth": 0,
              "ticks": ""
             }
            },
            "type": "scatterternary"
           }
          ],
          "surface": [
           {
            "colorbar": {
             "outlinewidth": 0,
             "ticks": ""
            },
            "colorscale": [
             [
              0,
              "#0d0887"
             ],
             [
              0.1111111111111111,
              "#46039f"
             ],
             [
              0.2222222222222222,
              "#7201a8"
             ],
             [
              0.3333333333333333,
              "#9c179e"
             ],
             [
              0.4444444444444444,
              "#bd3786"
             ],
             [
              0.5555555555555556,
              "#d8576b"
             ],
             [
              0.6666666666666666,
              "#ed7953"
             ],
             [
              0.7777777777777778,
              "#fb9f3a"
             ],
             [
              0.8888888888888888,
              "#fdca26"
             ],
             [
              1,
              "#f0f921"
             ]
            ],
            "type": "surface"
           }
          ],
          "table": [
           {
            "cells": {
             "fill": {
              "color": "#EBF0F8"
             },
             "line": {
              "color": "white"
             }
            },
            "header": {
             "fill": {
              "color": "#C8D4E3"
             },
             "line": {
              "color": "white"
             }
            },
            "type": "table"
           }
          ]
         },
         "layout": {
          "annotationdefaults": {
           "arrowcolor": "#2a3f5f",
           "arrowhead": 0,
           "arrowwidth": 1
          },
          "autotypenumbers": "strict",
          "coloraxis": {
           "colorbar": {
            "outlinewidth": 0,
            "ticks": ""
           }
          },
          "colorscale": {
           "diverging": [
            [
             0,
             "#8e0152"
            ],
            [
             0.1,
             "#c51b7d"
            ],
            [
             0.2,
             "#de77ae"
            ],
            [
             0.3,
             "#f1b6da"
            ],
            [
             0.4,
             "#fde0ef"
            ],
            [
             0.5,
             "#f7f7f7"
            ],
            [
             0.6,
             "#e6f5d0"
            ],
            [
             0.7,
             "#b8e186"
            ],
            [
             0.8,
             "#7fbc41"
            ],
            [
             0.9,
             "#4d9221"
            ],
            [
             1,
             "#276419"
            ]
           ],
           "sequential": [
            [
             0,
             "#0d0887"
            ],
            [
             0.1111111111111111,
             "#46039f"
            ],
            [
             0.2222222222222222,
             "#7201a8"
            ],
            [
             0.3333333333333333,
             "#9c179e"
            ],
            [
             0.4444444444444444,
             "#bd3786"
            ],
            [
             0.5555555555555556,
             "#d8576b"
            ],
            [
             0.6666666666666666,
             "#ed7953"
            ],
            [
             0.7777777777777778,
             "#fb9f3a"
            ],
            [
             0.8888888888888888,
             "#fdca26"
            ],
            [
             1,
             "#f0f921"
            ]
           ],
           "sequentialminus": [
            [
             0,
             "#0d0887"
            ],
            [
             0.1111111111111111,
             "#46039f"
            ],
            [
             0.2222222222222222,
             "#7201a8"
            ],
            [
             0.3333333333333333,
             "#9c179e"
            ],
            [
             0.4444444444444444,
             "#bd3786"
            ],
            [
             0.5555555555555556,
             "#d8576b"
            ],
            [
             0.6666666666666666,
             "#ed7953"
            ],
            [
             0.7777777777777778,
             "#fb9f3a"
            ],
            [
             0.8888888888888888,
             "#fdca26"
            ],
            [
             1,
             "#f0f921"
            ]
           ]
          },
          "colorway": [
           "#636efa",
           "#EF553B",
           "#00cc96",
           "#ab63fa",
           "#FFA15A",
           "#19d3f3",
           "#FF6692",
           "#B6E880",
           "#FF97FF",
           "#FECB52"
          ],
          "font": {
           "color": "#2a3f5f"
          },
          "geo": {
           "bgcolor": "white",
           "lakecolor": "white",
           "landcolor": "#E5ECF6",
           "showlakes": true,
           "showland": true,
           "subunitcolor": "white"
          },
          "hoverlabel": {
           "align": "left"
          },
          "hovermode": "closest",
          "mapbox": {
           "style": "light"
          },
          "paper_bgcolor": "white",
          "plot_bgcolor": "#E5ECF6",
          "polar": {
           "angularaxis": {
            "gridcolor": "white",
            "linecolor": "white",
            "ticks": ""
           },
           "bgcolor": "#E5ECF6",
           "radialaxis": {
            "gridcolor": "white",
            "linecolor": "white",
            "ticks": ""
           }
          },
          "scene": {
           "xaxis": {
            "backgroundcolor": "#E5ECF6",
            "gridcolor": "white",
            "gridwidth": 2,
            "linecolor": "white",
            "showbackground": true,
            "ticks": "",
            "zerolinecolor": "white"
           },
           "yaxis": {
            "backgroundcolor": "#E5ECF6",
            "gridcolor": "white",
            "gridwidth": 2,
            "linecolor": "white",
            "showbackground": true,
            "ticks": "",
            "zerolinecolor": "white"
           },
           "zaxis": {
            "backgroundcolor": "#E5ECF6",
            "gridcolor": "white",
            "gridwidth": 2,
            "linecolor": "white",
            "showbackground": true,
            "ticks": "",
            "zerolinecolor": "white"
           }
          },
          "shapedefaults": {
           "line": {
            "color": "#2a3f5f"
           }
          },
          "ternary": {
           "aaxis": {
            "gridcolor": "white",
            "linecolor": "white",
            "ticks": ""
           },
           "baxis": {
            "gridcolor": "white",
            "linecolor": "white",
            "ticks": ""
           },
           "bgcolor": "#E5ECF6",
           "caxis": {
            "gridcolor": "white",
            "linecolor": "white",
            "ticks": ""
           }
          },
          "title": {
           "x": 0.05
          },
          "xaxis": {
           "automargin": true,
           "gridcolor": "white",
           "linecolor": "white",
           "ticks": "",
           "title": {
            "standoff": 15
           },
           "zerolinecolor": "white",
           "zerolinewidth": 2
          },
          "yaxis": {
           "automargin": true,
           "gridcolor": "white",
           "linecolor": "white",
           "ticks": "",
           "title": {
            "standoff": 15
           },
           "zerolinecolor": "white",
           "zerolinewidth": 2
          }
         }
        },
        "title": {
         "font": {
          "color": "#4D5663"
         }
        },
        "xaxis": {
         "gridcolor": "#E1E5ED",
         "showgrid": true,
         "tickfont": {
          "color": "#4D5663"
         },
         "title": {
          "font": {
           "color": "#4D5663"
          },
          "text": ""
         },
         "zerolinecolor": "#E1E5ED"
        },
        "yaxis": {
         "gridcolor": "#E1E5ED",
         "showgrid": true,
         "tickfont": {
          "color": "#4D5663"
         },
         "title": {
          "font": {
           "color": "#4D5663"
          },
          "text": ""
         },
         "zerolinecolor": "#E1E5ED"
        }
       }
      },
      "text/html": [
       "<div>                            <div id=\"c97243c6-4f1c-47fb-9f3d-fd598611ae96\" class=\"plotly-graph-div\" style=\"height:525px; width:100%;\"></div>            <script type=\"text/javascript\">                require([\"plotly\"], function(Plotly) {                    window.PLOTLYENV=window.PLOTLYENV || {};\n",
       "                    window.PLOTLYENV.BASE_URL='https://plot.ly';                                    if (document.getElementById(\"c97243c6-4f1c-47fb-9f3d-fd598611ae96\")) {                    Plotly.newPlot(                        \"c97243c6-4f1c-47fb-9f3d-fd598611ae96\",                        [{\"marker\":{\"color\":\"rgba(255, 153, 51, 0.6)\",\"line\":{\"color\":\"rgba(255, 153, 51, 1.0)\",\"width\":1}},\"name\":\"Values\",\"orientation\":\"v\",\"text\":\"\",\"x\":[\"A\",\"B\",\"C\"],\"y\":[32,43,50],\"type\":\"bar\"}],                        {\"legend\":{\"bgcolor\":\"#F5F6F9\",\"font\":{\"color\":\"#4D5663\"}},\"paper_bgcolor\":\"#F5F6F9\",\"plot_bgcolor\":\"#F5F6F9\",\"template\":{\"data\":{\"barpolar\":[{\"marker\":{\"line\":{\"color\":\"#E5ECF6\",\"width\":0.5},\"pattern\":{\"fillmode\":\"overlay\",\"size\":10,\"solidity\":0.2}},\"type\":\"barpolar\"}],\"bar\":[{\"error_x\":{\"color\":\"#2a3f5f\"},\"error_y\":{\"color\":\"#2a3f5f\"},\"marker\":{\"line\":{\"color\":\"#E5ECF6\",\"width\":0.5},\"pattern\":{\"fillmode\":\"overlay\",\"size\":10,\"solidity\":0.2}},\"type\":\"bar\"}],\"carpet\":[{\"aaxis\":{\"endlinecolor\":\"#2a3f5f\",\"gridcolor\":\"white\",\"linecolor\":\"white\",\"minorgridcolor\":\"white\",\"startlinecolor\":\"#2a3f5f\"},\"baxis\":{\"endlinecolor\":\"#2a3f5f\",\"gridcolor\":\"white\",\"linecolor\":\"white\",\"minorgridcolor\":\"white\",\"startlinecolor\":\"#2a3f5f\"},\"type\":\"carpet\"}],\"choropleth\":[{\"colorbar\":{\"outlinewidth\":0,\"ticks\":\"\"},\"type\":\"choropleth\"}],\"contourcarpet\":[{\"colorbar\":{\"outlinewidth\":0,\"ticks\":\"\"},\"type\":\"contourcarpet\"}],\"contour\":[{\"colorbar\":{\"outlinewidth\":0,\"ticks\":\"\"},\"colorscale\":[[0.0,\"#0d0887\"],[0.1111111111111111,\"#46039f\"],[0.2222222222222222,\"#7201a8\"],[0.3333333333333333,\"#9c179e\"],[0.4444444444444444,\"#bd3786\"],[0.5555555555555556,\"#d8576b\"],[0.6666666666666666,\"#ed7953\"],[0.7777777777777778,\"#fb9f3a\"],[0.8888888888888888,\"#fdca26\"],[1.0,\"#f0f921\"]],\"type\":\"contour\"}],\"heatmapgl\":[{\"colorbar\":{\"outlinewidth\":0,\"ticks\":\"\"},\"colorscale\":[[0.0,\"#0d0887\"],[0.1111111111111111,\"#46039f\"],[0.2222222222222222,\"#7201a8\"],[0.3333333333333333,\"#9c179e\"],[0.4444444444444444,\"#bd3786\"],[0.5555555555555556,\"#d8576b\"],[0.6666666666666666,\"#ed7953\"],[0.7777777777777778,\"#fb9f3a\"],[0.8888888888888888,\"#fdca26\"],[1.0,\"#f0f921\"]],\"type\":\"heatmapgl\"}],\"heatmap\":[{\"colorbar\":{\"outlinewidth\":0,\"ticks\":\"\"},\"colorscale\":[[0.0,\"#0d0887\"],[0.1111111111111111,\"#46039f\"],[0.2222222222222222,\"#7201a8\"],[0.3333333333333333,\"#9c179e\"],[0.4444444444444444,\"#bd3786\"],[0.5555555555555556,\"#d8576b\"],[0.6666666666666666,\"#ed7953\"],[0.7777777777777778,\"#fb9f3a\"],[0.8888888888888888,\"#fdca26\"],[1.0,\"#f0f921\"]],\"type\":\"heatmap\"}],\"histogram2dcontour\":[{\"colorbar\":{\"outlinewidth\":0,\"ticks\":\"\"},\"colorscale\":[[0.0,\"#0d0887\"],[0.1111111111111111,\"#46039f\"],[0.2222222222222222,\"#7201a8\"],[0.3333333333333333,\"#9c179e\"],[0.4444444444444444,\"#bd3786\"],[0.5555555555555556,\"#d8576b\"],[0.6666666666666666,\"#ed7953\"],[0.7777777777777778,\"#fb9f3a\"],[0.8888888888888888,\"#fdca26\"],[1.0,\"#f0f921\"]],\"type\":\"histogram2dcontour\"}],\"histogram2d\":[{\"colorbar\":{\"outlinewidth\":0,\"ticks\":\"\"},\"colorscale\":[[0.0,\"#0d0887\"],[0.1111111111111111,\"#46039f\"],[0.2222222222222222,\"#7201a8\"],[0.3333333333333333,\"#9c179e\"],[0.4444444444444444,\"#bd3786\"],[0.5555555555555556,\"#d8576b\"],[0.6666666666666666,\"#ed7953\"],[0.7777777777777778,\"#fb9f3a\"],[0.8888888888888888,\"#fdca26\"],[1.0,\"#f0f921\"]],\"type\":\"histogram2d\"}],\"histogram\":[{\"marker\":{\"pattern\":{\"fillmode\":\"overlay\",\"size\":10,\"solidity\":0.2}},\"type\":\"histogram\"}],\"mesh3d\":[{\"colorbar\":{\"outlinewidth\":0,\"ticks\":\"\"},\"type\":\"mesh3d\"}],\"parcoords\":[{\"line\":{\"colorbar\":{\"outlinewidth\":0,\"ticks\":\"\"}},\"type\":\"parcoords\"}],\"pie\":[{\"automargin\":true,\"type\":\"pie\"}],\"scatter3d\":[{\"line\":{\"colorbar\":{\"outlinewidth\":0,\"ticks\":\"\"}},\"marker\":{\"colorbar\":{\"outlinewidth\":0,\"ticks\":\"\"}},\"type\":\"scatter3d\"}],\"scattercarpet\":[{\"marker\":{\"colorbar\":{\"outlinewidth\":0,\"ticks\":\"\"}},\"type\":\"scattercarpet\"}],\"scattergeo\":[{\"marker\":{\"colorbar\":{\"outlinewidth\":0,\"ticks\":\"\"}},\"type\":\"scattergeo\"}],\"scattergl\":[{\"marker\":{\"colorbar\":{\"outlinewidth\":0,\"ticks\":\"\"}},\"type\":\"scattergl\"}],\"scattermapbox\":[{\"marker\":{\"colorbar\":{\"outlinewidth\":0,\"ticks\":\"\"}},\"type\":\"scattermapbox\"}],\"scatterpolargl\":[{\"marker\":{\"colorbar\":{\"outlinewidth\":0,\"ticks\":\"\"}},\"type\":\"scatterpolargl\"}],\"scatterpolar\":[{\"marker\":{\"colorbar\":{\"outlinewidth\":0,\"ticks\":\"\"}},\"type\":\"scatterpolar\"}],\"scatter\":[{\"marker\":{\"colorbar\":{\"outlinewidth\":0,\"ticks\":\"\"}},\"type\":\"scatter\"}],\"scatterternary\":[{\"marker\":{\"colorbar\":{\"outlinewidth\":0,\"ticks\":\"\"}},\"type\":\"scatterternary\"}],\"surface\":[{\"colorbar\":{\"outlinewidth\":0,\"ticks\":\"\"},\"colorscale\":[[0.0,\"#0d0887\"],[0.1111111111111111,\"#46039f\"],[0.2222222222222222,\"#7201a8\"],[0.3333333333333333,\"#9c179e\"],[0.4444444444444444,\"#bd3786\"],[0.5555555555555556,\"#d8576b\"],[0.6666666666666666,\"#ed7953\"],[0.7777777777777778,\"#fb9f3a\"],[0.8888888888888888,\"#fdca26\"],[1.0,\"#f0f921\"]],\"type\":\"surface\"}],\"table\":[{\"cells\":{\"fill\":{\"color\":\"#EBF0F8\"},\"line\":{\"color\":\"white\"}},\"header\":{\"fill\":{\"color\":\"#C8D4E3\"},\"line\":{\"color\":\"white\"}},\"type\":\"table\"}]},\"layout\":{\"annotationdefaults\":{\"arrowcolor\":\"#2a3f5f\",\"arrowhead\":0,\"arrowwidth\":1},\"autotypenumbers\":\"strict\",\"coloraxis\":{\"colorbar\":{\"outlinewidth\":0,\"ticks\":\"\"}},\"colorscale\":{\"diverging\":[[0,\"#8e0152\"],[0.1,\"#c51b7d\"],[0.2,\"#de77ae\"],[0.3,\"#f1b6da\"],[0.4,\"#fde0ef\"],[0.5,\"#f7f7f7\"],[0.6,\"#e6f5d0\"],[0.7,\"#b8e186\"],[0.8,\"#7fbc41\"],[0.9,\"#4d9221\"],[1,\"#276419\"]],\"sequential\":[[0.0,\"#0d0887\"],[0.1111111111111111,\"#46039f\"],[0.2222222222222222,\"#7201a8\"],[0.3333333333333333,\"#9c179e\"],[0.4444444444444444,\"#bd3786\"],[0.5555555555555556,\"#d8576b\"],[0.6666666666666666,\"#ed7953\"],[0.7777777777777778,\"#fb9f3a\"],[0.8888888888888888,\"#fdca26\"],[1.0,\"#f0f921\"]],\"sequentialminus\":[[0.0,\"#0d0887\"],[0.1111111111111111,\"#46039f\"],[0.2222222222222222,\"#7201a8\"],[0.3333333333333333,\"#9c179e\"],[0.4444444444444444,\"#bd3786\"],[0.5555555555555556,\"#d8576b\"],[0.6666666666666666,\"#ed7953\"],[0.7777777777777778,\"#fb9f3a\"],[0.8888888888888888,\"#fdca26\"],[1.0,\"#f0f921\"]]},\"colorway\":[\"#636efa\",\"#EF553B\",\"#00cc96\",\"#ab63fa\",\"#FFA15A\",\"#19d3f3\",\"#FF6692\",\"#B6E880\",\"#FF97FF\",\"#FECB52\"],\"font\":{\"color\":\"#2a3f5f\"},\"geo\":{\"bgcolor\":\"white\",\"lakecolor\":\"white\",\"landcolor\":\"#E5ECF6\",\"showlakes\":true,\"showland\":true,\"subunitcolor\":\"white\"},\"hoverlabel\":{\"align\":\"left\"},\"hovermode\":\"closest\",\"mapbox\":{\"style\":\"light\"},\"paper_bgcolor\":\"white\",\"plot_bgcolor\":\"#E5ECF6\",\"polar\":{\"angularaxis\":{\"gridcolor\":\"white\",\"linecolor\":\"white\",\"ticks\":\"\"},\"bgcolor\":\"#E5ECF6\",\"radialaxis\":{\"gridcolor\":\"white\",\"linecolor\":\"white\",\"ticks\":\"\"}},\"scene\":{\"xaxis\":{\"backgroundcolor\":\"#E5ECF6\",\"gridcolor\":\"white\",\"gridwidth\":2,\"linecolor\":\"white\",\"showbackground\":true,\"ticks\":\"\",\"zerolinecolor\":\"white\"},\"yaxis\":{\"backgroundcolor\":\"#E5ECF6\",\"gridcolor\":\"white\",\"gridwidth\":2,\"linecolor\":\"white\",\"showbackground\":true,\"ticks\":\"\",\"zerolinecolor\":\"white\"},\"zaxis\":{\"backgroundcolor\":\"#E5ECF6\",\"gridcolor\":\"white\",\"gridwidth\":2,\"linecolor\":\"white\",\"showbackground\":true,\"ticks\":\"\",\"zerolinecolor\":\"white\"}},\"shapedefaults\":{\"line\":{\"color\":\"#2a3f5f\"}},\"ternary\":{\"aaxis\":{\"gridcolor\":\"white\",\"linecolor\":\"white\",\"ticks\":\"\"},\"baxis\":{\"gridcolor\":\"white\",\"linecolor\":\"white\",\"ticks\":\"\"},\"bgcolor\":\"#E5ECF6\",\"caxis\":{\"gridcolor\":\"white\",\"linecolor\":\"white\",\"ticks\":\"\"}},\"title\":{\"x\":0.05},\"xaxis\":{\"automargin\":true,\"gridcolor\":\"white\",\"linecolor\":\"white\",\"ticks\":\"\",\"title\":{\"standoff\":15},\"zerolinecolor\":\"white\",\"zerolinewidth\":2},\"yaxis\":{\"automargin\":true,\"gridcolor\":\"white\",\"linecolor\":\"white\",\"ticks\":\"\",\"title\":{\"standoff\":15},\"zerolinecolor\":\"white\",\"zerolinewidth\":2}}},\"title\":{\"font\":{\"color\":\"#4D5663\"}},\"xaxis\":{\"gridcolor\":\"#E1E5ED\",\"showgrid\":true,\"tickfont\":{\"color\":\"#4D5663\"},\"title\":{\"font\":{\"color\":\"#4D5663\"},\"text\":\"\"},\"zerolinecolor\":\"#E1E5ED\"},\"yaxis\":{\"gridcolor\":\"#E1E5ED\",\"showgrid\":true,\"tickfont\":{\"color\":\"#4D5663\"},\"title\":{\"font\":{\"color\":\"#4D5663\"},\"text\":\"\"},\"zerolinecolor\":\"#E1E5ED\"}},                        {\"showLink\": true, \"linkText\": \"Export to plot.ly\", \"plotlyServerURL\": \"https://plot.ly\", \"responsive\": true}                    ).then(function(){\n",
       "                            \n",
       "var gd = document.getElementById('c97243c6-4f1c-47fb-9f3d-fd598611ae96');\n",
       "var x = new MutationObserver(function (mutations, observer) {{\n",
       "        var display = window.getComputedStyle(gd).display;\n",
       "        if (!display || display === 'none') {{\n",
       "            console.log([gd, 'removed!']);\n",
       "            Plotly.purge(gd);\n",
       "            observer.disconnect();\n",
       "        }}\n",
       "}});\n",
       "\n",
       "// Listen for the removal of the full notebook cells\n",
       "var notebookContainer = gd.closest('#notebook-container');\n",
       "if (notebookContainer) {{\n",
       "    x.observe(notebookContainer, {childList: true});\n",
       "}}\n",
       "\n",
       "// Listen for the clearing of the current output cell\n",
       "var outputEl = gd.closest('.output');\n",
       "if (outputEl) {{\n",
       "    x.observe(outputEl, {childList: true});\n",
       "}}\n",
       "\n",
       "                        })                };                });            </script>        </div>"
      ]
     },
     "metadata": {},
     "output_type": "display_data"
    }
   ],
   "source": [
    "df2.iplot(kind='bar',x='Category',y='Values')"
   ]
  },
  {
   "cell_type": "code",
   "execution_count": 28,
   "id": "da31ea82",
   "metadata": {},
   "outputs": [
    {
     "data": {
      "application/vnd.plotly.v1+json": {
       "config": {
        "linkText": "Export to plot.ly",
        "plotlyServerURL": "https://plot.ly",
        "showLink": true
       },
       "data": [
        {
         "marker": {
          "color": "rgba(255, 153, 51, 0.6)",
          "line": {
           "color": "rgba(255, 153, 51, 1.0)",
           "width": 1
          }
         },
         "name": "None",
         "orientation": "v",
         "text": "",
         "type": "bar",
         "x": [
          "A",
          "B",
          "C",
          "D"
         ],
         "y": [
          100,
          100,
          100,
          100
         ]
        }
       ],
       "layout": {
        "legend": {
         "bgcolor": "#F5F6F9",
         "font": {
          "color": "#4D5663"
         }
        },
        "paper_bgcolor": "#F5F6F9",
        "plot_bgcolor": "#F5F6F9",
        "template": {
         "data": {
          "bar": [
           {
            "error_x": {
             "color": "#2a3f5f"
            },
            "error_y": {
             "color": "#2a3f5f"
            },
            "marker": {
             "line": {
              "color": "#E5ECF6",
              "width": 0.5
             },
             "pattern": {
              "fillmode": "overlay",
              "size": 10,
              "solidity": 0.2
             }
            },
            "type": "bar"
           }
          ],
          "barpolar": [
           {
            "marker": {
             "line": {
              "color": "#E5ECF6",
              "width": 0.5
             },
             "pattern": {
              "fillmode": "overlay",
              "size": 10,
              "solidity": 0.2
             }
            },
            "type": "barpolar"
           }
          ],
          "carpet": [
           {
            "aaxis": {
             "endlinecolor": "#2a3f5f",
             "gridcolor": "white",
             "linecolor": "white",
             "minorgridcolor": "white",
             "startlinecolor": "#2a3f5f"
            },
            "baxis": {
             "endlinecolor": "#2a3f5f",
             "gridcolor": "white",
             "linecolor": "white",
             "minorgridcolor": "white",
             "startlinecolor": "#2a3f5f"
            },
            "type": "carpet"
           }
          ],
          "choropleth": [
           {
            "colorbar": {
             "outlinewidth": 0,
             "ticks": ""
            },
            "type": "choropleth"
           }
          ],
          "contour": [
           {
            "colorbar": {
             "outlinewidth": 0,
             "ticks": ""
            },
            "colorscale": [
             [
              0,
              "#0d0887"
             ],
             [
              0.1111111111111111,
              "#46039f"
             ],
             [
              0.2222222222222222,
              "#7201a8"
             ],
             [
              0.3333333333333333,
              "#9c179e"
             ],
             [
              0.4444444444444444,
              "#bd3786"
             ],
             [
              0.5555555555555556,
              "#d8576b"
             ],
             [
              0.6666666666666666,
              "#ed7953"
             ],
             [
              0.7777777777777778,
              "#fb9f3a"
             ],
             [
              0.8888888888888888,
              "#fdca26"
             ],
             [
              1,
              "#f0f921"
             ]
            ],
            "type": "contour"
           }
          ],
          "contourcarpet": [
           {
            "colorbar": {
             "outlinewidth": 0,
             "ticks": ""
            },
            "type": "contourcarpet"
           }
          ],
          "heatmap": [
           {
            "colorbar": {
             "outlinewidth": 0,
             "ticks": ""
            },
            "colorscale": [
             [
              0,
              "#0d0887"
             ],
             [
              0.1111111111111111,
              "#46039f"
             ],
             [
              0.2222222222222222,
              "#7201a8"
             ],
             [
              0.3333333333333333,
              "#9c179e"
             ],
             [
              0.4444444444444444,
              "#bd3786"
             ],
             [
              0.5555555555555556,
              "#d8576b"
             ],
             [
              0.6666666666666666,
              "#ed7953"
             ],
             [
              0.7777777777777778,
              "#fb9f3a"
             ],
             [
              0.8888888888888888,
              "#fdca26"
             ],
             [
              1,
              "#f0f921"
             ]
            ],
            "type": "heatmap"
           }
          ],
          "heatmapgl": [
           {
            "colorbar": {
             "outlinewidth": 0,
             "ticks": ""
            },
            "colorscale": [
             [
              0,
              "#0d0887"
             ],
             [
              0.1111111111111111,
              "#46039f"
             ],
             [
              0.2222222222222222,
              "#7201a8"
             ],
             [
              0.3333333333333333,
              "#9c179e"
             ],
             [
              0.4444444444444444,
              "#bd3786"
             ],
             [
              0.5555555555555556,
              "#d8576b"
             ],
             [
              0.6666666666666666,
              "#ed7953"
             ],
             [
              0.7777777777777778,
              "#fb9f3a"
             ],
             [
              0.8888888888888888,
              "#fdca26"
             ],
             [
              1,
              "#f0f921"
             ]
            ],
            "type": "heatmapgl"
           }
          ],
          "histogram": [
           {
            "marker": {
             "pattern": {
              "fillmode": "overlay",
              "size": 10,
              "solidity": 0.2
             }
            },
            "type": "histogram"
           }
          ],
          "histogram2d": [
           {
            "colorbar": {
             "outlinewidth": 0,
             "ticks": ""
            },
            "colorscale": [
             [
              0,
              "#0d0887"
             ],
             [
              0.1111111111111111,
              "#46039f"
             ],
             [
              0.2222222222222222,
              "#7201a8"
             ],
             [
              0.3333333333333333,
              "#9c179e"
             ],
             [
              0.4444444444444444,
              "#bd3786"
             ],
             [
              0.5555555555555556,
              "#d8576b"
             ],
             [
              0.6666666666666666,
              "#ed7953"
             ],
             [
              0.7777777777777778,
              "#fb9f3a"
             ],
             [
              0.8888888888888888,
              "#fdca26"
             ],
             [
              1,
              "#f0f921"
             ]
            ],
            "type": "histogram2d"
           }
          ],
          "histogram2dcontour": [
           {
            "colorbar": {
             "outlinewidth": 0,
             "ticks": ""
            },
            "colorscale": [
             [
              0,
              "#0d0887"
             ],
             [
              0.1111111111111111,
              "#46039f"
             ],
             [
              0.2222222222222222,
              "#7201a8"
             ],
             [
              0.3333333333333333,
              "#9c179e"
             ],
             [
              0.4444444444444444,
              "#bd3786"
             ],
             [
              0.5555555555555556,
              "#d8576b"
             ],
             [
              0.6666666666666666,
              "#ed7953"
             ],
             [
              0.7777777777777778,
              "#fb9f3a"
             ],
             [
              0.8888888888888888,
              "#fdca26"
             ],
             [
              1,
              "#f0f921"
             ]
            ],
            "type": "histogram2dcontour"
           }
          ],
          "mesh3d": [
           {
            "colorbar": {
             "outlinewidth": 0,
             "ticks": ""
            },
            "type": "mesh3d"
           }
          ],
          "parcoords": [
           {
            "line": {
             "colorbar": {
              "outlinewidth": 0,
              "ticks": ""
             }
            },
            "type": "parcoords"
           }
          ],
          "pie": [
           {
            "automargin": true,
            "type": "pie"
           }
          ],
          "scatter": [
           {
            "marker": {
             "colorbar": {
              "outlinewidth": 0,
              "ticks": ""
             }
            },
            "type": "scatter"
           }
          ],
          "scatter3d": [
           {
            "line": {
             "colorbar": {
              "outlinewidth": 0,
              "ticks": ""
             }
            },
            "marker": {
             "colorbar": {
              "outlinewidth": 0,
              "ticks": ""
             }
            },
            "type": "scatter3d"
           }
          ],
          "scattercarpet": [
           {
            "marker": {
             "colorbar": {
              "outlinewidth": 0,
              "ticks": ""
             }
            },
            "type": "scattercarpet"
           }
          ],
          "scattergeo": [
           {
            "marker": {
             "colorbar": {
              "outlinewidth": 0,
              "ticks": ""
             }
            },
            "type": "scattergeo"
           }
          ],
          "scattergl": [
           {
            "marker": {
             "colorbar": {
              "outlinewidth": 0,
              "ticks": ""
             }
            },
            "type": "scattergl"
           }
          ],
          "scattermapbox": [
           {
            "marker": {
             "colorbar": {
              "outlinewidth": 0,
              "ticks": ""
             }
            },
            "type": "scattermapbox"
           }
          ],
          "scatterpolar": [
           {
            "marker": {
             "colorbar": {
              "outlinewidth": 0,
              "ticks": ""
             }
            },
            "type": "scatterpolar"
           }
          ],
          "scatterpolargl": [
           {
            "marker": {
             "colorbar": {
              "outlinewidth": 0,
              "ticks": ""
             }
            },
            "type": "scatterpolargl"
           }
          ],
          "scatterternary": [
           {
            "marker": {
             "colorbar": {
              "outlinewidth": 0,
              "ticks": ""
             }
            },
            "type": "scatterternary"
           }
          ],
          "surface": [
           {
            "colorbar": {
             "outlinewidth": 0,
             "ticks": ""
            },
            "colorscale": [
             [
              0,
              "#0d0887"
             ],
             [
              0.1111111111111111,
              "#46039f"
             ],
             [
              0.2222222222222222,
              "#7201a8"
             ],
             [
              0.3333333333333333,
              "#9c179e"
             ],
             [
              0.4444444444444444,
              "#bd3786"
             ],
             [
              0.5555555555555556,
              "#d8576b"
             ],
             [
              0.6666666666666666,
              "#ed7953"
             ],
             [
              0.7777777777777778,
              "#fb9f3a"
             ],
             [
              0.8888888888888888,
              "#fdca26"
             ],
             [
              1,
              "#f0f921"
             ]
            ],
            "type": "surface"
           }
          ],
          "table": [
           {
            "cells": {
             "fill": {
              "color": "#EBF0F8"
             },
             "line": {
              "color": "white"
             }
            },
            "header": {
             "fill": {
              "color": "#C8D4E3"
             },
             "line": {
              "color": "white"
             }
            },
            "type": "table"
           }
          ]
         },
         "layout": {
          "annotationdefaults": {
           "arrowcolor": "#2a3f5f",
           "arrowhead": 0,
           "arrowwidth": 1
          },
          "autotypenumbers": "strict",
          "coloraxis": {
           "colorbar": {
            "outlinewidth": 0,
            "ticks": ""
           }
          },
          "colorscale": {
           "diverging": [
            [
             0,
             "#8e0152"
            ],
            [
             0.1,
             "#c51b7d"
            ],
            [
             0.2,
             "#de77ae"
            ],
            [
             0.3,
             "#f1b6da"
            ],
            [
             0.4,
             "#fde0ef"
            ],
            [
             0.5,
             "#f7f7f7"
            ],
            [
             0.6,
             "#e6f5d0"
            ],
            [
             0.7,
             "#b8e186"
            ],
            [
             0.8,
             "#7fbc41"
            ],
            [
             0.9,
             "#4d9221"
            ],
            [
             1,
             "#276419"
            ]
           ],
           "sequential": [
            [
             0,
             "#0d0887"
            ],
            [
             0.1111111111111111,
             "#46039f"
            ],
            [
             0.2222222222222222,
             "#7201a8"
            ],
            [
             0.3333333333333333,
             "#9c179e"
            ],
            [
             0.4444444444444444,
             "#bd3786"
            ],
            [
             0.5555555555555556,
             "#d8576b"
            ],
            [
             0.6666666666666666,
             "#ed7953"
            ],
            [
             0.7777777777777778,
             "#fb9f3a"
            ],
            [
             0.8888888888888888,
             "#fdca26"
            ],
            [
             1,
             "#f0f921"
            ]
           ],
           "sequentialminus": [
            [
             0,
             "#0d0887"
            ],
            [
             0.1111111111111111,
             "#46039f"
            ],
            [
             0.2222222222222222,
             "#7201a8"
            ],
            [
             0.3333333333333333,
             "#9c179e"
            ],
            [
             0.4444444444444444,
             "#bd3786"
            ],
            [
             0.5555555555555556,
             "#d8576b"
            ],
            [
             0.6666666666666666,
             "#ed7953"
            ],
            [
             0.7777777777777778,
             "#fb9f3a"
            ],
            [
             0.8888888888888888,
             "#fdca26"
            ],
            [
             1,
             "#f0f921"
            ]
           ]
          },
          "colorway": [
           "#636efa",
           "#EF553B",
           "#00cc96",
           "#ab63fa",
           "#FFA15A",
           "#19d3f3",
           "#FF6692",
           "#B6E880",
           "#FF97FF",
           "#FECB52"
          ],
          "font": {
           "color": "#2a3f5f"
          },
          "geo": {
           "bgcolor": "white",
           "lakecolor": "white",
           "landcolor": "#E5ECF6",
           "showlakes": true,
           "showland": true,
           "subunitcolor": "white"
          },
          "hoverlabel": {
           "align": "left"
          },
          "hovermode": "closest",
          "mapbox": {
           "style": "light"
          },
          "paper_bgcolor": "white",
          "plot_bgcolor": "#E5ECF6",
          "polar": {
           "angularaxis": {
            "gridcolor": "white",
            "linecolor": "white",
            "ticks": ""
           },
           "bgcolor": "#E5ECF6",
           "radialaxis": {
            "gridcolor": "white",
            "linecolor": "white",
            "ticks": ""
           }
          },
          "scene": {
           "xaxis": {
            "backgroundcolor": "#E5ECF6",
            "gridcolor": "white",
            "gridwidth": 2,
            "linecolor": "white",
            "showbackground": true,
            "ticks": "",
            "zerolinecolor": "white"
           },
           "yaxis": {
            "backgroundcolor": "#E5ECF6",
            "gridcolor": "white",
            "gridwidth": 2,
            "linecolor": "white",
            "showbackground": true,
            "ticks": "",
            "zerolinecolor": "white"
           },
           "zaxis": {
            "backgroundcolor": "#E5ECF6",
            "gridcolor": "white",
            "gridwidth": 2,
            "linecolor": "white",
            "showbackground": true,
            "ticks": "",
            "zerolinecolor": "white"
           }
          },
          "shapedefaults": {
           "line": {
            "color": "#2a3f5f"
           }
          },
          "ternary": {
           "aaxis": {
            "gridcolor": "white",
            "linecolor": "white",
            "ticks": ""
           },
           "baxis": {
            "gridcolor": "white",
            "linecolor": "white",
            "ticks": ""
           },
           "bgcolor": "#E5ECF6",
           "caxis": {
            "gridcolor": "white",
            "linecolor": "white",
            "ticks": ""
           }
          },
          "title": {
           "x": 0.05
          },
          "xaxis": {
           "automargin": true,
           "gridcolor": "white",
           "linecolor": "white",
           "ticks": "",
           "title": {
            "standoff": 15
           },
           "zerolinecolor": "white",
           "zerolinewidth": 2
          },
          "yaxis": {
           "automargin": true,
           "gridcolor": "white",
           "linecolor": "white",
           "ticks": "",
           "title": {
            "standoff": 15
           },
           "zerolinecolor": "white",
           "zerolinewidth": 2
          }
         }
        },
        "title": {
         "font": {
          "color": "#4D5663"
         }
        },
        "xaxis": {
         "gridcolor": "#E1E5ED",
         "showgrid": true,
         "tickfont": {
          "color": "#4D5663"
         },
         "title": {
          "font": {
           "color": "#4D5663"
          },
          "text": ""
         },
         "zerolinecolor": "#E1E5ED"
        },
        "yaxis": {
         "gridcolor": "#E1E5ED",
         "showgrid": true,
         "tickfont": {
          "color": "#4D5663"
         },
         "title": {
          "font": {
           "color": "#4D5663"
          },
          "text": ""
         },
         "zerolinecolor": "#E1E5ED"
        }
       }
      },
      "text/html": [
       "<div>                            <div id=\"bf3fa02f-c435-42dc-a46b-4865aeec342d\" class=\"plotly-graph-div\" style=\"height:525px; width:100%;\"></div>            <script type=\"text/javascript\">                require([\"plotly\"], function(Plotly) {                    window.PLOTLYENV=window.PLOTLYENV || {};\n",
       "                    window.PLOTLYENV.BASE_URL='https://plot.ly';                                    if (document.getElementById(\"bf3fa02f-c435-42dc-a46b-4865aeec342d\")) {                    Plotly.newPlot(                        \"bf3fa02f-c435-42dc-a46b-4865aeec342d\",                        [{\"marker\":{\"color\":\"rgba(255, 153, 51, 0.6)\",\"line\":{\"color\":\"rgba(255, 153, 51, 1.0)\",\"width\":1}},\"name\":\"None\",\"orientation\":\"v\",\"text\":\"\",\"x\":[\"A\",\"B\",\"C\",\"D\"],\"y\":[100,100,100,100],\"type\":\"bar\"}],                        {\"legend\":{\"bgcolor\":\"#F5F6F9\",\"font\":{\"color\":\"#4D5663\"}},\"paper_bgcolor\":\"#F5F6F9\",\"plot_bgcolor\":\"#F5F6F9\",\"template\":{\"data\":{\"barpolar\":[{\"marker\":{\"line\":{\"color\":\"#E5ECF6\",\"width\":0.5},\"pattern\":{\"fillmode\":\"overlay\",\"size\":10,\"solidity\":0.2}},\"type\":\"barpolar\"}],\"bar\":[{\"error_x\":{\"color\":\"#2a3f5f\"},\"error_y\":{\"color\":\"#2a3f5f\"},\"marker\":{\"line\":{\"color\":\"#E5ECF6\",\"width\":0.5},\"pattern\":{\"fillmode\":\"overlay\",\"size\":10,\"solidity\":0.2}},\"type\":\"bar\"}],\"carpet\":[{\"aaxis\":{\"endlinecolor\":\"#2a3f5f\",\"gridcolor\":\"white\",\"linecolor\":\"white\",\"minorgridcolor\":\"white\",\"startlinecolor\":\"#2a3f5f\"},\"baxis\":{\"endlinecolor\":\"#2a3f5f\",\"gridcolor\":\"white\",\"linecolor\":\"white\",\"minorgridcolor\":\"white\",\"startlinecolor\":\"#2a3f5f\"},\"type\":\"carpet\"}],\"choropleth\":[{\"colorbar\":{\"outlinewidth\":0,\"ticks\":\"\"},\"type\":\"choropleth\"}],\"contourcarpet\":[{\"colorbar\":{\"outlinewidth\":0,\"ticks\":\"\"},\"type\":\"contourcarpet\"}],\"contour\":[{\"colorbar\":{\"outlinewidth\":0,\"ticks\":\"\"},\"colorscale\":[[0.0,\"#0d0887\"],[0.1111111111111111,\"#46039f\"],[0.2222222222222222,\"#7201a8\"],[0.3333333333333333,\"#9c179e\"],[0.4444444444444444,\"#bd3786\"],[0.5555555555555556,\"#d8576b\"],[0.6666666666666666,\"#ed7953\"],[0.7777777777777778,\"#fb9f3a\"],[0.8888888888888888,\"#fdca26\"],[1.0,\"#f0f921\"]],\"type\":\"contour\"}],\"heatmapgl\":[{\"colorbar\":{\"outlinewidth\":0,\"ticks\":\"\"},\"colorscale\":[[0.0,\"#0d0887\"],[0.1111111111111111,\"#46039f\"],[0.2222222222222222,\"#7201a8\"],[0.3333333333333333,\"#9c179e\"],[0.4444444444444444,\"#bd3786\"],[0.5555555555555556,\"#d8576b\"],[0.6666666666666666,\"#ed7953\"],[0.7777777777777778,\"#fb9f3a\"],[0.8888888888888888,\"#fdca26\"],[1.0,\"#f0f921\"]],\"type\":\"heatmapgl\"}],\"heatmap\":[{\"colorbar\":{\"outlinewidth\":0,\"ticks\":\"\"},\"colorscale\":[[0.0,\"#0d0887\"],[0.1111111111111111,\"#46039f\"],[0.2222222222222222,\"#7201a8\"],[0.3333333333333333,\"#9c179e\"],[0.4444444444444444,\"#bd3786\"],[0.5555555555555556,\"#d8576b\"],[0.6666666666666666,\"#ed7953\"],[0.7777777777777778,\"#fb9f3a\"],[0.8888888888888888,\"#fdca26\"],[1.0,\"#f0f921\"]],\"type\":\"heatmap\"}],\"histogram2dcontour\":[{\"colorbar\":{\"outlinewidth\":0,\"ticks\":\"\"},\"colorscale\":[[0.0,\"#0d0887\"],[0.1111111111111111,\"#46039f\"],[0.2222222222222222,\"#7201a8\"],[0.3333333333333333,\"#9c179e\"],[0.4444444444444444,\"#bd3786\"],[0.5555555555555556,\"#d8576b\"],[0.6666666666666666,\"#ed7953\"],[0.7777777777777778,\"#fb9f3a\"],[0.8888888888888888,\"#fdca26\"],[1.0,\"#f0f921\"]],\"type\":\"histogram2dcontour\"}],\"histogram2d\":[{\"colorbar\":{\"outlinewidth\":0,\"ticks\":\"\"},\"colorscale\":[[0.0,\"#0d0887\"],[0.1111111111111111,\"#46039f\"],[0.2222222222222222,\"#7201a8\"],[0.3333333333333333,\"#9c179e\"],[0.4444444444444444,\"#bd3786\"],[0.5555555555555556,\"#d8576b\"],[0.6666666666666666,\"#ed7953\"],[0.7777777777777778,\"#fb9f3a\"],[0.8888888888888888,\"#fdca26\"],[1.0,\"#f0f921\"]],\"type\":\"histogram2d\"}],\"histogram\":[{\"marker\":{\"pattern\":{\"fillmode\":\"overlay\",\"size\":10,\"solidity\":0.2}},\"type\":\"histogram\"}],\"mesh3d\":[{\"colorbar\":{\"outlinewidth\":0,\"ticks\":\"\"},\"type\":\"mesh3d\"}],\"parcoords\":[{\"line\":{\"colorbar\":{\"outlinewidth\":0,\"ticks\":\"\"}},\"type\":\"parcoords\"}],\"pie\":[{\"automargin\":true,\"type\":\"pie\"}],\"scatter3d\":[{\"line\":{\"colorbar\":{\"outlinewidth\":0,\"ticks\":\"\"}},\"marker\":{\"colorbar\":{\"outlinewidth\":0,\"ticks\":\"\"}},\"type\":\"scatter3d\"}],\"scattercarpet\":[{\"marker\":{\"colorbar\":{\"outlinewidth\":0,\"ticks\":\"\"}},\"type\":\"scattercarpet\"}],\"scattergeo\":[{\"marker\":{\"colorbar\":{\"outlinewidth\":0,\"ticks\":\"\"}},\"type\":\"scattergeo\"}],\"scattergl\":[{\"marker\":{\"colorbar\":{\"outlinewidth\":0,\"ticks\":\"\"}},\"type\":\"scattergl\"}],\"scattermapbox\":[{\"marker\":{\"colorbar\":{\"outlinewidth\":0,\"ticks\":\"\"}},\"type\":\"scattermapbox\"}],\"scatterpolargl\":[{\"marker\":{\"colorbar\":{\"outlinewidth\":0,\"ticks\":\"\"}},\"type\":\"scatterpolargl\"}],\"scatterpolar\":[{\"marker\":{\"colorbar\":{\"outlinewidth\":0,\"ticks\":\"\"}},\"type\":\"scatterpolar\"}],\"scatter\":[{\"marker\":{\"colorbar\":{\"outlinewidth\":0,\"ticks\":\"\"}},\"type\":\"scatter\"}],\"scatterternary\":[{\"marker\":{\"colorbar\":{\"outlinewidth\":0,\"ticks\":\"\"}},\"type\":\"scatterternary\"}],\"surface\":[{\"colorbar\":{\"outlinewidth\":0,\"ticks\":\"\"},\"colorscale\":[[0.0,\"#0d0887\"],[0.1111111111111111,\"#46039f\"],[0.2222222222222222,\"#7201a8\"],[0.3333333333333333,\"#9c179e\"],[0.4444444444444444,\"#bd3786\"],[0.5555555555555556,\"#d8576b\"],[0.6666666666666666,\"#ed7953\"],[0.7777777777777778,\"#fb9f3a\"],[0.8888888888888888,\"#fdca26\"],[1.0,\"#f0f921\"]],\"type\":\"surface\"}],\"table\":[{\"cells\":{\"fill\":{\"color\":\"#EBF0F8\"},\"line\":{\"color\":\"white\"}},\"header\":{\"fill\":{\"color\":\"#C8D4E3\"},\"line\":{\"color\":\"white\"}},\"type\":\"table\"}]},\"layout\":{\"annotationdefaults\":{\"arrowcolor\":\"#2a3f5f\",\"arrowhead\":0,\"arrowwidth\":1},\"autotypenumbers\":\"strict\",\"coloraxis\":{\"colorbar\":{\"outlinewidth\":0,\"ticks\":\"\"}},\"colorscale\":{\"diverging\":[[0,\"#8e0152\"],[0.1,\"#c51b7d\"],[0.2,\"#de77ae\"],[0.3,\"#f1b6da\"],[0.4,\"#fde0ef\"],[0.5,\"#f7f7f7\"],[0.6,\"#e6f5d0\"],[0.7,\"#b8e186\"],[0.8,\"#7fbc41\"],[0.9,\"#4d9221\"],[1,\"#276419\"]],\"sequential\":[[0.0,\"#0d0887\"],[0.1111111111111111,\"#46039f\"],[0.2222222222222222,\"#7201a8\"],[0.3333333333333333,\"#9c179e\"],[0.4444444444444444,\"#bd3786\"],[0.5555555555555556,\"#d8576b\"],[0.6666666666666666,\"#ed7953\"],[0.7777777777777778,\"#fb9f3a\"],[0.8888888888888888,\"#fdca26\"],[1.0,\"#f0f921\"]],\"sequentialminus\":[[0.0,\"#0d0887\"],[0.1111111111111111,\"#46039f\"],[0.2222222222222222,\"#7201a8\"],[0.3333333333333333,\"#9c179e\"],[0.4444444444444444,\"#bd3786\"],[0.5555555555555556,\"#d8576b\"],[0.6666666666666666,\"#ed7953\"],[0.7777777777777778,\"#fb9f3a\"],[0.8888888888888888,\"#fdca26\"],[1.0,\"#f0f921\"]]},\"colorway\":[\"#636efa\",\"#EF553B\",\"#00cc96\",\"#ab63fa\",\"#FFA15A\",\"#19d3f3\",\"#FF6692\",\"#B6E880\",\"#FF97FF\",\"#FECB52\"],\"font\":{\"color\":\"#2a3f5f\"},\"geo\":{\"bgcolor\":\"white\",\"lakecolor\":\"white\",\"landcolor\":\"#E5ECF6\",\"showlakes\":true,\"showland\":true,\"subunitcolor\":\"white\"},\"hoverlabel\":{\"align\":\"left\"},\"hovermode\":\"closest\",\"mapbox\":{\"style\":\"light\"},\"paper_bgcolor\":\"white\",\"plot_bgcolor\":\"#E5ECF6\",\"polar\":{\"angularaxis\":{\"gridcolor\":\"white\",\"linecolor\":\"white\",\"ticks\":\"\"},\"bgcolor\":\"#E5ECF6\",\"radialaxis\":{\"gridcolor\":\"white\",\"linecolor\":\"white\",\"ticks\":\"\"}},\"scene\":{\"xaxis\":{\"backgroundcolor\":\"#E5ECF6\",\"gridcolor\":\"white\",\"gridwidth\":2,\"linecolor\":\"white\",\"showbackground\":true,\"ticks\":\"\",\"zerolinecolor\":\"white\"},\"yaxis\":{\"backgroundcolor\":\"#E5ECF6\",\"gridcolor\":\"white\",\"gridwidth\":2,\"linecolor\":\"white\",\"showbackground\":true,\"ticks\":\"\",\"zerolinecolor\":\"white\"},\"zaxis\":{\"backgroundcolor\":\"#E5ECF6\",\"gridcolor\":\"white\",\"gridwidth\":2,\"linecolor\":\"white\",\"showbackground\":true,\"ticks\":\"\",\"zerolinecolor\":\"white\"}},\"shapedefaults\":{\"line\":{\"color\":\"#2a3f5f\"}},\"ternary\":{\"aaxis\":{\"gridcolor\":\"white\",\"linecolor\":\"white\",\"ticks\":\"\"},\"baxis\":{\"gridcolor\":\"white\",\"linecolor\":\"white\",\"ticks\":\"\"},\"bgcolor\":\"#E5ECF6\",\"caxis\":{\"gridcolor\":\"white\",\"linecolor\":\"white\",\"ticks\":\"\"}},\"title\":{\"x\":0.05},\"xaxis\":{\"automargin\":true,\"gridcolor\":\"white\",\"linecolor\":\"white\",\"ticks\":\"\",\"title\":{\"standoff\":15},\"zerolinecolor\":\"white\",\"zerolinewidth\":2},\"yaxis\":{\"automargin\":true,\"gridcolor\":\"white\",\"linecolor\":\"white\",\"ticks\":\"\",\"title\":{\"standoff\":15},\"zerolinecolor\":\"white\",\"zerolinewidth\":2}}},\"title\":{\"font\":{\"color\":\"#4D5663\"}},\"xaxis\":{\"gridcolor\":\"#E1E5ED\",\"showgrid\":true,\"tickfont\":{\"color\":\"#4D5663\"},\"title\":{\"font\":{\"color\":\"#4D5663\"},\"text\":\"\"},\"zerolinecolor\":\"#E1E5ED\"},\"yaxis\":{\"gridcolor\":\"#E1E5ED\",\"showgrid\":true,\"tickfont\":{\"color\":\"#4D5663\"},\"title\":{\"font\":{\"color\":\"#4D5663\"},\"text\":\"\"},\"zerolinecolor\":\"#E1E5ED\"}},                        {\"showLink\": true, \"linkText\": \"Export to plot.ly\", \"plotlyServerURL\": \"https://plot.ly\", \"responsive\": true}                    ).then(function(){\n",
       "                            \n",
       "var gd = document.getElementById('bf3fa02f-c435-42dc-a46b-4865aeec342d');\n",
       "var x = new MutationObserver(function (mutations, observer) {{\n",
       "        var display = window.getComputedStyle(gd).display;\n",
       "        if (!display || display === 'none') {{\n",
       "            console.log([gd, 'removed!']);\n",
       "            Plotly.purge(gd);\n",
       "            observer.disconnect();\n",
       "        }}\n",
       "}});\n",
       "\n",
       "// Listen for the removal of the full notebook cells\n",
       "var notebookContainer = gd.closest('#notebook-container');\n",
       "if (notebookContainer) {{\n",
       "    x.observe(notebookContainer, {childList: true});\n",
       "}}\n",
       "\n",
       "// Listen for the clearing of the current output cell\n",
       "var outputEl = gd.closest('.output');\n",
       "if (outputEl) {{\n",
       "    x.observe(outputEl, {childList: true});\n",
       "}}\n",
       "\n",
       "                        })                };                });            </script>        </div>"
      ]
     },
     "metadata": {},
     "output_type": "display_data"
    }
   ],
   "source": [
    "df.count().iplot(kind='bar')\n",
    "### if you are data is not proper for bar plot you can use count()"
   ]
  },
  {
   "cell_type": "code",
   "execution_count": 29,
   "id": "cab21593",
   "metadata": {},
   "outputs": [
    {
     "data": {
      "application/vnd.plotly.v1+json": {
       "config": {
        "linkText": "Export to plot.ly",
        "plotlyServerURL": "https://plot.ly",
        "showLink": true
       },
       "data": [
        {
         "boxpoints": false,
         "line": {
          "width": 1.3
         },
         "marker": {
          "color": "rgba(255, 153, 51, 1.0)"
         },
         "name": "A",
         "orientation": "v",
         "type": "box",
         "y": [
          0.29679088647994234,
          -0.042206202349754085,
          0.05623496351276302,
          0.18396487905995018,
          1.9471896766346395,
          0.43208920801474165,
          1.6081901135096244,
          -0.33939886596474583,
          -0.005108983403875583,
          0.8530884673894046,
          -1.0049122922726699,
          -0.12868851992931754,
          1.7353868610859655,
          -0.08546583156278803,
          0.19057248696326243,
          -2.215582342343689,
          0.5808233212565269,
          0.5556244407586608,
          0.6393629473270924,
          0.8517397885188276,
          1.004772451678126,
          1.764774535802342,
          -1.5928023745870552,
          0.4490624254607539,
          -0.7527723767987775,
          -0.44542373319935846,
          0.34087288647274944,
          0.7583254810032551,
          1.1582430952918201,
          -0.3687962067699432,
          0.8684466366474232,
          1.1573101491711728,
          0.8106533155680704,
          0.49441830258067543,
          0.6885849650903538,
          -0.4702465281680946,
          0.7258776199325154,
          -2.229493254691975,
          -0.4286484838911737,
          -0.3528594259863507,
          -1.6078191886771733,
          1.7925932159412024,
          -1.4917867638583655,
          -0.8522939738286025,
          -0.3029444850990843,
          -0.15564219622621273,
          -0.8516913437553745,
          1.9066382724108697,
          -0.6264844604156597,
          0.06234625415648561,
          -3.6576914024430116,
          0.8489453033047615,
          0.6663080066373779,
          -2.794668362290301,
          -0.14340193607480287,
          0.46961643534909486,
          0.19466760147991485,
          -0.18305973698227745,
          0.2533686282037615,
          0.22681881963847014,
          -0.5853685803435907,
          1.2286869071151012,
          0.9278399975997879,
          -0.4069069923876818,
          0.2798037596885753,
          -1.440231742955656,
          -0.25905094443393784,
          -0.1670331195018515,
          -0.7801423654656153,
          -0.33638723727069586,
          0.1696828002144026,
          -1.6534073036946215,
          0.20741424731862965,
          -0.437475299257197,
          -0.605281305177192,
          1.2030690694557755,
          -1.6945689313328423,
          0.9344417133260021,
          0.46676346426075643,
          1.9170319083784906,
          0.34351232000814336,
          0.4415030752463328,
          -1.8460478325197323,
          0.8234785283616356,
          0.09775233667726059,
          0.4426520294879391,
          1.3332588195304493,
          0.6786094057326916,
          -1.072784991063228,
          0.1431368184337798,
          0.37685245253890953,
          -0.008279655793517674,
          -0.04025830813754167,
          -1.496699137527211,
          0.44668384965429475,
          0.8282233080065341,
          0.9187031152698922,
          0.07574685540103843,
          0.23778114530311967,
          1.1209179473646502
         ]
        },
        {
         "boxpoints": false,
         "line": {
          "width": 1.3
         },
         "marker": {
          "color": "rgba(55, 128, 191, 1.0)"
         },
         "name": "B",
         "orientation": "v",
         "type": "box",
         "y": [
          -0.7571651498351455,
          0.3041841546141356,
          -0.3634338798273758,
          -2.0482361777995144,
          -0.18108815038638867,
          -0.21190299395233114,
          -0.7806951399891963,
          1.8590985191190108,
          0.48036674314609656,
          1.8873083466347365,
          1.1056779689437921,
          -1.3231700180419348,
          0.3342805753940904,
          -0.20369594444050604,
          0.39088820371926375,
          -0.48776057521970073,
          -1.1414327259670378,
          -0.7808846359062693,
          1.4920293778079048,
          0.71079751035893,
          0.2307135496211187,
          -0.7211267802065155,
          -0.3877863925049786,
          0.5293063371459275,
          -1.698225399775976,
          -0.7432359964184969,
          -1.0633879580111423,
          -1.1564930777360236,
          -0.6354873928530012,
          1.6168674082839893,
          -2.1397231605343183,
          0.8591667284039247,
          -0.4525164669746582,
          0.6479933531495566,
          0.4928251204016213,
          0.5301247456285414,
          1.2692158824055362,
          0.4903818486766852,
          -1.1042304957167466,
          -0.3604927522499086,
          0.13344340017146225,
          -0.5371434200006895,
          -1.8037554935945654,
          0.5237936559711996,
          1.500251268452096,
          2.179319647875672,
          -0.009000371183924594,
          0.7041273574304793,
          0.8935279013253304,
          -3.375008844495114,
          1.1894387874864698,
          -0.27110581005903794,
          -0.3603941406302465,
          -0.19626364838529733,
          2.504563093248634,
          0.03156911621838102,
          0.29881409996396646,
          -0.386394740622949,
          -0.3698428488757272,
          0.8246534678107472,
          -1.9114009699387526,
          -0.4623680380986253,
          0.9077405464515336,
          -0.7295099857464294,
          0.6764853912798772,
          -0.541361568392655,
          0.47232880482121675,
          0.6296488331438715,
          1.7669189062507158,
          0.5757234831604158,
          -0.7518036824883677,
          -0.6340399776230848,
          -1.4504687727889098,
          0.4229339994405687,
          -0.7844403212340828,
          0.500292917366162,
          -0.45417782594598816,
          -0.2602529926846372,
          1.6907017072679549,
          2.0122414821517025,
          -0.9944724957993845,
          -0.4618705938551304,
          0.15912344530429562,
          0.06113220007641856,
          0.5169371398966918,
          -1.1232577387697515,
          -0.21463034116679147,
          -0.42893393668424407,
          -1.0968561308131135,
          2.4209582185902776,
          -1.242139030854014,
          -0.9981972941910361,
          1.6073060927944351,
          -1.2621170591121773,
          0.9289617974150245,
          -0.22342478108118818,
          0.23205496907907777,
          -0.7706448922950906,
          -0.20410847471802354,
          -0.3025804522844425
         ]
        },
        {
         "boxpoints": false,
         "line": {
          "width": 1.3
         },
         "marker": {
          "color": "rgba(50, 171, 96, 1.0)"
         },
         "name": "C",
         "orientation": "v",
         "type": "box",
         "y": [
          1.3401787857219047,
          -1.9553069612319784,
          0.09675136225434358,
          -0.8759626344625551,
          0.5541427096618632,
          1.3165355670097862,
          1.408684673970268,
          -0.8967317424310816,
          1.2647177893278923,
          -0.8049786030037357,
          -0.06522744548821288,
          1.4644919945838932,
          0.4350597896711922,
          -0.8890187839422852,
          0.8867845306851252,
          -1.2114753081096763,
          -1.3938600325853063,
          1.490322147153945,
          -0.3553943255278688,
          0.07275987339103501,
          0.9468715674905341,
          -0.7148656043530932,
          1.130693472818898,
          0.6658723771144244,
          0.9517837492043227,
          -0.12139122701139177,
          0.6011921603130448,
          -0.22843679020738578,
          -0.4576461130254673,
          1.5217598592429153,
          0.06970244363116698,
          -0.36510742882975694,
          1.79964304659319,
          -0.4400648704861409,
          -1.5500450343003,
          0.7208936566883917,
          0.9148340324849574,
          0.5769584974237918,
          0.7266845772317149,
          -0.7613464781713648,
          -0.18127576515236662,
          0.9813822416561983,
          0.8648986685162713,
          -0.23479550261196794,
          0.9016435261415309,
          0.22909739222432027,
          -1.2677417034299547,
          0.02441969904149327,
          1.8962194603065503,
          0.9181516111950895,
          0.022466458072359596,
          -1.6147166715521313,
          0.3641207738676737,
          -1.1393813221479803,
          1.2684436695379524,
          0.07019548392944641,
          -0.6071693419292494,
          1.426350084965751,
          1.6962148664066656,
          0.19878318228660752,
          0.6347943664894169,
          -1.1188234248778783,
          0.7196057917579274,
          1.3439620810898105,
          -0.9282648100560266,
          0.15984599683557435,
          -0.02043117007082602,
          -0.6465765462806012,
          -0.01337361338853624,
          -1.7988309469098755,
          0.5443194498205624,
          -2.5290357260174927,
          0.9675397250912268,
          -0.6300044340653279,
          -0.5524294384364697,
          -0.5490247837882021,
          -0.3632026938472756,
          1.9574891488442245,
          -0.8240201845184999,
          -1.6353559803347641,
          -0.5264511550055844,
          1.4312770258432483,
          0.9065704277847233,
          -0.3117201080331889,
          0.16822989010638462,
          0.1578247697613285,
          0.20578184362978333,
          0.022514408713525055,
          0.2807742047625913,
          0.04862287024487184,
          0.7054300808952286,
          -0.8566338963035328,
          -2.8904122011862747,
          -0.8214752611638811,
          -0.21645791311558232,
          -0.5476883796592708,
          -0.5276737589252545,
          -0.7598497779233351,
          -2.030836851081924,
          0.00264599696123195
         ]
        },
        {
         "boxpoints": false,
         "line": {
          "width": 1.3
         },
         "marker": {
          "color": "rgba(128, 0, 128, 1.0)"
         },
         "name": "D",
         "orientation": "v",
         "type": "box",
         "y": [
          0.24525988548592925,
          -0.8134924347641136,
          -0.06301976921784228,
          1.6767678320421202,
          0.3244226225073001,
          -0.1955763371715922,
          -1.3411201785288194,
          1.9063827326757339,
          1.3474940840274094,
          1.8649816545434144,
          0.38784495530139607,
          -0.4614739762068934,
          2.624423249892742,
          1.1723960416063304,
          -0.7989430846361074,
          -1.6086674507023928,
          1.0626446977057926,
          0.3061122651420492,
          -3.8974087795971033,
          0.49509476013264314,
          -0.22890394797898309,
          1.531323123544235,
          -0.3299867649224163,
          -0.6180478692371327,
          -1.604779874246786,
          -0.7642244120224729,
          0.8028952271987085,
          -1.24118922536906,
          -0.4037680962139133,
          0.12671719764900752,
          -0.28368615581630663,
          0.5987350777489968,
          0.6987771419987823,
          -0.20066747894606912,
          1.1824188305674441,
          -0.32855086090261704,
          -0.9129891829296052,
          0.6837732875317857,
          -0.4821839815272349,
          -0.29299875846855944,
          0.2358883415177,
          -1.3480057073255023,
          0.6119263056858619,
          -0.5359176160660698,
          0.7954426240488578,
          -0.3360177186601398,
          -0.07746324253214303,
          -1.5648236415728372,
          0.2933756393149718,
          -0.04695088194711037,
          0.1766689682198699,
          -0.5239465195284316,
          2.1456067871766065,
          0.7615389563566171,
          -0.8272853511020328,
          -1.777287515861347,
          -1.699059001829908,
          0.48721507787091894,
          -1.6101843077172044,
          -0.35869981031815207,
          -0.7743598576732503,
          -0.9464883862911435,
          0.4157114601709713,
          1.0317807200645843,
          -0.23342785269896626,
          0.3283854501960172,
          0.34753742525171183,
          1.7770888208835824,
          -0.2751178467213051,
          -0.6696298796044111,
          1.21538700080969,
          2.1383020557715504,
          2.2551676774077345,
          0.37425799100418256,
          -1.3985445283206148,
          -0.06632952359706587,
          -2.007849101781652,
          1.4629465385445042,
          -0.30830681518190695,
          0.454900046618444,
          0.9704785861065522,
          1.058971235277724,
          -0.8688765333946045,
          -0.8805605039388629,
          0.9199033135573567,
          -1.0383100618925594,
          -1.0034127373954553,
          0.6512179848694126,
          -1.3803849052078925,
          -0.26599409292614745,
          0.09329712767283055,
          -1.7980971334936897,
          -1.3816592922590543,
          2.06826412084128,
          0.3773835170733553,
          0.4945583546436987,
          -0.12522417275069883,
          -1.042172817742925,
          -1.9831712321804318,
          -0.7012602384195061
         ]
        }
       ],
       "layout": {
        "legend": {
         "bgcolor": "#F5F6F9",
         "font": {
          "color": "#4D5663"
         }
        },
        "paper_bgcolor": "#F5F6F9",
        "plot_bgcolor": "#F5F6F9",
        "template": {
         "data": {
          "bar": [
           {
            "error_x": {
             "color": "#2a3f5f"
            },
            "error_y": {
             "color": "#2a3f5f"
            },
            "marker": {
             "line": {
              "color": "#E5ECF6",
              "width": 0.5
             },
             "pattern": {
              "fillmode": "overlay",
              "size": 10,
              "solidity": 0.2
             }
            },
            "type": "bar"
           }
          ],
          "barpolar": [
           {
            "marker": {
             "line": {
              "color": "#E5ECF6",
              "width": 0.5
             },
             "pattern": {
              "fillmode": "overlay",
              "size": 10,
              "solidity": 0.2
             }
            },
            "type": "barpolar"
           }
          ],
          "carpet": [
           {
            "aaxis": {
             "endlinecolor": "#2a3f5f",
             "gridcolor": "white",
             "linecolor": "white",
             "minorgridcolor": "white",
             "startlinecolor": "#2a3f5f"
            },
            "baxis": {
             "endlinecolor": "#2a3f5f",
             "gridcolor": "white",
             "linecolor": "white",
             "minorgridcolor": "white",
             "startlinecolor": "#2a3f5f"
            },
            "type": "carpet"
           }
          ],
          "choropleth": [
           {
            "colorbar": {
             "outlinewidth": 0,
             "ticks": ""
            },
            "type": "choropleth"
           }
          ],
          "contour": [
           {
            "colorbar": {
             "outlinewidth": 0,
             "ticks": ""
            },
            "colorscale": [
             [
              0,
              "#0d0887"
             ],
             [
              0.1111111111111111,
              "#46039f"
             ],
             [
              0.2222222222222222,
              "#7201a8"
             ],
             [
              0.3333333333333333,
              "#9c179e"
             ],
             [
              0.4444444444444444,
              "#bd3786"
             ],
             [
              0.5555555555555556,
              "#d8576b"
             ],
             [
              0.6666666666666666,
              "#ed7953"
             ],
             [
              0.7777777777777778,
              "#fb9f3a"
             ],
             [
              0.8888888888888888,
              "#fdca26"
             ],
             [
              1,
              "#f0f921"
             ]
            ],
            "type": "contour"
           }
          ],
          "contourcarpet": [
           {
            "colorbar": {
             "outlinewidth": 0,
             "ticks": ""
            },
            "type": "contourcarpet"
           }
          ],
          "heatmap": [
           {
            "colorbar": {
             "outlinewidth": 0,
             "ticks": ""
            },
            "colorscale": [
             [
              0,
              "#0d0887"
             ],
             [
              0.1111111111111111,
              "#46039f"
             ],
             [
              0.2222222222222222,
              "#7201a8"
             ],
             [
              0.3333333333333333,
              "#9c179e"
             ],
             [
              0.4444444444444444,
              "#bd3786"
             ],
             [
              0.5555555555555556,
              "#d8576b"
             ],
             [
              0.6666666666666666,
              "#ed7953"
             ],
             [
              0.7777777777777778,
              "#fb9f3a"
             ],
             [
              0.8888888888888888,
              "#fdca26"
             ],
             [
              1,
              "#f0f921"
             ]
            ],
            "type": "heatmap"
           }
          ],
          "heatmapgl": [
           {
            "colorbar": {
             "outlinewidth": 0,
             "ticks": ""
            },
            "colorscale": [
             [
              0,
              "#0d0887"
             ],
             [
              0.1111111111111111,
              "#46039f"
             ],
             [
              0.2222222222222222,
              "#7201a8"
             ],
             [
              0.3333333333333333,
              "#9c179e"
             ],
             [
              0.4444444444444444,
              "#bd3786"
             ],
             [
              0.5555555555555556,
              "#d8576b"
             ],
             [
              0.6666666666666666,
              "#ed7953"
             ],
             [
              0.7777777777777778,
              "#fb9f3a"
             ],
             [
              0.8888888888888888,
              "#fdca26"
             ],
             [
              1,
              "#f0f921"
             ]
            ],
            "type": "heatmapgl"
           }
          ],
          "histogram": [
           {
            "marker": {
             "pattern": {
              "fillmode": "overlay",
              "size": 10,
              "solidity": 0.2
             }
            },
            "type": "histogram"
           }
          ],
          "histogram2d": [
           {
            "colorbar": {
             "outlinewidth": 0,
             "ticks": ""
            },
            "colorscale": [
             [
              0,
              "#0d0887"
             ],
             [
              0.1111111111111111,
              "#46039f"
             ],
             [
              0.2222222222222222,
              "#7201a8"
             ],
             [
              0.3333333333333333,
              "#9c179e"
             ],
             [
              0.4444444444444444,
              "#bd3786"
             ],
             [
              0.5555555555555556,
              "#d8576b"
             ],
             [
              0.6666666666666666,
              "#ed7953"
             ],
             [
              0.7777777777777778,
              "#fb9f3a"
             ],
             [
              0.8888888888888888,
              "#fdca26"
             ],
             [
              1,
              "#f0f921"
             ]
            ],
            "type": "histogram2d"
           }
          ],
          "histogram2dcontour": [
           {
            "colorbar": {
             "outlinewidth": 0,
             "ticks": ""
            },
            "colorscale": [
             [
              0,
              "#0d0887"
             ],
             [
              0.1111111111111111,
              "#46039f"
             ],
             [
              0.2222222222222222,
              "#7201a8"
             ],
             [
              0.3333333333333333,
              "#9c179e"
             ],
             [
              0.4444444444444444,
              "#bd3786"
             ],
             [
              0.5555555555555556,
              "#d8576b"
             ],
             [
              0.6666666666666666,
              "#ed7953"
             ],
             [
              0.7777777777777778,
              "#fb9f3a"
             ],
             [
              0.8888888888888888,
              "#fdca26"
             ],
             [
              1,
              "#f0f921"
             ]
            ],
            "type": "histogram2dcontour"
           }
          ],
          "mesh3d": [
           {
            "colorbar": {
             "outlinewidth": 0,
             "ticks": ""
            },
            "type": "mesh3d"
           }
          ],
          "parcoords": [
           {
            "line": {
             "colorbar": {
              "outlinewidth": 0,
              "ticks": ""
             }
            },
            "type": "parcoords"
           }
          ],
          "pie": [
           {
            "automargin": true,
            "type": "pie"
           }
          ],
          "scatter": [
           {
            "marker": {
             "colorbar": {
              "outlinewidth": 0,
              "ticks": ""
             }
            },
            "type": "scatter"
           }
          ],
          "scatter3d": [
           {
            "line": {
             "colorbar": {
              "outlinewidth": 0,
              "ticks": ""
             }
            },
            "marker": {
             "colorbar": {
              "outlinewidth": 0,
              "ticks": ""
             }
            },
            "type": "scatter3d"
           }
          ],
          "scattercarpet": [
           {
            "marker": {
             "colorbar": {
              "outlinewidth": 0,
              "ticks": ""
             }
            },
            "type": "scattercarpet"
           }
          ],
          "scattergeo": [
           {
            "marker": {
             "colorbar": {
              "outlinewidth": 0,
              "ticks": ""
             }
            },
            "type": "scattergeo"
           }
          ],
          "scattergl": [
           {
            "marker": {
             "colorbar": {
              "outlinewidth": 0,
              "ticks": ""
             }
            },
            "type": "scattergl"
           }
          ],
          "scattermapbox": [
           {
            "marker": {
             "colorbar": {
              "outlinewidth": 0,
              "ticks": ""
             }
            },
            "type": "scattermapbox"
           }
          ],
          "scatterpolar": [
           {
            "marker": {
             "colorbar": {
              "outlinewidth": 0,
              "ticks": ""
             }
            },
            "type": "scatterpolar"
           }
          ],
          "scatterpolargl": [
           {
            "marker": {
             "colorbar": {
              "outlinewidth": 0,
              "ticks": ""
             }
            },
            "type": "scatterpolargl"
           }
          ],
          "scatterternary": [
           {
            "marker": {
             "colorbar": {
              "outlinewidth": 0,
              "ticks": ""
             }
            },
            "type": "scatterternary"
           }
          ],
          "surface": [
           {
            "colorbar": {
             "outlinewidth": 0,
             "ticks": ""
            },
            "colorscale": [
             [
              0,
              "#0d0887"
             ],
             [
              0.1111111111111111,
              "#46039f"
             ],
             [
              0.2222222222222222,
              "#7201a8"
             ],
             [
              0.3333333333333333,
              "#9c179e"
             ],
             [
              0.4444444444444444,
              "#bd3786"
             ],
             [
              0.5555555555555556,
              "#d8576b"
             ],
             [
              0.6666666666666666,
              "#ed7953"
             ],
             [
              0.7777777777777778,
              "#fb9f3a"
             ],
             [
              0.8888888888888888,
              "#fdca26"
             ],
             [
              1,
              "#f0f921"
             ]
            ],
            "type": "surface"
           }
          ],
          "table": [
           {
            "cells": {
             "fill": {
              "color": "#EBF0F8"
             },
             "line": {
              "color": "white"
             }
            },
            "header": {
             "fill": {
              "color": "#C8D4E3"
             },
             "line": {
              "color": "white"
             }
            },
            "type": "table"
           }
          ]
         },
         "layout": {
          "annotationdefaults": {
           "arrowcolor": "#2a3f5f",
           "arrowhead": 0,
           "arrowwidth": 1
          },
          "autotypenumbers": "strict",
          "coloraxis": {
           "colorbar": {
            "outlinewidth": 0,
            "ticks": ""
           }
          },
          "colorscale": {
           "diverging": [
            [
             0,
             "#8e0152"
            ],
            [
             0.1,
             "#c51b7d"
            ],
            [
             0.2,
             "#de77ae"
            ],
            [
             0.3,
             "#f1b6da"
            ],
            [
             0.4,
             "#fde0ef"
            ],
            [
             0.5,
             "#f7f7f7"
            ],
            [
             0.6,
             "#e6f5d0"
            ],
            [
             0.7,
             "#b8e186"
            ],
            [
             0.8,
             "#7fbc41"
            ],
            [
             0.9,
             "#4d9221"
            ],
            [
             1,
             "#276419"
            ]
           ],
           "sequential": [
            [
             0,
             "#0d0887"
            ],
            [
             0.1111111111111111,
             "#46039f"
            ],
            [
             0.2222222222222222,
             "#7201a8"
            ],
            [
             0.3333333333333333,
             "#9c179e"
            ],
            [
             0.4444444444444444,
             "#bd3786"
            ],
            [
             0.5555555555555556,
             "#d8576b"
            ],
            [
             0.6666666666666666,
             "#ed7953"
            ],
            [
             0.7777777777777778,
             "#fb9f3a"
            ],
            [
             0.8888888888888888,
             "#fdca26"
            ],
            [
             1,
             "#f0f921"
            ]
           ],
           "sequentialminus": [
            [
             0,
             "#0d0887"
            ],
            [
             0.1111111111111111,
             "#46039f"
            ],
            [
             0.2222222222222222,
             "#7201a8"
            ],
            [
             0.3333333333333333,
             "#9c179e"
            ],
            [
             0.4444444444444444,
             "#bd3786"
            ],
            [
             0.5555555555555556,
             "#d8576b"
            ],
            [
             0.6666666666666666,
             "#ed7953"
            ],
            [
             0.7777777777777778,
             "#fb9f3a"
            ],
            [
             0.8888888888888888,
             "#fdca26"
            ],
            [
             1,
             "#f0f921"
            ]
           ]
          },
          "colorway": [
           "#636efa",
           "#EF553B",
           "#00cc96",
           "#ab63fa",
           "#FFA15A",
           "#19d3f3",
           "#FF6692",
           "#B6E880",
           "#FF97FF",
           "#FECB52"
          ],
          "font": {
           "color": "#2a3f5f"
          },
          "geo": {
           "bgcolor": "white",
           "lakecolor": "white",
           "landcolor": "#E5ECF6",
           "showlakes": true,
           "showland": true,
           "subunitcolor": "white"
          },
          "hoverlabel": {
           "align": "left"
          },
          "hovermode": "closest",
          "mapbox": {
           "style": "light"
          },
          "paper_bgcolor": "white",
          "plot_bgcolor": "#E5ECF6",
          "polar": {
           "angularaxis": {
            "gridcolor": "white",
            "linecolor": "white",
            "ticks": ""
           },
           "bgcolor": "#E5ECF6",
           "radialaxis": {
            "gridcolor": "white",
            "linecolor": "white",
            "ticks": ""
           }
          },
          "scene": {
           "xaxis": {
            "backgroundcolor": "#E5ECF6",
            "gridcolor": "white",
            "gridwidth": 2,
            "linecolor": "white",
            "showbackground": true,
            "ticks": "",
            "zerolinecolor": "white"
           },
           "yaxis": {
            "backgroundcolor": "#E5ECF6",
            "gridcolor": "white",
            "gridwidth": 2,
            "linecolor": "white",
            "showbackground": true,
            "ticks": "",
            "zerolinecolor": "white"
           },
           "zaxis": {
            "backgroundcolor": "#E5ECF6",
            "gridcolor": "white",
            "gridwidth": 2,
            "linecolor": "white",
            "showbackground": true,
            "ticks": "",
            "zerolinecolor": "white"
           }
          },
          "shapedefaults": {
           "line": {
            "color": "#2a3f5f"
           }
          },
          "ternary": {
           "aaxis": {
            "gridcolor": "white",
            "linecolor": "white",
            "ticks": ""
           },
           "baxis": {
            "gridcolor": "white",
            "linecolor": "white",
            "ticks": ""
           },
           "bgcolor": "#E5ECF6",
           "caxis": {
            "gridcolor": "white",
            "linecolor": "white",
            "ticks": ""
           }
          },
          "title": {
           "x": 0.05
          },
          "xaxis": {
           "automargin": true,
           "gridcolor": "white",
           "linecolor": "white",
           "ticks": "",
           "title": {
            "standoff": 15
           },
           "zerolinecolor": "white",
           "zerolinewidth": 2
          },
          "yaxis": {
           "automargin": true,
           "gridcolor": "white",
           "linecolor": "white",
           "ticks": "",
           "title": {
            "standoff": 15
           },
           "zerolinecolor": "white",
           "zerolinewidth": 2
          }
         }
        },
        "title": {
         "font": {
          "color": "#4D5663"
         }
        },
        "xaxis": {
         "gridcolor": "#E1E5ED",
         "showgrid": true,
         "tickfont": {
          "color": "#4D5663"
         },
         "title": {
          "font": {
           "color": "#4D5663"
          },
          "text": ""
         },
         "zerolinecolor": "#E1E5ED"
        },
        "yaxis": {
         "gridcolor": "#E1E5ED",
         "showgrid": true,
         "tickfont": {
          "color": "#4D5663"
         },
         "title": {
          "font": {
           "color": "#4D5663"
          },
          "text": ""
         },
         "zerolinecolor": "#E1E5ED"
        }
       }
      },
      "text/html": [
       "<div>                            <div id=\"38685fa0-e07d-4c2f-b57f-b09734aa5740\" class=\"plotly-graph-div\" style=\"height:525px; width:100%;\"></div>            <script type=\"text/javascript\">                require([\"plotly\"], function(Plotly) {                    window.PLOTLYENV=window.PLOTLYENV || {};\n",
       "                    window.PLOTLYENV.BASE_URL='https://plot.ly';                                    if (document.getElementById(\"38685fa0-e07d-4c2f-b57f-b09734aa5740\")) {                    Plotly.newPlot(                        \"38685fa0-e07d-4c2f-b57f-b09734aa5740\",                        [{\"boxpoints\":false,\"line\":{\"width\":1.3},\"marker\":{\"color\":\"rgba(255, 153, 51, 1.0)\"},\"name\":\"A\",\"orientation\":\"v\",\"y\":[0.29679088647994234,-0.042206202349754085,0.05623496351276302,0.18396487905995018,1.9471896766346395,0.43208920801474165,1.6081901135096244,-0.33939886596474583,-0.005108983403875583,0.8530884673894046,-1.0049122922726699,-0.12868851992931754,1.7353868610859655,-0.08546583156278803,0.19057248696326243,-2.215582342343689,0.5808233212565269,0.5556244407586608,0.6393629473270924,0.8517397885188276,1.004772451678126,1.764774535802342,-1.5928023745870552,0.4490624254607539,-0.7527723767987775,-0.44542373319935846,0.34087288647274944,0.7583254810032551,1.1582430952918201,-0.3687962067699432,0.8684466366474232,1.1573101491711728,0.8106533155680704,0.49441830258067543,0.6885849650903538,-0.4702465281680946,0.7258776199325154,-2.229493254691975,-0.4286484838911737,-0.3528594259863507,-1.6078191886771733,1.7925932159412024,-1.4917867638583655,-0.8522939738286025,-0.3029444850990843,-0.15564219622621273,-0.8516913437553745,1.9066382724108697,-0.6264844604156597,0.06234625415648561,-3.6576914024430116,0.8489453033047615,0.6663080066373779,-2.794668362290301,-0.14340193607480287,0.46961643534909486,0.19466760147991485,-0.18305973698227745,0.2533686282037615,0.22681881963847014,-0.5853685803435907,1.2286869071151012,0.9278399975997879,-0.4069069923876818,0.2798037596885753,-1.440231742955656,-0.25905094443393784,-0.1670331195018515,-0.7801423654656153,-0.33638723727069586,0.1696828002144026,-1.6534073036946215,0.20741424731862965,-0.437475299257197,-0.605281305177192,1.2030690694557755,-1.6945689313328423,0.9344417133260021,0.46676346426075643,1.9170319083784906,0.34351232000814336,0.4415030752463328,-1.8460478325197323,0.8234785283616356,0.09775233667726059,0.4426520294879391,1.3332588195304493,0.6786094057326916,-1.072784991063228,0.1431368184337798,0.37685245253890953,-0.008279655793517674,-0.04025830813754167,-1.496699137527211,0.44668384965429475,0.8282233080065341,0.9187031152698922,0.07574685540103843,0.23778114530311967,1.1209179473646502],\"type\":\"box\"},{\"boxpoints\":false,\"line\":{\"width\":1.3},\"marker\":{\"color\":\"rgba(55, 128, 191, 1.0)\"},\"name\":\"B\",\"orientation\":\"v\",\"y\":[-0.7571651498351455,0.3041841546141356,-0.3634338798273758,-2.0482361777995144,-0.18108815038638867,-0.21190299395233114,-0.7806951399891963,1.8590985191190108,0.48036674314609656,1.8873083466347365,1.1056779689437921,-1.3231700180419348,0.3342805753940904,-0.20369594444050604,0.39088820371926375,-0.48776057521970073,-1.1414327259670378,-0.7808846359062693,1.4920293778079048,0.71079751035893,0.2307135496211187,-0.7211267802065155,-0.3877863925049786,0.5293063371459275,-1.698225399775976,-0.7432359964184969,-1.0633879580111423,-1.1564930777360236,-0.6354873928530012,1.6168674082839893,-2.1397231605343183,0.8591667284039247,-0.4525164669746582,0.6479933531495566,0.4928251204016213,0.5301247456285414,1.2692158824055362,0.4903818486766852,-1.1042304957167466,-0.3604927522499086,0.13344340017146225,-0.5371434200006895,-1.8037554935945654,0.5237936559711996,1.500251268452096,2.179319647875672,-0.009000371183924594,0.7041273574304793,0.8935279013253304,-3.375008844495114,1.1894387874864698,-0.27110581005903794,-0.3603941406302465,-0.19626364838529733,2.504563093248634,0.03156911621838102,0.29881409996396646,-0.386394740622949,-0.3698428488757272,0.8246534678107472,-1.9114009699387526,-0.4623680380986253,0.9077405464515336,-0.7295099857464294,0.6764853912798772,-0.541361568392655,0.47232880482121675,0.6296488331438715,1.7669189062507158,0.5757234831604158,-0.7518036824883677,-0.6340399776230848,-1.4504687727889098,0.4229339994405687,-0.7844403212340828,0.500292917366162,-0.45417782594598816,-0.2602529926846372,1.6907017072679549,2.0122414821517025,-0.9944724957993845,-0.4618705938551304,0.15912344530429562,0.06113220007641856,0.5169371398966918,-1.1232577387697515,-0.21463034116679147,-0.42893393668424407,-1.0968561308131135,2.4209582185902776,-1.242139030854014,-0.9981972941910361,1.6073060927944351,-1.2621170591121773,0.9289617974150245,-0.22342478108118818,0.23205496907907777,-0.7706448922950906,-0.20410847471802354,-0.3025804522844425],\"type\":\"box\"},{\"boxpoints\":false,\"line\":{\"width\":1.3},\"marker\":{\"color\":\"rgba(50, 171, 96, 1.0)\"},\"name\":\"C\",\"orientation\":\"v\",\"y\":[1.3401787857219047,-1.9553069612319784,0.09675136225434358,-0.8759626344625551,0.5541427096618632,1.3165355670097862,1.408684673970268,-0.8967317424310816,1.2647177893278923,-0.8049786030037357,-0.06522744548821288,1.4644919945838932,0.4350597896711922,-0.8890187839422852,0.8867845306851252,-1.2114753081096763,-1.3938600325853063,1.490322147153945,-0.3553943255278688,0.07275987339103501,0.9468715674905341,-0.7148656043530932,1.130693472818898,0.6658723771144244,0.9517837492043227,-0.12139122701139177,0.6011921603130448,-0.22843679020738578,-0.4576461130254673,1.5217598592429153,0.06970244363116698,-0.36510742882975694,1.79964304659319,-0.4400648704861409,-1.5500450343003,0.7208936566883917,0.9148340324849574,0.5769584974237918,0.7266845772317149,-0.7613464781713648,-0.18127576515236662,0.9813822416561983,0.8648986685162713,-0.23479550261196794,0.9016435261415309,0.22909739222432027,-1.2677417034299547,0.02441969904149327,1.8962194603065503,0.9181516111950895,0.022466458072359596,-1.6147166715521313,0.3641207738676737,-1.1393813221479803,1.2684436695379524,0.07019548392944641,-0.6071693419292494,1.426350084965751,1.6962148664066656,0.19878318228660752,0.6347943664894169,-1.1188234248778783,0.7196057917579274,1.3439620810898105,-0.9282648100560266,0.15984599683557435,-0.02043117007082602,-0.6465765462806012,-0.01337361338853624,-1.7988309469098755,0.5443194498205624,-2.5290357260174927,0.9675397250912268,-0.6300044340653279,-0.5524294384364697,-0.5490247837882021,-0.3632026938472756,1.9574891488442245,-0.8240201845184999,-1.6353559803347641,-0.5264511550055844,1.4312770258432483,0.9065704277847233,-0.3117201080331889,0.16822989010638462,0.1578247697613285,0.20578184362978333,0.022514408713525055,0.2807742047625913,0.04862287024487184,0.7054300808952286,-0.8566338963035328,-2.8904122011862747,-0.8214752611638811,-0.21645791311558232,-0.5476883796592708,-0.5276737589252545,-0.7598497779233351,-2.030836851081924,0.00264599696123195],\"type\":\"box\"},{\"boxpoints\":false,\"line\":{\"width\":1.3},\"marker\":{\"color\":\"rgba(128, 0, 128, 1.0)\"},\"name\":\"D\",\"orientation\":\"v\",\"y\":[0.24525988548592925,-0.8134924347641136,-0.06301976921784228,1.6767678320421202,0.3244226225073001,-0.1955763371715922,-1.3411201785288194,1.9063827326757339,1.3474940840274094,1.8649816545434144,0.38784495530139607,-0.4614739762068934,2.624423249892742,1.1723960416063304,-0.7989430846361074,-1.6086674507023928,1.0626446977057926,0.3061122651420492,-3.8974087795971033,0.49509476013264314,-0.22890394797898309,1.531323123544235,-0.3299867649224163,-0.6180478692371327,-1.604779874246786,-0.7642244120224729,0.8028952271987085,-1.24118922536906,-0.4037680962139133,0.12671719764900752,-0.28368615581630663,0.5987350777489968,0.6987771419987823,-0.20066747894606912,1.1824188305674441,-0.32855086090261704,-0.9129891829296052,0.6837732875317857,-0.4821839815272349,-0.29299875846855944,0.2358883415177,-1.3480057073255023,0.6119263056858619,-0.5359176160660698,0.7954426240488578,-0.3360177186601398,-0.07746324253214303,-1.5648236415728372,0.2933756393149718,-0.04695088194711037,0.1766689682198699,-0.5239465195284316,2.1456067871766065,0.7615389563566171,-0.8272853511020328,-1.777287515861347,-1.699059001829908,0.48721507787091894,-1.6101843077172044,-0.35869981031815207,-0.7743598576732503,-0.9464883862911435,0.4157114601709713,1.0317807200645843,-0.23342785269896626,0.3283854501960172,0.34753742525171183,1.7770888208835824,-0.2751178467213051,-0.6696298796044111,1.21538700080969,2.1383020557715504,2.2551676774077345,0.37425799100418256,-1.3985445283206148,-0.06632952359706587,-2.007849101781652,1.4629465385445042,-0.30830681518190695,0.454900046618444,0.9704785861065522,1.058971235277724,-0.8688765333946045,-0.8805605039388629,0.9199033135573567,-1.0383100618925594,-1.0034127373954553,0.6512179848694126,-1.3803849052078925,-0.26599409292614745,0.09329712767283055,-1.7980971334936897,-1.3816592922590543,2.06826412084128,0.3773835170733553,0.4945583546436987,-0.12522417275069883,-1.042172817742925,-1.9831712321804318,-0.7012602384195061],\"type\":\"box\"}],                        {\"legend\":{\"bgcolor\":\"#F5F6F9\",\"font\":{\"color\":\"#4D5663\"}},\"paper_bgcolor\":\"#F5F6F9\",\"plot_bgcolor\":\"#F5F6F9\",\"template\":{\"data\":{\"barpolar\":[{\"marker\":{\"line\":{\"color\":\"#E5ECF6\",\"width\":0.5},\"pattern\":{\"fillmode\":\"overlay\",\"size\":10,\"solidity\":0.2}},\"type\":\"barpolar\"}],\"bar\":[{\"error_x\":{\"color\":\"#2a3f5f\"},\"error_y\":{\"color\":\"#2a3f5f\"},\"marker\":{\"line\":{\"color\":\"#E5ECF6\",\"width\":0.5},\"pattern\":{\"fillmode\":\"overlay\",\"size\":10,\"solidity\":0.2}},\"type\":\"bar\"}],\"carpet\":[{\"aaxis\":{\"endlinecolor\":\"#2a3f5f\",\"gridcolor\":\"white\",\"linecolor\":\"white\",\"minorgridcolor\":\"white\",\"startlinecolor\":\"#2a3f5f\"},\"baxis\":{\"endlinecolor\":\"#2a3f5f\",\"gridcolor\":\"white\",\"linecolor\":\"white\",\"minorgridcolor\":\"white\",\"startlinecolor\":\"#2a3f5f\"},\"type\":\"carpet\"}],\"choropleth\":[{\"colorbar\":{\"outlinewidth\":0,\"ticks\":\"\"},\"type\":\"choropleth\"}],\"contourcarpet\":[{\"colorbar\":{\"outlinewidth\":0,\"ticks\":\"\"},\"type\":\"contourcarpet\"}],\"contour\":[{\"colorbar\":{\"outlinewidth\":0,\"ticks\":\"\"},\"colorscale\":[[0.0,\"#0d0887\"],[0.1111111111111111,\"#46039f\"],[0.2222222222222222,\"#7201a8\"],[0.3333333333333333,\"#9c179e\"],[0.4444444444444444,\"#bd3786\"],[0.5555555555555556,\"#d8576b\"],[0.6666666666666666,\"#ed7953\"],[0.7777777777777778,\"#fb9f3a\"],[0.8888888888888888,\"#fdca26\"],[1.0,\"#f0f921\"]],\"type\":\"contour\"}],\"heatmapgl\":[{\"colorbar\":{\"outlinewidth\":0,\"ticks\":\"\"},\"colorscale\":[[0.0,\"#0d0887\"],[0.1111111111111111,\"#46039f\"],[0.2222222222222222,\"#7201a8\"],[0.3333333333333333,\"#9c179e\"],[0.4444444444444444,\"#bd3786\"],[0.5555555555555556,\"#d8576b\"],[0.6666666666666666,\"#ed7953\"],[0.7777777777777778,\"#fb9f3a\"],[0.8888888888888888,\"#fdca26\"],[1.0,\"#f0f921\"]],\"type\":\"heatmapgl\"}],\"heatmap\":[{\"colorbar\":{\"outlinewidth\":0,\"ticks\":\"\"},\"colorscale\":[[0.0,\"#0d0887\"],[0.1111111111111111,\"#46039f\"],[0.2222222222222222,\"#7201a8\"],[0.3333333333333333,\"#9c179e\"],[0.4444444444444444,\"#bd3786\"],[0.5555555555555556,\"#d8576b\"],[0.6666666666666666,\"#ed7953\"],[0.7777777777777778,\"#fb9f3a\"],[0.8888888888888888,\"#fdca26\"],[1.0,\"#f0f921\"]],\"type\":\"heatmap\"}],\"histogram2dcontour\":[{\"colorbar\":{\"outlinewidth\":0,\"ticks\":\"\"},\"colorscale\":[[0.0,\"#0d0887\"],[0.1111111111111111,\"#46039f\"],[0.2222222222222222,\"#7201a8\"],[0.3333333333333333,\"#9c179e\"],[0.4444444444444444,\"#bd3786\"],[0.5555555555555556,\"#d8576b\"],[0.6666666666666666,\"#ed7953\"],[0.7777777777777778,\"#fb9f3a\"],[0.8888888888888888,\"#fdca26\"],[1.0,\"#f0f921\"]],\"type\":\"histogram2dcontour\"}],\"histogram2d\":[{\"colorbar\":{\"outlinewidth\":0,\"ticks\":\"\"},\"colorscale\":[[0.0,\"#0d0887\"],[0.1111111111111111,\"#46039f\"],[0.2222222222222222,\"#7201a8\"],[0.3333333333333333,\"#9c179e\"],[0.4444444444444444,\"#bd3786\"],[0.5555555555555556,\"#d8576b\"],[0.6666666666666666,\"#ed7953\"],[0.7777777777777778,\"#fb9f3a\"],[0.8888888888888888,\"#fdca26\"],[1.0,\"#f0f921\"]],\"type\":\"histogram2d\"}],\"histogram\":[{\"marker\":{\"pattern\":{\"fillmode\":\"overlay\",\"size\":10,\"solidity\":0.2}},\"type\":\"histogram\"}],\"mesh3d\":[{\"colorbar\":{\"outlinewidth\":0,\"ticks\":\"\"},\"type\":\"mesh3d\"}],\"parcoords\":[{\"line\":{\"colorbar\":{\"outlinewidth\":0,\"ticks\":\"\"}},\"type\":\"parcoords\"}],\"pie\":[{\"automargin\":true,\"type\":\"pie\"}],\"scatter3d\":[{\"line\":{\"colorbar\":{\"outlinewidth\":0,\"ticks\":\"\"}},\"marker\":{\"colorbar\":{\"outlinewidth\":0,\"ticks\":\"\"}},\"type\":\"scatter3d\"}],\"scattercarpet\":[{\"marker\":{\"colorbar\":{\"outlinewidth\":0,\"ticks\":\"\"}},\"type\":\"scattercarpet\"}],\"scattergeo\":[{\"marker\":{\"colorbar\":{\"outlinewidth\":0,\"ticks\":\"\"}},\"type\":\"scattergeo\"}],\"scattergl\":[{\"marker\":{\"colorbar\":{\"outlinewidth\":0,\"ticks\":\"\"}},\"type\":\"scattergl\"}],\"scattermapbox\":[{\"marker\":{\"colorbar\":{\"outlinewidth\":0,\"ticks\":\"\"}},\"type\":\"scattermapbox\"}],\"scatterpolargl\":[{\"marker\":{\"colorbar\":{\"outlinewidth\":0,\"ticks\":\"\"}},\"type\":\"scatterpolargl\"}],\"scatterpolar\":[{\"marker\":{\"colorbar\":{\"outlinewidth\":0,\"ticks\":\"\"}},\"type\":\"scatterpolar\"}],\"scatter\":[{\"marker\":{\"colorbar\":{\"outlinewidth\":0,\"ticks\":\"\"}},\"type\":\"scatter\"}],\"scatterternary\":[{\"marker\":{\"colorbar\":{\"outlinewidth\":0,\"ticks\":\"\"}},\"type\":\"scatterternary\"}],\"surface\":[{\"colorbar\":{\"outlinewidth\":0,\"ticks\":\"\"},\"colorscale\":[[0.0,\"#0d0887\"],[0.1111111111111111,\"#46039f\"],[0.2222222222222222,\"#7201a8\"],[0.3333333333333333,\"#9c179e\"],[0.4444444444444444,\"#bd3786\"],[0.5555555555555556,\"#d8576b\"],[0.6666666666666666,\"#ed7953\"],[0.7777777777777778,\"#fb9f3a\"],[0.8888888888888888,\"#fdca26\"],[1.0,\"#f0f921\"]],\"type\":\"surface\"}],\"table\":[{\"cells\":{\"fill\":{\"color\":\"#EBF0F8\"},\"line\":{\"color\":\"white\"}},\"header\":{\"fill\":{\"color\":\"#C8D4E3\"},\"line\":{\"color\":\"white\"}},\"type\":\"table\"}]},\"layout\":{\"annotationdefaults\":{\"arrowcolor\":\"#2a3f5f\",\"arrowhead\":0,\"arrowwidth\":1},\"autotypenumbers\":\"strict\",\"coloraxis\":{\"colorbar\":{\"outlinewidth\":0,\"ticks\":\"\"}},\"colorscale\":{\"diverging\":[[0,\"#8e0152\"],[0.1,\"#c51b7d\"],[0.2,\"#de77ae\"],[0.3,\"#f1b6da\"],[0.4,\"#fde0ef\"],[0.5,\"#f7f7f7\"],[0.6,\"#e6f5d0\"],[0.7,\"#b8e186\"],[0.8,\"#7fbc41\"],[0.9,\"#4d9221\"],[1,\"#276419\"]],\"sequential\":[[0.0,\"#0d0887\"],[0.1111111111111111,\"#46039f\"],[0.2222222222222222,\"#7201a8\"],[0.3333333333333333,\"#9c179e\"],[0.4444444444444444,\"#bd3786\"],[0.5555555555555556,\"#d8576b\"],[0.6666666666666666,\"#ed7953\"],[0.7777777777777778,\"#fb9f3a\"],[0.8888888888888888,\"#fdca26\"],[1.0,\"#f0f921\"]],\"sequentialminus\":[[0.0,\"#0d0887\"],[0.1111111111111111,\"#46039f\"],[0.2222222222222222,\"#7201a8\"],[0.3333333333333333,\"#9c179e\"],[0.4444444444444444,\"#bd3786\"],[0.5555555555555556,\"#d8576b\"],[0.6666666666666666,\"#ed7953\"],[0.7777777777777778,\"#fb9f3a\"],[0.8888888888888888,\"#fdca26\"],[1.0,\"#f0f921\"]]},\"colorway\":[\"#636efa\",\"#EF553B\",\"#00cc96\",\"#ab63fa\",\"#FFA15A\",\"#19d3f3\",\"#FF6692\",\"#B6E880\",\"#FF97FF\",\"#FECB52\"],\"font\":{\"color\":\"#2a3f5f\"},\"geo\":{\"bgcolor\":\"white\",\"lakecolor\":\"white\",\"landcolor\":\"#E5ECF6\",\"showlakes\":true,\"showland\":true,\"subunitcolor\":\"white\"},\"hoverlabel\":{\"align\":\"left\"},\"hovermode\":\"closest\",\"mapbox\":{\"style\":\"light\"},\"paper_bgcolor\":\"white\",\"plot_bgcolor\":\"#E5ECF6\",\"polar\":{\"angularaxis\":{\"gridcolor\":\"white\",\"linecolor\":\"white\",\"ticks\":\"\"},\"bgcolor\":\"#E5ECF6\",\"radialaxis\":{\"gridcolor\":\"white\",\"linecolor\":\"white\",\"ticks\":\"\"}},\"scene\":{\"xaxis\":{\"backgroundcolor\":\"#E5ECF6\",\"gridcolor\":\"white\",\"gridwidth\":2,\"linecolor\":\"white\",\"showbackground\":true,\"ticks\":\"\",\"zerolinecolor\":\"white\"},\"yaxis\":{\"backgroundcolor\":\"#E5ECF6\",\"gridcolor\":\"white\",\"gridwidth\":2,\"linecolor\":\"white\",\"showbackground\":true,\"ticks\":\"\",\"zerolinecolor\":\"white\"},\"zaxis\":{\"backgroundcolor\":\"#E5ECF6\",\"gridcolor\":\"white\",\"gridwidth\":2,\"linecolor\":\"white\",\"showbackground\":true,\"ticks\":\"\",\"zerolinecolor\":\"white\"}},\"shapedefaults\":{\"line\":{\"color\":\"#2a3f5f\"}},\"ternary\":{\"aaxis\":{\"gridcolor\":\"white\",\"linecolor\":\"white\",\"ticks\":\"\"},\"baxis\":{\"gridcolor\":\"white\",\"linecolor\":\"white\",\"ticks\":\"\"},\"bgcolor\":\"#E5ECF6\",\"caxis\":{\"gridcolor\":\"white\",\"linecolor\":\"white\",\"ticks\":\"\"}},\"title\":{\"x\":0.05},\"xaxis\":{\"automargin\":true,\"gridcolor\":\"white\",\"linecolor\":\"white\",\"ticks\":\"\",\"title\":{\"standoff\":15},\"zerolinecolor\":\"white\",\"zerolinewidth\":2},\"yaxis\":{\"automargin\":true,\"gridcolor\":\"white\",\"linecolor\":\"white\",\"ticks\":\"\",\"title\":{\"standoff\":15},\"zerolinecolor\":\"white\",\"zerolinewidth\":2}}},\"title\":{\"font\":{\"color\":\"#4D5663\"}},\"xaxis\":{\"gridcolor\":\"#E1E5ED\",\"showgrid\":true,\"tickfont\":{\"color\":\"#4D5663\"},\"title\":{\"font\":{\"color\":\"#4D5663\"},\"text\":\"\"},\"zerolinecolor\":\"#E1E5ED\"},\"yaxis\":{\"gridcolor\":\"#E1E5ED\",\"showgrid\":true,\"tickfont\":{\"color\":\"#4D5663\"},\"title\":{\"font\":{\"color\":\"#4D5663\"},\"text\":\"\"},\"zerolinecolor\":\"#E1E5ED\"}},                        {\"showLink\": true, \"linkText\": \"Export to plot.ly\", \"plotlyServerURL\": \"https://plot.ly\", \"responsive\": true}                    ).then(function(){\n",
       "                            \n",
       "var gd = document.getElementById('38685fa0-e07d-4c2f-b57f-b09734aa5740');\n",
       "var x = new MutationObserver(function (mutations, observer) {{\n",
       "        var display = window.getComputedStyle(gd).display;\n",
       "        if (!display || display === 'none') {{\n",
       "            console.log([gd, 'removed!']);\n",
       "            Plotly.purge(gd);\n",
       "            observer.disconnect();\n",
       "        }}\n",
       "}});\n",
       "\n",
       "// Listen for the removal of the full notebook cells\n",
       "var notebookContainer = gd.closest('#notebook-container');\n",
       "if (notebookContainer) {{\n",
       "    x.observe(notebookContainer, {childList: true});\n",
       "}}\n",
       "\n",
       "// Listen for the clearing of the current output cell\n",
       "var outputEl = gd.closest('.output');\n",
       "if (outputEl) {{\n",
       "    x.observe(outputEl, {childList: true});\n",
       "}}\n",
       "\n",
       "                        })                };                });            </script>        </div>"
      ]
     },
     "metadata": {},
     "output_type": "display_data"
    }
   ],
   "source": [
    "df.iplot(kind='box')\n",
    "### Click on the label what you want to see"
   ]
  },
  {
   "cell_type": "code",
   "execution_count": 31,
   "id": "721093cb",
   "metadata": {},
   "outputs": [],
   "source": [
    "df3 = pd.DataFrame({'x':[1,2,3,4,5],'y':[10,20,30,20,10],'z':[500,400,300,200,100]})"
   ]
  },
  {
   "cell_type": "code",
   "execution_count": 32,
   "id": "d2ad1bcc",
   "metadata": {},
   "outputs": [
    {
     "data": {
      "text/html": [
       "<div>\n",
       "<style scoped>\n",
       "    .dataframe tbody tr th:only-of-type {\n",
       "        vertical-align: middle;\n",
       "    }\n",
       "\n",
       "    .dataframe tbody tr th {\n",
       "        vertical-align: top;\n",
       "    }\n",
       "\n",
       "    .dataframe thead th {\n",
       "        text-align: right;\n",
       "    }\n",
       "</style>\n",
       "<table border=\"1\" class=\"dataframe\">\n",
       "  <thead>\n",
       "    <tr style=\"text-align: right;\">\n",
       "      <th></th>\n",
       "      <th>x</th>\n",
       "      <th>y</th>\n",
       "      <th>z</th>\n",
       "    </tr>\n",
       "  </thead>\n",
       "  <tbody>\n",
       "    <tr>\n",
       "      <th>0</th>\n",
       "      <td>1</td>\n",
       "      <td>10</td>\n",
       "      <td>500</td>\n",
       "    </tr>\n",
       "    <tr>\n",
       "      <th>1</th>\n",
       "      <td>2</td>\n",
       "      <td>20</td>\n",
       "      <td>400</td>\n",
       "    </tr>\n",
       "    <tr>\n",
       "      <th>2</th>\n",
       "      <td>3</td>\n",
       "      <td>30</td>\n",
       "      <td>300</td>\n",
       "    </tr>\n",
       "    <tr>\n",
       "      <th>3</th>\n",
       "      <td>4</td>\n",
       "      <td>20</td>\n",
       "      <td>200</td>\n",
       "    </tr>\n",
       "    <tr>\n",
       "      <th>4</th>\n",
       "      <td>5</td>\n",
       "      <td>10</td>\n",
       "      <td>100</td>\n",
       "    </tr>\n",
       "  </tbody>\n",
       "</table>\n",
       "</div>"
      ],
      "text/plain": [
       "   x   y    z\n",
       "0  1  10  500\n",
       "1  2  20  400\n",
       "2  3  30  300\n",
       "3  4  20  200\n",
       "4  5  10  100"
      ]
     },
     "execution_count": 32,
     "metadata": {},
     "output_type": "execute_result"
    }
   ],
   "source": [
    "df3.head()"
   ]
  },
  {
   "cell_type": "code",
   "execution_count": 34,
   "id": "ed169267",
   "metadata": {},
   "outputs": [
    {
     "data": {
      "application/vnd.plotly.v1+json": {
       "config": {
        "linkText": "Export to plot.ly",
        "plotlyServerURL": "https://plot.ly",
        "showLink": true
       },
       "data": [
        {
         "colorscale": [
          [
           0,
           "rgb(255, 153, 51)"
          ],
          [
           0.1111111111111111,
           "rgb(55, 128, 191)"
          ],
          [
           0.2222222222222222,
           "rgb(50, 171, 96)"
          ],
          [
           0.3333333333333333,
           "rgb(128, 0, 128)"
          ],
          [
           0.4444444444444444,
           "rgb(219, 64, 82)"
          ],
          [
           0.5555555555555556,
           "rgb(0, 128, 128)"
          ],
          [
           0.6666666666666666,
           "rgb(255, 255, 51)"
          ],
          [
           0.7777777777777778,
           "rgb(128, 128, 0)"
          ],
          [
           0.8888888888888888,
           "rgb(251, 128, 114)"
          ],
          [
           1,
           "rgb(128, 177, 211)"
          ]
         ],
         "type": "surface",
         "x": [
          0,
          1,
          2,
          3,
          4
         ],
         "y": [
          "x",
          "y",
          "z"
         ],
         "z": [
          [
           1,
           2,
           3,
           4,
           5
          ],
          [
           10,
           20,
           30,
           20,
           10
          ],
          [
           500,
           400,
           300,
           200,
           100
          ]
         ]
        }
       ],
       "layout": {
        "legend": {
         "bgcolor": "#F5F6F9",
         "font": {
          "color": "#4D5663"
         }
        },
        "paper_bgcolor": "#F5F6F9",
        "plot_bgcolor": "#F5F6F9",
        "template": {
         "data": {
          "bar": [
           {
            "error_x": {
             "color": "#2a3f5f"
            },
            "error_y": {
             "color": "#2a3f5f"
            },
            "marker": {
             "line": {
              "color": "#E5ECF6",
              "width": 0.5
             },
             "pattern": {
              "fillmode": "overlay",
              "size": 10,
              "solidity": 0.2
             }
            },
            "type": "bar"
           }
          ],
          "barpolar": [
           {
            "marker": {
             "line": {
              "color": "#E5ECF6",
              "width": 0.5
             },
             "pattern": {
              "fillmode": "overlay",
              "size": 10,
              "solidity": 0.2
             }
            },
            "type": "barpolar"
           }
          ],
          "carpet": [
           {
            "aaxis": {
             "endlinecolor": "#2a3f5f",
             "gridcolor": "white",
             "linecolor": "white",
             "minorgridcolor": "white",
             "startlinecolor": "#2a3f5f"
            },
            "baxis": {
             "endlinecolor": "#2a3f5f",
             "gridcolor": "white",
             "linecolor": "white",
             "minorgridcolor": "white",
             "startlinecolor": "#2a3f5f"
            },
            "type": "carpet"
           }
          ],
          "choropleth": [
           {
            "colorbar": {
             "outlinewidth": 0,
             "ticks": ""
            },
            "type": "choropleth"
           }
          ],
          "contour": [
           {
            "colorbar": {
             "outlinewidth": 0,
             "ticks": ""
            },
            "colorscale": [
             [
              0,
              "#0d0887"
             ],
             [
              0.1111111111111111,
              "#46039f"
             ],
             [
              0.2222222222222222,
              "#7201a8"
             ],
             [
              0.3333333333333333,
              "#9c179e"
             ],
             [
              0.4444444444444444,
              "#bd3786"
             ],
             [
              0.5555555555555556,
              "#d8576b"
             ],
             [
              0.6666666666666666,
              "#ed7953"
             ],
             [
              0.7777777777777778,
              "#fb9f3a"
             ],
             [
              0.8888888888888888,
              "#fdca26"
             ],
             [
              1,
              "#f0f921"
             ]
            ],
            "type": "contour"
           }
          ],
          "contourcarpet": [
           {
            "colorbar": {
             "outlinewidth": 0,
             "ticks": ""
            },
            "type": "contourcarpet"
           }
          ],
          "heatmap": [
           {
            "colorbar": {
             "outlinewidth": 0,
             "ticks": ""
            },
            "colorscale": [
             [
              0,
              "#0d0887"
             ],
             [
              0.1111111111111111,
              "#46039f"
             ],
             [
              0.2222222222222222,
              "#7201a8"
             ],
             [
              0.3333333333333333,
              "#9c179e"
             ],
             [
              0.4444444444444444,
              "#bd3786"
             ],
             [
              0.5555555555555556,
              "#d8576b"
             ],
             [
              0.6666666666666666,
              "#ed7953"
             ],
             [
              0.7777777777777778,
              "#fb9f3a"
             ],
             [
              0.8888888888888888,
              "#fdca26"
             ],
             [
              1,
              "#f0f921"
             ]
            ],
            "type": "heatmap"
           }
          ],
          "heatmapgl": [
           {
            "colorbar": {
             "outlinewidth": 0,
             "ticks": ""
            },
            "colorscale": [
             [
              0,
              "#0d0887"
             ],
             [
              0.1111111111111111,
              "#46039f"
             ],
             [
              0.2222222222222222,
              "#7201a8"
             ],
             [
              0.3333333333333333,
              "#9c179e"
             ],
             [
              0.4444444444444444,
              "#bd3786"
             ],
             [
              0.5555555555555556,
              "#d8576b"
             ],
             [
              0.6666666666666666,
              "#ed7953"
             ],
             [
              0.7777777777777778,
              "#fb9f3a"
             ],
             [
              0.8888888888888888,
              "#fdca26"
             ],
             [
              1,
              "#f0f921"
             ]
            ],
            "type": "heatmapgl"
           }
          ],
          "histogram": [
           {
            "marker": {
             "pattern": {
              "fillmode": "overlay",
              "size": 10,
              "solidity": 0.2
             }
            },
            "type": "histogram"
           }
          ],
          "histogram2d": [
           {
            "colorbar": {
             "outlinewidth": 0,
             "ticks": ""
            },
            "colorscale": [
             [
              0,
              "#0d0887"
             ],
             [
              0.1111111111111111,
              "#46039f"
             ],
             [
              0.2222222222222222,
              "#7201a8"
             ],
             [
              0.3333333333333333,
              "#9c179e"
             ],
             [
              0.4444444444444444,
              "#bd3786"
             ],
             [
              0.5555555555555556,
              "#d8576b"
             ],
             [
              0.6666666666666666,
              "#ed7953"
             ],
             [
              0.7777777777777778,
              "#fb9f3a"
             ],
             [
              0.8888888888888888,
              "#fdca26"
             ],
             [
              1,
              "#f0f921"
             ]
            ],
            "type": "histogram2d"
           }
          ],
          "histogram2dcontour": [
           {
            "colorbar": {
             "outlinewidth": 0,
             "ticks": ""
            },
            "colorscale": [
             [
              0,
              "#0d0887"
             ],
             [
              0.1111111111111111,
              "#46039f"
             ],
             [
              0.2222222222222222,
              "#7201a8"
             ],
             [
              0.3333333333333333,
              "#9c179e"
             ],
             [
              0.4444444444444444,
              "#bd3786"
             ],
             [
              0.5555555555555556,
              "#d8576b"
             ],
             [
              0.6666666666666666,
              "#ed7953"
             ],
             [
              0.7777777777777778,
              "#fb9f3a"
             ],
             [
              0.8888888888888888,
              "#fdca26"
             ],
             [
              1,
              "#f0f921"
             ]
            ],
            "type": "histogram2dcontour"
           }
          ],
          "mesh3d": [
           {
            "colorbar": {
             "outlinewidth": 0,
             "ticks": ""
            },
            "type": "mesh3d"
           }
          ],
          "parcoords": [
           {
            "line": {
             "colorbar": {
              "outlinewidth": 0,
              "ticks": ""
             }
            },
            "type": "parcoords"
           }
          ],
          "pie": [
           {
            "automargin": true,
            "type": "pie"
           }
          ],
          "scatter": [
           {
            "marker": {
             "colorbar": {
              "outlinewidth": 0,
              "ticks": ""
             }
            },
            "type": "scatter"
           }
          ],
          "scatter3d": [
           {
            "line": {
             "colorbar": {
              "outlinewidth": 0,
              "ticks": ""
             }
            },
            "marker": {
             "colorbar": {
              "outlinewidth": 0,
              "ticks": ""
             }
            },
            "type": "scatter3d"
           }
          ],
          "scattercarpet": [
           {
            "marker": {
             "colorbar": {
              "outlinewidth": 0,
              "ticks": ""
             }
            },
            "type": "scattercarpet"
           }
          ],
          "scattergeo": [
           {
            "marker": {
             "colorbar": {
              "outlinewidth": 0,
              "ticks": ""
             }
            },
            "type": "scattergeo"
           }
          ],
          "scattergl": [
           {
            "marker": {
             "colorbar": {
              "outlinewidth": 0,
              "ticks": ""
             }
            },
            "type": "scattergl"
           }
          ],
          "scattermapbox": [
           {
            "marker": {
             "colorbar": {
              "outlinewidth": 0,
              "ticks": ""
             }
            },
            "type": "scattermapbox"
           }
          ],
          "scatterpolar": [
           {
            "marker": {
             "colorbar": {
              "outlinewidth": 0,
              "ticks": ""
             }
            },
            "type": "scatterpolar"
           }
          ],
          "scatterpolargl": [
           {
            "marker": {
             "colorbar": {
              "outlinewidth": 0,
              "ticks": ""
             }
            },
            "type": "scatterpolargl"
           }
          ],
          "scatterternary": [
           {
            "marker": {
             "colorbar": {
              "outlinewidth": 0,
              "ticks": ""
             }
            },
            "type": "scatterternary"
           }
          ],
          "surface": [
           {
            "colorbar": {
             "outlinewidth": 0,
             "ticks": ""
            },
            "colorscale": [
             [
              0,
              "#0d0887"
             ],
             [
              0.1111111111111111,
              "#46039f"
             ],
             [
              0.2222222222222222,
              "#7201a8"
             ],
             [
              0.3333333333333333,
              "#9c179e"
             ],
             [
              0.4444444444444444,
              "#bd3786"
             ],
             [
              0.5555555555555556,
              "#d8576b"
             ],
             [
              0.6666666666666666,
              "#ed7953"
             ],
             [
              0.7777777777777778,
              "#fb9f3a"
             ],
             [
              0.8888888888888888,
              "#fdca26"
             ],
             [
              1,
              "#f0f921"
             ]
            ],
            "type": "surface"
           }
          ],
          "table": [
           {
            "cells": {
             "fill": {
              "color": "#EBF0F8"
             },
             "line": {
              "color": "white"
             }
            },
            "header": {
             "fill": {
              "color": "#C8D4E3"
             },
             "line": {
              "color": "white"
             }
            },
            "type": "table"
           }
          ]
         },
         "layout": {
          "annotationdefaults": {
           "arrowcolor": "#2a3f5f",
           "arrowhead": 0,
           "arrowwidth": 1
          },
          "autotypenumbers": "strict",
          "coloraxis": {
           "colorbar": {
            "outlinewidth": 0,
            "ticks": ""
           }
          },
          "colorscale": {
           "diverging": [
            [
             0,
             "#8e0152"
            ],
            [
             0.1,
             "#c51b7d"
            ],
            [
             0.2,
             "#de77ae"
            ],
            [
             0.3,
             "#f1b6da"
            ],
            [
             0.4,
             "#fde0ef"
            ],
            [
             0.5,
             "#f7f7f7"
            ],
            [
             0.6,
             "#e6f5d0"
            ],
            [
             0.7,
             "#b8e186"
            ],
            [
             0.8,
             "#7fbc41"
            ],
            [
             0.9,
             "#4d9221"
            ],
            [
             1,
             "#276419"
            ]
           ],
           "sequential": [
            [
             0,
             "#0d0887"
            ],
            [
             0.1111111111111111,
             "#46039f"
            ],
            [
             0.2222222222222222,
             "#7201a8"
            ],
            [
             0.3333333333333333,
             "#9c179e"
            ],
            [
             0.4444444444444444,
             "#bd3786"
            ],
            [
             0.5555555555555556,
             "#d8576b"
            ],
            [
             0.6666666666666666,
             "#ed7953"
            ],
            [
             0.7777777777777778,
             "#fb9f3a"
            ],
            [
             0.8888888888888888,
             "#fdca26"
            ],
            [
             1,
             "#f0f921"
            ]
           ],
           "sequentialminus": [
            [
             0,
             "#0d0887"
            ],
            [
             0.1111111111111111,
             "#46039f"
            ],
            [
             0.2222222222222222,
             "#7201a8"
            ],
            [
             0.3333333333333333,
             "#9c179e"
            ],
            [
             0.4444444444444444,
             "#bd3786"
            ],
            [
             0.5555555555555556,
             "#d8576b"
            ],
            [
             0.6666666666666666,
             "#ed7953"
            ],
            [
             0.7777777777777778,
             "#fb9f3a"
            ],
            [
             0.8888888888888888,
             "#fdca26"
            ],
            [
             1,
             "#f0f921"
            ]
           ]
          },
          "colorway": [
           "#636efa",
           "#EF553B",
           "#00cc96",
           "#ab63fa",
           "#FFA15A",
           "#19d3f3",
           "#FF6692",
           "#B6E880",
           "#FF97FF",
           "#FECB52"
          ],
          "font": {
           "color": "#2a3f5f"
          },
          "geo": {
           "bgcolor": "white",
           "lakecolor": "white",
           "landcolor": "#E5ECF6",
           "showlakes": true,
           "showland": true,
           "subunitcolor": "white"
          },
          "hoverlabel": {
           "align": "left"
          },
          "hovermode": "closest",
          "mapbox": {
           "style": "light"
          },
          "paper_bgcolor": "white",
          "plot_bgcolor": "#E5ECF6",
          "polar": {
           "angularaxis": {
            "gridcolor": "white",
            "linecolor": "white",
            "ticks": ""
           },
           "bgcolor": "#E5ECF6",
           "radialaxis": {
            "gridcolor": "white",
            "linecolor": "white",
            "ticks": ""
           }
          },
          "scene": {
           "xaxis": {
            "backgroundcolor": "#E5ECF6",
            "gridcolor": "white",
            "gridwidth": 2,
            "linecolor": "white",
            "showbackground": true,
            "ticks": "",
            "zerolinecolor": "white"
           },
           "yaxis": {
            "backgroundcolor": "#E5ECF6",
            "gridcolor": "white",
            "gridwidth": 2,
            "linecolor": "white",
            "showbackground": true,
            "ticks": "",
            "zerolinecolor": "white"
           },
           "zaxis": {
            "backgroundcolor": "#E5ECF6",
            "gridcolor": "white",
            "gridwidth": 2,
            "linecolor": "white",
            "showbackground": true,
            "ticks": "",
            "zerolinecolor": "white"
           }
          },
          "shapedefaults": {
           "line": {
            "color": "#2a3f5f"
           }
          },
          "ternary": {
           "aaxis": {
            "gridcolor": "white",
            "linecolor": "white",
            "ticks": ""
           },
           "baxis": {
            "gridcolor": "white",
            "linecolor": "white",
            "ticks": ""
           },
           "bgcolor": "#E5ECF6",
           "caxis": {
            "gridcolor": "white",
            "linecolor": "white",
            "ticks": ""
           }
          },
          "title": {
           "x": 0.05
          },
          "xaxis": {
           "automargin": true,
           "gridcolor": "white",
           "linecolor": "white",
           "ticks": "",
           "title": {
            "standoff": 15
           },
           "zerolinecolor": "white",
           "zerolinewidth": 2
          },
          "yaxis": {
           "automargin": true,
           "gridcolor": "white",
           "linecolor": "white",
           "ticks": "",
           "title": {
            "standoff": 15
           },
           "zerolinecolor": "white",
           "zerolinewidth": 2
          }
         }
        },
        "title": {
         "font": {
          "color": "#4D5663"
         }
        },
        "xaxis": {
         "gridcolor": "#E1E5ED",
         "showgrid": true,
         "tickfont": {
          "color": "#4D5663"
         },
         "title": {
          "font": {
           "color": "#4D5663"
          },
          "text": ""
         },
         "zerolinecolor": "#E1E5ED"
        },
        "yaxis": {
         "gridcolor": "#E1E5ED",
         "showgrid": true,
         "tickfont": {
          "color": "#4D5663"
         },
         "title": {
          "font": {
           "color": "#4D5663"
          },
          "text": ""
         },
         "zerolinecolor": "#E1E5ED"
        }
       }
      },
      "text/html": [
       "<div>                            <div id=\"a1888073-1b53-45e9-aacb-8c9f2a6a8ac6\" class=\"plotly-graph-div\" style=\"height:525px; width:100%;\"></div>            <script type=\"text/javascript\">                require([\"plotly\"], function(Plotly) {                    window.PLOTLYENV=window.PLOTLYENV || {};\n",
       "                    window.PLOTLYENV.BASE_URL='https://plot.ly';                                    if (document.getElementById(\"a1888073-1b53-45e9-aacb-8c9f2a6a8ac6\")) {                    Plotly.newPlot(                        \"a1888073-1b53-45e9-aacb-8c9f2a6a8ac6\",                        [{\"colorscale\":[[0.0,\"rgb(255, 153, 51)\"],[0.1111111111111111,\"rgb(55, 128, 191)\"],[0.2222222222222222,\"rgb(50, 171, 96)\"],[0.3333333333333333,\"rgb(128, 0, 128)\"],[0.4444444444444444,\"rgb(219, 64, 82)\"],[0.5555555555555556,\"rgb(0, 128, 128)\"],[0.6666666666666666,\"rgb(255, 255, 51)\"],[0.7777777777777778,\"rgb(128, 128, 0)\"],[0.8888888888888888,\"rgb(251, 128, 114)\"],[1.0,\"rgb(128, 177, 211)\"]],\"x\":[0,1,2,3,4],\"y\":[\"x\",\"y\",\"z\"],\"z\":[[1,2,3,4,5],[10,20,30,20,10],[500,400,300,200,100]],\"type\":\"surface\"}],                        {\"legend\":{\"bgcolor\":\"#F5F6F9\",\"font\":{\"color\":\"#4D5663\"}},\"paper_bgcolor\":\"#F5F6F9\",\"plot_bgcolor\":\"#F5F6F9\",\"template\":{\"data\":{\"barpolar\":[{\"marker\":{\"line\":{\"color\":\"#E5ECF6\",\"width\":0.5},\"pattern\":{\"fillmode\":\"overlay\",\"size\":10,\"solidity\":0.2}},\"type\":\"barpolar\"}],\"bar\":[{\"error_x\":{\"color\":\"#2a3f5f\"},\"error_y\":{\"color\":\"#2a3f5f\"},\"marker\":{\"line\":{\"color\":\"#E5ECF6\",\"width\":0.5},\"pattern\":{\"fillmode\":\"overlay\",\"size\":10,\"solidity\":0.2}},\"type\":\"bar\"}],\"carpet\":[{\"aaxis\":{\"endlinecolor\":\"#2a3f5f\",\"gridcolor\":\"white\",\"linecolor\":\"white\",\"minorgridcolor\":\"white\",\"startlinecolor\":\"#2a3f5f\"},\"baxis\":{\"endlinecolor\":\"#2a3f5f\",\"gridcolor\":\"white\",\"linecolor\":\"white\",\"minorgridcolor\":\"white\",\"startlinecolor\":\"#2a3f5f\"},\"type\":\"carpet\"}],\"choropleth\":[{\"colorbar\":{\"outlinewidth\":0,\"ticks\":\"\"},\"type\":\"choropleth\"}],\"contourcarpet\":[{\"colorbar\":{\"outlinewidth\":0,\"ticks\":\"\"},\"type\":\"contourcarpet\"}],\"contour\":[{\"colorbar\":{\"outlinewidth\":0,\"ticks\":\"\"},\"colorscale\":[[0.0,\"#0d0887\"],[0.1111111111111111,\"#46039f\"],[0.2222222222222222,\"#7201a8\"],[0.3333333333333333,\"#9c179e\"],[0.4444444444444444,\"#bd3786\"],[0.5555555555555556,\"#d8576b\"],[0.6666666666666666,\"#ed7953\"],[0.7777777777777778,\"#fb9f3a\"],[0.8888888888888888,\"#fdca26\"],[1.0,\"#f0f921\"]],\"type\":\"contour\"}],\"heatmapgl\":[{\"colorbar\":{\"outlinewidth\":0,\"ticks\":\"\"},\"colorscale\":[[0.0,\"#0d0887\"],[0.1111111111111111,\"#46039f\"],[0.2222222222222222,\"#7201a8\"],[0.3333333333333333,\"#9c179e\"],[0.4444444444444444,\"#bd3786\"],[0.5555555555555556,\"#d8576b\"],[0.6666666666666666,\"#ed7953\"],[0.7777777777777778,\"#fb9f3a\"],[0.8888888888888888,\"#fdca26\"],[1.0,\"#f0f921\"]],\"type\":\"heatmapgl\"}],\"heatmap\":[{\"colorbar\":{\"outlinewidth\":0,\"ticks\":\"\"},\"colorscale\":[[0.0,\"#0d0887\"],[0.1111111111111111,\"#46039f\"],[0.2222222222222222,\"#7201a8\"],[0.3333333333333333,\"#9c179e\"],[0.4444444444444444,\"#bd3786\"],[0.5555555555555556,\"#d8576b\"],[0.6666666666666666,\"#ed7953\"],[0.7777777777777778,\"#fb9f3a\"],[0.8888888888888888,\"#fdca26\"],[1.0,\"#f0f921\"]],\"type\":\"heatmap\"}],\"histogram2dcontour\":[{\"colorbar\":{\"outlinewidth\":0,\"ticks\":\"\"},\"colorscale\":[[0.0,\"#0d0887\"],[0.1111111111111111,\"#46039f\"],[0.2222222222222222,\"#7201a8\"],[0.3333333333333333,\"#9c179e\"],[0.4444444444444444,\"#bd3786\"],[0.5555555555555556,\"#d8576b\"],[0.6666666666666666,\"#ed7953\"],[0.7777777777777778,\"#fb9f3a\"],[0.8888888888888888,\"#fdca26\"],[1.0,\"#f0f921\"]],\"type\":\"histogram2dcontour\"}],\"histogram2d\":[{\"colorbar\":{\"outlinewidth\":0,\"ticks\":\"\"},\"colorscale\":[[0.0,\"#0d0887\"],[0.1111111111111111,\"#46039f\"],[0.2222222222222222,\"#7201a8\"],[0.3333333333333333,\"#9c179e\"],[0.4444444444444444,\"#bd3786\"],[0.5555555555555556,\"#d8576b\"],[0.6666666666666666,\"#ed7953\"],[0.7777777777777778,\"#fb9f3a\"],[0.8888888888888888,\"#fdca26\"],[1.0,\"#f0f921\"]],\"type\":\"histogram2d\"}],\"histogram\":[{\"marker\":{\"pattern\":{\"fillmode\":\"overlay\",\"size\":10,\"solidity\":0.2}},\"type\":\"histogram\"}],\"mesh3d\":[{\"colorbar\":{\"outlinewidth\":0,\"ticks\":\"\"},\"type\":\"mesh3d\"}],\"parcoords\":[{\"line\":{\"colorbar\":{\"outlinewidth\":0,\"ticks\":\"\"}},\"type\":\"parcoords\"}],\"pie\":[{\"automargin\":true,\"type\":\"pie\"}],\"scatter3d\":[{\"line\":{\"colorbar\":{\"outlinewidth\":0,\"ticks\":\"\"}},\"marker\":{\"colorbar\":{\"outlinewidth\":0,\"ticks\":\"\"}},\"type\":\"scatter3d\"}],\"scattercarpet\":[{\"marker\":{\"colorbar\":{\"outlinewidth\":0,\"ticks\":\"\"}},\"type\":\"scattercarpet\"}],\"scattergeo\":[{\"marker\":{\"colorbar\":{\"outlinewidth\":0,\"ticks\":\"\"}},\"type\":\"scattergeo\"}],\"scattergl\":[{\"marker\":{\"colorbar\":{\"outlinewidth\":0,\"ticks\":\"\"}},\"type\":\"scattergl\"}],\"scattermapbox\":[{\"marker\":{\"colorbar\":{\"outlinewidth\":0,\"ticks\":\"\"}},\"type\":\"scattermapbox\"}],\"scatterpolargl\":[{\"marker\":{\"colorbar\":{\"outlinewidth\":0,\"ticks\":\"\"}},\"type\":\"scatterpolargl\"}],\"scatterpolar\":[{\"marker\":{\"colorbar\":{\"outlinewidth\":0,\"ticks\":\"\"}},\"type\":\"scatterpolar\"}],\"scatter\":[{\"marker\":{\"colorbar\":{\"outlinewidth\":0,\"ticks\":\"\"}},\"type\":\"scatter\"}],\"scatterternary\":[{\"marker\":{\"colorbar\":{\"outlinewidth\":0,\"ticks\":\"\"}},\"type\":\"scatterternary\"}],\"surface\":[{\"colorbar\":{\"outlinewidth\":0,\"ticks\":\"\"},\"colorscale\":[[0.0,\"#0d0887\"],[0.1111111111111111,\"#46039f\"],[0.2222222222222222,\"#7201a8\"],[0.3333333333333333,\"#9c179e\"],[0.4444444444444444,\"#bd3786\"],[0.5555555555555556,\"#d8576b\"],[0.6666666666666666,\"#ed7953\"],[0.7777777777777778,\"#fb9f3a\"],[0.8888888888888888,\"#fdca26\"],[1.0,\"#f0f921\"]],\"type\":\"surface\"}],\"table\":[{\"cells\":{\"fill\":{\"color\":\"#EBF0F8\"},\"line\":{\"color\":\"white\"}},\"header\":{\"fill\":{\"color\":\"#C8D4E3\"},\"line\":{\"color\":\"white\"}},\"type\":\"table\"}]},\"layout\":{\"annotationdefaults\":{\"arrowcolor\":\"#2a3f5f\",\"arrowhead\":0,\"arrowwidth\":1},\"autotypenumbers\":\"strict\",\"coloraxis\":{\"colorbar\":{\"outlinewidth\":0,\"ticks\":\"\"}},\"colorscale\":{\"diverging\":[[0,\"#8e0152\"],[0.1,\"#c51b7d\"],[0.2,\"#de77ae\"],[0.3,\"#f1b6da\"],[0.4,\"#fde0ef\"],[0.5,\"#f7f7f7\"],[0.6,\"#e6f5d0\"],[0.7,\"#b8e186\"],[0.8,\"#7fbc41\"],[0.9,\"#4d9221\"],[1,\"#276419\"]],\"sequential\":[[0.0,\"#0d0887\"],[0.1111111111111111,\"#46039f\"],[0.2222222222222222,\"#7201a8\"],[0.3333333333333333,\"#9c179e\"],[0.4444444444444444,\"#bd3786\"],[0.5555555555555556,\"#d8576b\"],[0.6666666666666666,\"#ed7953\"],[0.7777777777777778,\"#fb9f3a\"],[0.8888888888888888,\"#fdca26\"],[1.0,\"#f0f921\"]],\"sequentialminus\":[[0.0,\"#0d0887\"],[0.1111111111111111,\"#46039f\"],[0.2222222222222222,\"#7201a8\"],[0.3333333333333333,\"#9c179e\"],[0.4444444444444444,\"#bd3786\"],[0.5555555555555556,\"#d8576b\"],[0.6666666666666666,\"#ed7953\"],[0.7777777777777778,\"#fb9f3a\"],[0.8888888888888888,\"#fdca26\"],[1.0,\"#f0f921\"]]},\"colorway\":[\"#636efa\",\"#EF553B\",\"#00cc96\",\"#ab63fa\",\"#FFA15A\",\"#19d3f3\",\"#FF6692\",\"#B6E880\",\"#FF97FF\",\"#FECB52\"],\"font\":{\"color\":\"#2a3f5f\"},\"geo\":{\"bgcolor\":\"white\",\"lakecolor\":\"white\",\"landcolor\":\"#E5ECF6\",\"showlakes\":true,\"showland\":true,\"subunitcolor\":\"white\"},\"hoverlabel\":{\"align\":\"left\"},\"hovermode\":\"closest\",\"mapbox\":{\"style\":\"light\"},\"paper_bgcolor\":\"white\",\"plot_bgcolor\":\"#E5ECF6\",\"polar\":{\"angularaxis\":{\"gridcolor\":\"white\",\"linecolor\":\"white\",\"ticks\":\"\"},\"bgcolor\":\"#E5ECF6\",\"radialaxis\":{\"gridcolor\":\"white\",\"linecolor\":\"white\",\"ticks\":\"\"}},\"scene\":{\"xaxis\":{\"backgroundcolor\":\"#E5ECF6\",\"gridcolor\":\"white\",\"gridwidth\":2,\"linecolor\":\"white\",\"showbackground\":true,\"ticks\":\"\",\"zerolinecolor\":\"white\"},\"yaxis\":{\"backgroundcolor\":\"#E5ECF6\",\"gridcolor\":\"white\",\"gridwidth\":2,\"linecolor\":\"white\",\"showbackground\":true,\"ticks\":\"\",\"zerolinecolor\":\"white\"},\"zaxis\":{\"backgroundcolor\":\"#E5ECF6\",\"gridcolor\":\"white\",\"gridwidth\":2,\"linecolor\":\"white\",\"showbackground\":true,\"ticks\":\"\",\"zerolinecolor\":\"white\"}},\"shapedefaults\":{\"line\":{\"color\":\"#2a3f5f\"}},\"ternary\":{\"aaxis\":{\"gridcolor\":\"white\",\"linecolor\":\"white\",\"ticks\":\"\"},\"baxis\":{\"gridcolor\":\"white\",\"linecolor\":\"white\",\"ticks\":\"\"},\"bgcolor\":\"#E5ECF6\",\"caxis\":{\"gridcolor\":\"white\",\"linecolor\":\"white\",\"ticks\":\"\"}},\"title\":{\"x\":0.05},\"xaxis\":{\"automargin\":true,\"gridcolor\":\"white\",\"linecolor\":\"white\",\"ticks\":\"\",\"title\":{\"standoff\":15},\"zerolinecolor\":\"white\",\"zerolinewidth\":2},\"yaxis\":{\"automargin\":true,\"gridcolor\":\"white\",\"linecolor\":\"white\",\"ticks\":\"\",\"title\":{\"standoff\":15},\"zerolinecolor\":\"white\",\"zerolinewidth\":2}}},\"title\":{\"font\":{\"color\":\"#4D5663\"}},\"xaxis\":{\"gridcolor\":\"#E1E5ED\",\"showgrid\":true,\"tickfont\":{\"color\":\"#4D5663\"},\"title\":{\"font\":{\"color\":\"#4D5663\"},\"text\":\"\"},\"zerolinecolor\":\"#E1E5ED\"},\"yaxis\":{\"gridcolor\":\"#E1E5ED\",\"showgrid\":true,\"tickfont\":{\"color\":\"#4D5663\"},\"title\":{\"font\":{\"color\":\"#4D5663\"},\"text\":\"\"},\"zerolinecolor\":\"#E1E5ED\"}},                        {\"showLink\": true, \"linkText\": \"Export to plot.ly\", \"plotlyServerURL\": \"https://plot.ly\", \"responsive\": true}                    ).then(function(){\n",
       "                            \n",
       "var gd = document.getElementById('a1888073-1b53-45e9-aacb-8c9f2a6a8ac6');\n",
       "var x = new MutationObserver(function (mutations, observer) {{\n",
       "        var display = window.getComputedStyle(gd).display;\n",
       "        if (!display || display === 'none') {{\n",
       "            console.log([gd, 'removed!']);\n",
       "            Plotly.purge(gd);\n",
       "            observer.disconnect();\n",
       "        }}\n",
       "}});\n",
       "\n",
       "// Listen for the removal of the full notebook cells\n",
       "var notebookContainer = gd.closest('#notebook-container');\n",
       "if (notebookContainer) {{\n",
       "    x.observe(notebookContainer, {childList: true});\n",
       "}}\n",
       "\n",
       "// Listen for the clearing of the current output cell\n",
       "var outputEl = gd.closest('.output');\n",
       "if (outputEl) {{\n",
       "    x.observe(outputEl, {childList: true});\n",
       "}}\n",
       "\n",
       "                        })                };                });            </script>        </div>"
      ]
     },
     "metadata": {},
     "output_type": "display_data"
    }
   ],
   "source": [
    "df3.iplot(kind='surface')"
   ]
  },
  {
   "cell_type": "code",
   "execution_count": 35,
   "id": "cdf77eee",
   "metadata": {},
   "outputs": [
    {
     "data": {
      "application/vnd.plotly.v1+json": {
       "config": {
        "linkText": "Export to plot.ly",
        "plotlyServerURL": "https://plot.ly",
        "showLink": true
       },
       "data": [
        {
         "histfunc": "count",
         "histnorm": "",
         "marker": {
          "color": "rgba(255, 153, 51, 1.0)",
          "line": {
           "color": "#4D5663",
           "width": 1.3
          }
         },
         "name": "A",
         "opacity": 0.8,
         "orientation": "v",
         "type": "histogram",
         "x": [
          0.29679088647994234,
          -0.042206202349754085,
          0.05623496351276302,
          0.18396487905995018,
          1.9471896766346395,
          0.43208920801474165,
          1.6081901135096244,
          -0.33939886596474583,
          -0.005108983403875583,
          0.8530884673894046,
          -1.0049122922726699,
          -0.12868851992931754,
          1.7353868610859655,
          -0.08546583156278803,
          0.19057248696326243,
          -2.215582342343689,
          0.5808233212565269,
          0.5556244407586608,
          0.6393629473270924,
          0.8517397885188276,
          1.004772451678126,
          1.764774535802342,
          -1.5928023745870552,
          0.4490624254607539,
          -0.7527723767987775,
          -0.44542373319935846,
          0.34087288647274944,
          0.7583254810032551,
          1.1582430952918201,
          -0.3687962067699432,
          0.8684466366474232,
          1.1573101491711728,
          0.8106533155680704,
          0.49441830258067543,
          0.6885849650903538,
          -0.4702465281680946,
          0.7258776199325154,
          -2.229493254691975,
          -0.4286484838911737,
          -0.3528594259863507,
          -1.6078191886771733,
          1.7925932159412024,
          -1.4917867638583655,
          -0.8522939738286025,
          -0.3029444850990843,
          -0.15564219622621273,
          -0.8516913437553745,
          1.9066382724108697,
          -0.6264844604156597,
          0.06234625415648561,
          -3.6576914024430116,
          0.8489453033047615,
          0.6663080066373779,
          -2.794668362290301,
          -0.14340193607480287,
          0.46961643534909486,
          0.19466760147991485,
          -0.18305973698227745,
          0.2533686282037615,
          0.22681881963847014,
          -0.5853685803435907,
          1.2286869071151012,
          0.9278399975997879,
          -0.4069069923876818,
          0.2798037596885753,
          -1.440231742955656,
          -0.25905094443393784,
          -0.1670331195018515,
          -0.7801423654656153,
          -0.33638723727069586,
          0.1696828002144026,
          -1.6534073036946215,
          0.20741424731862965,
          -0.437475299257197,
          -0.605281305177192,
          1.2030690694557755,
          -1.6945689313328423,
          0.9344417133260021,
          0.46676346426075643,
          1.9170319083784906,
          0.34351232000814336,
          0.4415030752463328,
          -1.8460478325197323,
          0.8234785283616356,
          0.09775233667726059,
          0.4426520294879391,
          1.3332588195304493,
          0.6786094057326916,
          -1.072784991063228,
          0.1431368184337798,
          0.37685245253890953,
          -0.008279655793517674,
          -0.04025830813754167,
          -1.496699137527211,
          0.44668384965429475,
          0.8282233080065341,
          0.9187031152698922,
          0.07574685540103843,
          0.23778114530311967,
          1.1209179473646502
         ]
        }
       ],
       "layout": {
        "barmode": "overlay",
        "legend": {
         "bgcolor": "#F5F6F9",
         "font": {
          "color": "#4D5663"
         }
        },
        "paper_bgcolor": "#F5F6F9",
        "plot_bgcolor": "#F5F6F9",
        "template": {
         "data": {
          "bar": [
           {
            "error_x": {
             "color": "#2a3f5f"
            },
            "error_y": {
             "color": "#2a3f5f"
            },
            "marker": {
             "line": {
              "color": "#E5ECF6",
              "width": 0.5
             },
             "pattern": {
              "fillmode": "overlay",
              "size": 10,
              "solidity": 0.2
             }
            },
            "type": "bar"
           }
          ],
          "barpolar": [
           {
            "marker": {
             "line": {
              "color": "#E5ECF6",
              "width": 0.5
             },
             "pattern": {
              "fillmode": "overlay",
              "size": 10,
              "solidity": 0.2
             }
            },
            "type": "barpolar"
           }
          ],
          "carpet": [
           {
            "aaxis": {
             "endlinecolor": "#2a3f5f",
             "gridcolor": "white",
             "linecolor": "white",
             "minorgridcolor": "white",
             "startlinecolor": "#2a3f5f"
            },
            "baxis": {
             "endlinecolor": "#2a3f5f",
             "gridcolor": "white",
             "linecolor": "white",
             "minorgridcolor": "white",
             "startlinecolor": "#2a3f5f"
            },
            "type": "carpet"
           }
          ],
          "choropleth": [
           {
            "colorbar": {
             "outlinewidth": 0,
             "ticks": ""
            },
            "type": "choropleth"
           }
          ],
          "contour": [
           {
            "colorbar": {
             "outlinewidth": 0,
             "ticks": ""
            },
            "colorscale": [
             [
              0,
              "#0d0887"
             ],
             [
              0.1111111111111111,
              "#46039f"
             ],
             [
              0.2222222222222222,
              "#7201a8"
             ],
             [
              0.3333333333333333,
              "#9c179e"
             ],
             [
              0.4444444444444444,
              "#bd3786"
             ],
             [
              0.5555555555555556,
              "#d8576b"
             ],
             [
              0.6666666666666666,
              "#ed7953"
             ],
             [
              0.7777777777777778,
              "#fb9f3a"
             ],
             [
              0.8888888888888888,
              "#fdca26"
             ],
             [
              1,
              "#f0f921"
             ]
            ],
            "type": "contour"
           }
          ],
          "contourcarpet": [
           {
            "colorbar": {
             "outlinewidth": 0,
             "ticks": ""
            },
            "type": "contourcarpet"
           }
          ],
          "heatmap": [
           {
            "colorbar": {
             "outlinewidth": 0,
             "ticks": ""
            },
            "colorscale": [
             [
              0,
              "#0d0887"
             ],
             [
              0.1111111111111111,
              "#46039f"
             ],
             [
              0.2222222222222222,
              "#7201a8"
             ],
             [
              0.3333333333333333,
              "#9c179e"
             ],
             [
              0.4444444444444444,
              "#bd3786"
             ],
             [
              0.5555555555555556,
              "#d8576b"
             ],
             [
              0.6666666666666666,
              "#ed7953"
             ],
             [
              0.7777777777777778,
              "#fb9f3a"
             ],
             [
              0.8888888888888888,
              "#fdca26"
             ],
             [
              1,
              "#f0f921"
             ]
            ],
            "type": "heatmap"
           }
          ],
          "heatmapgl": [
           {
            "colorbar": {
             "outlinewidth": 0,
             "ticks": ""
            },
            "colorscale": [
             [
              0,
              "#0d0887"
             ],
             [
              0.1111111111111111,
              "#46039f"
             ],
             [
              0.2222222222222222,
              "#7201a8"
             ],
             [
              0.3333333333333333,
              "#9c179e"
             ],
             [
              0.4444444444444444,
              "#bd3786"
             ],
             [
              0.5555555555555556,
              "#d8576b"
             ],
             [
              0.6666666666666666,
              "#ed7953"
             ],
             [
              0.7777777777777778,
              "#fb9f3a"
             ],
             [
              0.8888888888888888,
              "#fdca26"
             ],
             [
              1,
              "#f0f921"
             ]
            ],
            "type": "heatmapgl"
           }
          ],
          "histogram": [
           {
            "marker": {
             "pattern": {
              "fillmode": "overlay",
              "size": 10,
              "solidity": 0.2
             }
            },
            "type": "histogram"
           }
          ],
          "histogram2d": [
           {
            "colorbar": {
             "outlinewidth": 0,
             "ticks": ""
            },
            "colorscale": [
             [
              0,
              "#0d0887"
             ],
             [
              0.1111111111111111,
              "#46039f"
             ],
             [
              0.2222222222222222,
              "#7201a8"
             ],
             [
              0.3333333333333333,
              "#9c179e"
             ],
             [
              0.4444444444444444,
              "#bd3786"
             ],
             [
              0.5555555555555556,
              "#d8576b"
             ],
             [
              0.6666666666666666,
              "#ed7953"
             ],
             [
              0.7777777777777778,
              "#fb9f3a"
             ],
             [
              0.8888888888888888,
              "#fdca26"
             ],
             [
              1,
              "#f0f921"
             ]
            ],
            "type": "histogram2d"
           }
          ],
          "histogram2dcontour": [
           {
            "colorbar": {
             "outlinewidth": 0,
             "ticks": ""
            },
            "colorscale": [
             [
              0,
              "#0d0887"
             ],
             [
              0.1111111111111111,
              "#46039f"
             ],
             [
              0.2222222222222222,
              "#7201a8"
             ],
             [
              0.3333333333333333,
              "#9c179e"
             ],
             [
              0.4444444444444444,
              "#bd3786"
             ],
             [
              0.5555555555555556,
              "#d8576b"
             ],
             [
              0.6666666666666666,
              "#ed7953"
             ],
             [
              0.7777777777777778,
              "#fb9f3a"
             ],
             [
              0.8888888888888888,
              "#fdca26"
             ],
             [
              1,
              "#f0f921"
             ]
            ],
            "type": "histogram2dcontour"
           }
          ],
          "mesh3d": [
           {
            "colorbar": {
             "outlinewidth": 0,
             "ticks": ""
            },
            "type": "mesh3d"
           }
          ],
          "parcoords": [
           {
            "line": {
             "colorbar": {
              "outlinewidth": 0,
              "ticks": ""
             }
            },
            "type": "parcoords"
           }
          ],
          "pie": [
           {
            "automargin": true,
            "type": "pie"
           }
          ],
          "scatter": [
           {
            "marker": {
             "colorbar": {
              "outlinewidth": 0,
              "ticks": ""
             }
            },
            "type": "scatter"
           }
          ],
          "scatter3d": [
           {
            "line": {
             "colorbar": {
              "outlinewidth": 0,
              "ticks": ""
             }
            },
            "marker": {
             "colorbar": {
              "outlinewidth": 0,
              "ticks": ""
             }
            },
            "type": "scatter3d"
           }
          ],
          "scattercarpet": [
           {
            "marker": {
             "colorbar": {
              "outlinewidth": 0,
              "ticks": ""
             }
            },
            "type": "scattercarpet"
           }
          ],
          "scattergeo": [
           {
            "marker": {
             "colorbar": {
              "outlinewidth": 0,
              "ticks": ""
             }
            },
            "type": "scattergeo"
           }
          ],
          "scattergl": [
           {
            "marker": {
             "colorbar": {
              "outlinewidth": 0,
              "ticks": ""
             }
            },
            "type": "scattergl"
           }
          ],
          "scattermapbox": [
           {
            "marker": {
             "colorbar": {
              "outlinewidth": 0,
              "ticks": ""
             }
            },
            "type": "scattermapbox"
           }
          ],
          "scatterpolar": [
           {
            "marker": {
             "colorbar": {
              "outlinewidth": 0,
              "ticks": ""
             }
            },
            "type": "scatterpolar"
           }
          ],
          "scatterpolargl": [
           {
            "marker": {
             "colorbar": {
              "outlinewidth": 0,
              "ticks": ""
             }
            },
            "type": "scatterpolargl"
           }
          ],
          "scatterternary": [
           {
            "marker": {
             "colorbar": {
              "outlinewidth": 0,
              "ticks": ""
             }
            },
            "type": "scatterternary"
           }
          ],
          "surface": [
           {
            "colorbar": {
             "outlinewidth": 0,
             "ticks": ""
            },
            "colorscale": [
             [
              0,
              "#0d0887"
             ],
             [
              0.1111111111111111,
              "#46039f"
             ],
             [
              0.2222222222222222,
              "#7201a8"
             ],
             [
              0.3333333333333333,
              "#9c179e"
             ],
             [
              0.4444444444444444,
              "#bd3786"
             ],
             [
              0.5555555555555556,
              "#d8576b"
             ],
             [
              0.6666666666666666,
              "#ed7953"
             ],
             [
              0.7777777777777778,
              "#fb9f3a"
             ],
             [
              0.8888888888888888,
              "#fdca26"
             ],
             [
              1,
              "#f0f921"
             ]
            ],
            "type": "surface"
           }
          ],
          "table": [
           {
            "cells": {
             "fill": {
              "color": "#EBF0F8"
             },
             "line": {
              "color": "white"
             }
            },
            "header": {
             "fill": {
              "color": "#C8D4E3"
             },
             "line": {
              "color": "white"
             }
            },
            "type": "table"
           }
          ]
         },
         "layout": {
          "annotationdefaults": {
           "arrowcolor": "#2a3f5f",
           "arrowhead": 0,
           "arrowwidth": 1
          },
          "autotypenumbers": "strict",
          "coloraxis": {
           "colorbar": {
            "outlinewidth": 0,
            "ticks": ""
           }
          },
          "colorscale": {
           "diverging": [
            [
             0,
             "#8e0152"
            ],
            [
             0.1,
             "#c51b7d"
            ],
            [
             0.2,
             "#de77ae"
            ],
            [
             0.3,
             "#f1b6da"
            ],
            [
             0.4,
             "#fde0ef"
            ],
            [
             0.5,
             "#f7f7f7"
            ],
            [
             0.6,
             "#e6f5d0"
            ],
            [
             0.7,
             "#b8e186"
            ],
            [
             0.8,
             "#7fbc41"
            ],
            [
             0.9,
             "#4d9221"
            ],
            [
             1,
             "#276419"
            ]
           ],
           "sequential": [
            [
             0,
             "#0d0887"
            ],
            [
             0.1111111111111111,
             "#46039f"
            ],
            [
             0.2222222222222222,
             "#7201a8"
            ],
            [
             0.3333333333333333,
             "#9c179e"
            ],
            [
             0.4444444444444444,
             "#bd3786"
            ],
            [
             0.5555555555555556,
             "#d8576b"
            ],
            [
             0.6666666666666666,
             "#ed7953"
            ],
            [
             0.7777777777777778,
             "#fb9f3a"
            ],
            [
             0.8888888888888888,
             "#fdca26"
            ],
            [
             1,
             "#f0f921"
            ]
           ],
           "sequentialminus": [
            [
             0,
             "#0d0887"
            ],
            [
             0.1111111111111111,
             "#46039f"
            ],
            [
             0.2222222222222222,
             "#7201a8"
            ],
            [
             0.3333333333333333,
             "#9c179e"
            ],
            [
             0.4444444444444444,
             "#bd3786"
            ],
            [
             0.5555555555555556,
             "#d8576b"
            ],
            [
             0.6666666666666666,
             "#ed7953"
            ],
            [
             0.7777777777777778,
             "#fb9f3a"
            ],
            [
             0.8888888888888888,
             "#fdca26"
            ],
            [
             1,
             "#f0f921"
            ]
           ]
          },
          "colorway": [
           "#636efa",
           "#EF553B",
           "#00cc96",
           "#ab63fa",
           "#FFA15A",
           "#19d3f3",
           "#FF6692",
           "#B6E880",
           "#FF97FF",
           "#FECB52"
          ],
          "font": {
           "color": "#2a3f5f"
          },
          "geo": {
           "bgcolor": "white",
           "lakecolor": "white",
           "landcolor": "#E5ECF6",
           "showlakes": true,
           "showland": true,
           "subunitcolor": "white"
          },
          "hoverlabel": {
           "align": "left"
          },
          "hovermode": "closest",
          "mapbox": {
           "style": "light"
          },
          "paper_bgcolor": "white",
          "plot_bgcolor": "#E5ECF6",
          "polar": {
           "angularaxis": {
            "gridcolor": "white",
            "linecolor": "white",
            "ticks": ""
           },
           "bgcolor": "#E5ECF6",
           "radialaxis": {
            "gridcolor": "white",
            "linecolor": "white",
            "ticks": ""
           }
          },
          "scene": {
           "xaxis": {
            "backgroundcolor": "#E5ECF6",
            "gridcolor": "white",
            "gridwidth": 2,
            "linecolor": "white",
            "showbackground": true,
            "ticks": "",
            "zerolinecolor": "white"
           },
           "yaxis": {
            "backgroundcolor": "#E5ECF6",
            "gridcolor": "white",
            "gridwidth": 2,
            "linecolor": "white",
            "showbackground": true,
            "ticks": "",
            "zerolinecolor": "white"
           },
           "zaxis": {
            "backgroundcolor": "#E5ECF6",
            "gridcolor": "white",
            "gridwidth": 2,
            "linecolor": "white",
            "showbackground": true,
            "ticks": "",
            "zerolinecolor": "white"
           }
          },
          "shapedefaults": {
           "line": {
            "color": "#2a3f5f"
           }
          },
          "ternary": {
           "aaxis": {
            "gridcolor": "white",
            "linecolor": "white",
            "ticks": ""
           },
           "baxis": {
            "gridcolor": "white",
            "linecolor": "white",
            "ticks": ""
           },
           "bgcolor": "#E5ECF6",
           "caxis": {
            "gridcolor": "white",
            "linecolor": "white",
            "ticks": ""
           }
          },
          "title": {
           "x": 0.05
          },
          "xaxis": {
           "automargin": true,
           "gridcolor": "white",
           "linecolor": "white",
           "ticks": "",
           "title": {
            "standoff": 15
           },
           "zerolinecolor": "white",
           "zerolinewidth": 2
          },
          "yaxis": {
           "automargin": true,
           "gridcolor": "white",
           "linecolor": "white",
           "ticks": "",
           "title": {
            "standoff": 15
           },
           "zerolinecolor": "white",
           "zerolinewidth": 2
          }
         }
        },
        "title": {
         "font": {
          "color": "#4D5663"
         }
        },
        "xaxis": {
         "gridcolor": "#E1E5ED",
         "showgrid": true,
         "tickfont": {
          "color": "#4D5663"
         },
         "title": {
          "font": {
           "color": "#4D5663"
          },
          "text": ""
         },
         "zerolinecolor": "#E1E5ED"
        },
        "yaxis": {
         "gridcolor": "#E1E5ED",
         "showgrid": true,
         "tickfont": {
          "color": "#4D5663"
         },
         "title": {
          "font": {
           "color": "#4D5663"
          },
          "text": ""
         },
         "zerolinecolor": "#E1E5ED"
        }
       }
      },
      "text/html": [
       "<div>                            <div id=\"f74d5b0d-0ede-486b-83a6-c56d2a0de3ca\" class=\"plotly-graph-div\" style=\"height:525px; width:100%;\"></div>            <script type=\"text/javascript\">                require([\"plotly\"], function(Plotly) {                    window.PLOTLYENV=window.PLOTLYENV || {};\n",
       "                    window.PLOTLYENV.BASE_URL='https://plot.ly';                                    if (document.getElementById(\"f74d5b0d-0ede-486b-83a6-c56d2a0de3ca\")) {                    Plotly.newPlot(                        \"f74d5b0d-0ede-486b-83a6-c56d2a0de3ca\",                        [{\"histfunc\":\"count\",\"histnorm\":\"\",\"marker\":{\"color\":\"rgba(255, 153, 51, 1.0)\",\"line\":{\"color\":\"#4D5663\",\"width\":1.3}},\"name\":\"A\",\"opacity\":0.8,\"orientation\":\"v\",\"x\":[0.29679088647994234,-0.042206202349754085,0.05623496351276302,0.18396487905995018,1.9471896766346395,0.43208920801474165,1.6081901135096244,-0.33939886596474583,-0.005108983403875583,0.8530884673894046,-1.0049122922726699,-0.12868851992931754,1.7353868610859655,-0.08546583156278803,0.19057248696326243,-2.215582342343689,0.5808233212565269,0.5556244407586608,0.6393629473270924,0.8517397885188276,1.004772451678126,1.764774535802342,-1.5928023745870552,0.4490624254607539,-0.7527723767987775,-0.44542373319935846,0.34087288647274944,0.7583254810032551,1.1582430952918201,-0.3687962067699432,0.8684466366474232,1.1573101491711728,0.8106533155680704,0.49441830258067543,0.6885849650903538,-0.4702465281680946,0.7258776199325154,-2.229493254691975,-0.4286484838911737,-0.3528594259863507,-1.6078191886771733,1.7925932159412024,-1.4917867638583655,-0.8522939738286025,-0.3029444850990843,-0.15564219622621273,-0.8516913437553745,1.9066382724108697,-0.6264844604156597,0.06234625415648561,-3.6576914024430116,0.8489453033047615,0.6663080066373779,-2.794668362290301,-0.14340193607480287,0.46961643534909486,0.19466760147991485,-0.18305973698227745,0.2533686282037615,0.22681881963847014,-0.5853685803435907,1.2286869071151012,0.9278399975997879,-0.4069069923876818,0.2798037596885753,-1.440231742955656,-0.25905094443393784,-0.1670331195018515,-0.7801423654656153,-0.33638723727069586,0.1696828002144026,-1.6534073036946215,0.20741424731862965,-0.437475299257197,-0.605281305177192,1.2030690694557755,-1.6945689313328423,0.9344417133260021,0.46676346426075643,1.9170319083784906,0.34351232000814336,0.4415030752463328,-1.8460478325197323,0.8234785283616356,0.09775233667726059,0.4426520294879391,1.3332588195304493,0.6786094057326916,-1.072784991063228,0.1431368184337798,0.37685245253890953,-0.008279655793517674,-0.04025830813754167,-1.496699137527211,0.44668384965429475,0.8282233080065341,0.9187031152698922,0.07574685540103843,0.23778114530311967,1.1209179473646502],\"type\":\"histogram\"}],                        {\"barmode\":\"overlay\",\"legend\":{\"bgcolor\":\"#F5F6F9\",\"font\":{\"color\":\"#4D5663\"}},\"paper_bgcolor\":\"#F5F6F9\",\"plot_bgcolor\":\"#F5F6F9\",\"template\":{\"data\":{\"barpolar\":[{\"marker\":{\"line\":{\"color\":\"#E5ECF6\",\"width\":0.5},\"pattern\":{\"fillmode\":\"overlay\",\"size\":10,\"solidity\":0.2}},\"type\":\"barpolar\"}],\"bar\":[{\"error_x\":{\"color\":\"#2a3f5f\"},\"error_y\":{\"color\":\"#2a3f5f\"},\"marker\":{\"line\":{\"color\":\"#E5ECF6\",\"width\":0.5},\"pattern\":{\"fillmode\":\"overlay\",\"size\":10,\"solidity\":0.2}},\"type\":\"bar\"}],\"carpet\":[{\"aaxis\":{\"endlinecolor\":\"#2a3f5f\",\"gridcolor\":\"white\",\"linecolor\":\"white\",\"minorgridcolor\":\"white\",\"startlinecolor\":\"#2a3f5f\"},\"baxis\":{\"endlinecolor\":\"#2a3f5f\",\"gridcolor\":\"white\",\"linecolor\":\"white\",\"minorgridcolor\":\"white\",\"startlinecolor\":\"#2a3f5f\"},\"type\":\"carpet\"}],\"choropleth\":[{\"colorbar\":{\"outlinewidth\":0,\"ticks\":\"\"},\"type\":\"choropleth\"}],\"contourcarpet\":[{\"colorbar\":{\"outlinewidth\":0,\"ticks\":\"\"},\"type\":\"contourcarpet\"}],\"contour\":[{\"colorbar\":{\"outlinewidth\":0,\"ticks\":\"\"},\"colorscale\":[[0.0,\"#0d0887\"],[0.1111111111111111,\"#46039f\"],[0.2222222222222222,\"#7201a8\"],[0.3333333333333333,\"#9c179e\"],[0.4444444444444444,\"#bd3786\"],[0.5555555555555556,\"#d8576b\"],[0.6666666666666666,\"#ed7953\"],[0.7777777777777778,\"#fb9f3a\"],[0.8888888888888888,\"#fdca26\"],[1.0,\"#f0f921\"]],\"type\":\"contour\"}],\"heatmapgl\":[{\"colorbar\":{\"outlinewidth\":0,\"ticks\":\"\"},\"colorscale\":[[0.0,\"#0d0887\"],[0.1111111111111111,\"#46039f\"],[0.2222222222222222,\"#7201a8\"],[0.3333333333333333,\"#9c179e\"],[0.4444444444444444,\"#bd3786\"],[0.5555555555555556,\"#d8576b\"],[0.6666666666666666,\"#ed7953\"],[0.7777777777777778,\"#fb9f3a\"],[0.8888888888888888,\"#fdca26\"],[1.0,\"#f0f921\"]],\"type\":\"heatmapgl\"}],\"heatmap\":[{\"colorbar\":{\"outlinewidth\":0,\"ticks\":\"\"},\"colorscale\":[[0.0,\"#0d0887\"],[0.1111111111111111,\"#46039f\"],[0.2222222222222222,\"#7201a8\"],[0.3333333333333333,\"#9c179e\"],[0.4444444444444444,\"#bd3786\"],[0.5555555555555556,\"#d8576b\"],[0.6666666666666666,\"#ed7953\"],[0.7777777777777778,\"#fb9f3a\"],[0.8888888888888888,\"#fdca26\"],[1.0,\"#f0f921\"]],\"type\":\"heatmap\"}],\"histogram2dcontour\":[{\"colorbar\":{\"outlinewidth\":0,\"ticks\":\"\"},\"colorscale\":[[0.0,\"#0d0887\"],[0.1111111111111111,\"#46039f\"],[0.2222222222222222,\"#7201a8\"],[0.3333333333333333,\"#9c179e\"],[0.4444444444444444,\"#bd3786\"],[0.5555555555555556,\"#d8576b\"],[0.6666666666666666,\"#ed7953\"],[0.7777777777777778,\"#fb9f3a\"],[0.8888888888888888,\"#fdca26\"],[1.0,\"#f0f921\"]],\"type\":\"histogram2dcontour\"}],\"histogram2d\":[{\"colorbar\":{\"outlinewidth\":0,\"ticks\":\"\"},\"colorscale\":[[0.0,\"#0d0887\"],[0.1111111111111111,\"#46039f\"],[0.2222222222222222,\"#7201a8\"],[0.3333333333333333,\"#9c179e\"],[0.4444444444444444,\"#bd3786\"],[0.5555555555555556,\"#d8576b\"],[0.6666666666666666,\"#ed7953\"],[0.7777777777777778,\"#fb9f3a\"],[0.8888888888888888,\"#fdca26\"],[1.0,\"#f0f921\"]],\"type\":\"histogram2d\"}],\"histogram\":[{\"marker\":{\"pattern\":{\"fillmode\":\"overlay\",\"size\":10,\"solidity\":0.2}},\"type\":\"histogram\"}],\"mesh3d\":[{\"colorbar\":{\"outlinewidth\":0,\"ticks\":\"\"},\"type\":\"mesh3d\"}],\"parcoords\":[{\"line\":{\"colorbar\":{\"outlinewidth\":0,\"ticks\":\"\"}},\"type\":\"parcoords\"}],\"pie\":[{\"automargin\":true,\"type\":\"pie\"}],\"scatter3d\":[{\"line\":{\"colorbar\":{\"outlinewidth\":0,\"ticks\":\"\"}},\"marker\":{\"colorbar\":{\"outlinewidth\":0,\"ticks\":\"\"}},\"type\":\"scatter3d\"}],\"scattercarpet\":[{\"marker\":{\"colorbar\":{\"outlinewidth\":0,\"ticks\":\"\"}},\"type\":\"scattercarpet\"}],\"scattergeo\":[{\"marker\":{\"colorbar\":{\"outlinewidth\":0,\"ticks\":\"\"}},\"type\":\"scattergeo\"}],\"scattergl\":[{\"marker\":{\"colorbar\":{\"outlinewidth\":0,\"ticks\":\"\"}},\"type\":\"scattergl\"}],\"scattermapbox\":[{\"marker\":{\"colorbar\":{\"outlinewidth\":0,\"ticks\":\"\"}},\"type\":\"scattermapbox\"}],\"scatterpolargl\":[{\"marker\":{\"colorbar\":{\"outlinewidth\":0,\"ticks\":\"\"}},\"type\":\"scatterpolargl\"}],\"scatterpolar\":[{\"marker\":{\"colorbar\":{\"outlinewidth\":0,\"ticks\":\"\"}},\"type\":\"scatterpolar\"}],\"scatter\":[{\"marker\":{\"colorbar\":{\"outlinewidth\":0,\"ticks\":\"\"}},\"type\":\"scatter\"}],\"scatterternary\":[{\"marker\":{\"colorbar\":{\"outlinewidth\":0,\"ticks\":\"\"}},\"type\":\"scatterternary\"}],\"surface\":[{\"colorbar\":{\"outlinewidth\":0,\"ticks\":\"\"},\"colorscale\":[[0.0,\"#0d0887\"],[0.1111111111111111,\"#46039f\"],[0.2222222222222222,\"#7201a8\"],[0.3333333333333333,\"#9c179e\"],[0.4444444444444444,\"#bd3786\"],[0.5555555555555556,\"#d8576b\"],[0.6666666666666666,\"#ed7953\"],[0.7777777777777778,\"#fb9f3a\"],[0.8888888888888888,\"#fdca26\"],[1.0,\"#f0f921\"]],\"type\":\"surface\"}],\"table\":[{\"cells\":{\"fill\":{\"color\":\"#EBF0F8\"},\"line\":{\"color\":\"white\"}},\"header\":{\"fill\":{\"color\":\"#C8D4E3\"},\"line\":{\"color\":\"white\"}},\"type\":\"table\"}]},\"layout\":{\"annotationdefaults\":{\"arrowcolor\":\"#2a3f5f\",\"arrowhead\":0,\"arrowwidth\":1},\"autotypenumbers\":\"strict\",\"coloraxis\":{\"colorbar\":{\"outlinewidth\":0,\"ticks\":\"\"}},\"colorscale\":{\"diverging\":[[0,\"#8e0152\"],[0.1,\"#c51b7d\"],[0.2,\"#de77ae\"],[0.3,\"#f1b6da\"],[0.4,\"#fde0ef\"],[0.5,\"#f7f7f7\"],[0.6,\"#e6f5d0\"],[0.7,\"#b8e186\"],[0.8,\"#7fbc41\"],[0.9,\"#4d9221\"],[1,\"#276419\"]],\"sequential\":[[0.0,\"#0d0887\"],[0.1111111111111111,\"#46039f\"],[0.2222222222222222,\"#7201a8\"],[0.3333333333333333,\"#9c179e\"],[0.4444444444444444,\"#bd3786\"],[0.5555555555555556,\"#d8576b\"],[0.6666666666666666,\"#ed7953\"],[0.7777777777777778,\"#fb9f3a\"],[0.8888888888888888,\"#fdca26\"],[1.0,\"#f0f921\"]],\"sequentialminus\":[[0.0,\"#0d0887\"],[0.1111111111111111,\"#46039f\"],[0.2222222222222222,\"#7201a8\"],[0.3333333333333333,\"#9c179e\"],[0.4444444444444444,\"#bd3786\"],[0.5555555555555556,\"#d8576b\"],[0.6666666666666666,\"#ed7953\"],[0.7777777777777778,\"#fb9f3a\"],[0.8888888888888888,\"#fdca26\"],[1.0,\"#f0f921\"]]},\"colorway\":[\"#636efa\",\"#EF553B\",\"#00cc96\",\"#ab63fa\",\"#FFA15A\",\"#19d3f3\",\"#FF6692\",\"#B6E880\",\"#FF97FF\",\"#FECB52\"],\"font\":{\"color\":\"#2a3f5f\"},\"geo\":{\"bgcolor\":\"white\",\"lakecolor\":\"white\",\"landcolor\":\"#E5ECF6\",\"showlakes\":true,\"showland\":true,\"subunitcolor\":\"white\"},\"hoverlabel\":{\"align\":\"left\"},\"hovermode\":\"closest\",\"mapbox\":{\"style\":\"light\"},\"paper_bgcolor\":\"white\",\"plot_bgcolor\":\"#E5ECF6\",\"polar\":{\"angularaxis\":{\"gridcolor\":\"white\",\"linecolor\":\"white\",\"ticks\":\"\"},\"bgcolor\":\"#E5ECF6\",\"radialaxis\":{\"gridcolor\":\"white\",\"linecolor\":\"white\",\"ticks\":\"\"}},\"scene\":{\"xaxis\":{\"backgroundcolor\":\"#E5ECF6\",\"gridcolor\":\"white\",\"gridwidth\":2,\"linecolor\":\"white\",\"showbackground\":true,\"ticks\":\"\",\"zerolinecolor\":\"white\"},\"yaxis\":{\"backgroundcolor\":\"#E5ECF6\",\"gridcolor\":\"white\",\"gridwidth\":2,\"linecolor\":\"white\",\"showbackground\":true,\"ticks\":\"\",\"zerolinecolor\":\"white\"},\"zaxis\":{\"backgroundcolor\":\"#E5ECF6\",\"gridcolor\":\"white\",\"gridwidth\":2,\"linecolor\":\"white\",\"showbackground\":true,\"ticks\":\"\",\"zerolinecolor\":\"white\"}},\"shapedefaults\":{\"line\":{\"color\":\"#2a3f5f\"}},\"ternary\":{\"aaxis\":{\"gridcolor\":\"white\",\"linecolor\":\"white\",\"ticks\":\"\"},\"baxis\":{\"gridcolor\":\"white\",\"linecolor\":\"white\",\"ticks\":\"\"},\"bgcolor\":\"#E5ECF6\",\"caxis\":{\"gridcolor\":\"white\",\"linecolor\":\"white\",\"ticks\":\"\"}},\"title\":{\"x\":0.05},\"xaxis\":{\"automargin\":true,\"gridcolor\":\"white\",\"linecolor\":\"white\",\"ticks\":\"\",\"title\":{\"standoff\":15},\"zerolinecolor\":\"white\",\"zerolinewidth\":2},\"yaxis\":{\"automargin\":true,\"gridcolor\":\"white\",\"linecolor\":\"white\",\"ticks\":\"\",\"title\":{\"standoff\":15},\"zerolinecolor\":\"white\",\"zerolinewidth\":2}}},\"title\":{\"font\":{\"color\":\"#4D5663\"}},\"xaxis\":{\"gridcolor\":\"#E1E5ED\",\"showgrid\":true,\"tickfont\":{\"color\":\"#4D5663\"},\"title\":{\"font\":{\"color\":\"#4D5663\"},\"text\":\"\"},\"zerolinecolor\":\"#E1E5ED\"},\"yaxis\":{\"gridcolor\":\"#E1E5ED\",\"showgrid\":true,\"tickfont\":{\"color\":\"#4D5663\"},\"title\":{\"font\":{\"color\":\"#4D5663\"},\"text\":\"\"},\"zerolinecolor\":\"#E1E5ED\"}},                        {\"showLink\": true, \"linkText\": \"Export to plot.ly\", \"plotlyServerURL\": \"https://plot.ly\", \"responsive\": true}                    ).then(function(){\n",
       "                            \n",
       "var gd = document.getElementById('f74d5b0d-0ede-486b-83a6-c56d2a0de3ca');\n",
       "var x = new MutationObserver(function (mutations, observer) {{\n",
       "        var display = window.getComputedStyle(gd).display;\n",
       "        if (!display || display === 'none') {{\n",
       "            console.log([gd, 'removed!']);\n",
       "            Plotly.purge(gd);\n",
       "            observer.disconnect();\n",
       "        }}\n",
       "}});\n",
       "\n",
       "// Listen for the removal of the full notebook cells\n",
       "var notebookContainer = gd.closest('#notebook-container');\n",
       "if (notebookContainer) {{\n",
       "    x.observe(notebookContainer, {childList: true});\n",
       "}}\n",
       "\n",
       "// Listen for the clearing of the current output cell\n",
       "var outputEl = gd.closest('.output');\n",
       "if (outputEl) {{\n",
       "    x.observe(outputEl, {childList: true});\n",
       "}}\n",
       "\n",
       "                        })                };                });            </script>        </div>"
      ]
     },
     "metadata": {},
     "output_type": "display_data"
    }
   ],
   "source": [
    "df['A'].iplot(kind='hist')"
   ]
  },
  {
   "cell_type": "code",
   "execution_count": 37,
   "id": "e359e50c",
   "metadata": {},
   "outputs": [
    {
     "name": "stderr",
     "output_type": "stream",
     "text": [
      "/Users/perimtemizoz/opt/anaconda3/lib/python3.9/site-packages/cufflinks/plotlytools.py:849: FutureWarning:\n",
      "\n",
      "The pandas.np module is deprecated and will be removed from pandas in a future version. Import numpy directly instead\n",
      "\n",
      "/Users/perimtemizoz/opt/anaconda3/lib/python3.9/site-packages/cufflinks/plotlytools.py:850: FutureWarning:\n",
      "\n",
      "The pandas.np module is deprecated and will be removed from pandas in a future version. Import numpy directly instead\n",
      "\n"
     ]
    },
    {
     "data": {
      "application/vnd.plotly.v1+json": {
       "config": {
        "linkText": "Export to plot.ly",
        "plotlyServerURL": "https://plot.ly",
        "showLink": true
       },
       "data": [
        {
         "line": {
          "color": "rgba(255, 153, 51, 1.0)",
          "dash": "solid",
          "shape": "linear",
          "width": 1.3
         },
         "mode": "lines",
         "name": "A",
         "text": "",
         "type": "scatter",
         "x": [
          0,
          1,
          2,
          3,
          4,
          5,
          6,
          7,
          8,
          9,
          10,
          11,
          12,
          13,
          14,
          15,
          16,
          17,
          18,
          19,
          20,
          21,
          22,
          23,
          24,
          25,
          26,
          27,
          28,
          29,
          30,
          31,
          32,
          33,
          34,
          35,
          36,
          37,
          38,
          39,
          40,
          41,
          42,
          43,
          44,
          45,
          46,
          47,
          48,
          49,
          50,
          51,
          52,
          53,
          54,
          55,
          56,
          57,
          58,
          59,
          60,
          61,
          62,
          63,
          64,
          65,
          66,
          67,
          68,
          69,
          70,
          71,
          72,
          73,
          74,
          75,
          76,
          77,
          78,
          79,
          80,
          81,
          82,
          83,
          84,
          85,
          86,
          87,
          88,
          89,
          90,
          91,
          92,
          93,
          94,
          95,
          96,
          97,
          98,
          99
         ],
         "y": [
          0.29679088647994234,
          -0.042206202349754085,
          0.05623496351276302,
          0.18396487905995018,
          1.9471896766346395,
          0.43208920801474165,
          1.6081901135096244,
          -0.33939886596474583,
          -0.005108983403875583,
          0.8530884673894046,
          -1.0049122922726699,
          -0.12868851992931754,
          1.7353868610859655,
          -0.08546583156278803,
          0.19057248696326243,
          -2.215582342343689,
          0.5808233212565269,
          0.5556244407586608,
          0.6393629473270924,
          0.8517397885188276,
          1.004772451678126,
          1.764774535802342,
          -1.5928023745870552,
          0.4490624254607539,
          -0.7527723767987775,
          -0.44542373319935846,
          0.34087288647274944,
          0.7583254810032551,
          1.1582430952918201,
          -0.3687962067699432,
          0.8684466366474232,
          1.1573101491711728,
          0.8106533155680704,
          0.49441830258067543,
          0.6885849650903538,
          -0.4702465281680946,
          0.7258776199325154,
          -2.229493254691975,
          -0.4286484838911737,
          -0.3528594259863507,
          -1.6078191886771733,
          1.7925932159412024,
          -1.4917867638583655,
          -0.8522939738286025,
          -0.3029444850990843,
          -0.15564219622621273,
          -0.8516913437553745,
          1.9066382724108697,
          -0.6264844604156597,
          0.06234625415648561,
          -3.6576914024430116,
          0.8489453033047615,
          0.6663080066373779,
          -2.794668362290301,
          -0.14340193607480287,
          0.46961643534909486,
          0.19466760147991485,
          -0.18305973698227745,
          0.2533686282037615,
          0.22681881963847014,
          -0.5853685803435907,
          1.2286869071151012,
          0.9278399975997879,
          -0.4069069923876818,
          0.2798037596885753,
          -1.440231742955656,
          -0.25905094443393784,
          -0.1670331195018515,
          -0.7801423654656153,
          -0.33638723727069586,
          0.1696828002144026,
          -1.6534073036946215,
          0.20741424731862965,
          -0.437475299257197,
          -0.605281305177192,
          1.2030690694557755,
          -1.6945689313328423,
          0.9344417133260021,
          0.46676346426075643,
          1.9170319083784906,
          0.34351232000814336,
          0.4415030752463328,
          -1.8460478325197323,
          0.8234785283616356,
          0.09775233667726059,
          0.4426520294879391,
          1.3332588195304493,
          0.6786094057326916,
          -1.072784991063228,
          0.1431368184337798,
          0.37685245253890953,
          -0.008279655793517674,
          -0.04025830813754167,
          -1.496699137527211,
          0.44668384965429475,
          0.8282233080065341,
          0.9187031152698922,
          0.07574685540103843,
          0.23778114530311967,
          1.1209179473646502
         ]
        },
        {
         "line": {
          "color": "rgba(55, 128, 191, 1.0)",
          "dash": "solid",
          "shape": "linear",
          "width": 1.3
         },
         "mode": "lines",
         "name": "B",
         "text": "",
         "type": "scatter",
         "x": [
          0,
          1,
          2,
          3,
          4,
          5,
          6,
          7,
          8,
          9,
          10,
          11,
          12,
          13,
          14,
          15,
          16,
          17,
          18,
          19,
          20,
          21,
          22,
          23,
          24,
          25,
          26,
          27,
          28,
          29,
          30,
          31,
          32,
          33,
          34,
          35,
          36,
          37,
          38,
          39,
          40,
          41,
          42,
          43,
          44,
          45,
          46,
          47,
          48,
          49,
          50,
          51,
          52,
          53,
          54,
          55,
          56,
          57,
          58,
          59,
          60,
          61,
          62,
          63,
          64,
          65,
          66,
          67,
          68,
          69,
          70,
          71,
          72,
          73,
          74,
          75,
          76,
          77,
          78,
          79,
          80,
          81,
          82,
          83,
          84,
          85,
          86,
          87,
          88,
          89,
          90,
          91,
          92,
          93,
          94,
          95,
          96,
          97,
          98,
          99
         ],
         "y": [
          -0.7571651498351455,
          0.3041841546141356,
          -0.3634338798273758,
          -2.0482361777995144,
          -0.18108815038638867,
          -0.21190299395233114,
          -0.7806951399891963,
          1.8590985191190108,
          0.48036674314609656,
          1.8873083466347365,
          1.1056779689437921,
          -1.3231700180419348,
          0.3342805753940904,
          -0.20369594444050604,
          0.39088820371926375,
          -0.48776057521970073,
          -1.1414327259670378,
          -0.7808846359062693,
          1.4920293778079048,
          0.71079751035893,
          0.2307135496211187,
          -0.7211267802065155,
          -0.3877863925049786,
          0.5293063371459275,
          -1.698225399775976,
          -0.7432359964184969,
          -1.0633879580111423,
          -1.1564930777360236,
          -0.6354873928530012,
          1.6168674082839893,
          -2.1397231605343183,
          0.8591667284039247,
          -0.4525164669746582,
          0.6479933531495566,
          0.4928251204016213,
          0.5301247456285414,
          1.2692158824055362,
          0.4903818486766852,
          -1.1042304957167466,
          -0.3604927522499086,
          0.13344340017146225,
          -0.5371434200006895,
          -1.8037554935945654,
          0.5237936559711996,
          1.500251268452096,
          2.179319647875672,
          -0.009000371183924594,
          0.7041273574304793,
          0.8935279013253304,
          -3.375008844495114,
          1.1894387874864698,
          -0.27110581005903794,
          -0.3603941406302465,
          -0.19626364838529733,
          2.504563093248634,
          0.03156911621838102,
          0.29881409996396646,
          -0.386394740622949,
          -0.3698428488757272,
          0.8246534678107472,
          -1.9114009699387526,
          -0.4623680380986253,
          0.9077405464515336,
          -0.7295099857464294,
          0.6764853912798772,
          -0.541361568392655,
          0.47232880482121675,
          0.6296488331438715,
          1.7669189062507158,
          0.5757234831604158,
          -0.7518036824883677,
          -0.6340399776230848,
          -1.4504687727889098,
          0.4229339994405687,
          -0.7844403212340828,
          0.500292917366162,
          -0.45417782594598816,
          -0.2602529926846372,
          1.6907017072679549,
          2.0122414821517025,
          -0.9944724957993845,
          -0.4618705938551304,
          0.15912344530429562,
          0.06113220007641856,
          0.5169371398966918,
          -1.1232577387697515,
          -0.21463034116679147,
          -0.42893393668424407,
          -1.0968561308131135,
          2.4209582185902776,
          -1.242139030854014,
          -0.9981972941910361,
          1.6073060927944351,
          -1.2621170591121773,
          0.9289617974150245,
          -0.22342478108118818,
          0.23205496907907777,
          -0.7706448922950906,
          -0.20410847471802354,
          -0.3025804522844425
         ]
        },
        {
         "connectgaps": false,
         "fill": "tozeroy",
         "line": {
          "color": "green",
          "dash": "solid",
          "shape": "linear",
          "width": 0.5
         },
         "mode": "lines",
         "name": "Spread",
         "showlegend": false,
         "type": "scatter",
         "x": [
          0,
          1,
          2,
          3,
          4,
          5,
          6,
          7,
          8,
          9,
          10,
          11,
          12,
          13,
          14,
          15,
          16,
          17,
          18,
          19,
          20,
          21,
          22,
          23,
          24,
          25,
          26,
          27,
          28,
          29,
          30,
          31,
          32,
          33,
          34,
          35,
          36,
          37,
          38,
          39,
          40,
          41,
          42,
          43,
          44,
          45,
          46,
          47,
          48,
          49,
          50,
          51,
          52,
          53,
          54,
          55,
          56,
          57,
          58,
          59,
          60,
          61,
          62,
          63,
          64,
          65,
          66,
          67,
          68,
          69,
          70,
          71,
          72,
          73,
          74,
          75,
          76,
          77,
          78,
          79,
          80,
          81,
          82,
          83,
          84,
          85,
          86,
          87,
          88,
          89,
          90,
          91,
          92,
          93,
          94,
          95,
          96,
          97,
          98,
          99
         ],
         "xaxis": "x2",
         "y": [
          1.0539560363150877,
          "",
          0.4196688433401388,
          2.2322010568594646,
          2.1282778270210283,
          0.6439922019670727,
          2.3888852534988207,
          "",
          "",
          "",
          "",
          1.1944814981126173,
          1.401106285691875,
          0.11823011287771801,
          "",
          "",
          1.7222560472235648,
          1.3365090766649301,
          "",
          0.14094227815989757,
          0.7740589020570073,
          2.4859013160088574,
          "",
          "",
          0.9454530229771985,
          0.29781226321913845,
          1.4042608444838918,
          1.9148185587392788,
          1.7937304881448213,
          "",
          3.0081697971817416,
          0.2981434207672481,
          1.2631697825427286,
          "",
          0.19575984468873253,
          "",
          "",
          "",
          0.6755820118255729,
          0.0076333262635578936,
          "",
          2.3297366359418916,
          0.31196872973619993,
          "",
          "",
          "",
          "",
          1.2025109149803903,
          "",
          3.4373550986515995,
          "",
          1.1200511133637994,
          1.0267021472676243,
          "",
          "",
          0.4380473191307138,
          "",
          0.20333500364067153,
          0.6232114770794888,
          "",
          1.326032389595162,
          1.6910549452137265,
          0.020099451148254288,
          0.32260299335874765,
          "",
          "",
          "",
          "",
          "",
          "",
          0.9214864827027703,
          "",
          1.6578830201075394,
          "",
          0.17915901605689077,
          0.7027761520896135,
          "",
          1.1946947060106394,
          "",
          "",
          1.3379848158075278,
          0.9033736691014632,
          "",
          0.7623463282852171,
          "",
          1.5659097682576906,
          1.547889160697241,
          1.1075433424169356,
          0.024071139749885395,
          "",
          1.6189914833929233,
          0.9899176383975185,
          "",
          "",
          "",
          1.0516480890877222,
          0.6866481461908145,
          0.846391747696129,
          0.4418896200211432,
          1.4234983996490929
         ],
         "yaxis": "y2"
        },
        {
         "connectgaps": false,
         "fill": "tozeroy",
         "line": {
          "color": "red",
          "dash": "solid",
          "shape": "linear",
          "width": 0.5
         },
         "mode": "lines",
         "name": "Spread",
         "showlegend": false,
         "type": "scatter",
         "x": [
          0,
          1,
          2,
          3,
          4,
          5,
          6,
          7,
          8,
          9,
          10,
          11,
          12,
          13,
          14,
          15,
          16,
          17,
          18,
          19,
          20,
          21,
          22,
          23,
          24,
          25,
          26,
          27,
          28,
          29,
          30,
          31,
          32,
          33,
          34,
          35,
          36,
          37,
          38,
          39,
          40,
          41,
          42,
          43,
          44,
          45,
          46,
          47,
          48,
          49,
          50,
          51,
          52,
          53,
          54,
          55,
          56,
          57,
          58,
          59,
          60,
          61,
          62,
          63,
          64,
          65,
          66,
          67,
          68,
          69,
          70,
          71,
          72,
          73,
          74,
          75,
          76,
          77,
          78,
          79,
          80,
          81,
          82,
          83,
          84,
          85,
          86,
          87,
          88,
          89,
          90,
          91,
          92,
          93,
          94,
          95,
          96,
          97,
          98,
          99
         ],
         "xaxis": "x2",
         "y": [
          "",
          -0.3463903569638897,
          "",
          "",
          "",
          "",
          "",
          -2.1984973850837566,
          -0.4854757265499722,
          -1.0342198792453319,
          -2.110590261216462,
          "",
          "",
          "",
          -0.20031571675600132,
          -1.7278217671239882,
          "",
          "",
          -0.8526664304808124,
          "",
          "",
          "",
          -1.2050159820820765,
          -0.08024391168517353,
          "",
          "",
          "",
          "",
          "",
          -1.9856636150539324,
          "",
          "",
          "",
          -0.1535750505688812,
          "",
          -1.000371273796636,
          -0.5433382624730207,
          -2.71987510336866,
          "",
          "",
          -1.7412625888486355,
          "",
          "",
          -1.3760876297998021,
          -1.8031957535511804,
          -2.3349618441018847,
          -0.8426909725714499,
          "",
          -1.5200123617409902,
          "",
          -4.847130189929482,
          "",
          "",
          -2.5984047139050035,
          -2.6479650293234367,
          "",
          -0.10414649848405161,
          "",
          "",
          -0.597834648172277,
          "",
          "",
          "",
          "",
          -0.3966816315913019,
          -0.8988701745630009,
          -0.7313797492551546,
          -0.7966819526457231,
          -2.547061271716331,
          -0.9121107204311116,
          "",
          -1.0193673260715368,
          "",
          -0.8604092986977657,
          "",
          "",
          -1.2403911053868542,
          "",
          -1.2239382430071983,
          -0.09520957377321193,
          "",
          "",
          -2.005171277824028,
          "",
          -0.4191848032194312,
          "",
          "",
          "",
          "",
          -2.2778214001564976,
          "",
          "",
          -1.6475644009319768,
          -0.23458207841503365,
          -0.48227794776072974,
          "",
          "",
          "",
          "",
          ""
         ],
         "yaxis": "y2"
        }
       ],
       "layout": {
        "hovermode": "x",
        "legend": {
         "bgcolor": "#F5F6F9",
         "font": {
          "color": "#4D5663"
         }
        },
        "paper_bgcolor": "#F5F6F9",
        "plot_bgcolor": "#F5F6F9",
        "template": {
         "data": {
          "bar": [
           {
            "error_x": {
             "color": "#2a3f5f"
            },
            "error_y": {
             "color": "#2a3f5f"
            },
            "marker": {
             "line": {
              "color": "#E5ECF6",
              "width": 0.5
             },
             "pattern": {
              "fillmode": "overlay",
              "size": 10,
              "solidity": 0.2
             }
            },
            "type": "bar"
           }
          ],
          "barpolar": [
           {
            "marker": {
             "line": {
              "color": "#E5ECF6",
              "width": 0.5
             },
             "pattern": {
              "fillmode": "overlay",
              "size": 10,
              "solidity": 0.2
             }
            },
            "type": "barpolar"
           }
          ],
          "carpet": [
           {
            "aaxis": {
             "endlinecolor": "#2a3f5f",
             "gridcolor": "white",
             "linecolor": "white",
             "minorgridcolor": "white",
             "startlinecolor": "#2a3f5f"
            },
            "baxis": {
             "endlinecolor": "#2a3f5f",
             "gridcolor": "white",
             "linecolor": "white",
             "minorgridcolor": "white",
             "startlinecolor": "#2a3f5f"
            },
            "type": "carpet"
           }
          ],
          "choropleth": [
           {
            "colorbar": {
             "outlinewidth": 0,
             "ticks": ""
            },
            "type": "choropleth"
           }
          ],
          "contour": [
           {
            "colorbar": {
             "outlinewidth": 0,
             "ticks": ""
            },
            "colorscale": [
             [
              0,
              "#0d0887"
             ],
             [
              0.1111111111111111,
              "#46039f"
             ],
             [
              0.2222222222222222,
              "#7201a8"
             ],
             [
              0.3333333333333333,
              "#9c179e"
             ],
             [
              0.4444444444444444,
              "#bd3786"
             ],
             [
              0.5555555555555556,
              "#d8576b"
             ],
             [
              0.6666666666666666,
              "#ed7953"
             ],
             [
              0.7777777777777778,
              "#fb9f3a"
             ],
             [
              0.8888888888888888,
              "#fdca26"
             ],
             [
              1,
              "#f0f921"
             ]
            ],
            "type": "contour"
           }
          ],
          "contourcarpet": [
           {
            "colorbar": {
             "outlinewidth": 0,
             "ticks": ""
            },
            "type": "contourcarpet"
           }
          ],
          "heatmap": [
           {
            "colorbar": {
             "outlinewidth": 0,
             "ticks": ""
            },
            "colorscale": [
             [
              0,
              "#0d0887"
             ],
             [
              0.1111111111111111,
              "#46039f"
             ],
             [
              0.2222222222222222,
              "#7201a8"
             ],
             [
              0.3333333333333333,
              "#9c179e"
             ],
             [
              0.4444444444444444,
              "#bd3786"
             ],
             [
              0.5555555555555556,
              "#d8576b"
             ],
             [
              0.6666666666666666,
              "#ed7953"
             ],
             [
              0.7777777777777778,
              "#fb9f3a"
             ],
             [
              0.8888888888888888,
              "#fdca26"
             ],
             [
              1,
              "#f0f921"
             ]
            ],
            "type": "heatmap"
           }
          ],
          "heatmapgl": [
           {
            "colorbar": {
             "outlinewidth": 0,
             "ticks": ""
            },
            "colorscale": [
             [
              0,
              "#0d0887"
             ],
             [
              0.1111111111111111,
              "#46039f"
             ],
             [
              0.2222222222222222,
              "#7201a8"
             ],
             [
              0.3333333333333333,
              "#9c179e"
             ],
             [
              0.4444444444444444,
              "#bd3786"
             ],
             [
              0.5555555555555556,
              "#d8576b"
             ],
             [
              0.6666666666666666,
              "#ed7953"
             ],
             [
              0.7777777777777778,
              "#fb9f3a"
             ],
             [
              0.8888888888888888,
              "#fdca26"
             ],
             [
              1,
              "#f0f921"
             ]
            ],
            "type": "heatmapgl"
           }
          ],
          "histogram": [
           {
            "marker": {
             "pattern": {
              "fillmode": "overlay",
              "size": 10,
              "solidity": 0.2
             }
            },
            "type": "histogram"
           }
          ],
          "histogram2d": [
           {
            "colorbar": {
             "outlinewidth": 0,
             "ticks": ""
            },
            "colorscale": [
             [
              0,
              "#0d0887"
             ],
             [
              0.1111111111111111,
              "#46039f"
             ],
             [
              0.2222222222222222,
              "#7201a8"
             ],
             [
              0.3333333333333333,
              "#9c179e"
             ],
             [
              0.4444444444444444,
              "#bd3786"
             ],
             [
              0.5555555555555556,
              "#d8576b"
             ],
             [
              0.6666666666666666,
              "#ed7953"
             ],
             [
              0.7777777777777778,
              "#fb9f3a"
             ],
             [
              0.8888888888888888,
              "#fdca26"
             ],
             [
              1,
              "#f0f921"
             ]
            ],
            "type": "histogram2d"
           }
          ],
          "histogram2dcontour": [
           {
            "colorbar": {
             "outlinewidth": 0,
             "ticks": ""
            },
            "colorscale": [
             [
              0,
              "#0d0887"
             ],
             [
              0.1111111111111111,
              "#46039f"
             ],
             [
              0.2222222222222222,
              "#7201a8"
             ],
             [
              0.3333333333333333,
              "#9c179e"
             ],
             [
              0.4444444444444444,
              "#bd3786"
             ],
             [
              0.5555555555555556,
              "#d8576b"
             ],
             [
              0.6666666666666666,
              "#ed7953"
             ],
             [
              0.7777777777777778,
              "#fb9f3a"
             ],
             [
              0.8888888888888888,
              "#fdca26"
             ],
             [
              1,
              "#f0f921"
             ]
            ],
            "type": "histogram2dcontour"
           }
          ],
          "mesh3d": [
           {
            "colorbar": {
             "outlinewidth": 0,
             "ticks": ""
            },
            "type": "mesh3d"
           }
          ],
          "parcoords": [
           {
            "line": {
             "colorbar": {
              "outlinewidth": 0,
              "ticks": ""
             }
            },
            "type": "parcoords"
           }
          ],
          "pie": [
           {
            "automargin": true,
            "type": "pie"
           }
          ],
          "scatter": [
           {
            "marker": {
             "colorbar": {
              "outlinewidth": 0,
              "ticks": ""
             }
            },
            "type": "scatter"
           }
          ],
          "scatter3d": [
           {
            "line": {
             "colorbar": {
              "outlinewidth": 0,
              "ticks": ""
             }
            },
            "marker": {
             "colorbar": {
              "outlinewidth": 0,
              "ticks": ""
             }
            },
            "type": "scatter3d"
           }
          ],
          "scattercarpet": [
           {
            "marker": {
             "colorbar": {
              "outlinewidth": 0,
              "ticks": ""
             }
            },
            "type": "scattercarpet"
           }
          ],
          "scattergeo": [
           {
            "marker": {
             "colorbar": {
              "outlinewidth": 0,
              "ticks": ""
             }
            },
            "type": "scattergeo"
           }
          ],
          "scattergl": [
           {
            "marker": {
             "colorbar": {
              "outlinewidth": 0,
              "ticks": ""
             }
            },
            "type": "scattergl"
           }
          ],
          "scattermapbox": [
           {
            "marker": {
             "colorbar": {
              "outlinewidth": 0,
              "ticks": ""
             }
            },
            "type": "scattermapbox"
           }
          ],
          "scatterpolar": [
           {
            "marker": {
             "colorbar": {
              "outlinewidth": 0,
              "ticks": ""
             }
            },
            "type": "scatterpolar"
           }
          ],
          "scatterpolargl": [
           {
            "marker": {
             "colorbar": {
              "outlinewidth": 0,
              "ticks": ""
             }
            },
            "type": "scatterpolargl"
           }
          ],
          "scatterternary": [
           {
            "marker": {
             "colorbar": {
              "outlinewidth": 0,
              "ticks": ""
             }
            },
            "type": "scatterternary"
           }
          ],
          "surface": [
           {
            "colorbar": {
             "outlinewidth": 0,
             "ticks": ""
            },
            "colorscale": [
             [
              0,
              "#0d0887"
             ],
             [
              0.1111111111111111,
              "#46039f"
             ],
             [
              0.2222222222222222,
              "#7201a8"
             ],
             [
              0.3333333333333333,
              "#9c179e"
             ],
             [
              0.4444444444444444,
              "#bd3786"
             ],
             [
              0.5555555555555556,
              "#d8576b"
             ],
             [
              0.6666666666666666,
              "#ed7953"
             ],
             [
              0.7777777777777778,
              "#fb9f3a"
             ],
             [
              0.8888888888888888,
              "#fdca26"
             ],
             [
              1,
              "#f0f921"
             ]
            ],
            "type": "surface"
           }
          ],
          "table": [
           {
            "cells": {
             "fill": {
              "color": "#EBF0F8"
             },
             "line": {
              "color": "white"
             }
            },
            "header": {
             "fill": {
              "color": "#C8D4E3"
             },
             "line": {
              "color": "white"
             }
            },
            "type": "table"
           }
          ]
         },
         "layout": {
          "annotationdefaults": {
           "arrowcolor": "#2a3f5f",
           "arrowhead": 0,
           "arrowwidth": 1
          },
          "autotypenumbers": "strict",
          "coloraxis": {
           "colorbar": {
            "outlinewidth": 0,
            "ticks": ""
           }
          },
          "colorscale": {
           "diverging": [
            [
             0,
             "#8e0152"
            ],
            [
             0.1,
             "#c51b7d"
            ],
            [
             0.2,
             "#de77ae"
            ],
            [
             0.3,
             "#f1b6da"
            ],
            [
             0.4,
             "#fde0ef"
            ],
            [
             0.5,
             "#f7f7f7"
            ],
            [
             0.6,
             "#e6f5d0"
            ],
            [
             0.7,
             "#b8e186"
            ],
            [
             0.8,
             "#7fbc41"
            ],
            [
             0.9,
             "#4d9221"
            ],
            [
             1,
             "#276419"
            ]
           ],
           "sequential": [
            [
             0,
             "#0d0887"
            ],
            [
             0.1111111111111111,
             "#46039f"
            ],
            [
             0.2222222222222222,
             "#7201a8"
            ],
            [
             0.3333333333333333,
             "#9c179e"
            ],
            [
             0.4444444444444444,
             "#bd3786"
            ],
            [
             0.5555555555555556,
             "#d8576b"
            ],
            [
             0.6666666666666666,
             "#ed7953"
            ],
            [
             0.7777777777777778,
             "#fb9f3a"
            ],
            [
             0.8888888888888888,
             "#fdca26"
            ],
            [
             1,
             "#f0f921"
            ]
           ],
           "sequentialminus": [
            [
             0,
             "#0d0887"
            ],
            [
             0.1111111111111111,
             "#46039f"
            ],
            [
             0.2222222222222222,
             "#7201a8"
            ],
            [
             0.3333333333333333,
             "#9c179e"
            ],
            [
             0.4444444444444444,
             "#bd3786"
            ],
            [
             0.5555555555555556,
             "#d8576b"
            ],
            [
             0.6666666666666666,
             "#ed7953"
            ],
            [
             0.7777777777777778,
             "#fb9f3a"
            ],
            [
             0.8888888888888888,
             "#fdca26"
            ],
            [
             1,
             "#f0f921"
            ]
           ]
          },
          "colorway": [
           "#636efa",
           "#EF553B",
           "#00cc96",
           "#ab63fa",
           "#FFA15A",
           "#19d3f3",
           "#FF6692",
           "#B6E880",
           "#FF97FF",
           "#FECB52"
          ],
          "font": {
           "color": "#2a3f5f"
          },
          "geo": {
           "bgcolor": "white",
           "lakecolor": "white",
           "landcolor": "#E5ECF6",
           "showlakes": true,
           "showland": true,
           "subunitcolor": "white"
          },
          "hoverlabel": {
           "align": "left"
          },
          "hovermode": "closest",
          "mapbox": {
           "style": "light"
          },
          "paper_bgcolor": "white",
          "plot_bgcolor": "#E5ECF6",
          "polar": {
           "angularaxis": {
            "gridcolor": "white",
            "linecolor": "white",
            "ticks": ""
           },
           "bgcolor": "#E5ECF6",
           "radialaxis": {
            "gridcolor": "white",
            "linecolor": "white",
            "ticks": ""
           }
          },
          "scene": {
           "xaxis": {
            "backgroundcolor": "#E5ECF6",
            "gridcolor": "white",
            "gridwidth": 2,
            "linecolor": "white",
            "showbackground": true,
            "ticks": "",
            "zerolinecolor": "white"
           },
           "yaxis": {
            "backgroundcolor": "#E5ECF6",
            "gridcolor": "white",
            "gridwidth": 2,
            "linecolor": "white",
            "showbackground": true,
            "ticks": "",
            "zerolinecolor": "white"
           },
           "zaxis": {
            "backgroundcolor": "#E5ECF6",
            "gridcolor": "white",
            "gridwidth": 2,
            "linecolor": "white",
            "showbackground": true,
            "ticks": "",
            "zerolinecolor": "white"
           }
          },
          "shapedefaults": {
           "line": {
            "color": "#2a3f5f"
           }
          },
          "ternary": {
           "aaxis": {
            "gridcolor": "white",
            "linecolor": "white",
            "ticks": ""
           },
           "baxis": {
            "gridcolor": "white",
            "linecolor": "white",
            "ticks": ""
           },
           "bgcolor": "#E5ECF6",
           "caxis": {
            "gridcolor": "white",
            "linecolor": "white",
            "ticks": ""
           }
          },
          "title": {
           "x": 0.05
          },
          "xaxis": {
           "automargin": true,
           "gridcolor": "white",
           "linecolor": "white",
           "ticks": "",
           "title": {
            "standoff": 15
           },
           "zerolinecolor": "white",
           "zerolinewidth": 2
          },
          "yaxis": {
           "automargin": true,
           "gridcolor": "white",
           "linecolor": "white",
           "ticks": "",
           "title": {
            "standoff": 15
           },
           "zerolinecolor": "white",
           "zerolinewidth": 2
          }
         }
        },
        "title": {
         "font": {
          "color": "#4D5663"
         }
        },
        "xaxis": {
         "gridcolor": "#E1E5ED",
         "showgrid": true,
         "tickfont": {
          "color": "#4D5663"
         },
         "title": {
          "font": {
           "color": "#4D5663"
          },
          "text": ""
         },
         "zerolinecolor": "#E1E5ED"
        },
        "xaxis2": {
         "anchor": "y2",
         "gridcolor": "#E1E5ED",
         "showgrid": true,
         "showticklabels": false,
         "tickfont": {
          "color": "#4D5663"
         },
         "title": {
          "font": {
           "color": "#4D5663"
          },
          "text": ""
         },
         "zerolinecolor": "#E1E5ED"
        },
        "yaxis": {
         "domain": [
          0.3,
          1
         ],
         "gridcolor": "#E1E5ED",
         "showgrid": true,
         "tickfont": {
          "color": "#4D5663"
         },
         "title": {
          "font": {
           "color": "#4D5663"
          },
          "text": ""
         },
         "zerolinecolor": "#E1E5ED"
        },
        "yaxis2": {
         "domain": [
          0,
          0.25
         ],
         "gridcolor": "#E1E5ED",
         "showgrid": true,
         "tickfont": {
          "color": "#4D5663"
         },
         "title": {
          "font": {
           "color": "#4D5663"
          },
          "text": "Spread"
         },
         "zerolinecolor": "#E1E5ED"
        }
       }
      },
      "text/html": [
       "<div>                            <div id=\"a37485fa-992e-4f2f-ab83-703479e77789\" class=\"plotly-graph-div\" style=\"height:525px; width:100%;\"></div>            <script type=\"text/javascript\">                require([\"plotly\"], function(Plotly) {                    window.PLOTLYENV=window.PLOTLYENV || {};\n",
       "                    window.PLOTLYENV.BASE_URL='https://plot.ly';                                    if (document.getElementById(\"a37485fa-992e-4f2f-ab83-703479e77789\")) {                    Plotly.newPlot(                        \"a37485fa-992e-4f2f-ab83-703479e77789\",                        [{\"line\":{\"color\":\"rgba(255, 153, 51, 1.0)\",\"dash\":\"solid\",\"shape\":\"linear\",\"width\":1.3},\"mode\":\"lines\",\"name\":\"A\",\"text\":\"\",\"x\":[0,1,2,3,4,5,6,7,8,9,10,11,12,13,14,15,16,17,18,19,20,21,22,23,24,25,26,27,28,29,30,31,32,33,34,35,36,37,38,39,40,41,42,43,44,45,46,47,48,49,50,51,52,53,54,55,56,57,58,59,60,61,62,63,64,65,66,67,68,69,70,71,72,73,74,75,76,77,78,79,80,81,82,83,84,85,86,87,88,89,90,91,92,93,94,95,96,97,98,99],\"y\":[0.29679088647994234,-0.042206202349754085,0.05623496351276302,0.18396487905995018,1.9471896766346395,0.43208920801474165,1.6081901135096244,-0.33939886596474583,-0.005108983403875583,0.8530884673894046,-1.0049122922726699,-0.12868851992931754,1.7353868610859655,-0.08546583156278803,0.19057248696326243,-2.215582342343689,0.5808233212565269,0.5556244407586608,0.6393629473270924,0.8517397885188276,1.004772451678126,1.764774535802342,-1.5928023745870552,0.4490624254607539,-0.7527723767987775,-0.44542373319935846,0.34087288647274944,0.7583254810032551,1.1582430952918201,-0.3687962067699432,0.8684466366474232,1.1573101491711728,0.8106533155680704,0.49441830258067543,0.6885849650903538,-0.4702465281680946,0.7258776199325154,-2.229493254691975,-0.4286484838911737,-0.3528594259863507,-1.6078191886771733,1.7925932159412024,-1.4917867638583655,-0.8522939738286025,-0.3029444850990843,-0.15564219622621273,-0.8516913437553745,1.9066382724108697,-0.6264844604156597,0.06234625415648561,-3.6576914024430116,0.8489453033047615,0.6663080066373779,-2.794668362290301,-0.14340193607480287,0.46961643534909486,0.19466760147991485,-0.18305973698227745,0.2533686282037615,0.22681881963847014,-0.5853685803435907,1.2286869071151012,0.9278399975997879,-0.4069069923876818,0.2798037596885753,-1.440231742955656,-0.25905094443393784,-0.1670331195018515,-0.7801423654656153,-0.33638723727069586,0.1696828002144026,-1.6534073036946215,0.20741424731862965,-0.437475299257197,-0.605281305177192,1.2030690694557755,-1.6945689313328423,0.9344417133260021,0.46676346426075643,1.9170319083784906,0.34351232000814336,0.4415030752463328,-1.8460478325197323,0.8234785283616356,0.09775233667726059,0.4426520294879391,1.3332588195304493,0.6786094057326916,-1.072784991063228,0.1431368184337798,0.37685245253890953,-0.008279655793517674,-0.04025830813754167,-1.496699137527211,0.44668384965429475,0.8282233080065341,0.9187031152698922,0.07574685540103843,0.23778114530311967,1.1209179473646502],\"type\":\"scatter\"},{\"line\":{\"color\":\"rgba(55, 128, 191, 1.0)\",\"dash\":\"solid\",\"shape\":\"linear\",\"width\":1.3},\"mode\":\"lines\",\"name\":\"B\",\"text\":\"\",\"x\":[0,1,2,3,4,5,6,7,8,9,10,11,12,13,14,15,16,17,18,19,20,21,22,23,24,25,26,27,28,29,30,31,32,33,34,35,36,37,38,39,40,41,42,43,44,45,46,47,48,49,50,51,52,53,54,55,56,57,58,59,60,61,62,63,64,65,66,67,68,69,70,71,72,73,74,75,76,77,78,79,80,81,82,83,84,85,86,87,88,89,90,91,92,93,94,95,96,97,98,99],\"y\":[-0.7571651498351455,0.3041841546141356,-0.3634338798273758,-2.0482361777995144,-0.18108815038638867,-0.21190299395233114,-0.7806951399891963,1.8590985191190108,0.48036674314609656,1.8873083466347365,1.1056779689437921,-1.3231700180419348,0.3342805753940904,-0.20369594444050604,0.39088820371926375,-0.48776057521970073,-1.1414327259670378,-0.7808846359062693,1.4920293778079048,0.71079751035893,0.2307135496211187,-0.7211267802065155,-0.3877863925049786,0.5293063371459275,-1.698225399775976,-0.7432359964184969,-1.0633879580111423,-1.1564930777360236,-0.6354873928530012,1.6168674082839893,-2.1397231605343183,0.8591667284039247,-0.4525164669746582,0.6479933531495566,0.4928251204016213,0.5301247456285414,1.2692158824055362,0.4903818486766852,-1.1042304957167466,-0.3604927522499086,0.13344340017146225,-0.5371434200006895,-1.8037554935945654,0.5237936559711996,1.500251268452096,2.179319647875672,-0.009000371183924594,0.7041273574304793,0.8935279013253304,-3.375008844495114,1.1894387874864698,-0.27110581005903794,-0.3603941406302465,-0.19626364838529733,2.504563093248634,0.03156911621838102,0.29881409996396646,-0.386394740622949,-0.3698428488757272,0.8246534678107472,-1.9114009699387526,-0.4623680380986253,0.9077405464515336,-0.7295099857464294,0.6764853912798772,-0.541361568392655,0.47232880482121675,0.6296488331438715,1.7669189062507158,0.5757234831604158,-0.7518036824883677,-0.6340399776230848,-1.4504687727889098,0.4229339994405687,-0.7844403212340828,0.500292917366162,-0.45417782594598816,-0.2602529926846372,1.6907017072679549,2.0122414821517025,-0.9944724957993845,-0.4618705938551304,0.15912344530429562,0.06113220007641856,0.5169371398966918,-1.1232577387697515,-0.21463034116679147,-0.42893393668424407,-1.0968561308131135,2.4209582185902776,-1.242139030854014,-0.9981972941910361,1.6073060927944351,-1.2621170591121773,0.9289617974150245,-0.22342478108118818,0.23205496907907777,-0.7706448922950906,-0.20410847471802354,-0.3025804522844425],\"type\":\"scatter\"},{\"connectgaps\":false,\"fill\":\"tozeroy\",\"line\":{\"color\":\"green\",\"dash\":\"solid\",\"shape\":\"linear\",\"width\":0.5},\"mode\":\"lines\",\"name\":\"Spread\",\"showlegend\":false,\"x\":[0,1,2,3,4,5,6,7,8,9,10,11,12,13,14,15,16,17,18,19,20,21,22,23,24,25,26,27,28,29,30,31,32,33,34,35,36,37,38,39,40,41,42,43,44,45,46,47,48,49,50,51,52,53,54,55,56,57,58,59,60,61,62,63,64,65,66,67,68,69,70,71,72,73,74,75,76,77,78,79,80,81,82,83,84,85,86,87,88,89,90,91,92,93,94,95,96,97,98,99],\"xaxis\":\"x2\",\"y\":[1.0539560363150877,\"\",0.4196688433401388,2.2322010568594646,2.1282778270210283,0.6439922019670727,2.3888852534988207,\"\",\"\",\"\",\"\",1.1944814981126173,1.401106285691875,0.11823011287771801,\"\",\"\",1.7222560472235648,1.3365090766649301,\"\",0.14094227815989757,0.7740589020570073,2.4859013160088574,\"\",\"\",0.9454530229771985,0.29781226321913845,1.4042608444838918,1.9148185587392788,1.7937304881448213,\"\",3.0081697971817416,0.2981434207672481,1.2631697825427286,\"\",0.19575984468873253,\"\",\"\",\"\",0.6755820118255729,0.0076333262635578936,\"\",2.3297366359418916,0.31196872973619993,\"\",\"\",\"\",\"\",1.2025109149803903,\"\",3.4373550986515995,\"\",1.1200511133637994,1.0267021472676243,\"\",\"\",0.4380473191307138,\"\",0.20333500364067153,0.6232114770794888,\"\",1.326032389595162,1.6910549452137265,0.020099451148254288,0.32260299335874765,\"\",\"\",\"\",\"\",\"\",\"\",0.9214864827027703,\"\",1.6578830201075394,\"\",0.17915901605689077,0.7027761520896135,\"\",1.1946947060106394,\"\",\"\",1.3379848158075278,0.9033736691014632,\"\",0.7623463282852171,\"\",1.5659097682576906,1.547889160697241,1.1075433424169356,0.024071139749885395,\"\",1.6189914833929233,0.9899176383975185,\"\",\"\",\"\",1.0516480890877222,0.6866481461908145,0.846391747696129,0.4418896200211432,1.4234983996490929],\"yaxis\":\"y2\",\"type\":\"scatter\"},{\"connectgaps\":false,\"fill\":\"tozeroy\",\"line\":{\"color\":\"red\",\"dash\":\"solid\",\"shape\":\"linear\",\"width\":0.5},\"mode\":\"lines\",\"name\":\"Spread\",\"showlegend\":false,\"x\":[0,1,2,3,4,5,6,7,8,9,10,11,12,13,14,15,16,17,18,19,20,21,22,23,24,25,26,27,28,29,30,31,32,33,34,35,36,37,38,39,40,41,42,43,44,45,46,47,48,49,50,51,52,53,54,55,56,57,58,59,60,61,62,63,64,65,66,67,68,69,70,71,72,73,74,75,76,77,78,79,80,81,82,83,84,85,86,87,88,89,90,91,92,93,94,95,96,97,98,99],\"xaxis\":\"x2\",\"y\":[\"\",-0.3463903569638897,\"\",\"\",\"\",\"\",\"\",-2.1984973850837566,-0.4854757265499722,-1.0342198792453319,-2.110590261216462,\"\",\"\",\"\",-0.20031571675600132,-1.7278217671239882,\"\",\"\",-0.8526664304808124,\"\",\"\",\"\",-1.2050159820820765,-0.08024391168517353,\"\",\"\",\"\",\"\",\"\",-1.9856636150539324,\"\",\"\",\"\",-0.1535750505688812,\"\",-1.000371273796636,-0.5433382624730207,-2.71987510336866,\"\",\"\",-1.7412625888486355,\"\",\"\",-1.3760876297998021,-1.8031957535511804,-2.3349618441018847,-0.8426909725714499,\"\",-1.5200123617409902,\"\",-4.847130189929482,\"\",\"\",-2.5984047139050035,-2.6479650293234367,\"\",-0.10414649848405161,\"\",\"\",-0.597834648172277,\"\",\"\",\"\",\"\",-0.3966816315913019,-0.8988701745630009,-0.7313797492551546,-0.7966819526457231,-2.547061271716331,-0.9121107204311116,\"\",-1.0193673260715368,\"\",-0.8604092986977657,\"\",\"\",-1.2403911053868542,\"\",-1.2239382430071983,-0.09520957377321193,\"\",\"\",-2.005171277824028,\"\",-0.4191848032194312,\"\",\"\",\"\",\"\",-2.2778214001564976,\"\",\"\",-1.6475644009319768,-0.23458207841503365,-0.48227794776072974,\"\",\"\",\"\",\"\",\"\"],\"yaxis\":\"y2\",\"type\":\"scatter\"}],                        {\"hovermode\":\"x\",\"legend\":{\"bgcolor\":\"#F5F6F9\",\"font\":{\"color\":\"#4D5663\"}},\"paper_bgcolor\":\"#F5F6F9\",\"plot_bgcolor\":\"#F5F6F9\",\"template\":{\"data\":{\"barpolar\":[{\"marker\":{\"line\":{\"color\":\"#E5ECF6\",\"width\":0.5},\"pattern\":{\"fillmode\":\"overlay\",\"size\":10,\"solidity\":0.2}},\"type\":\"barpolar\"}],\"bar\":[{\"error_x\":{\"color\":\"#2a3f5f\"},\"error_y\":{\"color\":\"#2a3f5f\"},\"marker\":{\"line\":{\"color\":\"#E5ECF6\",\"width\":0.5},\"pattern\":{\"fillmode\":\"overlay\",\"size\":10,\"solidity\":0.2}},\"type\":\"bar\"}],\"carpet\":[{\"aaxis\":{\"endlinecolor\":\"#2a3f5f\",\"gridcolor\":\"white\",\"linecolor\":\"white\",\"minorgridcolor\":\"white\",\"startlinecolor\":\"#2a3f5f\"},\"baxis\":{\"endlinecolor\":\"#2a3f5f\",\"gridcolor\":\"white\",\"linecolor\":\"white\",\"minorgridcolor\":\"white\",\"startlinecolor\":\"#2a3f5f\"},\"type\":\"carpet\"}],\"choropleth\":[{\"colorbar\":{\"outlinewidth\":0,\"ticks\":\"\"},\"type\":\"choropleth\"}],\"contourcarpet\":[{\"colorbar\":{\"outlinewidth\":0,\"ticks\":\"\"},\"type\":\"contourcarpet\"}],\"contour\":[{\"colorbar\":{\"outlinewidth\":0,\"ticks\":\"\"},\"colorscale\":[[0.0,\"#0d0887\"],[0.1111111111111111,\"#46039f\"],[0.2222222222222222,\"#7201a8\"],[0.3333333333333333,\"#9c179e\"],[0.4444444444444444,\"#bd3786\"],[0.5555555555555556,\"#d8576b\"],[0.6666666666666666,\"#ed7953\"],[0.7777777777777778,\"#fb9f3a\"],[0.8888888888888888,\"#fdca26\"],[1.0,\"#f0f921\"]],\"type\":\"contour\"}],\"heatmapgl\":[{\"colorbar\":{\"outlinewidth\":0,\"ticks\":\"\"},\"colorscale\":[[0.0,\"#0d0887\"],[0.1111111111111111,\"#46039f\"],[0.2222222222222222,\"#7201a8\"],[0.3333333333333333,\"#9c179e\"],[0.4444444444444444,\"#bd3786\"],[0.5555555555555556,\"#d8576b\"],[0.6666666666666666,\"#ed7953\"],[0.7777777777777778,\"#fb9f3a\"],[0.8888888888888888,\"#fdca26\"],[1.0,\"#f0f921\"]],\"type\":\"heatmapgl\"}],\"heatmap\":[{\"colorbar\":{\"outlinewidth\":0,\"ticks\":\"\"},\"colorscale\":[[0.0,\"#0d0887\"],[0.1111111111111111,\"#46039f\"],[0.2222222222222222,\"#7201a8\"],[0.3333333333333333,\"#9c179e\"],[0.4444444444444444,\"#bd3786\"],[0.5555555555555556,\"#d8576b\"],[0.6666666666666666,\"#ed7953\"],[0.7777777777777778,\"#fb9f3a\"],[0.8888888888888888,\"#fdca26\"],[1.0,\"#f0f921\"]],\"type\":\"heatmap\"}],\"histogram2dcontour\":[{\"colorbar\":{\"outlinewidth\":0,\"ticks\":\"\"},\"colorscale\":[[0.0,\"#0d0887\"],[0.1111111111111111,\"#46039f\"],[0.2222222222222222,\"#7201a8\"],[0.3333333333333333,\"#9c179e\"],[0.4444444444444444,\"#bd3786\"],[0.5555555555555556,\"#d8576b\"],[0.6666666666666666,\"#ed7953\"],[0.7777777777777778,\"#fb9f3a\"],[0.8888888888888888,\"#fdca26\"],[1.0,\"#f0f921\"]],\"type\":\"histogram2dcontour\"}],\"histogram2d\":[{\"colorbar\":{\"outlinewidth\":0,\"ticks\":\"\"},\"colorscale\":[[0.0,\"#0d0887\"],[0.1111111111111111,\"#46039f\"],[0.2222222222222222,\"#7201a8\"],[0.3333333333333333,\"#9c179e\"],[0.4444444444444444,\"#bd3786\"],[0.5555555555555556,\"#d8576b\"],[0.6666666666666666,\"#ed7953\"],[0.7777777777777778,\"#fb9f3a\"],[0.8888888888888888,\"#fdca26\"],[1.0,\"#f0f921\"]],\"type\":\"histogram2d\"}],\"histogram\":[{\"marker\":{\"pattern\":{\"fillmode\":\"overlay\",\"size\":10,\"solidity\":0.2}},\"type\":\"histogram\"}],\"mesh3d\":[{\"colorbar\":{\"outlinewidth\":0,\"ticks\":\"\"},\"type\":\"mesh3d\"}],\"parcoords\":[{\"line\":{\"colorbar\":{\"outlinewidth\":0,\"ticks\":\"\"}},\"type\":\"parcoords\"}],\"pie\":[{\"automargin\":true,\"type\":\"pie\"}],\"scatter3d\":[{\"line\":{\"colorbar\":{\"outlinewidth\":0,\"ticks\":\"\"}},\"marker\":{\"colorbar\":{\"outlinewidth\":0,\"ticks\":\"\"}},\"type\":\"scatter3d\"}],\"scattercarpet\":[{\"marker\":{\"colorbar\":{\"outlinewidth\":0,\"ticks\":\"\"}},\"type\":\"scattercarpet\"}],\"scattergeo\":[{\"marker\":{\"colorbar\":{\"outlinewidth\":0,\"ticks\":\"\"}},\"type\":\"scattergeo\"}],\"scattergl\":[{\"marker\":{\"colorbar\":{\"outlinewidth\":0,\"ticks\":\"\"}},\"type\":\"scattergl\"}],\"scattermapbox\":[{\"marker\":{\"colorbar\":{\"outlinewidth\":0,\"ticks\":\"\"}},\"type\":\"scattermapbox\"}],\"scatterpolargl\":[{\"marker\":{\"colorbar\":{\"outlinewidth\":0,\"ticks\":\"\"}},\"type\":\"scatterpolargl\"}],\"scatterpolar\":[{\"marker\":{\"colorbar\":{\"outlinewidth\":0,\"ticks\":\"\"}},\"type\":\"scatterpolar\"}],\"scatter\":[{\"marker\":{\"colorbar\":{\"outlinewidth\":0,\"ticks\":\"\"}},\"type\":\"scatter\"}],\"scatterternary\":[{\"marker\":{\"colorbar\":{\"outlinewidth\":0,\"ticks\":\"\"}},\"type\":\"scatterternary\"}],\"surface\":[{\"colorbar\":{\"outlinewidth\":0,\"ticks\":\"\"},\"colorscale\":[[0.0,\"#0d0887\"],[0.1111111111111111,\"#46039f\"],[0.2222222222222222,\"#7201a8\"],[0.3333333333333333,\"#9c179e\"],[0.4444444444444444,\"#bd3786\"],[0.5555555555555556,\"#d8576b\"],[0.6666666666666666,\"#ed7953\"],[0.7777777777777778,\"#fb9f3a\"],[0.8888888888888888,\"#fdca26\"],[1.0,\"#f0f921\"]],\"type\":\"surface\"}],\"table\":[{\"cells\":{\"fill\":{\"color\":\"#EBF0F8\"},\"line\":{\"color\":\"white\"}},\"header\":{\"fill\":{\"color\":\"#C8D4E3\"},\"line\":{\"color\":\"white\"}},\"type\":\"table\"}]},\"layout\":{\"annotationdefaults\":{\"arrowcolor\":\"#2a3f5f\",\"arrowhead\":0,\"arrowwidth\":1},\"autotypenumbers\":\"strict\",\"coloraxis\":{\"colorbar\":{\"outlinewidth\":0,\"ticks\":\"\"}},\"colorscale\":{\"diverging\":[[0,\"#8e0152\"],[0.1,\"#c51b7d\"],[0.2,\"#de77ae\"],[0.3,\"#f1b6da\"],[0.4,\"#fde0ef\"],[0.5,\"#f7f7f7\"],[0.6,\"#e6f5d0\"],[0.7,\"#b8e186\"],[0.8,\"#7fbc41\"],[0.9,\"#4d9221\"],[1,\"#276419\"]],\"sequential\":[[0.0,\"#0d0887\"],[0.1111111111111111,\"#46039f\"],[0.2222222222222222,\"#7201a8\"],[0.3333333333333333,\"#9c179e\"],[0.4444444444444444,\"#bd3786\"],[0.5555555555555556,\"#d8576b\"],[0.6666666666666666,\"#ed7953\"],[0.7777777777777778,\"#fb9f3a\"],[0.8888888888888888,\"#fdca26\"],[1.0,\"#f0f921\"]],\"sequentialminus\":[[0.0,\"#0d0887\"],[0.1111111111111111,\"#46039f\"],[0.2222222222222222,\"#7201a8\"],[0.3333333333333333,\"#9c179e\"],[0.4444444444444444,\"#bd3786\"],[0.5555555555555556,\"#d8576b\"],[0.6666666666666666,\"#ed7953\"],[0.7777777777777778,\"#fb9f3a\"],[0.8888888888888888,\"#fdca26\"],[1.0,\"#f0f921\"]]},\"colorway\":[\"#636efa\",\"#EF553B\",\"#00cc96\",\"#ab63fa\",\"#FFA15A\",\"#19d3f3\",\"#FF6692\",\"#B6E880\",\"#FF97FF\",\"#FECB52\"],\"font\":{\"color\":\"#2a3f5f\"},\"geo\":{\"bgcolor\":\"white\",\"lakecolor\":\"white\",\"landcolor\":\"#E5ECF6\",\"showlakes\":true,\"showland\":true,\"subunitcolor\":\"white\"},\"hoverlabel\":{\"align\":\"left\"},\"hovermode\":\"closest\",\"mapbox\":{\"style\":\"light\"},\"paper_bgcolor\":\"white\",\"plot_bgcolor\":\"#E5ECF6\",\"polar\":{\"angularaxis\":{\"gridcolor\":\"white\",\"linecolor\":\"white\",\"ticks\":\"\"},\"bgcolor\":\"#E5ECF6\",\"radialaxis\":{\"gridcolor\":\"white\",\"linecolor\":\"white\",\"ticks\":\"\"}},\"scene\":{\"xaxis\":{\"backgroundcolor\":\"#E5ECF6\",\"gridcolor\":\"white\",\"gridwidth\":2,\"linecolor\":\"white\",\"showbackground\":true,\"ticks\":\"\",\"zerolinecolor\":\"white\"},\"yaxis\":{\"backgroundcolor\":\"#E5ECF6\",\"gridcolor\":\"white\",\"gridwidth\":2,\"linecolor\":\"white\",\"showbackground\":true,\"ticks\":\"\",\"zerolinecolor\":\"white\"},\"zaxis\":{\"backgroundcolor\":\"#E5ECF6\",\"gridcolor\":\"white\",\"gridwidth\":2,\"linecolor\":\"white\",\"showbackground\":true,\"ticks\":\"\",\"zerolinecolor\":\"white\"}},\"shapedefaults\":{\"line\":{\"color\":\"#2a3f5f\"}},\"ternary\":{\"aaxis\":{\"gridcolor\":\"white\",\"linecolor\":\"white\",\"ticks\":\"\"},\"baxis\":{\"gridcolor\":\"white\",\"linecolor\":\"white\",\"ticks\":\"\"},\"bgcolor\":\"#E5ECF6\",\"caxis\":{\"gridcolor\":\"white\",\"linecolor\":\"white\",\"ticks\":\"\"}},\"title\":{\"x\":0.05},\"xaxis\":{\"automargin\":true,\"gridcolor\":\"white\",\"linecolor\":\"white\",\"ticks\":\"\",\"title\":{\"standoff\":15},\"zerolinecolor\":\"white\",\"zerolinewidth\":2},\"yaxis\":{\"automargin\":true,\"gridcolor\":\"white\",\"linecolor\":\"white\",\"ticks\":\"\",\"title\":{\"standoff\":15},\"zerolinecolor\":\"white\",\"zerolinewidth\":2}}},\"title\":{\"font\":{\"color\":\"#4D5663\"}},\"xaxis\":{\"gridcolor\":\"#E1E5ED\",\"showgrid\":true,\"tickfont\":{\"color\":\"#4D5663\"},\"title\":{\"font\":{\"color\":\"#4D5663\"},\"text\":\"\"},\"zerolinecolor\":\"#E1E5ED\"},\"yaxis\":{\"domain\":[0.3,1],\"gridcolor\":\"#E1E5ED\",\"showgrid\":true,\"tickfont\":{\"color\":\"#4D5663\"},\"title\":{\"font\":{\"color\":\"#4D5663\"},\"text\":\"\"},\"zerolinecolor\":\"#E1E5ED\"},\"yaxis2\":{\"domain\":[0,0.25],\"gridcolor\":\"#E1E5ED\",\"showgrid\":true,\"tickfont\":{\"color\":\"#4D5663\"},\"title\":{\"font\":{\"color\":\"#4D5663\"},\"text\":\"Spread\"},\"zerolinecolor\":\"#E1E5ED\"},\"xaxis2\":{\"anchor\":\"y2\",\"gridcolor\":\"#E1E5ED\",\"showgrid\":true,\"showticklabels\":false,\"tickfont\":{\"color\":\"#4D5663\"},\"title\":{\"font\":{\"color\":\"#4D5663\"},\"text\":\"\"},\"zerolinecolor\":\"#E1E5ED\"}},                        {\"showLink\": true, \"linkText\": \"Export to plot.ly\", \"plotlyServerURL\": \"https://plot.ly\", \"responsive\": true}                    ).then(function(){\n",
       "                            \n",
       "var gd = document.getElementById('a37485fa-992e-4f2f-ab83-703479e77789');\n",
       "var x = new MutationObserver(function (mutations, observer) {{\n",
       "        var display = window.getComputedStyle(gd).display;\n",
       "        if (!display || display === 'none') {{\n",
       "            console.log([gd, 'removed!']);\n",
       "            Plotly.purge(gd);\n",
       "            observer.disconnect();\n",
       "        }}\n",
       "}});\n",
       "\n",
       "// Listen for the removal of the full notebook cells\n",
       "var notebookContainer = gd.closest('#notebook-container');\n",
       "if (notebookContainer) {{\n",
       "    x.observe(notebookContainer, {childList: true});\n",
       "}}\n",
       "\n",
       "// Listen for the clearing of the current output cell\n",
       "var outputEl = gd.closest('.output');\n",
       "if (outputEl) {{\n",
       "    x.observe(outputEl, {childList: true});\n",
       "}}\n",
       "\n",
       "                        })                };                });            </script>        </div>"
      ]
     },
     "metadata": {},
     "output_type": "display_data"
    }
   ],
   "source": [
    "df[['A','B']].iplot(kind='spread')"
   ]
  },
  {
   "cell_type": "code",
   "execution_count": 39,
   "id": "74460dcd",
   "metadata": {},
   "outputs": [
    {
     "data": {
      "application/vnd.plotly.v1+json": {
       "config": {
        "linkText": "Export to plot.ly",
        "plotlyServerURL": "https://plot.ly",
        "showLink": true
       },
       "data": [
        {
         "histfunc": "count",
         "histnorm": "",
         "marker": {
          "color": "rgba(255, 153, 51, 1.0)",
          "line": {
           "color": "#4D5663",
           "width": 1.3
          }
         },
         "name": "A",
         "nbinsx": 10,
         "opacity": 0.8,
         "orientation": "v",
         "type": "histogram",
         "x": [
          0.29679088647994234,
          -0.042206202349754085,
          0.05623496351276302,
          0.18396487905995018,
          1.9471896766346395,
          0.43208920801474165,
          1.6081901135096244,
          -0.33939886596474583,
          -0.005108983403875583,
          0.8530884673894046,
          -1.0049122922726699,
          -0.12868851992931754,
          1.7353868610859655,
          -0.08546583156278803,
          0.19057248696326243,
          -2.215582342343689,
          0.5808233212565269,
          0.5556244407586608,
          0.6393629473270924,
          0.8517397885188276,
          1.004772451678126,
          1.764774535802342,
          -1.5928023745870552,
          0.4490624254607539,
          -0.7527723767987775,
          -0.44542373319935846,
          0.34087288647274944,
          0.7583254810032551,
          1.1582430952918201,
          -0.3687962067699432,
          0.8684466366474232,
          1.1573101491711728,
          0.8106533155680704,
          0.49441830258067543,
          0.6885849650903538,
          -0.4702465281680946,
          0.7258776199325154,
          -2.229493254691975,
          -0.4286484838911737,
          -0.3528594259863507,
          -1.6078191886771733,
          1.7925932159412024,
          -1.4917867638583655,
          -0.8522939738286025,
          -0.3029444850990843,
          -0.15564219622621273,
          -0.8516913437553745,
          1.9066382724108697,
          -0.6264844604156597,
          0.06234625415648561,
          -3.6576914024430116,
          0.8489453033047615,
          0.6663080066373779,
          -2.794668362290301,
          -0.14340193607480287,
          0.46961643534909486,
          0.19466760147991485,
          -0.18305973698227745,
          0.2533686282037615,
          0.22681881963847014,
          -0.5853685803435907,
          1.2286869071151012,
          0.9278399975997879,
          -0.4069069923876818,
          0.2798037596885753,
          -1.440231742955656,
          -0.25905094443393784,
          -0.1670331195018515,
          -0.7801423654656153,
          -0.33638723727069586,
          0.1696828002144026,
          -1.6534073036946215,
          0.20741424731862965,
          -0.437475299257197,
          -0.605281305177192,
          1.2030690694557755,
          -1.6945689313328423,
          0.9344417133260021,
          0.46676346426075643,
          1.9170319083784906,
          0.34351232000814336,
          0.4415030752463328,
          -1.8460478325197323,
          0.8234785283616356,
          0.09775233667726059,
          0.4426520294879391,
          1.3332588195304493,
          0.6786094057326916,
          -1.072784991063228,
          0.1431368184337798,
          0.37685245253890953,
          -0.008279655793517674,
          -0.04025830813754167,
          -1.496699137527211,
          0.44668384965429475,
          0.8282233080065341,
          0.9187031152698922,
          0.07574685540103843,
          0.23778114530311967,
          1.1209179473646502
         ],
         "xaxis": "x",
         "yaxis": "y"
        },
        {
         "line": {
          "color": "rgba(128, 128, 128, 1.0)",
          "dash": "solid",
          "shape": "linear",
          "width": 1.3
         },
         "marker": {
          "size": 2,
          "symbol": "circle"
         },
         "mode": "markers",
         "name": "A",
         "text": "",
         "type": "scatter",
         "x": [
          -0.7571651498351455,
          0.3041841546141356,
          -0.3634338798273758,
          -2.0482361777995144,
          -0.18108815038638867,
          -0.21190299395233114,
          -0.7806951399891963,
          1.8590985191190108,
          0.48036674314609656,
          1.8873083466347365,
          1.1056779689437921,
          -1.3231700180419348,
          0.3342805753940904,
          -0.20369594444050604,
          0.39088820371926375,
          -0.48776057521970073,
          -1.1414327259670378,
          -0.7808846359062693,
          1.4920293778079048,
          0.71079751035893,
          0.2307135496211187,
          -0.7211267802065155,
          -0.3877863925049786,
          0.5293063371459275,
          -1.698225399775976,
          -0.7432359964184969,
          -1.0633879580111423,
          -1.1564930777360236,
          -0.6354873928530012,
          1.6168674082839893,
          -2.1397231605343183,
          0.8591667284039247,
          -0.4525164669746582,
          0.6479933531495566,
          0.4928251204016213,
          0.5301247456285414,
          1.2692158824055362,
          0.4903818486766852,
          -1.1042304957167466,
          -0.3604927522499086,
          0.13344340017146225,
          -0.5371434200006895,
          -1.8037554935945654,
          0.5237936559711996,
          1.500251268452096,
          2.179319647875672,
          -0.009000371183924594,
          0.7041273574304793,
          0.8935279013253304,
          -3.375008844495114,
          1.1894387874864698,
          -0.27110581005903794,
          -0.3603941406302465,
          -0.19626364838529733,
          2.504563093248634,
          0.03156911621838102,
          0.29881409996396646,
          -0.386394740622949,
          -0.3698428488757272,
          0.8246534678107472,
          -1.9114009699387526,
          -0.4623680380986253,
          0.9077405464515336,
          -0.7295099857464294,
          0.6764853912798772,
          -0.541361568392655,
          0.47232880482121675,
          0.6296488331438715,
          1.7669189062507158,
          0.5757234831604158,
          -0.7518036824883677,
          -0.6340399776230848,
          -1.4504687727889098,
          0.4229339994405687,
          -0.7844403212340828,
          0.500292917366162,
          -0.45417782594598816,
          -0.2602529926846372,
          1.6907017072679549,
          2.0122414821517025,
          -0.9944724957993845,
          -0.4618705938551304,
          0.15912344530429562,
          0.06113220007641856,
          0.5169371398966918,
          -1.1232577387697515,
          -0.21463034116679147,
          -0.42893393668424407,
          -1.0968561308131135,
          2.4209582185902776,
          -1.242139030854014,
          -0.9981972941910361,
          1.6073060927944351,
          -1.2621170591121773,
          0.9289617974150245,
          -0.22342478108118818,
          0.23205496907907777,
          -0.7706448922950906,
          -0.20410847471802354,
          -0.3025804522844425
         ],
         "xaxis": "x2",
         "y": [
          0.29679088647994234,
          -0.042206202349754085,
          0.05623496351276302,
          0.18396487905995018,
          1.9471896766346395,
          0.43208920801474165,
          1.6081901135096244,
          -0.33939886596474583,
          -0.005108983403875583,
          0.8530884673894046,
          -1.0049122922726699,
          -0.12868851992931754,
          1.7353868610859655,
          -0.08546583156278803,
          0.19057248696326243,
          -2.215582342343689,
          0.5808233212565269,
          0.5556244407586608,
          0.6393629473270924,
          0.8517397885188276,
          1.004772451678126,
          1.764774535802342,
          -1.5928023745870552,
          0.4490624254607539,
          -0.7527723767987775,
          -0.44542373319935846,
          0.34087288647274944,
          0.7583254810032551,
          1.1582430952918201,
          -0.3687962067699432,
          0.8684466366474232,
          1.1573101491711728,
          0.8106533155680704,
          0.49441830258067543,
          0.6885849650903538,
          -0.4702465281680946,
          0.7258776199325154,
          -2.229493254691975,
          -0.4286484838911737,
          -0.3528594259863507,
          -1.6078191886771733,
          1.7925932159412024,
          -1.4917867638583655,
          -0.8522939738286025,
          -0.3029444850990843,
          -0.15564219622621273,
          -0.8516913437553745,
          1.9066382724108697,
          -0.6264844604156597,
          0.06234625415648561,
          -3.6576914024430116,
          0.8489453033047615,
          0.6663080066373779,
          -2.794668362290301,
          -0.14340193607480287,
          0.46961643534909486,
          0.19466760147991485,
          -0.18305973698227745,
          0.2533686282037615,
          0.22681881963847014,
          -0.5853685803435907,
          1.2286869071151012,
          0.9278399975997879,
          -0.4069069923876818,
          0.2798037596885753,
          -1.440231742955656,
          -0.25905094443393784,
          -0.1670331195018515,
          -0.7801423654656153,
          -0.33638723727069586,
          0.1696828002144026,
          -1.6534073036946215,
          0.20741424731862965,
          -0.437475299257197,
          -0.605281305177192,
          1.2030690694557755,
          -1.6945689313328423,
          0.9344417133260021,
          0.46676346426075643,
          1.9170319083784906,
          0.34351232000814336,
          0.4415030752463328,
          -1.8460478325197323,
          0.8234785283616356,
          0.09775233667726059,
          0.4426520294879391,
          1.3332588195304493,
          0.6786094057326916,
          -1.072784991063228,
          0.1431368184337798,
          0.37685245253890953,
          -0.008279655793517674,
          -0.04025830813754167,
          -1.496699137527211,
          0.44668384965429475,
          0.8282233080065341,
          0.9187031152698922,
          0.07574685540103843,
          0.23778114530311967,
          1.1209179473646502
         ],
         "yaxis": "y2"
        },
        {
         "line": {
          "color": "rgba(128, 128, 128, 1.0)",
          "dash": "solid",
          "shape": "linear",
          "width": 1.3
         },
         "marker": {
          "size": 2,
          "symbol": "circle"
         },
         "mode": "markers",
         "name": "A",
         "text": "",
         "type": "scatter",
         "x": [
          1.3401787857219047,
          -1.9553069612319784,
          0.09675136225434358,
          -0.8759626344625551,
          0.5541427096618632,
          1.3165355670097862,
          1.408684673970268,
          -0.8967317424310816,
          1.2647177893278923,
          -0.8049786030037357,
          -0.06522744548821288,
          1.4644919945838932,
          0.4350597896711922,
          -0.8890187839422852,
          0.8867845306851252,
          -1.2114753081096763,
          -1.3938600325853063,
          1.490322147153945,
          -0.3553943255278688,
          0.07275987339103501,
          0.9468715674905341,
          -0.7148656043530932,
          1.130693472818898,
          0.6658723771144244,
          0.9517837492043227,
          -0.12139122701139177,
          0.6011921603130448,
          -0.22843679020738578,
          -0.4576461130254673,
          1.5217598592429153,
          0.06970244363116698,
          -0.36510742882975694,
          1.79964304659319,
          -0.4400648704861409,
          -1.5500450343003,
          0.7208936566883917,
          0.9148340324849574,
          0.5769584974237918,
          0.7266845772317149,
          -0.7613464781713648,
          -0.18127576515236662,
          0.9813822416561983,
          0.8648986685162713,
          -0.23479550261196794,
          0.9016435261415309,
          0.22909739222432027,
          -1.2677417034299547,
          0.02441969904149327,
          1.8962194603065503,
          0.9181516111950895,
          0.022466458072359596,
          -1.6147166715521313,
          0.3641207738676737,
          -1.1393813221479803,
          1.2684436695379524,
          0.07019548392944641,
          -0.6071693419292494,
          1.426350084965751,
          1.6962148664066656,
          0.19878318228660752,
          0.6347943664894169,
          -1.1188234248778783,
          0.7196057917579274,
          1.3439620810898105,
          -0.9282648100560266,
          0.15984599683557435,
          -0.02043117007082602,
          -0.6465765462806012,
          -0.01337361338853624,
          -1.7988309469098755,
          0.5443194498205624,
          -2.5290357260174927,
          0.9675397250912268,
          -0.6300044340653279,
          -0.5524294384364697,
          -0.5490247837882021,
          -0.3632026938472756,
          1.9574891488442245,
          -0.8240201845184999,
          -1.6353559803347641,
          -0.5264511550055844,
          1.4312770258432483,
          0.9065704277847233,
          -0.3117201080331889,
          0.16822989010638462,
          0.1578247697613285,
          0.20578184362978333,
          0.022514408713525055,
          0.2807742047625913,
          0.04862287024487184,
          0.7054300808952286,
          -0.8566338963035328,
          -2.8904122011862747,
          -0.8214752611638811,
          -0.21645791311558232,
          -0.5476883796592708,
          -0.5276737589252545,
          -0.7598497779233351,
          -2.030836851081924,
          0.00264599696123195
         ],
         "xaxis": "x3",
         "y": [
          0.29679088647994234,
          -0.042206202349754085,
          0.05623496351276302,
          0.18396487905995018,
          1.9471896766346395,
          0.43208920801474165,
          1.6081901135096244,
          -0.33939886596474583,
          -0.005108983403875583,
          0.8530884673894046,
          -1.0049122922726699,
          -0.12868851992931754,
          1.7353868610859655,
          -0.08546583156278803,
          0.19057248696326243,
          -2.215582342343689,
          0.5808233212565269,
          0.5556244407586608,
          0.6393629473270924,
          0.8517397885188276,
          1.004772451678126,
          1.764774535802342,
          -1.5928023745870552,
          0.4490624254607539,
          -0.7527723767987775,
          -0.44542373319935846,
          0.34087288647274944,
          0.7583254810032551,
          1.1582430952918201,
          -0.3687962067699432,
          0.8684466366474232,
          1.1573101491711728,
          0.8106533155680704,
          0.49441830258067543,
          0.6885849650903538,
          -0.4702465281680946,
          0.7258776199325154,
          -2.229493254691975,
          -0.4286484838911737,
          -0.3528594259863507,
          -1.6078191886771733,
          1.7925932159412024,
          -1.4917867638583655,
          -0.8522939738286025,
          -0.3029444850990843,
          -0.15564219622621273,
          -0.8516913437553745,
          1.9066382724108697,
          -0.6264844604156597,
          0.06234625415648561,
          -3.6576914024430116,
          0.8489453033047615,
          0.6663080066373779,
          -2.794668362290301,
          -0.14340193607480287,
          0.46961643534909486,
          0.19466760147991485,
          -0.18305973698227745,
          0.2533686282037615,
          0.22681881963847014,
          -0.5853685803435907,
          1.2286869071151012,
          0.9278399975997879,
          -0.4069069923876818,
          0.2798037596885753,
          -1.440231742955656,
          -0.25905094443393784,
          -0.1670331195018515,
          -0.7801423654656153,
          -0.33638723727069586,
          0.1696828002144026,
          -1.6534073036946215,
          0.20741424731862965,
          -0.437475299257197,
          -0.605281305177192,
          1.2030690694557755,
          -1.6945689313328423,
          0.9344417133260021,
          0.46676346426075643,
          1.9170319083784906,
          0.34351232000814336,
          0.4415030752463328,
          -1.8460478325197323,
          0.8234785283616356,
          0.09775233667726059,
          0.4426520294879391,
          1.3332588195304493,
          0.6786094057326916,
          -1.072784991063228,
          0.1431368184337798,
          0.37685245253890953,
          -0.008279655793517674,
          -0.04025830813754167,
          -1.496699137527211,
          0.44668384965429475,
          0.8282233080065341,
          0.9187031152698922,
          0.07574685540103843,
          0.23778114530311967,
          1.1209179473646502
         ],
         "yaxis": "y3"
        },
        {
         "line": {
          "color": "rgba(128, 128, 128, 1.0)",
          "dash": "solid",
          "shape": "linear",
          "width": 1.3
         },
         "marker": {
          "size": 2,
          "symbol": "circle"
         },
         "mode": "markers",
         "name": "A",
         "text": "",
         "type": "scatter",
         "x": [
          0.24525988548592925,
          -0.8134924347641136,
          -0.06301976921784228,
          1.6767678320421202,
          0.3244226225073001,
          -0.1955763371715922,
          -1.3411201785288194,
          1.9063827326757339,
          1.3474940840274094,
          1.8649816545434144,
          0.38784495530139607,
          -0.4614739762068934,
          2.624423249892742,
          1.1723960416063304,
          -0.7989430846361074,
          -1.6086674507023928,
          1.0626446977057926,
          0.3061122651420492,
          -3.8974087795971033,
          0.49509476013264314,
          -0.22890394797898309,
          1.531323123544235,
          -0.3299867649224163,
          -0.6180478692371327,
          -1.604779874246786,
          -0.7642244120224729,
          0.8028952271987085,
          -1.24118922536906,
          -0.4037680962139133,
          0.12671719764900752,
          -0.28368615581630663,
          0.5987350777489968,
          0.6987771419987823,
          -0.20066747894606912,
          1.1824188305674441,
          -0.32855086090261704,
          -0.9129891829296052,
          0.6837732875317857,
          -0.4821839815272349,
          -0.29299875846855944,
          0.2358883415177,
          -1.3480057073255023,
          0.6119263056858619,
          -0.5359176160660698,
          0.7954426240488578,
          -0.3360177186601398,
          -0.07746324253214303,
          -1.5648236415728372,
          0.2933756393149718,
          -0.04695088194711037,
          0.1766689682198699,
          -0.5239465195284316,
          2.1456067871766065,
          0.7615389563566171,
          -0.8272853511020328,
          -1.777287515861347,
          -1.699059001829908,
          0.48721507787091894,
          -1.6101843077172044,
          -0.35869981031815207,
          -0.7743598576732503,
          -0.9464883862911435,
          0.4157114601709713,
          1.0317807200645843,
          -0.23342785269896626,
          0.3283854501960172,
          0.34753742525171183,
          1.7770888208835824,
          -0.2751178467213051,
          -0.6696298796044111,
          1.21538700080969,
          2.1383020557715504,
          2.2551676774077345,
          0.37425799100418256,
          -1.3985445283206148,
          -0.06632952359706587,
          -2.007849101781652,
          1.4629465385445042,
          -0.30830681518190695,
          0.454900046618444,
          0.9704785861065522,
          1.058971235277724,
          -0.8688765333946045,
          -0.8805605039388629,
          0.9199033135573567,
          -1.0383100618925594,
          -1.0034127373954553,
          0.6512179848694126,
          -1.3803849052078925,
          -0.26599409292614745,
          0.09329712767283055,
          -1.7980971334936897,
          -1.3816592922590543,
          2.06826412084128,
          0.3773835170733553,
          0.4945583546436987,
          -0.12522417275069883,
          -1.042172817742925,
          -1.9831712321804318,
          -0.7012602384195061
         ],
         "xaxis": "x4",
         "y": [
          0.29679088647994234,
          -0.042206202349754085,
          0.05623496351276302,
          0.18396487905995018,
          1.9471896766346395,
          0.43208920801474165,
          1.6081901135096244,
          -0.33939886596474583,
          -0.005108983403875583,
          0.8530884673894046,
          -1.0049122922726699,
          -0.12868851992931754,
          1.7353868610859655,
          -0.08546583156278803,
          0.19057248696326243,
          -2.215582342343689,
          0.5808233212565269,
          0.5556244407586608,
          0.6393629473270924,
          0.8517397885188276,
          1.004772451678126,
          1.764774535802342,
          -1.5928023745870552,
          0.4490624254607539,
          -0.7527723767987775,
          -0.44542373319935846,
          0.34087288647274944,
          0.7583254810032551,
          1.1582430952918201,
          -0.3687962067699432,
          0.8684466366474232,
          1.1573101491711728,
          0.8106533155680704,
          0.49441830258067543,
          0.6885849650903538,
          -0.4702465281680946,
          0.7258776199325154,
          -2.229493254691975,
          -0.4286484838911737,
          -0.3528594259863507,
          -1.6078191886771733,
          1.7925932159412024,
          -1.4917867638583655,
          -0.8522939738286025,
          -0.3029444850990843,
          -0.15564219622621273,
          -0.8516913437553745,
          1.9066382724108697,
          -0.6264844604156597,
          0.06234625415648561,
          -3.6576914024430116,
          0.8489453033047615,
          0.6663080066373779,
          -2.794668362290301,
          -0.14340193607480287,
          0.46961643534909486,
          0.19466760147991485,
          -0.18305973698227745,
          0.2533686282037615,
          0.22681881963847014,
          -0.5853685803435907,
          1.2286869071151012,
          0.9278399975997879,
          -0.4069069923876818,
          0.2798037596885753,
          -1.440231742955656,
          -0.25905094443393784,
          -0.1670331195018515,
          -0.7801423654656153,
          -0.33638723727069586,
          0.1696828002144026,
          -1.6534073036946215,
          0.20741424731862965,
          -0.437475299257197,
          -0.605281305177192,
          1.2030690694557755,
          -1.6945689313328423,
          0.9344417133260021,
          0.46676346426075643,
          1.9170319083784906,
          0.34351232000814336,
          0.4415030752463328,
          -1.8460478325197323,
          0.8234785283616356,
          0.09775233667726059,
          0.4426520294879391,
          1.3332588195304493,
          0.6786094057326916,
          -1.072784991063228,
          0.1431368184337798,
          0.37685245253890953,
          -0.008279655793517674,
          -0.04025830813754167,
          -1.496699137527211,
          0.44668384965429475,
          0.8282233080065341,
          0.9187031152698922,
          0.07574685540103843,
          0.23778114530311967,
          1.1209179473646502
         ],
         "yaxis": "y4"
        },
        {
         "line": {
          "color": "rgba(128, 128, 128, 1.0)",
          "dash": "solid",
          "shape": "linear",
          "width": 1.3
         },
         "marker": {
          "size": 2,
          "symbol": "circle"
         },
         "mode": "markers",
         "name": "B",
         "text": "",
         "type": "scatter",
         "x": [
          0.29679088647994234,
          -0.042206202349754085,
          0.05623496351276302,
          0.18396487905995018,
          1.9471896766346395,
          0.43208920801474165,
          1.6081901135096244,
          -0.33939886596474583,
          -0.005108983403875583,
          0.8530884673894046,
          -1.0049122922726699,
          -0.12868851992931754,
          1.7353868610859655,
          -0.08546583156278803,
          0.19057248696326243,
          -2.215582342343689,
          0.5808233212565269,
          0.5556244407586608,
          0.6393629473270924,
          0.8517397885188276,
          1.004772451678126,
          1.764774535802342,
          -1.5928023745870552,
          0.4490624254607539,
          -0.7527723767987775,
          -0.44542373319935846,
          0.34087288647274944,
          0.7583254810032551,
          1.1582430952918201,
          -0.3687962067699432,
          0.8684466366474232,
          1.1573101491711728,
          0.8106533155680704,
          0.49441830258067543,
          0.6885849650903538,
          -0.4702465281680946,
          0.7258776199325154,
          -2.229493254691975,
          -0.4286484838911737,
          -0.3528594259863507,
          -1.6078191886771733,
          1.7925932159412024,
          -1.4917867638583655,
          -0.8522939738286025,
          -0.3029444850990843,
          -0.15564219622621273,
          -0.8516913437553745,
          1.9066382724108697,
          -0.6264844604156597,
          0.06234625415648561,
          -3.6576914024430116,
          0.8489453033047615,
          0.6663080066373779,
          -2.794668362290301,
          -0.14340193607480287,
          0.46961643534909486,
          0.19466760147991485,
          -0.18305973698227745,
          0.2533686282037615,
          0.22681881963847014,
          -0.5853685803435907,
          1.2286869071151012,
          0.9278399975997879,
          -0.4069069923876818,
          0.2798037596885753,
          -1.440231742955656,
          -0.25905094443393784,
          -0.1670331195018515,
          -0.7801423654656153,
          -0.33638723727069586,
          0.1696828002144026,
          -1.6534073036946215,
          0.20741424731862965,
          -0.437475299257197,
          -0.605281305177192,
          1.2030690694557755,
          -1.6945689313328423,
          0.9344417133260021,
          0.46676346426075643,
          1.9170319083784906,
          0.34351232000814336,
          0.4415030752463328,
          -1.8460478325197323,
          0.8234785283616356,
          0.09775233667726059,
          0.4426520294879391,
          1.3332588195304493,
          0.6786094057326916,
          -1.072784991063228,
          0.1431368184337798,
          0.37685245253890953,
          -0.008279655793517674,
          -0.04025830813754167,
          -1.496699137527211,
          0.44668384965429475,
          0.8282233080065341,
          0.9187031152698922,
          0.07574685540103843,
          0.23778114530311967,
          1.1209179473646502
         ],
         "xaxis": "x5",
         "y": [
          -0.7571651498351455,
          0.3041841546141356,
          -0.3634338798273758,
          -2.0482361777995144,
          -0.18108815038638867,
          -0.21190299395233114,
          -0.7806951399891963,
          1.8590985191190108,
          0.48036674314609656,
          1.8873083466347365,
          1.1056779689437921,
          -1.3231700180419348,
          0.3342805753940904,
          -0.20369594444050604,
          0.39088820371926375,
          -0.48776057521970073,
          -1.1414327259670378,
          -0.7808846359062693,
          1.4920293778079048,
          0.71079751035893,
          0.2307135496211187,
          -0.7211267802065155,
          -0.3877863925049786,
          0.5293063371459275,
          -1.698225399775976,
          -0.7432359964184969,
          -1.0633879580111423,
          -1.1564930777360236,
          -0.6354873928530012,
          1.6168674082839893,
          -2.1397231605343183,
          0.8591667284039247,
          -0.4525164669746582,
          0.6479933531495566,
          0.4928251204016213,
          0.5301247456285414,
          1.2692158824055362,
          0.4903818486766852,
          -1.1042304957167466,
          -0.3604927522499086,
          0.13344340017146225,
          -0.5371434200006895,
          -1.8037554935945654,
          0.5237936559711996,
          1.500251268452096,
          2.179319647875672,
          -0.009000371183924594,
          0.7041273574304793,
          0.8935279013253304,
          -3.375008844495114,
          1.1894387874864698,
          -0.27110581005903794,
          -0.3603941406302465,
          -0.19626364838529733,
          2.504563093248634,
          0.03156911621838102,
          0.29881409996396646,
          -0.386394740622949,
          -0.3698428488757272,
          0.8246534678107472,
          -1.9114009699387526,
          -0.4623680380986253,
          0.9077405464515336,
          -0.7295099857464294,
          0.6764853912798772,
          -0.541361568392655,
          0.47232880482121675,
          0.6296488331438715,
          1.7669189062507158,
          0.5757234831604158,
          -0.7518036824883677,
          -0.6340399776230848,
          -1.4504687727889098,
          0.4229339994405687,
          -0.7844403212340828,
          0.500292917366162,
          -0.45417782594598816,
          -0.2602529926846372,
          1.6907017072679549,
          2.0122414821517025,
          -0.9944724957993845,
          -0.4618705938551304,
          0.15912344530429562,
          0.06113220007641856,
          0.5169371398966918,
          -1.1232577387697515,
          -0.21463034116679147,
          -0.42893393668424407,
          -1.0968561308131135,
          2.4209582185902776,
          -1.242139030854014,
          -0.9981972941910361,
          1.6073060927944351,
          -1.2621170591121773,
          0.9289617974150245,
          -0.22342478108118818,
          0.23205496907907777,
          -0.7706448922950906,
          -0.20410847471802354,
          -0.3025804522844425
         ],
         "yaxis": "y5"
        },
        {
         "histfunc": "count",
         "histnorm": "",
         "marker": {
          "color": "rgba(55, 128, 191, 1.0)",
          "line": {
           "color": "#4D5663",
           "width": 1.3
          }
         },
         "name": "B",
         "nbinsx": 10,
         "opacity": 0.8,
         "orientation": "v",
         "type": "histogram",
         "x": [
          -0.7571651498351455,
          0.3041841546141356,
          -0.3634338798273758,
          -2.0482361777995144,
          -0.18108815038638867,
          -0.21190299395233114,
          -0.7806951399891963,
          1.8590985191190108,
          0.48036674314609656,
          1.8873083466347365,
          1.1056779689437921,
          -1.3231700180419348,
          0.3342805753940904,
          -0.20369594444050604,
          0.39088820371926375,
          -0.48776057521970073,
          -1.1414327259670378,
          -0.7808846359062693,
          1.4920293778079048,
          0.71079751035893,
          0.2307135496211187,
          -0.7211267802065155,
          -0.3877863925049786,
          0.5293063371459275,
          -1.698225399775976,
          -0.7432359964184969,
          -1.0633879580111423,
          -1.1564930777360236,
          -0.6354873928530012,
          1.6168674082839893,
          -2.1397231605343183,
          0.8591667284039247,
          -0.4525164669746582,
          0.6479933531495566,
          0.4928251204016213,
          0.5301247456285414,
          1.2692158824055362,
          0.4903818486766852,
          -1.1042304957167466,
          -0.3604927522499086,
          0.13344340017146225,
          -0.5371434200006895,
          -1.8037554935945654,
          0.5237936559711996,
          1.500251268452096,
          2.179319647875672,
          -0.009000371183924594,
          0.7041273574304793,
          0.8935279013253304,
          -3.375008844495114,
          1.1894387874864698,
          -0.27110581005903794,
          -0.3603941406302465,
          -0.19626364838529733,
          2.504563093248634,
          0.03156911621838102,
          0.29881409996396646,
          -0.386394740622949,
          -0.3698428488757272,
          0.8246534678107472,
          -1.9114009699387526,
          -0.4623680380986253,
          0.9077405464515336,
          -0.7295099857464294,
          0.6764853912798772,
          -0.541361568392655,
          0.47232880482121675,
          0.6296488331438715,
          1.7669189062507158,
          0.5757234831604158,
          -0.7518036824883677,
          -0.6340399776230848,
          -1.4504687727889098,
          0.4229339994405687,
          -0.7844403212340828,
          0.500292917366162,
          -0.45417782594598816,
          -0.2602529926846372,
          1.6907017072679549,
          2.0122414821517025,
          -0.9944724957993845,
          -0.4618705938551304,
          0.15912344530429562,
          0.06113220007641856,
          0.5169371398966918,
          -1.1232577387697515,
          -0.21463034116679147,
          -0.42893393668424407,
          -1.0968561308131135,
          2.4209582185902776,
          -1.242139030854014,
          -0.9981972941910361,
          1.6073060927944351,
          -1.2621170591121773,
          0.9289617974150245,
          -0.22342478108118818,
          0.23205496907907777,
          -0.7706448922950906,
          -0.20410847471802354,
          -0.3025804522844425
         ],
         "xaxis": "x6",
         "yaxis": "y6"
        },
        {
         "line": {
          "color": "rgba(128, 128, 128, 1.0)",
          "dash": "solid",
          "shape": "linear",
          "width": 1.3
         },
         "marker": {
          "size": 2,
          "symbol": "circle"
         },
         "mode": "markers",
         "name": "B",
         "text": "",
         "type": "scatter",
         "x": [
          1.3401787857219047,
          -1.9553069612319784,
          0.09675136225434358,
          -0.8759626344625551,
          0.5541427096618632,
          1.3165355670097862,
          1.408684673970268,
          -0.8967317424310816,
          1.2647177893278923,
          -0.8049786030037357,
          -0.06522744548821288,
          1.4644919945838932,
          0.4350597896711922,
          -0.8890187839422852,
          0.8867845306851252,
          -1.2114753081096763,
          -1.3938600325853063,
          1.490322147153945,
          -0.3553943255278688,
          0.07275987339103501,
          0.9468715674905341,
          -0.7148656043530932,
          1.130693472818898,
          0.6658723771144244,
          0.9517837492043227,
          -0.12139122701139177,
          0.6011921603130448,
          -0.22843679020738578,
          -0.4576461130254673,
          1.5217598592429153,
          0.06970244363116698,
          -0.36510742882975694,
          1.79964304659319,
          -0.4400648704861409,
          -1.5500450343003,
          0.7208936566883917,
          0.9148340324849574,
          0.5769584974237918,
          0.7266845772317149,
          -0.7613464781713648,
          -0.18127576515236662,
          0.9813822416561983,
          0.8648986685162713,
          -0.23479550261196794,
          0.9016435261415309,
          0.22909739222432027,
          -1.2677417034299547,
          0.02441969904149327,
          1.8962194603065503,
          0.9181516111950895,
          0.022466458072359596,
          -1.6147166715521313,
          0.3641207738676737,
          -1.1393813221479803,
          1.2684436695379524,
          0.07019548392944641,
          -0.6071693419292494,
          1.426350084965751,
          1.6962148664066656,
          0.19878318228660752,
          0.6347943664894169,
          -1.1188234248778783,
          0.7196057917579274,
          1.3439620810898105,
          -0.9282648100560266,
          0.15984599683557435,
          -0.02043117007082602,
          -0.6465765462806012,
          -0.01337361338853624,
          -1.7988309469098755,
          0.5443194498205624,
          -2.5290357260174927,
          0.9675397250912268,
          -0.6300044340653279,
          -0.5524294384364697,
          -0.5490247837882021,
          -0.3632026938472756,
          1.9574891488442245,
          -0.8240201845184999,
          -1.6353559803347641,
          -0.5264511550055844,
          1.4312770258432483,
          0.9065704277847233,
          -0.3117201080331889,
          0.16822989010638462,
          0.1578247697613285,
          0.20578184362978333,
          0.022514408713525055,
          0.2807742047625913,
          0.04862287024487184,
          0.7054300808952286,
          -0.8566338963035328,
          -2.8904122011862747,
          -0.8214752611638811,
          -0.21645791311558232,
          -0.5476883796592708,
          -0.5276737589252545,
          -0.7598497779233351,
          -2.030836851081924,
          0.00264599696123195
         ],
         "xaxis": "x7",
         "y": [
          -0.7571651498351455,
          0.3041841546141356,
          -0.3634338798273758,
          -2.0482361777995144,
          -0.18108815038638867,
          -0.21190299395233114,
          -0.7806951399891963,
          1.8590985191190108,
          0.48036674314609656,
          1.8873083466347365,
          1.1056779689437921,
          -1.3231700180419348,
          0.3342805753940904,
          -0.20369594444050604,
          0.39088820371926375,
          -0.48776057521970073,
          -1.1414327259670378,
          -0.7808846359062693,
          1.4920293778079048,
          0.71079751035893,
          0.2307135496211187,
          -0.7211267802065155,
          -0.3877863925049786,
          0.5293063371459275,
          -1.698225399775976,
          -0.7432359964184969,
          -1.0633879580111423,
          -1.1564930777360236,
          -0.6354873928530012,
          1.6168674082839893,
          -2.1397231605343183,
          0.8591667284039247,
          -0.4525164669746582,
          0.6479933531495566,
          0.4928251204016213,
          0.5301247456285414,
          1.2692158824055362,
          0.4903818486766852,
          -1.1042304957167466,
          -0.3604927522499086,
          0.13344340017146225,
          -0.5371434200006895,
          -1.8037554935945654,
          0.5237936559711996,
          1.500251268452096,
          2.179319647875672,
          -0.009000371183924594,
          0.7041273574304793,
          0.8935279013253304,
          -3.375008844495114,
          1.1894387874864698,
          -0.27110581005903794,
          -0.3603941406302465,
          -0.19626364838529733,
          2.504563093248634,
          0.03156911621838102,
          0.29881409996396646,
          -0.386394740622949,
          -0.3698428488757272,
          0.8246534678107472,
          -1.9114009699387526,
          -0.4623680380986253,
          0.9077405464515336,
          -0.7295099857464294,
          0.6764853912798772,
          -0.541361568392655,
          0.47232880482121675,
          0.6296488331438715,
          1.7669189062507158,
          0.5757234831604158,
          -0.7518036824883677,
          -0.6340399776230848,
          -1.4504687727889098,
          0.4229339994405687,
          -0.7844403212340828,
          0.500292917366162,
          -0.45417782594598816,
          -0.2602529926846372,
          1.6907017072679549,
          2.0122414821517025,
          -0.9944724957993845,
          -0.4618705938551304,
          0.15912344530429562,
          0.06113220007641856,
          0.5169371398966918,
          -1.1232577387697515,
          -0.21463034116679147,
          -0.42893393668424407,
          -1.0968561308131135,
          2.4209582185902776,
          -1.242139030854014,
          -0.9981972941910361,
          1.6073060927944351,
          -1.2621170591121773,
          0.9289617974150245,
          -0.22342478108118818,
          0.23205496907907777,
          -0.7706448922950906,
          -0.20410847471802354,
          -0.3025804522844425
         ],
         "yaxis": "y7"
        },
        {
         "line": {
          "color": "rgba(128, 128, 128, 1.0)",
          "dash": "solid",
          "shape": "linear",
          "width": 1.3
         },
         "marker": {
          "size": 2,
          "symbol": "circle"
         },
         "mode": "markers",
         "name": "B",
         "text": "",
         "type": "scatter",
         "x": [
          0.24525988548592925,
          -0.8134924347641136,
          -0.06301976921784228,
          1.6767678320421202,
          0.3244226225073001,
          -0.1955763371715922,
          -1.3411201785288194,
          1.9063827326757339,
          1.3474940840274094,
          1.8649816545434144,
          0.38784495530139607,
          -0.4614739762068934,
          2.624423249892742,
          1.1723960416063304,
          -0.7989430846361074,
          -1.6086674507023928,
          1.0626446977057926,
          0.3061122651420492,
          -3.8974087795971033,
          0.49509476013264314,
          -0.22890394797898309,
          1.531323123544235,
          -0.3299867649224163,
          -0.6180478692371327,
          -1.604779874246786,
          -0.7642244120224729,
          0.8028952271987085,
          -1.24118922536906,
          -0.4037680962139133,
          0.12671719764900752,
          -0.28368615581630663,
          0.5987350777489968,
          0.6987771419987823,
          -0.20066747894606912,
          1.1824188305674441,
          -0.32855086090261704,
          -0.9129891829296052,
          0.6837732875317857,
          -0.4821839815272349,
          -0.29299875846855944,
          0.2358883415177,
          -1.3480057073255023,
          0.6119263056858619,
          -0.5359176160660698,
          0.7954426240488578,
          -0.3360177186601398,
          -0.07746324253214303,
          -1.5648236415728372,
          0.2933756393149718,
          -0.04695088194711037,
          0.1766689682198699,
          -0.5239465195284316,
          2.1456067871766065,
          0.7615389563566171,
          -0.8272853511020328,
          -1.777287515861347,
          -1.699059001829908,
          0.48721507787091894,
          -1.6101843077172044,
          -0.35869981031815207,
          -0.7743598576732503,
          -0.9464883862911435,
          0.4157114601709713,
          1.0317807200645843,
          -0.23342785269896626,
          0.3283854501960172,
          0.34753742525171183,
          1.7770888208835824,
          -0.2751178467213051,
          -0.6696298796044111,
          1.21538700080969,
          2.1383020557715504,
          2.2551676774077345,
          0.37425799100418256,
          -1.3985445283206148,
          -0.06632952359706587,
          -2.007849101781652,
          1.4629465385445042,
          -0.30830681518190695,
          0.454900046618444,
          0.9704785861065522,
          1.058971235277724,
          -0.8688765333946045,
          -0.8805605039388629,
          0.9199033135573567,
          -1.0383100618925594,
          -1.0034127373954553,
          0.6512179848694126,
          -1.3803849052078925,
          -0.26599409292614745,
          0.09329712767283055,
          -1.7980971334936897,
          -1.3816592922590543,
          2.06826412084128,
          0.3773835170733553,
          0.4945583546436987,
          -0.12522417275069883,
          -1.042172817742925,
          -1.9831712321804318,
          -0.7012602384195061
         ],
         "xaxis": "x8",
         "y": [
          -0.7571651498351455,
          0.3041841546141356,
          -0.3634338798273758,
          -2.0482361777995144,
          -0.18108815038638867,
          -0.21190299395233114,
          -0.7806951399891963,
          1.8590985191190108,
          0.48036674314609656,
          1.8873083466347365,
          1.1056779689437921,
          -1.3231700180419348,
          0.3342805753940904,
          -0.20369594444050604,
          0.39088820371926375,
          -0.48776057521970073,
          -1.1414327259670378,
          -0.7808846359062693,
          1.4920293778079048,
          0.71079751035893,
          0.2307135496211187,
          -0.7211267802065155,
          -0.3877863925049786,
          0.5293063371459275,
          -1.698225399775976,
          -0.7432359964184969,
          -1.0633879580111423,
          -1.1564930777360236,
          -0.6354873928530012,
          1.6168674082839893,
          -2.1397231605343183,
          0.8591667284039247,
          -0.4525164669746582,
          0.6479933531495566,
          0.4928251204016213,
          0.5301247456285414,
          1.2692158824055362,
          0.4903818486766852,
          -1.1042304957167466,
          -0.3604927522499086,
          0.13344340017146225,
          -0.5371434200006895,
          -1.8037554935945654,
          0.5237936559711996,
          1.500251268452096,
          2.179319647875672,
          -0.009000371183924594,
          0.7041273574304793,
          0.8935279013253304,
          -3.375008844495114,
          1.1894387874864698,
          -0.27110581005903794,
          -0.3603941406302465,
          -0.19626364838529733,
          2.504563093248634,
          0.03156911621838102,
          0.29881409996396646,
          -0.386394740622949,
          -0.3698428488757272,
          0.8246534678107472,
          -1.9114009699387526,
          -0.4623680380986253,
          0.9077405464515336,
          -0.7295099857464294,
          0.6764853912798772,
          -0.541361568392655,
          0.47232880482121675,
          0.6296488331438715,
          1.7669189062507158,
          0.5757234831604158,
          -0.7518036824883677,
          -0.6340399776230848,
          -1.4504687727889098,
          0.4229339994405687,
          -0.7844403212340828,
          0.500292917366162,
          -0.45417782594598816,
          -0.2602529926846372,
          1.6907017072679549,
          2.0122414821517025,
          -0.9944724957993845,
          -0.4618705938551304,
          0.15912344530429562,
          0.06113220007641856,
          0.5169371398966918,
          -1.1232577387697515,
          -0.21463034116679147,
          -0.42893393668424407,
          -1.0968561308131135,
          2.4209582185902776,
          -1.242139030854014,
          -0.9981972941910361,
          1.6073060927944351,
          -1.2621170591121773,
          0.9289617974150245,
          -0.22342478108118818,
          0.23205496907907777,
          -0.7706448922950906,
          -0.20410847471802354,
          -0.3025804522844425
         ],
         "yaxis": "y8"
        },
        {
         "line": {
          "color": "rgba(128, 128, 128, 1.0)",
          "dash": "solid",
          "shape": "linear",
          "width": 1.3
         },
         "marker": {
          "size": 2,
          "symbol": "circle"
         },
         "mode": "markers",
         "name": "C",
         "text": "",
         "type": "scatter",
         "x": [
          0.29679088647994234,
          -0.042206202349754085,
          0.05623496351276302,
          0.18396487905995018,
          1.9471896766346395,
          0.43208920801474165,
          1.6081901135096244,
          -0.33939886596474583,
          -0.005108983403875583,
          0.8530884673894046,
          -1.0049122922726699,
          -0.12868851992931754,
          1.7353868610859655,
          -0.08546583156278803,
          0.19057248696326243,
          -2.215582342343689,
          0.5808233212565269,
          0.5556244407586608,
          0.6393629473270924,
          0.8517397885188276,
          1.004772451678126,
          1.764774535802342,
          -1.5928023745870552,
          0.4490624254607539,
          -0.7527723767987775,
          -0.44542373319935846,
          0.34087288647274944,
          0.7583254810032551,
          1.1582430952918201,
          -0.3687962067699432,
          0.8684466366474232,
          1.1573101491711728,
          0.8106533155680704,
          0.49441830258067543,
          0.6885849650903538,
          -0.4702465281680946,
          0.7258776199325154,
          -2.229493254691975,
          -0.4286484838911737,
          -0.3528594259863507,
          -1.6078191886771733,
          1.7925932159412024,
          -1.4917867638583655,
          -0.8522939738286025,
          -0.3029444850990843,
          -0.15564219622621273,
          -0.8516913437553745,
          1.9066382724108697,
          -0.6264844604156597,
          0.06234625415648561,
          -3.6576914024430116,
          0.8489453033047615,
          0.6663080066373779,
          -2.794668362290301,
          -0.14340193607480287,
          0.46961643534909486,
          0.19466760147991485,
          -0.18305973698227745,
          0.2533686282037615,
          0.22681881963847014,
          -0.5853685803435907,
          1.2286869071151012,
          0.9278399975997879,
          -0.4069069923876818,
          0.2798037596885753,
          -1.440231742955656,
          -0.25905094443393784,
          -0.1670331195018515,
          -0.7801423654656153,
          -0.33638723727069586,
          0.1696828002144026,
          -1.6534073036946215,
          0.20741424731862965,
          -0.437475299257197,
          -0.605281305177192,
          1.2030690694557755,
          -1.6945689313328423,
          0.9344417133260021,
          0.46676346426075643,
          1.9170319083784906,
          0.34351232000814336,
          0.4415030752463328,
          -1.8460478325197323,
          0.8234785283616356,
          0.09775233667726059,
          0.4426520294879391,
          1.3332588195304493,
          0.6786094057326916,
          -1.072784991063228,
          0.1431368184337798,
          0.37685245253890953,
          -0.008279655793517674,
          -0.04025830813754167,
          -1.496699137527211,
          0.44668384965429475,
          0.8282233080065341,
          0.9187031152698922,
          0.07574685540103843,
          0.23778114530311967,
          1.1209179473646502
         ],
         "xaxis": "x9",
         "y": [
          1.3401787857219047,
          -1.9553069612319784,
          0.09675136225434358,
          -0.8759626344625551,
          0.5541427096618632,
          1.3165355670097862,
          1.408684673970268,
          -0.8967317424310816,
          1.2647177893278923,
          -0.8049786030037357,
          -0.06522744548821288,
          1.4644919945838932,
          0.4350597896711922,
          -0.8890187839422852,
          0.8867845306851252,
          -1.2114753081096763,
          -1.3938600325853063,
          1.490322147153945,
          -0.3553943255278688,
          0.07275987339103501,
          0.9468715674905341,
          -0.7148656043530932,
          1.130693472818898,
          0.6658723771144244,
          0.9517837492043227,
          -0.12139122701139177,
          0.6011921603130448,
          -0.22843679020738578,
          -0.4576461130254673,
          1.5217598592429153,
          0.06970244363116698,
          -0.36510742882975694,
          1.79964304659319,
          -0.4400648704861409,
          -1.5500450343003,
          0.7208936566883917,
          0.9148340324849574,
          0.5769584974237918,
          0.7266845772317149,
          -0.7613464781713648,
          -0.18127576515236662,
          0.9813822416561983,
          0.8648986685162713,
          -0.23479550261196794,
          0.9016435261415309,
          0.22909739222432027,
          -1.2677417034299547,
          0.02441969904149327,
          1.8962194603065503,
          0.9181516111950895,
          0.022466458072359596,
          -1.6147166715521313,
          0.3641207738676737,
          -1.1393813221479803,
          1.2684436695379524,
          0.07019548392944641,
          -0.6071693419292494,
          1.426350084965751,
          1.6962148664066656,
          0.19878318228660752,
          0.6347943664894169,
          -1.1188234248778783,
          0.7196057917579274,
          1.3439620810898105,
          -0.9282648100560266,
          0.15984599683557435,
          -0.02043117007082602,
          -0.6465765462806012,
          -0.01337361338853624,
          -1.7988309469098755,
          0.5443194498205624,
          -2.5290357260174927,
          0.9675397250912268,
          -0.6300044340653279,
          -0.5524294384364697,
          -0.5490247837882021,
          -0.3632026938472756,
          1.9574891488442245,
          -0.8240201845184999,
          -1.6353559803347641,
          -0.5264511550055844,
          1.4312770258432483,
          0.9065704277847233,
          -0.3117201080331889,
          0.16822989010638462,
          0.1578247697613285,
          0.20578184362978333,
          0.022514408713525055,
          0.2807742047625913,
          0.04862287024487184,
          0.7054300808952286,
          -0.8566338963035328,
          -2.8904122011862747,
          -0.8214752611638811,
          -0.21645791311558232,
          -0.5476883796592708,
          -0.5276737589252545,
          -0.7598497779233351,
          -2.030836851081924,
          0.00264599696123195
         ],
         "yaxis": "y9"
        },
        {
         "line": {
          "color": "rgba(128, 128, 128, 1.0)",
          "dash": "solid",
          "shape": "linear",
          "width": 1.3
         },
         "marker": {
          "size": 2,
          "symbol": "circle"
         },
         "mode": "markers",
         "name": "C",
         "text": "",
         "type": "scatter",
         "x": [
          -0.7571651498351455,
          0.3041841546141356,
          -0.3634338798273758,
          -2.0482361777995144,
          -0.18108815038638867,
          -0.21190299395233114,
          -0.7806951399891963,
          1.8590985191190108,
          0.48036674314609656,
          1.8873083466347365,
          1.1056779689437921,
          -1.3231700180419348,
          0.3342805753940904,
          -0.20369594444050604,
          0.39088820371926375,
          -0.48776057521970073,
          -1.1414327259670378,
          -0.7808846359062693,
          1.4920293778079048,
          0.71079751035893,
          0.2307135496211187,
          -0.7211267802065155,
          -0.3877863925049786,
          0.5293063371459275,
          -1.698225399775976,
          -0.7432359964184969,
          -1.0633879580111423,
          -1.1564930777360236,
          -0.6354873928530012,
          1.6168674082839893,
          -2.1397231605343183,
          0.8591667284039247,
          -0.4525164669746582,
          0.6479933531495566,
          0.4928251204016213,
          0.5301247456285414,
          1.2692158824055362,
          0.4903818486766852,
          -1.1042304957167466,
          -0.3604927522499086,
          0.13344340017146225,
          -0.5371434200006895,
          -1.8037554935945654,
          0.5237936559711996,
          1.500251268452096,
          2.179319647875672,
          -0.009000371183924594,
          0.7041273574304793,
          0.8935279013253304,
          -3.375008844495114,
          1.1894387874864698,
          -0.27110581005903794,
          -0.3603941406302465,
          -0.19626364838529733,
          2.504563093248634,
          0.03156911621838102,
          0.29881409996396646,
          -0.386394740622949,
          -0.3698428488757272,
          0.8246534678107472,
          -1.9114009699387526,
          -0.4623680380986253,
          0.9077405464515336,
          -0.7295099857464294,
          0.6764853912798772,
          -0.541361568392655,
          0.47232880482121675,
          0.6296488331438715,
          1.7669189062507158,
          0.5757234831604158,
          -0.7518036824883677,
          -0.6340399776230848,
          -1.4504687727889098,
          0.4229339994405687,
          -0.7844403212340828,
          0.500292917366162,
          -0.45417782594598816,
          -0.2602529926846372,
          1.6907017072679549,
          2.0122414821517025,
          -0.9944724957993845,
          -0.4618705938551304,
          0.15912344530429562,
          0.06113220007641856,
          0.5169371398966918,
          -1.1232577387697515,
          -0.21463034116679147,
          -0.42893393668424407,
          -1.0968561308131135,
          2.4209582185902776,
          -1.242139030854014,
          -0.9981972941910361,
          1.6073060927944351,
          -1.2621170591121773,
          0.9289617974150245,
          -0.22342478108118818,
          0.23205496907907777,
          -0.7706448922950906,
          -0.20410847471802354,
          -0.3025804522844425
         ],
         "xaxis": "x10",
         "y": [
          1.3401787857219047,
          -1.9553069612319784,
          0.09675136225434358,
          -0.8759626344625551,
          0.5541427096618632,
          1.3165355670097862,
          1.408684673970268,
          -0.8967317424310816,
          1.2647177893278923,
          -0.8049786030037357,
          -0.06522744548821288,
          1.4644919945838932,
          0.4350597896711922,
          -0.8890187839422852,
          0.8867845306851252,
          -1.2114753081096763,
          -1.3938600325853063,
          1.490322147153945,
          -0.3553943255278688,
          0.07275987339103501,
          0.9468715674905341,
          -0.7148656043530932,
          1.130693472818898,
          0.6658723771144244,
          0.9517837492043227,
          -0.12139122701139177,
          0.6011921603130448,
          -0.22843679020738578,
          -0.4576461130254673,
          1.5217598592429153,
          0.06970244363116698,
          -0.36510742882975694,
          1.79964304659319,
          -0.4400648704861409,
          -1.5500450343003,
          0.7208936566883917,
          0.9148340324849574,
          0.5769584974237918,
          0.7266845772317149,
          -0.7613464781713648,
          -0.18127576515236662,
          0.9813822416561983,
          0.8648986685162713,
          -0.23479550261196794,
          0.9016435261415309,
          0.22909739222432027,
          -1.2677417034299547,
          0.02441969904149327,
          1.8962194603065503,
          0.9181516111950895,
          0.022466458072359596,
          -1.6147166715521313,
          0.3641207738676737,
          -1.1393813221479803,
          1.2684436695379524,
          0.07019548392944641,
          -0.6071693419292494,
          1.426350084965751,
          1.6962148664066656,
          0.19878318228660752,
          0.6347943664894169,
          -1.1188234248778783,
          0.7196057917579274,
          1.3439620810898105,
          -0.9282648100560266,
          0.15984599683557435,
          -0.02043117007082602,
          -0.6465765462806012,
          -0.01337361338853624,
          -1.7988309469098755,
          0.5443194498205624,
          -2.5290357260174927,
          0.9675397250912268,
          -0.6300044340653279,
          -0.5524294384364697,
          -0.5490247837882021,
          -0.3632026938472756,
          1.9574891488442245,
          -0.8240201845184999,
          -1.6353559803347641,
          -0.5264511550055844,
          1.4312770258432483,
          0.9065704277847233,
          -0.3117201080331889,
          0.16822989010638462,
          0.1578247697613285,
          0.20578184362978333,
          0.022514408713525055,
          0.2807742047625913,
          0.04862287024487184,
          0.7054300808952286,
          -0.8566338963035328,
          -2.8904122011862747,
          -0.8214752611638811,
          -0.21645791311558232,
          -0.5476883796592708,
          -0.5276737589252545,
          -0.7598497779233351,
          -2.030836851081924,
          0.00264599696123195
         ],
         "yaxis": "y10"
        },
        {
         "histfunc": "count",
         "histnorm": "",
         "marker": {
          "color": "rgba(50, 171, 96, 1.0)",
          "line": {
           "color": "#4D5663",
           "width": 1.3
          }
         },
         "name": "C",
         "nbinsx": 10,
         "opacity": 0.8,
         "orientation": "v",
         "type": "histogram",
         "x": [
          1.3401787857219047,
          -1.9553069612319784,
          0.09675136225434358,
          -0.8759626344625551,
          0.5541427096618632,
          1.3165355670097862,
          1.408684673970268,
          -0.8967317424310816,
          1.2647177893278923,
          -0.8049786030037357,
          -0.06522744548821288,
          1.4644919945838932,
          0.4350597896711922,
          -0.8890187839422852,
          0.8867845306851252,
          -1.2114753081096763,
          -1.3938600325853063,
          1.490322147153945,
          -0.3553943255278688,
          0.07275987339103501,
          0.9468715674905341,
          -0.7148656043530932,
          1.130693472818898,
          0.6658723771144244,
          0.9517837492043227,
          -0.12139122701139177,
          0.6011921603130448,
          -0.22843679020738578,
          -0.4576461130254673,
          1.5217598592429153,
          0.06970244363116698,
          -0.36510742882975694,
          1.79964304659319,
          -0.4400648704861409,
          -1.5500450343003,
          0.7208936566883917,
          0.9148340324849574,
          0.5769584974237918,
          0.7266845772317149,
          -0.7613464781713648,
          -0.18127576515236662,
          0.9813822416561983,
          0.8648986685162713,
          -0.23479550261196794,
          0.9016435261415309,
          0.22909739222432027,
          -1.2677417034299547,
          0.02441969904149327,
          1.8962194603065503,
          0.9181516111950895,
          0.022466458072359596,
          -1.6147166715521313,
          0.3641207738676737,
          -1.1393813221479803,
          1.2684436695379524,
          0.07019548392944641,
          -0.6071693419292494,
          1.426350084965751,
          1.6962148664066656,
          0.19878318228660752,
          0.6347943664894169,
          -1.1188234248778783,
          0.7196057917579274,
          1.3439620810898105,
          -0.9282648100560266,
          0.15984599683557435,
          -0.02043117007082602,
          -0.6465765462806012,
          -0.01337361338853624,
          -1.7988309469098755,
          0.5443194498205624,
          -2.5290357260174927,
          0.9675397250912268,
          -0.6300044340653279,
          -0.5524294384364697,
          -0.5490247837882021,
          -0.3632026938472756,
          1.9574891488442245,
          -0.8240201845184999,
          -1.6353559803347641,
          -0.5264511550055844,
          1.4312770258432483,
          0.9065704277847233,
          -0.3117201080331889,
          0.16822989010638462,
          0.1578247697613285,
          0.20578184362978333,
          0.022514408713525055,
          0.2807742047625913,
          0.04862287024487184,
          0.7054300808952286,
          -0.8566338963035328,
          -2.8904122011862747,
          -0.8214752611638811,
          -0.21645791311558232,
          -0.5476883796592708,
          -0.5276737589252545,
          -0.7598497779233351,
          -2.030836851081924,
          0.00264599696123195
         ],
         "xaxis": "x11",
         "yaxis": "y11"
        },
        {
         "line": {
          "color": "rgba(128, 128, 128, 1.0)",
          "dash": "solid",
          "shape": "linear",
          "width": 1.3
         },
         "marker": {
          "size": 2,
          "symbol": "circle"
         },
         "mode": "markers",
         "name": "C",
         "text": "",
         "type": "scatter",
         "x": [
          0.24525988548592925,
          -0.8134924347641136,
          -0.06301976921784228,
          1.6767678320421202,
          0.3244226225073001,
          -0.1955763371715922,
          -1.3411201785288194,
          1.9063827326757339,
          1.3474940840274094,
          1.8649816545434144,
          0.38784495530139607,
          -0.4614739762068934,
          2.624423249892742,
          1.1723960416063304,
          -0.7989430846361074,
          -1.6086674507023928,
          1.0626446977057926,
          0.3061122651420492,
          -3.8974087795971033,
          0.49509476013264314,
          -0.22890394797898309,
          1.531323123544235,
          -0.3299867649224163,
          -0.6180478692371327,
          -1.604779874246786,
          -0.7642244120224729,
          0.8028952271987085,
          -1.24118922536906,
          -0.4037680962139133,
          0.12671719764900752,
          -0.28368615581630663,
          0.5987350777489968,
          0.6987771419987823,
          -0.20066747894606912,
          1.1824188305674441,
          -0.32855086090261704,
          -0.9129891829296052,
          0.6837732875317857,
          -0.4821839815272349,
          -0.29299875846855944,
          0.2358883415177,
          -1.3480057073255023,
          0.6119263056858619,
          -0.5359176160660698,
          0.7954426240488578,
          -0.3360177186601398,
          -0.07746324253214303,
          -1.5648236415728372,
          0.2933756393149718,
          -0.04695088194711037,
          0.1766689682198699,
          -0.5239465195284316,
          2.1456067871766065,
          0.7615389563566171,
          -0.8272853511020328,
          -1.777287515861347,
          -1.699059001829908,
          0.48721507787091894,
          -1.6101843077172044,
          -0.35869981031815207,
          -0.7743598576732503,
          -0.9464883862911435,
          0.4157114601709713,
          1.0317807200645843,
          -0.23342785269896626,
          0.3283854501960172,
          0.34753742525171183,
          1.7770888208835824,
          -0.2751178467213051,
          -0.6696298796044111,
          1.21538700080969,
          2.1383020557715504,
          2.2551676774077345,
          0.37425799100418256,
          -1.3985445283206148,
          -0.06632952359706587,
          -2.007849101781652,
          1.4629465385445042,
          -0.30830681518190695,
          0.454900046618444,
          0.9704785861065522,
          1.058971235277724,
          -0.8688765333946045,
          -0.8805605039388629,
          0.9199033135573567,
          -1.0383100618925594,
          -1.0034127373954553,
          0.6512179848694126,
          -1.3803849052078925,
          -0.26599409292614745,
          0.09329712767283055,
          -1.7980971334936897,
          -1.3816592922590543,
          2.06826412084128,
          0.3773835170733553,
          0.4945583546436987,
          -0.12522417275069883,
          -1.042172817742925,
          -1.9831712321804318,
          -0.7012602384195061
         ],
         "xaxis": "x12",
         "y": [
          1.3401787857219047,
          -1.9553069612319784,
          0.09675136225434358,
          -0.8759626344625551,
          0.5541427096618632,
          1.3165355670097862,
          1.408684673970268,
          -0.8967317424310816,
          1.2647177893278923,
          -0.8049786030037357,
          -0.06522744548821288,
          1.4644919945838932,
          0.4350597896711922,
          -0.8890187839422852,
          0.8867845306851252,
          -1.2114753081096763,
          -1.3938600325853063,
          1.490322147153945,
          -0.3553943255278688,
          0.07275987339103501,
          0.9468715674905341,
          -0.7148656043530932,
          1.130693472818898,
          0.6658723771144244,
          0.9517837492043227,
          -0.12139122701139177,
          0.6011921603130448,
          -0.22843679020738578,
          -0.4576461130254673,
          1.5217598592429153,
          0.06970244363116698,
          -0.36510742882975694,
          1.79964304659319,
          -0.4400648704861409,
          -1.5500450343003,
          0.7208936566883917,
          0.9148340324849574,
          0.5769584974237918,
          0.7266845772317149,
          -0.7613464781713648,
          -0.18127576515236662,
          0.9813822416561983,
          0.8648986685162713,
          -0.23479550261196794,
          0.9016435261415309,
          0.22909739222432027,
          -1.2677417034299547,
          0.02441969904149327,
          1.8962194603065503,
          0.9181516111950895,
          0.022466458072359596,
          -1.6147166715521313,
          0.3641207738676737,
          -1.1393813221479803,
          1.2684436695379524,
          0.07019548392944641,
          -0.6071693419292494,
          1.426350084965751,
          1.6962148664066656,
          0.19878318228660752,
          0.6347943664894169,
          -1.1188234248778783,
          0.7196057917579274,
          1.3439620810898105,
          -0.9282648100560266,
          0.15984599683557435,
          -0.02043117007082602,
          -0.6465765462806012,
          -0.01337361338853624,
          -1.7988309469098755,
          0.5443194498205624,
          -2.5290357260174927,
          0.9675397250912268,
          -0.6300044340653279,
          -0.5524294384364697,
          -0.5490247837882021,
          -0.3632026938472756,
          1.9574891488442245,
          -0.8240201845184999,
          -1.6353559803347641,
          -0.5264511550055844,
          1.4312770258432483,
          0.9065704277847233,
          -0.3117201080331889,
          0.16822989010638462,
          0.1578247697613285,
          0.20578184362978333,
          0.022514408713525055,
          0.2807742047625913,
          0.04862287024487184,
          0.7054300808952286,
          -0.8566338963035328,
          -2.8904122011862747,
          -0.8214752611638811,
          -0.21645791311558232,
          -0.5476883796592708,
          -0.5276737589252545,
          -0.7598497779233351,
          -2.030836851081924,
          0.00264599696123195
         ],
         "yaxis": "y12"
        },
        {
         "line": {
          "color": "rgba(128, 128, 128, 1.0)",
          "dash": "solid",
          "shape": "linear",
          "width": 1.3
         },
         "marker": {
          "size": 2,
          "symbol": "circle"
         },
         "mode": "markers",
         "name": "D",
         "text": "",
         "type": "scatter",
         "x": [
          0.29679088647994234,
          -0.042206202349754085,
          0.05623496351276302,
          0.18396487905995018,
          1.9471896766346395,
          0.43208920801474165,
          1.6081901135096244,
          -0.33939886596474583,
          -0.005108983403875583,
          0.8530884673894046,
          -1.0049122922726699,
          -0.12868851992931754,
          1.7353868610859655,
          -0.08546583156278803,
          0.19057248696326243,
          -2.215582342343689,
          0.5808233212565269,
          0.5556244407586608,
          0.6393629473270924,
          0.8517397885188276,
          1.004772451678126,
          1.764774535802342,
          -1.5928023745870552,
          0.4490624254607539,
          -0.7527723767987775,
          -0.44542373319935846,
          0.34087288647274944,
          0.7583254810032551,
          1.1582430952918201,
          -0.3687962067699432,
          0.8684466366474232,
          1.1573101491711728,
          0.8106533155680704,
          0.49441830258067543,
          0.6885849650903538,
          -0.4702465281680946,
          0.7258776199325154,
          -2.229493254691975,
          -0.4286484838911737,
          -0.3528594259863507,
          -1.6078191886771733,
          1.7925932159412024,
          -1.4917867638583655,
          -0.8522939738286025,
          -0.3029444850990843,
          -0.15564219622621273,
          -0.8516913437553745,
          1.9066382724108697,
          -0.6264844604156597,
          0.06234625415648561,
          -3.6576914024430116,
          0.8489453033047615,
          0.6663080066373779,
          -2.794668362290301,
          -0.14340193607480287,
          0.46961643534909486,
          0.19466760147991485,
          -0.18305973698227745,
          0.2533686282037615,
          0.22681881963847014,
          -0.5853685803435907,
          1.2286869071151012,
          0.9278399975997879,
          -0.4069069923876818,
          0.2798037596885753,
          -1.440231742955656,
          -0.25905094443393784,
          -0.1670331195018515,
          -0.7801423654656153,
          -0.33638723727069586,
          0.1696828002144026,
          -1.6534073036946215,
          0.20741424731862965,
          -0.437475299257197,
          -0.605281305177192,
          1.2030690694557755,
          -1.6945689313328423,
          0.9344417133260021,
          0.46676346426075643,
          1.9170319083784906,
          0.34351232000814336,
          0.4415030752463328,
          -1.8460478325197323,
          0.8234785283616356,
          0.09775233667726059,
          0.4426520294879391,
          1.3332588195304493,
          0.6786094057326916,
          -1.072784991063228,
          0.1431368184337798,
          0.37685245253890953,
          -0.008279655793517674,
          -0.04025830813754167,
          -1.496699137527211,
          0.44668384965429475,
          0.8282233080065341,
          0.9187031152698922,
          0.07574685540103843,
          0.23778114530311967,
          1.1209179473646502
         ],
         "xaxis": "x13",
         "y": [
          0.24525988548592925,
          -0.8134924347641136,
          -0.06301976921784228,
          1.6767678320421202,
          0.3244226225073001,
          -0.1955763371715922,
          -1.3411201785288194,
          1.9063827326757339,
          1.3474940840274094,
          1.8649816545434144,
          0.38784495530139607,
          -0.4614739762068934,
          2.624423249892742,
          1.1723960416063304,
          -0.7989430846361074,
          -1.6086674507023928,
          1.0626446977057926,
          0.3061122651420492,
          -3.8974087795971033,
          0.49509476013264314,
          -0.22890394797898309,
          1.531323123544235,
          -0.3299867649224163,
          -0.6180478692371327,
          -1.604779874246786,
          -0.7642244120224729,
          0.8028952271987085,
          -1.24118922536906,
          -0.4037680962139133,
          0.12671719764900752,
          -0.28368615581630663,
          0.5987350777489968,
          0.6987771419987823,
          -0.20066747894606912,
          1.1824188305674441,
          -0.32855086090261704,
          -0.9129891829296052,
          0.6837732875317857,
          -0.4821839815272349,
          -0.29299875846855944,
          0.2358883415177,
          -1.3480057073255023,
          0.6119263056858619,
          -0.5359176160660698,
          0.7954426240488578,
          -0.3360177186601398,
          -0.07746324253214303,
          -1.5648236415728372,
          0.2933756393149718,
          -0.04695088194711037,
          0.1766689682198699,
          -0.5239465195284316,
          2.1456067871766065,
          0.7615389563566171,
          -0.8272853511020328,
          -1.777287515861347,
          -1.699059001829908,
          0.48721507787091894,
          -1.6101843077172044,
          -0.35869981031815207,
          -0.7743598576732503,
          -0.9464883862911435,
          0.4157114601709713,
          1.0317807200645843,
          -0.23342785269896626,
          0.3283854501960172,
          0.34753742525171183,
          1.7770888208835824,
          -0.2751178467213051,
          -0.6696298796044111,
          1.21538700080969,
          2.1383020557715504,
          2.2551676774077345,
          0.37425799100418256,
          -1.3985445283206148,
          -0.06632952359706587,
          -2.007849101781652,
          1.4629465385445042,
          -0.30830681518190695,
          0.454900046618444,
          0.9704785861065522,
          1.058971235277724,
          -0.8688765333946045,
          -0.8805605039388629,
          0.9199033135573567,
          -1.0383100618925594,
          -1.0034127373954553,
          0.6512179848694126,
          -1.3803849052078925,
          -0.26599409292614745,
          0.09329712767283055,
          -1.7980971334936897,
          -1.3816592922590543,
          2.06826412084128,
          0.3773835170733553,
          0.4945583546436987,
          -0.12522417275069883,
          -1.042172817742925,
          -1.9831712321804318,
          -0.7012602384195061
         ],
         "yaxis": "y13"
        },
        {
         "line": {
          "color": "rgba(128, 128, 128, 1.0)",
          "dash": "solid",
          "shape": "linear",
          "width": 1.3
         },
         "marker": {
          "size": 2,
          "symbol": "circle"
         },
         "mode": "markers",
         "name": "D",
         "text": "",
         "type": "scatter",
         "x": [
          -0.7571651498351455,
          0.3041841546141356,
          -0.3634338798273758,
          -2.0482361777995144,
          -0.18108815038638867,
          -0.21190299395233114,
          -0.7806951399891963,
          1.8590985191190108,
          0.48036674314609656,
          1.8873083466347365,
          1.1056779689437921,
          -1.3231700180419348,
          0.3342805753940904,
          -0.20369594444050604,
          0.39088820371926375,
          -0.48776057521970073,
          -1.1414327259670378,
          -0.7808846359062693,
          1.4920293778079048,
          0.71079751035893,
          0.2307135496211187,
          -0.7211267802065155,
          -0.3877863925049786,
          0.5293063371459275,
          -1.698225399775976,
          -0.7432359964184969,
          -1.0633879580111423,
          -1.1564930777360236,
          -0.6354873928530012,
          1.6168674082839893,
          -2.1397231605343183,
          0.8591667284039247,
          -0.4525164669746582,
          0.6479933531495566,
          0.4928251204016213,
          0.5301247456285414,
          1.2692158824055362,
          0.4903818486766852,
          -1.1042304957167466,
          -0.3604927522499086,
          0.13344340017146225,
          -0.5371434200006895,
          -1.8037554935945654,
          0.5237936559711996,
          1.500251268452096,
          2.179319647875672,
          -0.009000371183924594,
          0.7041273574304793,
          0.8935279013253304,
          -3.375008844495114,
          1.1894387874864698,
          -0.27110581005903794,
          -0.3603941406302465,
          -0.19626364838529733,
          2.504563093248634,
          0.03156911621838102,
          0.29881409996396646,
          -0.386394740622949,
          -0.3698428488757272,
          0.8246534678107472,
          -1.9114009699387526,
          -0.4623680380986253,
          0.9077405464515336,
          -0.7295099857464294,
          0.6764853912798772,
          -0.541361568392655,
          0.47232880482121675,
          0.6296488331438715,
          1.7669189062507158,
          0.5757234831604158,
          -0.7518036824883677,
          -0.6340399776230848,
          -1.4504687727889098,
          0.4229339994405687,
          -0.7844403212340828,
          0.500292917366162,
          -0.45417782594598816,
          -0.2602529926846372,
          1.6907017072679549,
          2.0122414821517025,
          -0.9944724957993845,
          -0.4618705938551304,
          0.15912344530429562,
          0.06113220007641856,
          0.5169371398966918,
          -1.1232577387697515,
          -0.21463034116679147,
          -0.42893393668424407,
          -1.0968561308131135,
          2.4209582185902776,
          -1.242139030854014,
          -0.9981972941910361,
          1.6073060927944351,
          -1.2621170591121773,
          0.9289617974150245,
          -0.22342478108118818,
          0.23205496907907777,
          -0.7706448922950906,
          -0.20410847471802354,
          -0.3025804522844425
         ],
         "xaxis": "x14",
         "y": [
          0.24525988548592925,
          -0.8134924347641136,
          -0.06301976921784228,
          1.6767678320421202,
          0.3244226225073001,
          -0.1955763371715922,
          -1.3411201785288194,
          1.9063827326757339,
          1.3474940840274094,
          1.8649816545434144,
          0.38784495530139607,
          -0.4614739762068934,
          2.624423249892742,
          1.1723960416063304,
          -0.7989430846361074,
          -1.6086674507023928,
          1.0626446977057926,
          0.3061122651420492,
          -3.8974087795971033,
          0.49509476013264314,
          -0.22890394797898309,
          1.531323123544235,
          -0.3299867649224163,
          -0.6180478692371327,
          -1.604779874246786,
          -0.7642244120224729,
          0.8028952271987085,
          -1.24118922536906,
          -0.4037680962139133,
          0.12671719764900752,
          -0.28368615581630663,
          0.5987350777489968,
          0.6987771419987823,
          -0.20066747894606912,
          1.1824188305674441,
          -0.32855086090261704,
          -0.9129891829296052,
          0.6837732875317857,
          -0.4821839815272349,
          -0.29299875846855944,
          0.2358883415177,
          -1.3480057073255023,
          0.6119263056858619,
          -0.5359176160660698,
          0.7954426240488578,
          -0.3360177186601398,
          -0.07746324253214303,
          -1.5648236415728372,
          0.2933756393149718,
          -0.04695088194711037,
          0.1766689682198699,
          -0.5239465195284316,
          2.1456067871766065,
          0.7615389563566171,
          -0.8272853511020328,
          -1.777287515861347,
          -1.699059001829908,
          0.48721507787091894,
          -1.6101843077172044,
          -0.35869981031815207,
          -0.7743598576732503,
          -0.9464883862911435,
          0.4157114601709713,
          1.0317807200645843,
          -0.23342785269896626,
          0.3283854501960172,
          0.34753742525171183,
          1.7770888208835824,
          -0.2751178467213051,
          -0.6696298796044111,
          1.21538700080969,
          2.1383020557715504,
          2.2551676774077345,
          0.37425799100418256,
          -1.3985445283206148,
          -0.06632952359706587,
          -2.007849101781652,
          1.4629465385445042,
          -0.30830681518190695,
          0.454900046618444,
          0.9704785861065522,
          1.058971235277724,
          -0.8688765333946045,
          -0.8805605039388629,
          0.9199033135573567,
          -1.0383100618925594,
          -1.0034127373954553,
          0.6512179848694126,
          -1.3803849052078925,
          -0.26599409292614745,
          0.09329712767283055,
          -1.7980971334936897,
          -1.3816592922590543,
          2.06826412084128,
          0.3773835170733553,
          0.4945583546436987,
          -0.12522417275069883,
          -1.042172817742925,
          -1.9831712321804318,
          -0.7012602384195061
         ],
         "yaxis": "y14"
        },
        {
         "line": {
          "color": "rgba(128, 128, 128, 1.0)",
          "dash": "solid",
          "shape": "linear",
          "width": 1.3
         },
         "marker": {
          "size": 2,
          "symbol": "circle"
         },
         "mode": "markers",
         "name": "D",
         "text": "",
         "type": "scatter",
         "x": [
          1.3401787857219047,
          -1.9553069612319784,
          0.09675136225434358,
          -0.8759626344625551,
          0.5541427096618632,
          1.3165355670097862,
          1.408684673970268,
          -0.8967317424310816,
          1.2647177893278923,
          -0.8049786030037357,
          -0.06522744548821288,
          1.4644919945838932,
          0.4350597896711922,
          -0.8890187839422852,
          0.8867845306851252,
          -1.2114753081096763,
          -1.3938600325853063,
          1.490322147153945,
          -0.3553943255278688,
          0.07275987339103501,
          0.9468715674905341,
          -0.7148656043530932,
          1.130693472818898,
          0.6658723771144244,
          0.9517837492043227,
          -0.12139122701139177,
          0.6011921603130448,
          -0.22843679020738578,
          -0.4576461130254673,
          1.5217598592429153,
          0.06970244363116698,
          -0.36510742882975694,
          1.79964304659319,
          -0.4400648704861409,
          -1.5500450343003,
          0.7208936566883917,
          0.9148340324849574,
          0.5769584974237918,
          0.7266845772317149,
          -0.7613464781713648,
          -0.18127576515236662,
          0.9813822416561983,
          0.8648986685162713,
          -0.23479550261196794,
          0.9016435261415309,
          0.22909739222432027,
          -1.2677417034299547,
          0.02441969904149327,
          1.8962194603065503,
          0.9181516111950895,
          0.022466458072359596,
          -1.6147166715521313,
          0.3641207738676737,
          -1.1393813221479803,
          1.2684436695379524,
          0.07019548392944641,
          -0.6071693419292494,
          1.426350084965751,
          1.6962148664066656,
          0.19878318228660752,
          0.6347943664894169,
          -1.1188234248778783,
          0.7196057917579274,
          1.3439620810898105,
          -0.9282648100560266,
          0.15984599683557435,
          -0.02043117007082602,
          -0.6465765462806012,
          -0.01337361338853624,
          -1.7988309469098755,
          0.5443194498205624,
          -2.5290357260174927,
          0.9675397250912268,
          -0.6300044340653279,
          -0.5524294384364697,
          -0.5490247837882021,
          -0.3632026938472756,
          1.9574891488442245,
          -0.8240201845184999,
          -1.6353559803347641,
          -0.5264511550055844,
          1.4312770258432483,
          0.9065704277847233,
          -0.3117201080331889,
          0.16822989010638462,
          0.1578247697613285,
          0.20578184362978333,
          0.022514408713525055,
          0.2807742047625913,
          0.04862287024487184,
          0.7054300808952286,
          -0.8566338963035328,
          -2.8904122011862747,
          -0.8214752611638811,
          -0.21645791311558232,
          -0.5476883796592708,
          -0.5276737589252545,
          -0.7598497779233351,
          -2.030836851081924,
          0.00264599696123195
         ],
         "xaxis": "x15",
         "y": [
          0.24525988548592925,
          -0.8134924347641136,
          -0.06301976921784228,
          1.6767678320421202,
          0.3244226225073001,
          -0.1955763371715922,
          -1.3411201785288194,
          1.9063827326757339,
          1.3474940840274094,
          1.8649816545434144,
          0.38784495530139607,
          -0.4614739762068934,
          2.624423249892742,
          1.1723960416063304,
          -0.7989430846361074,
          -1.6086674507023928,
          1.0626446977057926,
          0.3061122651420492,
          -3.8974087795971033,
          0.49509476013264314,
          -0.22890394797898309,
          1.531323123544235,
          -0.3299867649224163,
          -0.6180478692371327,
          -1.604779874246786,
          -0.7642244120224729,
          0.8028952271987085,
          -1.24118922536906,
          -0.4037680962139133,
          0.12671719764900752,
          -0.28368615581630663,
          0.5987350777489968,
          0.6987771419987823,
          -0.20066747894606912,
          1.1824188305674441,
          -0.32855086090261704,
          -0.9129891829296052,
          0.6837732875317857,
          -0.4821839815272349,
          -0.29299875846855944,
          0.2358883415177,
          -1.3480057073255023,
          0.6119263056858619,
          -0.5359176160660698,
          0.7954426240488578,
          -0.3360177186601398,
          -0.07746324253214303,
          -1.5648236415728372,
          0.2933756393149718,
          -0.04695088194711037,
          0.1766689682198699,
          -0.5239465195284316,
          2.1456067871766065,
          0.7615389563566171,
          -0.8272853511020328,
          -1.777287515861347,
          -1.699059001829908,
          0.48721507787091894,
          -1.6101843077172044,
          -0.35869981031815207,
          -0.7743598576732503,
          -0.9464883862911435,
          0.4157114601709713,
          1.0317807200645843,
          -0.23342785269896626,
          0.3283854501960172,
          0.34753742525171183,
          1.7770888208835824,
          -0.2751178467213051,
          -0.6696298796044111,
          1.21538700080969,
          2.1383020557715504,
          2.2551676774077345,
          0.37425799100418256,
          -1.3985445283206148,
          -0.06632952359706587,
          -2.007849101781652,
          1.4629465385445042,
          -0.30830681518190695,
          0.454900046618444,
          0.9704785861065522,
          1.058971235277724,
          -0.8688765333946045,
          -0.8805605039388629,
          0.9199033135573567,
          -1.0383100618925594,
          -1.0034127373954553,
          0.6512179848694126,
          -1.3803849052078925,
          -0.26599409292614745,
          0.09329712767283055,
          -1.7980971334936897,
          -1.3816592922590543,
          2.06826412084128,
          0.3773835170733553,
          0.4945583546436987,
          -0.12522417275069883,
          -1.042172817742925,
          -1.9831712321804318,
          -0.7012602384195061
         ],
         "yaxis": "y15"
        },
        {
         "histfunc": "count",
         "histnorm": "",
         "marker": {
          "color": "rgba(128, 0, 128, 1.0)",
          "line": {
           "color": "#4D5663",
           "width": 1.3
          }
         },
         "name": "D",
         "nbinsx": 10,
         "opacity": 0.8,
         "orientation": "v",
         "type": "histogram",
         "x": [
          0.24525988548592925,
          -0.8134924347641136,
          -0.06301976921784228,
          1.6767678320421202,
          0.3244226225073001,
          -0.1955763371715922,
          -1.3411201785288194,
          1.9063827326757339,
          1.3474940840274094,
          1.8649816545434144,
          0.38784495530139607,
          -0.4614739762068934,
          2.624423249892742,
          1.1723960416063304,
          -0.7989430846361074,
          -1.6086674507023928,
          1.0626446977057926,
          0.3061122651420492,
          -3.8974087795971033,
          0.49509476013264314,
          -0.22890394797898309,
          1.531323123544235,
          -0.3299867649224163,
          -0.6180478692371327,
          -1.604779874246786,
          -0.7642244120224729,
          0.8028952271987085,
          -1.24118922536906,
          -0.4037680962139133,
          0.12671719764900752,
          -0.28368615581630663,
          0.5987350777489968,
          0.6987771419987823,
          -0.20066747894606912,
          1.1824188305674441,
          -0.32855086090261704,
          -0.9129891829296052,
          0.6837732875317857,
          -0.4821839815272349,
          -0.29299875846855944,
          0.2358883415177,
          -1.3480057073255023,
          0.6119263056858619,
          -0.5359176160660698,
          0.7954426240488578,
          -0.3360177186601398,
          -0.07746324253214303,
          -1.5648236415728372,
          0.2933756393149718,
          -0.04695088194711037,
          0.1766689682198699,
          -0.5239465195284316,
          2.1456067871766065,
          0.7615389563566171,
          -0.8272853511020328,
          -1.777287515861347,
          -1.699059001829908,
          0.48721507787091894,
          -1.6101843077172044,
          -0.35869981031815207,
          -0.7743598576732503,
          -0.9464883862911435,
          0.4157114601709713,
          1.0317807200645843,
          -0.23342785269896626,
          0.3283854501960172,
          0.34753742525171183,
          1.7770888208835824,
          -0.2751178467213051,
          -0.6696298796044111,
          1.21538700080969,
          2.1383020557715504,
          2.2551676774077345,
          0.37425799100418256,
          -1.3985445283206148,
          -0.06632952359706587,
          -2.007849101781652,
          1.4629465385445042,
          -0.30830681518190695,
          0.454900046618444,
          0.9704785861065522,
          1.058971235277724,
          -0.8688765333946045,
          -0.8805605039388629,
          0.9199033135573567,
          -1.0383100618925594,
          -1.0034127373954553,
          0.6512179848694126,
          -1.3803849052078925,
          -0.26599409292614745,
          0.09329712767283055,
          -1.7980971334936897,
          -1.3816592922590543,
          2.06826412084128,
          0.3773835170733553,
          0.4945583546436987,
          -0.12522417275069883,
          -1.042172817742925,
          -1.9831712321804318,
          -0.7012602384195061
         ],
         "xaxis": "x16",
         "yaxis": "y16"
        }
       ],
       "layout": {
        "bargap": 0.02,
        "legend": {
         "bgcolor": "#F5F6F9",
         "font": {
          "color": "#4D5663"
         }
        },
        "paper_bgcolor": "#F5F6F9",
        "plot_bgcolor": "#F5F6F9",
        "showlegend": false,
        "template": {
         "data": {
          "bar": [
           {
            "error_x": {
             "color": "#2a3f5f"
            },
            "error_y": {
             "color": "#2a3f5f"
            },
            "marker": {
             "line": {
              "color": "#E5ECF6",
              "width": 0.5
             },
             "pattern": {
              "fillmode": "overlay",
              "size": 10,
              "solidity": 0.2
             }
            },
            "type": "bar"
           }
          ],
          "barpolar": [
           {
            "marker": {
             "line": {
              "color": "#E5ECF6",
              "width": 0.5
             },
             "pattern": {
              "fillmode": "overlay",
              "size": 10,
              "solidity": 0.2
             }
            },
            "type": "barpolar"
           }
          ],
          "carpet": [
           {
            "aaxis": {
             "endlinecolor": "#2a3f5f",
             "gridcolor": "white",
             "linecolor": "white",
             "minorgridcolor": "white",
             "startlinecolor": "#2a3f5f"
            },
            "baxis": {
             "endlinecolor": "#2a3f5f",
             "gridcolor": "white",
             "linecolor": "white",
             "minorgridcolor": "white",
             "startlinecolor": "#2a3f5f"
            },
            "type": "carpet"
           }
          ],
          "choropleth": [
           {
            "colorbar": {
             "outlinewidth": 0,
             "ticks": ""
            },
            "type": "choropleth"
           }
          ],
          "contour": [
           {
            "colorbar": {
             "outlinewidth": 0,
             "ticks": ""
            },
            "colorscale": [
             [
              0,
              "#0d0887"
             ],
             [
              0.1111111111111111,
              "#46039f"
             ],
             [
              0.2222222222222222,
              "#7201a8"
             ],
             [
              0.3333333333333333,
              "#9c179e"
             ],
             [
              0.4444444444444444,
              "#bd3786"
             ],
             [
              0.5555555555555556,
              "#d8576b"
             ],
             [
              0.6666666666666666,
              "#ed7953"
             ],
             [
              0.7777777777777778,
              "#fb9f3a"
             ],
             [
              0.8888888888888888,
              "#fdca26"
             ],
             [
              1,
              "#f0f921"
             ]
            ],
            "type": "contour"
           }
          ],
          "contourcarpet": [
           {
            "colorbar": {
             "outlinewidth": 0,
             "ticks": ""
            },
            "type": "contourcarpet"
           }
          ],
          "heatmap": [
           {
            "colorbar": {
             "outlinewidth": 0,
             "ticks": ""
            },
            "colorscale": [
             [
              0,
              "#0d0887"
             ],
             [
              0.1111111111111111,
              "#46039f"
             ],
             [
              0.2222222222222222,
              "#7201a8"
             ],
             [
              0.3333333333333333,
              "#9c179e"
             ],
             [
              0.4444444444444444,
              "#bd3786"
             ],
             [
              0.5555555555555556,
              "#d8576b"
             ],
             [
              0.6666666666666666,
              "#ed7953"
             ],
             [
              0.7777777777777778,
              "#fb9f3a"
             ],
             [
              0.8888888888888888,
              "#fdca26"
             ],
             [
              1,
              "#f0f921"
             ]
            ],
            "type": "heatmap"
           }
          ],
          "heatmapgl": [
           {
            "colorbar": {
             "outlinewidth": 0,
             "ticks": ""
            },
            "colorscale": [
             [
              0,
              "#0d0887"
             ],
             [
              0.1111111111111111,
              "#46039f"
             ],
             [
              0.2222222222222222,
              "#7201a8"
             ],
             [
              0.3333333333333333,
              "#9c179e"
             ],
             [
              0.4444444444444444,
              "#bd3786"
             ],
             [
              0.5555555555555556,
              "#d8576b"
             ],
             [
              0.6666666666666666,
              "#ed7953"
             ],
             [
              0.7777777777777778,
              "#fb9f3a"
             ],
             [
              0.8888888888888888,
              "#fdca26"
             ],
             [
              1,
              "#f0f921"
             ]
            ],
            "type": "heatmapgl"
           }
          ],
          "histogram": [
           {
            "marker": {
             "pattern": {
              "fillmode": "overlay",
              "size": 10,
              "solidity": 0.2
             }
            },
            "type": "histogram"
           }
          ],
          "histogram2d": [
           {
            "colorbar": {
             "outlinewidth": 0,
             "ticks": ""
            },
            "colorscale": [
             [
              0,
              "#0d0887"
             ],
             [
              0.1111111111111111,
              "#46039f"
             ],
             [
              0.2222222222222222,
              "#7201a8"
             ],
             [
              0.3333333333333333,
              "#9c179e"
             ],
             [
              0.4444444444444444,
              "#bd3786"
             ],
             [
              0.5555555555555556,
              "#d8576b"
             ],
             [
              0.6666666666666666,
              "#ed7953"
             ],
             [
              0.7777777777777778,
              "#fb9f3a"
             ],
             [
              0.8888888888888888,
              "#fdca26"
             ],
             [
              1,
              "#f0f921"
             ]
            ],
            "type": "histogram2d"
           }
          ],
          "histogram2dcontour": [
           {
            "colorbar": {
             "outlinewidth": 0,
             "ticks": ""
            },
            "colorscale": [
             [
              0,
              "#0d0887"
             ],
             [
              0.1111111111111111,
              "#46039f"
             ],
             [
              0.2222222222222222,
              "#7201a8"
             ],
             [
              0.3333333333333333,
              "#9c179e"
             ],
             [
              0.4444444444444444,
              "#bd3786"
             ],
             [
              0.5555555555555556,
              "#d8576b"
             ],
             [
              0.6666666666666666,
              "#ed7953"
             ],
             [
              0.7777777777777778,
              "#fb9f3a"
             ],
             [
              0.8888888888888888,
              "#fdca26"
             ],
             [
              1,
              "#f0f921"
             ]
            ],
            "type": "histogram2dcontour"
           }
          ],
          "mesh3d": [
           {
            "colorbar": {
             "outlinewidth": 0,
             "ticks": ""
            },
            "type": "mesh3d"
           }
          ],
          "parcoords": [
           {
            "line": {
             "colorbar": {
              "outlinewidth": 0,
              "ticks": ""
             }
            },
            "type": "parcoords"
           }
          ],
          "pie": [
           {
            "automargin": true,
            "type": "pie"
           }
          ],
          "scatter": [
           {
            "marker": {
             "colorbar": {
              "outlinewidth": 0,
              "ticks": ""
             }
            },
            "type": "scatter"
           }
          ],
          "scatter3d": [
           {
            "line": {
             "colorbar": {
              "outlinewidth": 0,
              "ticks": ""
             }
            },
            "marker": {
             "colorbar": {
              "outlinewidth": 0,
              "ticks": ""
             }
            },
            "type": "scatter3d"
           }
          ],
          "scattercarpet": [
           {
            "marker": {
             "colorbar": {
              "outlinewidth": 0,
              "ticks": ""
             }
            },
            "type": "scattercarpet"
           }
          ],
          "scattergeo": [
           {
            "marker": {
             "colorbar": {
              "outlinewidth": 0,
              "ticks": ""
             }
            },
            "type": "scattergeo"
           }
          ],
          "scattergl": [
           {
            "marker": {
             "colorbar": {
              "outlinewidth": 0,
              "ticks": ""
             }
            },
            "type": "scattergl"
           }
          ],
          "scattermapbox": [
           {
            "marker": {
             "colorbar": {
              "outlinewidth": 0,
              "ticks": ""
             }
            },
            "type": "scattermapbox"
           }
          ],
          "scatterpolar": [
           {
            "marker": {
             "colorbar": {
              "outlinewidth": 0,
              "ticks": ""
             }
            },
            "type": "scatterpolar"
           }
          ],
          "scatterpolargl": [
           {
            "marker": {
             "colorbar": {
              "outlinewidth": 0,
              "ticks": ""
             }
            },
            "type": "scatterpolargl"
           }
          ],
          "scatterternary": [
           {
            "marker": {
             "colorbar": {
              "outlinewidth": 0,
              "ticks": ""
             }
            },
            "type": "scatterternary"
           }
          ],
          "surface": [
           {
            "colorbar": {
             "outlinewidth": 0,
             "ticks": ""
            },
            "colorscale": [
             [
              0,
              "#0d0887"
             ],
             [
              0.1111111111111111,
              "#46039f"
             ],
             [
              0.2222222222222222,
              "#7201a8"
             ],
             [
              0.3333333333333333,
              "#9c179e"
             ],
             [
              0.4444444444444444,
              "#bd3786"
             ],
             [
              0.5555555555555556,
              "#d8576b"
             ],
             [
              0.6666666666666666,
              "#ed7953"
             ],
             [
              0.7777777777777778,
              "#fb9f3a"
             ],
             [
              0.8888888888888888,
              "#fdca26"
             ],
             [
              1,
              "#f0f921"
             ]
            ],
            "type": "surface"
           }
          ],
          "table": [
           {
            "cells": {
             "fill": {
              "color": "#EBF0F8"
             },
             "line": {
              "color": "white"
             }
            },
            "header": {
             "fill": {
              "color": "#C8D4E3"
             },
             "line": {
              "color": "white"
             }
            },
            "type": "table"
           }
          ]
         },
         "layout": {
          "annotationdefaults": {
           "arrowcolor": "#2a3f5f",
           "arrowhead": 0,
           "arrowwidth": 1
          },
          "autotypenumbers": "strict",
          "coloraxis": {
           "colorbar": {
            "outlinewidth": 0,
            "ticks": ""
           }
          },
          "colorscale": {
           "diverging": [
            [
             0,
             "#8e0152"
            ],
            [
             0.1,
             "#c51b7d"
            ],
            [
             0.2,
             "#de77ae"
            ],
            [
             0.3,
             "#f1b6da"
            ],
            [
             0.4,
             "#fde0ef"
            ],
            [
             0.5,
             "#f7f7f7"
            ],
            [
             0.6,
             "#e6f5d0"
            ],
            [
             0.7,
             "#b8e186"
            ],
            [
             0.8,
             "#7fbc41"
            ],
            [
             0.9,
             "#4d9221"
            ],
            [
             1,
             "#276419"
            ]
           ],
           "sequential": [
            [
             0,
             "#0d0887"
            ],
            [
             0.1111111111111111,
             "#46039f"
            ],
            [
             0.2222222222222222,
             "#7201a8"
            ],
            [
             0.3333333333333333,
             "#9c179e"
            ],
            [
             0.4444444444444444,
             "#bd3786"
            ],
            [
             0.5555555555555556,
             "#d8576b"
            ],
            [
             0.6666666666666666,
             "#ed7953"
            ],
            [
             0.7777777777777778,
             "#fb9f3a"
            ],
            [
             0.8888888888888888,
             "#fdca26"
            ],
            [
             1,
             "#f0f921"
            ]
           ],
           "sequentialminus": [
            [
             0,
             "#0d0887"
            ],
            [
             0.1111111111111111,
             "#46039f"
            ],
            [
             0.2222222222222222,
             "#7201a8"
            ],
            [
             0.3333333333333333,
             "#9c179e"
            ],
            [
             0.4444444444444444,
             "#bd3786"
            ],
            [
             0.5555555555555556,
             "#d8576b"
            ],
            [
             0.6666666666666666,
             "#ed7953"
            ],
            [
             0.7777777777777778,
             "#fb9f3a"
            ],
            [
             0.8888888888888888,
             "#fdca26"
            ],
            [
             1,
             "#f0f921"
            ]
           ]
          },
          "colorway": [
           "#636efa",
           "#EF553B",
           "#00cc96",
           "#ab63fa",
           "#FFA15A",
           "#19d3f3",
           "#FF6692",
           "#B6E880",
           "#FF97FF",
           "#FECB52"
          ],
          "font": {
           "color": "#2a3f5f"
          },
          "geo": {
           "bgcolor": "white",
           "lakecolor": "white",
           "landcolor": "#E5ECF6",
           "showlakes": true,
           "showland": true,
           "subunitcolor": "white"
          },
          "hoverlabel": {
           "align": "left"
          },
          "hovermode": "closest",
          "mapbox": {
           "style": "light"
          },
          "paper_bgcolor": "white",
          "plot_bgcolor": "#E5ECF6",
          "polar": {
           "angularaxis": {
            "gridcolor": "white",
            "linecolor": "white",
            "ticks": ""
           },
           "bgcolor": "#E5ECF6",
           "radialaxis": {
            "gridcolor": "white",
            "linecolor": "white",
            "ticks": ""
           }
          },
          "scene": {
           "xaxis": {
            "backgroundcolor": "#E5ECF6",
            "gridcolor": "white",
            "gridwidth": 2,
            "linecolor": "white",
            "showbackground": true,
            "ticks": "",
            "zerolinecolor": "white"
           },
           "yaxis": {
            "backgroundcolor": "#E5ECF6",
            "gridcolor": "white",
            "gridwidth": 2,
            "linecolor": "white",
            "showbackground": true,
            "ticks": "",
            "zerolinecolor": "white"
           },
           "zaxis": {
            "backgroundcolor": "#E5ECF6",
            "gridcolor": "white",
            "gridwidth": 2,
            "linecolor": "white",
            "showbackground": true,
            "ticks": "",
            "zerolinecolor": "white"
           }
          },
          "shapedefaults": {
           "line": {
            "color": "#2a3f5f"
           }
          },
          "ternary": {
           "aaxis": {
            "gridcolor": "white",
            "linecolor": "white",
            "ticks": ""
           },
           "baxis": {
            "gridcolor": "white",
            "linecolor": "white",
            "ticks": ""
           },
           "bgcolor": "#E5ECF6",
           "caxis": {
            "gridcolor": "white",
            "linecolor": "white",
            "ticks": ""
           }
          },
          "title": {
           "x": 0.05
          },
          "xaxis": {
           "automargin": true,
           "gridcolor": "white",
           "linecolor": "white",
           "ticks": "",
           "title": {
            "standoff": 15
           },
           "zerolinecolor": "white",
           "zerolinewidth": 2
          },
          "yaxis": {
           "automargin": true,
           "gridcolor": "white",
           "linecolor": "white",
           "ticks": "",
           "title": {
            "standoff": 15
           },
           "zerolinecolor": "white",
           "zerolinewidth": 2
          }
         }
        },
        "title": {
         "font": {
          "color": "#4D5663"
         }
        },
        "xaxis": {
         "anchor": "y",
         "domain": [
          0,
          0.2125
         ],
         "gridcolor": "#E1E5ED",
         "showgrid": false,
         "tickfont": {
          "color": "#4D5663"
         },
         "title": {
          "font": {
           "color": "#4D5663"
          },
          "text": ""
         },
         "zerolinecolor": "#E1E5ED"
        },
        "xaxis10": {
         "anchor": "y10",
         "domain": [
          0.2625,
          0.475
         ],
         "gridcolor": "#E1E5ED",
         "showgrid": false,
         "tickfont": {
          "color": "#4D5663"
         },
         "title": {
          "font": {
           "color": "#4D5663"
          },
          "text": ""
         },
         "zerolinecolor": "#E1E5ED"
        },
        "xaxis11": {
         "anchor": "y11",
         "domain": [
          0.525,
          0.7375
         ],
         "gridcolor": "#E1E5ED",
         "showgrid": false,
         "tickfont": {
          "color": "#4D5663"
         },
         "title": {
          "font": {
           "color": "#4D5663"
          },
          "text": ""
         },
         "zerolinecolor": "#E1E5ED"
        },
        "xaxis12": {
         "anchor": "y12",
         "domain": [
          0.7875,
          1
         ],
         "gridcolor": "#E1E5ED",
         "showgrid": false,
         "tickfont": {
          "color": "#4D5663"
         },
         "title": {
          "font": {
           "color": "#4D5663"
          },
          "text": ""
         },
         "zerolinecolor": "#E1E5ED"
        },
        "xaxis13": {
         "anchor": "y13",
         "domain": [
          0,
          0.2125
         ],
         "gridcolor": "#E1E5ED",
         "showgrid": false,
         "tickfont": {
          "color": "#4D5663"
         },
         "title": {
          "font": {
           "color": "#4D5663"
          },
          "text": ""
         },
         "zerolinecolor": "#E1E5ED"
        },
        "xaxis14": {
         "anchor": "y14",
         "domain": [
          0.2625,
          0.475
         ],
         "gridcolor": "#E1E5ED",
         "showgrid": false,
         "tickfont": {
          "color": "#4D5663"
         },
         "title": {
          "font": {
           "color": "#4D5663"
          },
          "text": ""
         },
         "zerolinecolor": "#E1E5ED"
        },
        "xaxis15": {
         "anchor": "y15",
         "domain": [
          0.525,
          0.7375
         ],
         "gridcolor": "#E1E5ED",
         "showgrid": false,
         "tickfont": {
          "color": "#4D5663"
         },
         "title": {
          "font": {
           "color": "#4D5663"
          },
          "text": ""
         },
         "zerolinecolor": "#E1E5ED"
        },
        "xaxis16": {
         "anchor": "y16",
         "domain": [
          0.7875,
          1
         ],
         "gridcolor": "#E1E5ED",
         "showgrid": false,
         "tickfont": {
          "color": "#4D5663"
         },
         "title": {
          "font": {
           "color": "#4D5663"
          },
          "text": ""
         },
         "zerolinecolor": "#E1E5ED"
        },
        "xaxis2": {
         "anchor": "y2",
         "domain": [
          0.2625,
          0.475
         ],
         "gridcolor": "#E1E5ED",
         "showgrid": false,
         "tickfont": {
          "color": "#4D5663"
         },
         "title": {
          "font": {
           "color": "#4D5663"
          },
          "text": ""
         },
         "zerolinecolor": "#E1E5ED"
        },
        "xaxis3": {
         "anchor": "y3",
         "domain": [
          0.525,
          0.7375
         ],
         "gridcolor": "#E1E5ED",
         "showgrid": false,
         "tickfont": {
          "color": "#4D5663"
         },
         "title": {
          "font": {
           "color": "#4D5663"
          },
          "text": ""
         },
         "zerolinecolor": "#E1E5ED"
        },
        "xaxis4": {
         "anchor": "y4",
         "domain": [
          0.7875,
          1
         ],
         "gridcolor": "#E1E5ED",
         "showgrid": false,
         "tickfont": {
          "color": "#4D5663"
         },
         "title": {
          "font": {
           "color": "#4D5663"
          },
          "text": ""
         },
         "zerolinecolor": "#E1E5ED"
        },
        "xaxis5": {
         "anchor": "y5",
         "domain": [
          0,
          0.2125
         ],
         "gridcolor": "#E1E5ED",
         "showgrid": false,
         "tickfont": {
          "color": "#4D5663"
         },
         "title": {
          "font": {
           "color": "#4D5663"
          },
          "text": ""
         },
         "zerolinecolor": "#E1E5ED"
        },
        "xaxis6": {
         "anchor": "y6",
         "domain": [
          0.2625,
          0.475
         ],
         "gridcolor": "#E1E5ED",
         "showgrid": false,
         "tickfont": {
          "color": "#4D5663"
         },
         "title": {
          "font": {
           "color": "#4D5663"
          },
          "text": ""
         },
         "zerolinecolor": "#E1E5ED"
        },
        "xaxis7": {
         "anchor": "y7",
         "domain": [
          0.525,
          0.7375
         ],
         "gridcolor": "#E1E5ED",
         "showgrid": false,
         "tickfont": {
          "color": "#4D5663"
         },
         "title": {
          "font": {
           "color": "#4D5663"
          },
          "text": ""
         },
         "zerolinecolor": "#E1E5ED"
        },
        "xaxis8": {
         "anchor": "y8",
         "domain": [
          0.7875,
          1
         ],
         "gridcolor": "#E1E5ED",
         "showgrid": false,
         "tickfont": {
          "color": "#4D5663"
         },
         "title": {
          "font": {
           "color": "#4D5663"
          },
          "text": ""
         },
         "zerolinecolor": "#E1E5ED"
        },
        "xaxis9": {
         "anchor": "y9",
         "domain": [
          0,
          0.2125
         ],
         "gridcolor": "#E1E5ED",
         "showgrid": false,
         "tickfont": {
          "color": "#4D5663"
         },
         "title": {
          "font": {
           "color": "#4D5663"
          },
          "text": ""
         },
         "zerolinecolor": "#E1E5ED"
        },
        "yaxis": {
         "anchor": "x",
         "domain": [
          0.8025,
          1
         ],
         "gridcolor": "#E1E5ED",
         "showgrid": false,
         "tickfont": {
          "color": "#4D5663"
         },
         "title": {
          "font": {
           "color": "#4D5663"
          },
          "text": ""
         },
         "zerolinecolor": "#E1E5ED"
        },
        "yaxis10": {
         "anchor": "x10",
         "domain": [
          0.2675,
          0.465
         ],
         "gridcolor": "#E1E5ED",
         "showgrid": false,
         "tickfont": {
          "color": "#4D5663"
         },
         "title": {
          "font": {
           "color": "#4D5663"
          },
          "text": ""
         },
         "zerolinecolor": "#E1E5ED"
        },
        "yaxis11": {
         "anchor": "x11",
         "domain": [
          0.2675,
          0.465
         ],
         "gridcolor": "#E1E5ED",
         "showgrid": false,
         "tickfont": {
          "color": "#4D5663"
         },
         "title": {
          "font": {
           "color": "#4D5663"
          },
          "text": ""
         },
         "zerolinecolor": "#E1E5ED"
        },
        "yaxis12": {
         "anchor": "x12",
         "domain": [
          0.2675,
          0.465
         ],
         "gridcolor": "#E1E5ED",
         "showgrid": false,
         "tickfont": {
          "color": "#4D5663"
         },
         "title": {
          "font": {
           "color": "#4D5663"
          },
          "text": ""
         },
         "zerolinecolor": "#E1E5ED"
        },
        "yaxis13": {
         "anchor": "x13",
         "domain": [
          0,
          0.1975
         ],
         "gridcolor": "#E1E5ED",
         "showgrid": false,
         "tickfont": {
          "color": "#4D5663"
         },
         "title": {
          "font": {
           "color": "#4D5663"
          },
          "text": ""
         },
         "zerolinecolor": "#E1E5ED"
        },
        "yaxis14": {
         "anchor": "x14",
         "domain": [
          0,
          0.1975
         ],
         "gridcolor": "#E1E5ED",
         "showgrid": false,
         "tickfont": {
          "color": "#4D5663"
         },
         "title": {
          "font": {
           "color": "#4D5663"
          },
          "text": ""
         },
         "zerolinecolor": "#E1E5ED"
        },
        "yaxis15": {
         "anchor": "x15",
         "domain": [
          0,
          0.1975
         ],
         "gridcolor": "#E1E5ED",
         "showgrid": false,
         "tickfont": {
          "color": "#4D5663"
         },
         "title": {
          "font": {
           "color": "#4D5663"
          },
          "text": ""
         },
         "zerolinecolor": "#E1E5ED"
        },
        "yaxis16": {
         "anchor": "x16",
         "domain": [
          0,
          0.1975
         ],
         "gridcolor": "#E1E5ED",
         "showgrid": false,
         "tickfont": {
          "color": "#4D5663"
         },
         "title": {
          "font": {
           "color": "#4D5663"
          },
          "text": ""
         },
         "zerolinecolor": "#E1E5ED"
        },
        "yaxis2": {
         "anchor": "x2",
         "domain": [
          0.8025,
          1
         ],
         "gridcolor": "#E1E5ED",
         "showgrid": false,
         "tickfont": {
          "color": "#4D5663"
         },
         "title": {
          "font": {
           "color": "#4D5663"
          },
          "text": ""
         },
         "zerolinecolor": "#E1E5ED"
        },
        "yaxis3": {
         "anchor": "x3",
         "domain": [
          0.8025,
          1
         ],
         "gridcolor": "#E1E5ED",
         "showgrid": false,
         "tickfont": {
          "color": "#4D5663"
         },
         "title": {
          "font": {
           "color": "#4D5663"
          },
          "text": ""
         },
         "zerolinecolor": "#E1E5ED"
        },
        "yaxis4": {
         "anchor": "x4",
         "domain": [
          0.8025,
          1
         ],
         "gridcolor": "#E1E5ED",
         "showgrid": false,
         "tickfont": {
          "color": "#4D5663"
         },
         "title": {
          "font": {
           "color": "#4D5663"
          },
          "text": ""
         },
         "zerolinecolor": "#E1E5ED"
        },
        "yaxis5": {
         "anchor": "x5",
         "domain": [
          0.535,
          0.7325
         ],
         "gridcolor": "#E1E5ED",
         "showgrid": false,
         "tickfont": {
          "color": "#4D5663"
         },
         "title": {
          "font": {
           "color": "#4D5663"
          },
          "text": ""
         },
         "zerolinecolor": "#E1E5ED"
        },
        "yaxis6": {
         "anchor": "x6",
         "domain": [
          0.535,
          0.7325
         ],
         "gridcolor": "#E1E5ED",
         "showgrid": false,
         "tickfont": {
          "color": "#4D5663"
         },
         "title": {
          "font": {
           "color": "#4D5663"
          },
          "text": ""
         },
         "zerolinecolor": "#E1E5ED"
        },
        "yaxis7": {
         "anchor": "x7",
         "domain": [
          0.535,
          0.7325
         ],
         "gridcolor": "#E1E5ED",
         "showgrid": false,
         "tickfont": {
          "color": "#4D5663"
         },
         "title": {
          "font": {
           "color": "#4D5663"
          },
          "text": ""
         },
         "zerolinecolor": "#E1E5ED"
        },
        "yaxis8": {
         "anchor": "x8",
         "domain": [
          0.535,
          0.7325
         ],
         "gridcolor": "#E1E5ED",
         "showgrid": false,
         "tickfont": {
          "color": "#4D5663"
         },
         "title": {
          "font": {
           "color": "#4D5663"
          },
          "text": ""
         },
         "zerolinecolor": "#E1E5ED"
        },
        "yaxis9": {
         "anchor": "x9",
         "domain": [
          0.2675,
          0.465
         ],
         "gridcolor": "#E1E5ED",
         "showgrid": false,
         "tickfont": {
          "color": "#4D5663"
         },
         "title": {
          "font": {
           "color": "#4D5663"
          },
          "text": ""
         },
         "zerolinecolor": "#E1E5ED"
        }
       }
      },
      "text/html": [
       "<div>                            <div id=\"ed94451c-86af-4d6d-92dd-09b10bb88f59\" class=\"plotly-graph-div\" style=\"height:525px; width:100%;\"></div>            <script type=\"text/javascript\">                require([\"plotly\"], function(Plotly) {                    window.PLOTLYENV=window.PLOTLYENV || {};\n",
       "                    window.PLOTLYENV.BASE_URL='https://plot.ly';                                    if (document.getElementById(\"ed94451c-86af-4d6d-92dd-09b10bb88f59\")) {                    Plotly.newPlot(                        \"ed94451c-86af-4d6d-92dd-09b10bb88f59\",                        [{\"histfunc\":\"count\",\"histnorm\":\"\",\"marker\":{\"color\":\"rgba(255, 153, 51, 1.0)\",\"line\":{\"color\":\"#4D5663\",\"width\":1.3}},\"name\":\"A\",\"nbinsx\":10,\"opacity\":0.8,\"orientation\":\"v\",\"x\":[0.29679088647994234,-0.042206202349754085,0.05623496351276302,0.18396487905995018,1.9471896766346395,0.43208920801474165,1.6081901135096244,-0.33939886596474583,-0.005108983403875583,0.8530884673894046,-1.0049122922726699,-0.12868851992931754,1.7353868610859655,-0.08546583156278803,0.19057248696326243,-2.215582342343689,0.5808233212565269,0.5556244407586608,0.6393629473270924,0.8517397885188276,1.004772451678126,1.764774535802342,-1.5928023745870552,0.4490624254607539,-0.7527723767987775,-0.44542373319935846,0.34087288647274944,0.7583254810032551,1.1582430952918201,-0.3687962067699432,0.8684466366474232,1.1573101491711728,0.8106533155680704,0.49441830258067543,0.6885849650903538,-0.4702465281680946,0.7258776199325154,-2.229493254691975,-0.4286484838911737,-0.3528594259863507,-1.6078191886771733,1.7925932159412024,-1.4917867638583655,-0.8522939738286025,-0.3029444850990843,-0.15564219622621273,-0.8516913437553745,1.9066382724108697,-0.6264844604156597,0.06234625415648561,-3.6576914024430116,0.8489453033047615,0.6663080066373779,-2.794668362290301,-0.14340193607480287,0.46961643534909486,0.19466760147991485,-0.18305973698227745,0.2533686282037615,0.22681881963847014,-0.5853685803435907,1.2286869071151012,0.9278399975997879,-0.4069069923876818,0.2798037596885753,-1.440231742955656,-0.25905094443393784,-0.1670331195018515,-0.7801423654656153,-0.33638723727069586,0.1696828002144026,-1.6534073036946215,0.20741424731862965,-0.437475299257197,-0.605281305177192,1.2030690694557755,-1.6945689313328423,0.9344417133260021,0.46676346426075643,1.9170319083784906,0.34351232000814336,0.4415030752463328,-1.8460478325197323,0.8234785283616356,0.09775233667726059,0.4426520294879391,1.3332588195304493,0.6786094057326916,-1.072784991063228,0.1431368184337798,0.37685245253890953,-0.008279655793517674,-0.04025830813754167,-1.496699137527211,0.44668384965429475,0.8282233080065341,0.9187031152698922,0.07574685540103843,0.23778114530311967,1.1209179473646502],\"xaxis\":\"x\",\"yaxis\":\"y\",\"type\":\"histogram\"},{\"line\":{\"color\":\"rgba(128, 128, 128, 1.0)\",\"dash\":\"solid\",\"shape\":\"linear\",\"width\":1.3},\"marker\":{\"size\":2,\"symbol\":\"circle\"},\"mode\":\"markers\",\"name\":\"A\",\"text\":\"\",\"x\":[-0.7571651498351455,0.3041841546141356,-0.3634338798273758,-2.0482361777995144,-0.18108815038638867,-0.21190299395233114,-0.7806951399891963,1.8590985191190108,0.48036674314609656,1.8873083466347365,1.1056779689437921,-1.3231700180419348,0.3342805753940904,-0.20369594444050604,0.39088820371926375,-0.48776057521970073,-1.1414327259670378,-0.7808846359062693,1.4920293778079048,0.71079751035893,0.2307135496211187,-0.7211267802065155,-0.3877863925049786,0.5293063371459275,-1.698225399775976,-0.7432359964184969,-1.0633879580111423,-1.1564930777360236,-0.6354873928530012,1.6168674082839893,-2.1397231605343183,0.8591667284039247,-0.4525164669746582,0.6479933531495566,0.4928251204016213,0.5301247456285414,1.2692158824055362,0.4903818486766852,-1.1042304957167466,-0.3604927522499086,0.13344340017146225,-0.5371434200006895,-1.8037554935945654,0.5237936559711996,1.500251268452096,2.179319647875672,-0.009000371183924594,0.7041273574304793,0.8935279013253304,-3.375008844495114,1.1894387874864698,-0.27110581005903794,-0.3603941406302465,-0.19626364838529733,2.504563093248634,0.03156911621838102,0.29881409996396646,-0.386394740622949,-0.3698428488757272,0.8246534678107472,-1.9114009699387526,-0.4623680380986253,0.9077405464515336,-0.7295099857464294,0.6764853912798772,-0.541361568392655,0.47232880482121675,0.6296488331438715,1.7669189062507158,0.5757234831604158,-0.7518036824883677,-0.6340399776230848,-1.4504687727889098,0.4229339994405687,-0.7844403212340828,0.500292917366162,-0.45417782594598816,-0.2602529926846372,1.6907017072679549,2.0122414821517025,-0.9944724957993845,-0.4618705938551304,0.15912344530429562,0.06113220007641856,0.5169371398966918,-1.1232577387697515,-0.21463034116679147,-0.42893393668424407,-1.0968561308131135,2.4209582185902776,-1.242139030854014,-0.9981972941910361,1.6073060927944351,-1.2621170591121773,0.9289617974150245,-0.22342478108118818,0.23205496907907777,-0.7706448922950906,-0.20410847471802354,-0.3025804522844425],\"xaxis\":\"x2\",\"y\":[0.29679088647994234,-0.042206202349754085,0.05623496351276302,0.18396487905995018,1.9471896766346395,0.43208920801474165,1.6081901135096244,-0.33939886596474583,-0.005108983403875583,0.8530884673894046,-1.0049122922726699,-0.12868851992931754,1.7353868610859655,-0.08546583156278803,0.19057248696326243,-2.215582342343689,0.5808233212565269,0.5556244407586608,0.6393629473270924,0.8517397885188276,1.004772451678126,1.764774535802342,-1.5928023745870552,0.4490624254607539,-0.7527723767987775,-0.44542373319935846,0.34087288647274944,0.7583254810032551,1.1582430952918201,-0.3687962067699432,0.8684466366474232,1.1573101491711728,0.8106533155680704,0.49441830258067543,0.6885849650903538,-0.4702465281680946,0.7258776199325154,-2.229493254691975,-0.4286484838911737,-0.3528594259863507,-1.6078191886771733,1.7925932159412024,-1.4917867638583655,-0.8522939738286025,-0.3029444850990843,-0.15564219622621273,-0.8516913437553745,1.9066382724108697,-0.6264844604156597,0.06234625415648561,-3.6576914024430116,0.8489453033047615,0.6663080066373779,-2.794668362290301,-0.14340193607480287,0.46961643534909486,0.19466760147991485,-0.18305973698227745,0.2533686282037615,0.22681881963847014,-0.5853685803435907,1.2286869071151012,0.9278399975997879,-0.4069069923876818,0.2798037596885753,-1.440231742955656,-0.25905094443393784,-0.1670331195018515,-0.7801423654656153,-0.33638723727069586,0.1696828002144026,-1.6534073036946215,0.20741424731862965,-0.437475299257197,-0.605281305177192,1.2030690694557755,-1.6945689313328423,0.9344417133260021,0.46676346426075643,1.9170319083784906,0.34351232000814336,0.4415030752463328,-1.8460478325197323,0.8234785283616356,0.09775233667726059,0.4426520294879391,1.3332588195304493,0.6786094057326916,-1.072784991063228,0.1431368184337798,0.37685245253890953,-0.008279655793517674,-0.04025830813754167,-1.496699137527211,0.44668384965429475,0.8282233080065341,0.9187031152698922,0.07574685540103843,0.23778114530311967,1.1209179473646502],\"yaxis\":\"y2\",\"type\":\"scatter\"},{\"line\":{\"color\":\"rgba(128, 128, 128, 1.0)\",\"dash\":\"solid\",\"shape\":\"linear\",\"width\":1.3},\"marker\":{\"size\":2,\"symbol\":\"circle\"},\"mode\":\"markers\",\"name\":\"A\",\"text\":\"\",\"x\":[1.3401787857219047,-1.9553069612319784,0.09675136225434358,-0.8759626344625551,0.5541427096618632,1.3165355670097862,1.408684673970268,-0.8967317424310816,1.2647177893278923,-0.8049786030037357,-0.06522744548821288,1.4644919945838932,0.4350597896711922,-0.8890187839422852,0.8867845306851252,-1.2114753081096763,-1.3938600325853063,1.490322147153945,-0.3553943255278688,0.07275987339103501,0.9468715674905341,-0.7148656043530932,1.130693472818898,0.6658723771144244,0.9517837492043227,-0.12139122701139177,0.6011921603130448,-0.22843679020738578,-0.4576461130254673,1.5217598592429153,0.06970244363116698,-0.36510742882975694,1.79964304659319,-0.4400648704861409,-1.5500450343003,0.7208936566883917,0.9148340324849574,0.5769584974237918,0.7266845772317149,-0.7613464781713648,-0.18127576515236662,0.9813822416561983,0.8648986685162713,-0.23479550261196794,0.9016435261415309,0.22909739222432027,-1.2677417034299547,0.02441969904149327,1.8962194603065503,0.9181516111950895,0.022466458072359596,-1.6147166715521313,0.3641207738676737,-1.1393813221479803,1.2684436695379524,0.07019548392944641,-0.6071693419292494,1.426350084965751,1.6962148664066656,0.19878318228660752,0.6347943664894169,-1.1188234248778783,0.7196057917579274,1.3439620810898105,-0.9282648100560266,0.15984599683557435,-0.02043117007082602,-0.6465765462806012,-0.01337361338853624,-1.7988309469098755,0.5443194498205624,-2.5290357260174927,0.9675397250912268,-0.6300044340653279,-0.5524294384364697,-0.5490247837882021,-0.3632026938472756,1.9574891488442245,-0.8240201845184999,-1.6353559803347641,-0.5264511550055844,1.4312770258432483,0.9065704277847233,-0.3117201080331889,0.16822989010638462,0.1578247697613285,0.20578184362978333,0.022514408713525055,0.2807742047625913,0.04862287024487184,0.7054300808952286,-0.8566338963035328,-2.8904122011862747,-0.8214752611638811,-0.21645791311558232,-0.5476883796592708,-0.5276737589252545,-0.7598497779233351,-2.030836851081924,0.00264599696123195],\"xaxis\":\"x3\",\"y\":[0.29679088647994234,-0.042206202349754085,0.05623496351276302,0.18396487905995018,1.9471896766346395,0.43208920801474165,1.6081901135096244,-0.33939886596474583,-0.005108983403875583,0.8530884673894046,-1.0049122922726699,-0.12868851992931754,1.7353868610859655,-0.08546583156278803,0.19057248696326243,-2.215582342343689,0.5808233212565269,0.5556244407586608,0.6393629473270924,0.8517397885188276,1.004772451678126,1.764774535802342,-1.5928023745870552,0.4490624254607539,-0.7527723767987775,-0.44542373319935846,0.34087288647274944,0.7583254810032551,1.1582430952918201,-0.3687962067699432,0.8684466366474232,1.1573101491711728,0.8106533155680704,0.49441830258067543,0.6885849650903538,-0.4702465281680946,0.7258776199325154,-2.229493254691975,-0.4286484838911737,-0.3528594259863507,-1.6078191886771733,1.7925932159412024,-1.4917867638583655,-0.8522939738286025,-0.3029444850990843,-0.15564219622621273,-0.8516913437553745,1.9066382724108697,-0.6264844604156597,0.06234625415648561,-3.6576914024430116,0.8489453033047615,0.6663080066373779,-2.794668362290301,-0.14340193607480287,0.46961643534909486,0.19466760147991485,-0.18305973698227745,0.2533686282037615,0.22681881963847014,-0.5853685803435907,1.2286869071151012,0.9278399975997879,-0.4069069923876818,0.2798037596885753,-1.440231742955656,-0.25905094443393784,-0.1670331195018515,-0.7801423654656153,-0.33638723727069586,0.1696828002144026,-1.6534073036946215,0.20741424731862965,-0.437475299257197,-0.605281305177192,1.2030690694557755,-1.6945689313328423,0.9344417133260021,0.46676346426075643,1.9170319083784906,0.34351232000814336,0.4415030752463328,-1.8460478325197323,0.8234785283616356,0.09775233667726059,0.4426520294879391,1.3332588195304493,0.6786094057326916,-1.072784991063228,0.1431368184337798,0.37685245253890953,-0.008279655793517674,-0.04025830813754167,-1.496699137527211,0.44668384965429475,0.8282233080065341,0.9187031152698922,0.07574685540103843,0.23778114530311967,1.1209179473646502],\"yaxis\":\"y3\",\"type\":\"scatter\"},{\"line\":{\"color\":\"rgba(128, 128, 128, 1.0)\",\"dash\":\"solid\",\"shape\":\"linear\",\"width\":1.3},\"marker\":{\"size\":2,\"symbol\":\"circle\"},\"mode\":\"markers\",\"name\":\"A\",\"text\":\"\",\"x\":[0.24525988548592925,-0.8134924347641136,-0.06301976921784228,1.6767678320421202,0.3244226225073001,-0.1955763371715922,-1.3411201785288194,1.9063827326757339,1.3474940840274094,1.8649816545434144,0.38784495530139607,-0.4614739762068934,2.624423249892742,1.1723960416063304,-0.7989430846361074,-1.6086674507023928,1.0626446977057926,0.3061122651420492,-3.8974087795971033,0.49509476013264314,-0.22890394797898309,1.531323123544235,-0.3299867649224163,-0.6180478692371327,-1.604779874246786,-0.7642244120224729,0.8028952271987085,-1.24118922536906,-0.4037680962139133,0.12671719764900752,-0.28368615581630663,0.5987350777489968,0.6987771419987823,-0.20066747894606912,1.1824188305674441,-0.32855086090261704,-0.9129891829296052,0.6837732875317857,-0.4821839815272349,-0.29299875846855944,0.2358883415177,-1.3480057073255023,0.6119263056858619,-0.5359176160660698,0.7954426240488578,-0.3360177186601398,-0.07746324253214303,-1.5648236415728372,0.2933756393149718,-0.04695088194711037,0.1766689682198699,-0.5239465195284316,2.1456067871766065,0.7615389563566171,-0.8272853511020328,-1.777287515861347,-1.699059001829908,0.48721507787091894,-1.6101843077172044,-0.35869981031815207,-0.7743598576732503,-0.9464883862911435,0.4157114601709713,1.0317807200645843,-0.23342785269896626,0.3283854501960172,0.34753742525171183,1.7770888208835824,-0.2751178467213051,-0.6696298796044111,1.21538700080969,2.1383020557715504,2.2551676774077345,0.37425799100418256,-1.3985445283206148,-0.06632952359706587,-2.007849101781652,1.4629465385445042,-0.30830681518190695,0.454900046618444,0.9704785861065522,1.058971235277724,-0.8688765333946045,-0.8805605039388629,0.9199033135573567,-1.0383100618925594,-1.0034127373954553,0.6512179848694126,-1.3803849052078925,-0.26599409292614745,0.09329712767283055,-1.7980971334936897,-1.3816592922590543,2.06826412084128,0.3773835170733553,0.4945583546436987,-0.12522417275069883,-1.042172817742925,-1.9831712321804318,-0.7012602384195061],\"xaxis\":\"x4\",\"y\":[0.29679088647994234,-0.042206202349754085,0.05623496351276302,0.18396487905995018,1.9471896766346395,0.43208920801474165,1.6081901135096244,-0.33939886596474583,-0.005108983403875583,0.8530884673894046,-1.0049122922726699,-0.12868851992931754,1.7353868610859655,-0.08546583156278803,0.19057248696326243,-2.215582342343689,0.5808233212565269,0.5556244407586608,0.6393629473270924,0.8517397885188276,1.004772451678126,1.764774535802342,-1.5928023745870552,0.4490624254607539,-0.7527723767987775,-0.44542373319935846,0.34087288647274944,0.7583254810032551,1.1582430952918201,-0.3687962067699432,0.8684466366474232,1.1573101491711728,0.8106533155680704,0.49441830258067543,0.6885849650903538,-0.4702465281680946,0.7258776199325154,-2.229493254691975,-0.4286484838911737,-0.3528594259863507,-1.6078191886771733,1.7925932159412024,-1.4917867638583655,-0.8522939738286025,-0.3029444850990843,-0.15564219622621273,-0.8516913437553745,1.9066382724108697,-0.6264844604156597,0.06234625415648561,-3.6576914024430116,0.8489453033047615,0.6663080066373779,-2.794668362290301,-0.14340193607480287,0.46961643534909486,0.19466760147991485,-0.18305973698227745,0.2533686282037615,0.22681881963847014,-0.5853685803435907,1.2286869071151012,0.9278399975997879,-0.4069069923876818,0.2798037596885753,-1.440231742955656,-0.25905094443393784,-0.1670331195018515,-0.7801423654656153,-0.33638723727069586,0.1696828002144026,-1.6534073036946215,0.20741424731862965,-0.437475299257197,-0.605281305177192,1.2030690694557755,-1.6945689313328423,0.9344417133260021,0.46676346426075643,1.9170319083784906,0.34351232000814336,0.4415030752463328,-1.8460478325197323,0.8234785283616356,0.09775233667726059,0.4426520294879391,1.3332588195304493,0.6786094057326916,-1.072784991063228,0.1431368184337798,0.37685245253890953,-0.008279655793517674,-0.04025830813754167,-1.496699137527211,0.44668384965429475,0.8282233080065341,0.9187031152698922,0.07574685540103843,0.23778114530311967,1.1209179473646502],\"yaxis\":\"y4\",\"type\":\"scatter\"},{\"line\":{\"color\":\"rgba(128, 128, 128, 1.0)\",\"dash\":\"solid\",\"shape\":\"linear\",\"width\":1.3},\"marker\":{\"size\":2,\"symbol\":\"circle\"},\"mode\":\"markers\",\"name\":\"B\",\"text\":\"\",\"x\":[0.29679088647994234,-0.042206202349754085,0.05623496351276302,0.18396487905995018,1.9471896766346395,0.43208920801474165,1.6081901135096244,-0.33939886596474583,-0.005108983403875583,0.8530884673894046,-1.0049122922726699,-0.12868851992931754,1.7353868610859655,-0.08546583156278803,0.19057248696326243,-2.215582342343689,0.5808233212565269,0.5556244407586608,0.6393629473270924,0.8517397885188276,1.004772451678126,1.764774535802342,-1.5928023745870552,0.4490624254607539,-0.7527723767987775,-0.44542373319935846,0.34087288647274944,0.7583254810032551,1.1582430952918201,-0.3687962067699432,0.8684466366474232,1.1573101491711728,0.8106533155680704,0.49441830258067543,0.6885849650903538,-0.4702465281680946,0.7258776199325154,-2.229493254691975,-0.4286484838911737,-0.3528594259863507,-1.6078191886771733,1.7925932159412024,-1.4917867638583655,-0.8522939738286025,-0.3029444850990843,-0.15564219622621273,-0.8516913437553745,1.9066382724108697,-0.6264844604156597,0.06234625415648561,-3.6576914024430116,0.8489453033047615,0.6663080066373779,-2.794668362290301,-0.14340193607480287,0.46961643534909486,0.19466760147991485,-0.18305973698227745,0.2533686282037615,0.22681881963847014,-0.5853685803435907,1.2286869071151012,0.9278399975997879,-0.4069069923876818,0.2798037596885753,-1.440231742955656,-0.25905094443393784,-0.1670331195018515,-0.7801423654656153,-0.33638723727069586,0.1696828002144026,-1.6534073036946215,0.20741424731862965,-0.437475299257197,-0.605281305177192,1.2030690694557755,-1.6945689313328423,0.9344417133260021,0.46676346426075643,1.9170319083784906,0.34351232000814336,0.4415030752463328,-1.8460478325197323,0.8234785283616356,0.09775233667726059,0.4426520294879391,1.3332588195304493,0.6786094057326916,-1.072784991063228,0.1431368184337798,0.37685245253890953,-0.008279655793517674,-0.04025830813754167,-1.496699137527211,0.44668384965429475,0.8282233080065341,0.9187031152698922,0.07574685540103843,0.23778114530311967,1.1209179473646502],\"xaxis\":\"x5\",\"y\":[-0.7571651498351455,0.3041841546141356,-0.3634338798273758,-2.0482361777995144,-0.18108815038638867,-0.21190299395233114,-0.7806951399891963,1.8590985191190108,0.48036674314609656,1.8873083466347365,1.1056779689437921,-1.3231700180419348,0.3342805753940904,-0.20369594444050604,0.39088820371926375,-0.48776057521970073,-1.1414327259670378,-0.7808846359062693,1.4920293778079048,0.71079751035893,0.2307135496211187,-0.7211267802065155,-0.3877863925049786,0.5293063371459275,-1.698225399775976,-0.7432359964184969,-1.0633879580111423,-1.1564930777360236,-0.6354873928530012,1.6168674082839893,-2.1397231605343183,0.8591667284039247,-0.4525164669746582,0.6479933531495566,0.4928251204016213,0.5301247456285414,1.2692158824055362,0.4903818486766852,-1.1042304957167466,-0.3604927522499086,0.13344340017146225,-0.5371434200006895,-1.8037554935945654,0.5237936559711996,1.500251268452096,2.179319647875672,-0.009000371183924594,0.7041273574304793,0.8935279013253304,-3.375008844495114,1.1894387874864698,-0.27110581005903794,-0.3603941406302465,-0.19626364838529733,2.504563093248634,0.03156911621838102,0.29881409996396646,-0.386394740622949,-0.3698428488757272,0.8246534678107472,-1.9114009699387526,-0.4623680380986253,0.9077405464515336,-0.7295099857464294,0.6764853912798772,-0.541361568392655,0.47232880482121675,0.6296488331438715,1.7669189062507158,0.5757234831604158,-0.7518036824883677,-0.6340399776230848,-1.4504687727889098,0.4229339994405687,-0.7844403212340828,0.500292917366162,-0.45417782594598816,-0.2602529926846372,1.6907017072679549,2.0122414821517025,-0.9944724957993845,-0.4618705938551304,0.15912344530429562,0.06113220007641856,0.5169371398966918,-1.1232577387697515,-0.21463034116679147,-0.42893393668424407,-1.0968561308131135,2.4209582185902776,-1.242139030854014,-0.9981972941910361,1.6073060927944351,-1.2621170591121773,0.9289617974150245,-0.22342478108118818,0.23205496907907777,-0.7706448922950906,-0.20410847471802354,-0.3025804522844425],\"yaxis\":\"y5\",\"type\":\"scatter\"},{\"histfunc\":\"count\",\"histnorm\":\"\",\"marker\":{\"color\":\"rgba(55, 128, 191, 1.0)\",\"line\":{\"color\":\"#4D5663\",\"width\":1.3}},\"name\":\"B\",\"nbinsx\":10,\"opacity\":0.8,\"orientation\":\"v\",\"x\":[-0.7571651498351455,0.3041841546141356,-0.3634338798273758,-2.0482361777995144,-0.18108815038638867,-0.21190299395233114,-0.7806951399891963,1.8590985191190108,0.48036674314609656,1.8873083466347365,1.1056779689437921,-1.3231700180419348,0.3342805753940904,-0.20369594444050604,0.39088820371926375,-0.48776057521970073,-1.1414327259670378,-0.7808846359062693,1.4920293778079048,0.71079751035893,0.2307135496211187,-0.7211267802065155,-0.3877863925049786,0.5293063371459275,-1.698225399775976,-0.7432359964184969,-1.0633879580111423,-1.1564930777360236,-0.6354873928530012,1.6168674082839893,-2.1397231605343183,0.8591667284039247,-0.4525164669746582,0.6479933531495566,0.4928251204016213,0.5301247456285414,1.2692158824055362,0.4903818486766852,-1.1042304957167466,-0.3604927522499086,0.13344340017146225,-0.5371434200006895,-1.8037554935945654,0.5237936559711996,1.500251268452096,2.179319647875672,-0.009000371183924594,0.7041273574304793,0.8935279013253304,-3.375008844495114,1.1894387874864698,-0.27110581005903794,-0.3603941406302465,-0.19626364838529733,2.504563093248634,0.03156911621838102,0.29881409996396646,-0.386394740622949,-0.3698428488757272,0.8246534678107472,-1.9114009699387526,-0.4623680380986253,0.9077405464515336,-0.7295099857464294,0.6764853912798772,-0.541361568392655,0.47232880482121675,0.6296488331438715,1.7669189062507158,0.5757234831604158,-0.7518036824883677,-0.6340399776230848,-1.4504687727889098,0.4229339994405687,-0.7844403212340828,0.500292917366162,-0.45417782594598816,-0.2602529926846372,1.6907017072679549,2.0122414821517025,-0.9944724957993845,-0.4618705938551304,0.15912344530429562,0.06113220007641856,0.5169371398966918,-1.1232577387697515,-0.21463034116679147,-0.42893393668424407,-1.0968561308131135,2.4209582185902776,-1.242139030854014,-0.9981972941910361,1.6073060927944351,-1.2621170591121773,0.9289617974150245,-0.22342478108118818,0.23205496907907777,-0.7706448922950906,-0.20410847471802354,-0.3025804522844425],\"xaxis\":\"x6\",\"yaxis\":\"y6\",\"type\":\"histogram\"},{\"line\":{\"color\":\"rgba(128, 128, 128, 1.0)\",\"dash\":\"solid\",\"shape\":\"linear\",\"width\":1.3},\"marker\":{\"size\":2,\"symbol\":\"circle\"},\"mode\":\"markers\",\"name\":\"B\",\"text\":\"\",\"x\":[1.3401787857219047,-1.9553069612319784,0.09675136225434358,-0.8759626344625551,0.5541427096618632,1.3165355670097862,1.408684673970268,-0.8967317424310816,1.2647177893278923,-0.8049786030037357,-0.06522744548821288,1.4644919945838932,0.4350597896711922,-0.8890187839422852,0.8867845306851252,-1.2114753081096763,-1.3938600325853063,1.490322147153945,-0.3553943255278688,0.07275987339103501,0.9468715674905341,-0.7148656043530932,1.130693472818898,0.6658723771144244,0.9517837492043227,-0.12139122701139177,0.6011921603130448,-0.22843679020738578,-0.4576461130254673,1.5217598592429153,0.06970244363116698,-0.36510742882975694,1.79964304659319,-0.4400648704861409,-1.5500450343003,0.7208936566883917,0.9148340324849574,0.5769584974237918,0.7266845772317149,-0.7613464781713648,-0.18127576515236662,0.9813822416561983,0.8648986685162713,-0.23479550261196794,0.9016435261415309,0.22909739222432027,-1.2677417034299547,0.02441969904149327,1.8962194603065503,0.9181516111950895,0.022466458072359596,-1.6147166715521313,0.3641207738676737,-1.1393813221479803,1.2684436695379524,0.07019548392944641,-0.6071693419292494,1.426350084965751,1.6962148664066656,0.19878318228660752,0.6347943664894169,-1.1188234248778783,0.7196057917579274,1.3439620810898105,-0.9282648100560266,0.15984599683557435,-0.02043117007082602,-0.6465765462806012,-0.01337361338853624,-1.7988309469098755,0.5443194498205624,-2.5290357260174927,0.9675397250912268,-0.6300044340653279,-0.5524294384364697,-0.5490247837882021,-0.3632026938472756,1.9574891488442245,-0.8240201845184999,-1.6353559803347641,-0.5264511550055844,1.4312770258432483,0.9065704277847233,-0.3117201080331889,0.16822989010638462,0.1578247697613285,0.20578184362978333,0.022514408713525055,0.2807742047625913,0.04862287024487184,0.7054300808952286,-0.8566338963035328,-2.8904122011862747,-0.8214752611638811,-0.21645791311558232,-0.5476883796592708,-0.5276737589252545,-0.7598497779233351,-2.030836851081924,0.00264599696123195],\"xaxis\":\"x7\",\"y\":[-0.7571651498351455,0.3041841546141356,-0.3634338798273758,-2.0482361777995144,-0.18108815038638867,-0.21190299395233114,-0.7806951399891963,1.8590985191190108,0.48036674314609656,1.8873083466347365,1.1056779689437921,-1.3231700180419348,0.3342805753940904,-0.20369594444050604,0.39088820371926375,-0.48776057521970073,-1.1414327259670378,-0.7808846359062693,1.4920293778079048,0.71079751035893,0.2307135496211187,-0.7211267802065155,-0.3877863925049786,0.5293063371459275,-1.698225399775976,-0.7432359964184969,-1.0633879580111423,-1.1564930777360236,-0.6354873928530012,1.6168674082839893,-2.1397231605343183,0.8591667284039247,-0.4525164669746582,0.6479933531495566,0.4928251204016213,0.5301247456285414,1.2692158824055362,0.4903818486766852,-1.1042304957167466,-0.3604927522499086,0.13344340017146225,-0.5371434200006895,-1.8037554935945654,0.5237936559711996,1.500251268452096,2.179319647875672,-0.009000371183924594,0.7041273574304793,0.8935279013253304,-3.375008844495114,1.1894387874864698,-0.27110581005903794,-0.3603941406302465,-0.19626364838529733,2.504563093248634,0.03156911621838102,0.29881409996396646,-0.386394740622949,-0.3698428488757272,0.8246534678107472,-1.9114009699387526,-0.4623680380986253,0.9077405464515336,-0.7295099857464294,0.6764853912798772,-0.541361568392655,0.47232880482121675,0.6296488331438715,1.7669189062507158,0.5757234831604158,-0.7518036824883677,-0.6340399776230848,-1.4504687727889098,0.4229339994405687,-0.7844403212340828,0.500292917366162,-0.45417782594598816,-0.2602529926846372,1.6907017072679549,2.0122414821517025,-0.9944724957993845,-0.4618705938551304,0.15912344530429562,0.06113220007641856,0.5169371398966918,-1.1232577387697515,-0.21463034116679147,-0.42893393668424407,-1.0968561308131135,2.4209582185902776,-1.242139030854014,-0.9981972941910361,1.6073060927944351,-1.2621170591121773,0.9289617974150245,-0.22342478108118818,0.23205496907907777,-0.7706448922950906,-0.20410847471802354,-0.3025804522844425],\"yaxis\":\"y7\",\"type\":\"scatter\"},{\"line\":{\"color\":\"rgba(128, 128, 128, 1.0)\",\"dash\":\"solid\",\"shape\":\"linear\",\"width\":1.3},\"marker\":{\"size\":2,\"symbol\":\"circle\"},\"mode\":\"markers\",\"name\":\"B\",\"text\":\"\",\"x\":[0.24525988548592925,-0.8134924347641136,-0.06301976921784228,1.6767678320421202,0.3244226225073001,-0.1955763371715922,-1.3411201785288194,1.9063827326757339,1.3474940840274094,1.8649816545434144,0.38784495530139607,-0.4614739762068934,2.624423249892742,1.1723960416063304,-0.7989430846361074,-1.6086674507023928,1.0626446977057926,0.3061122651420492,-3.8974087795971033,0.49509476013264314,-0.22890394797898309,1.531323123544235,-0.3299867649224163,-0.6180478692371327,-1.604779874246786,-0.7642244120224729,0.8028952271987085,-1.24118922536906,-0.4037680962139133,0.12671719764900752,-0.28368615581630663,0.5987350777489968,0.6987771419987823,-0.20066747894606912,1.1824188305674441,-0.32855086090261704,-0.9129891829296052,0.6837732875317857,-0.4821839815272349,-0.29299875846855944,0.2358883415177,-1.3480057073255023,0.6119263056858619,-0.5359176160660698,0.7954426240488578,-0.3360177186601398,-0.07746324253214303,-1.5648236415728372,0.2933756393149718,-0.04695088194711037,0.1766689682198699,-0.5239465195284316,2.1456067871766065,0.7615389563566171,-0.8272853511020328,-1.777287515861347,-1.699059001829908,0.48721507787091894,-1.6101843077172044,-0.35869981031815207,-0.7743598576732503,-0.9464883862911435,0.4157114601709713,1.0317807200645843,-0.23342785269896626,0.3283854501960172,0.34753742525171183,1.7770888208835824,-0.2751178467213051,-0.6696298796044111,1.21538700080969,2.1383020557715504,2.2551676774077345,0.37425799100418256,-1.3985445283206148,-0.06632952359706587,-2.007849101781652,1.4629465385445042,-0.30830681518190695,0.454900046618444,0.9704785861065522,1.058971235277724,-0.8688765333946045,-0.8805605039388629,0.9199033135573567,-1.0383100618925594,-1.0034127373954553,0.6512179848694126,-1.3803849052078925,-0.26599409292614745,0.09329712767283055,-1.7980971334936897,-1.3816592922590543,2.06826412084128,0.3773835170733553,0.4945583546436987,-0.12522417275069883,-1.042172817742925,-1.9831712321804318,-0.7012602384195061],\"xaxis\":\"x8\",\"y\":[-0.7571651498351455,0.3041841546141356,-0.3634338798273758,-2.0482361777995144,-0.18108815038638867,-0.21190299395233114,-0.7806951399891963,1.8590985191190108,0.48036674314609656,1.8873083466347365,1.1056779689437921,-1.3231700180419348,0.3342805753940904,-0.20369594444050604,0.39088820371926375,-0.48776057521970073,-1.1414327259670378,-0.7808846359062693,1.4920293778079048,0.71079751035893,0.2307135496211187,-0.7211267802065155,-0.3877863925049786,0.5293063371459275,-1.698225399775976,-0.7432359964184969,-1.0633879580111423,-1.1564930777360236,-0.6354873928530012,1.6168674082839893,-2.1397231605343183,0.8591667284039247,-0.4525164669746582,0.6479933531495566,0.4928251204016213,0.5301247456285414,1.2692158824055362,0.4903818486766852,-1.1042304957167466,-0.3604927522499086,0.13344340017146225,-0.5371434200006895,-1.8037554935945654,0.5237936559711996,1.500251268452096,2.179319647875672,-0.009000371183924594,0.7041273574304793,0.8935279013253304,-3.375008844495114,1.1894387874864698,-0.27110581005903794,-0.3603941406302465,-0.19626364838529733,2.504563093248634,0.03156911621838102,0.29881409996396646,-0.386394740622949,-0.3698428488757272,0.8246534678107472,-1.9114009699387526,-0.4623680380986253,0.9077405464515336,-0.7295099857464294,0.6764853912798772,-0.541361568392655,0.47232880482121675,0.6296488331438715,1.7669189062507158,0.5757234831604158,-0.7518036824883677,-0.6340399776230848,-1.4504687727889098,0.4229339994405687,-0.7844403212340828,0.500292917366162,-0.45417782594598816,-0.2602529926846372,1.6907017072679549,2.0122414821517025,-0.9944724957993845,-0.4618705938551304,0.15912344530429562,0.06113220007641856,0.5169371398966918,-1.1232577387697515,-0.21463034116679147,-0.42893393668424407,-1.0968561308131135,2.4209582185902776,-1.242139030854014,-0.9981972941910361,1.6073060927944351,-1.2621170591121773,0.9289617974150245,-0.22342478108118818,0.23205496907907777,-0.7706448922950906,-0.20410847471802354,-0.3025804522844425],\"yaxis\":\"y8\",\"type\":\"scatter\"},{\"line\":{\"color\":\"rgba(128, 128, 128, 1.0)\",\"dash\":\"solid\",\"shape\":\"linear\",\"width\":1.3},\"marker\":{\"size\":2,\"symbol\":\"circle\"},\"mode\":\"markers\",\"name\":\"C\",\"text\":\"\",\"x\":[0.29679088647994234,-0.042206202349754085,0.05623496351276302,0.18396487905995018,1.9471896766346395,0.43208920801474165,1.6081901135096244,-0.33939886596474583,-0.005108983403875583,0.8530884673894046,-1.0049122922726699,-0.12868851992931754,1.7353868610859655,-0.08546583156278803,0.19057248696326243,-2.215582342343689,0.5808233212565269,0.5556244407586608,0.6393629473270924,0.8517397885188276,1.004772451678126,1.764774535802342,-1.5928023745870552,0.4490624254607539,-0.7527723767987775,-0.44542373319935846,0.34087288647274944,0.7583254810032551,1.1582430952918201,-0.3687962067699432,0.8684466366474232,1.1573101491711728,0.8106533155680704,0.49441830258067543,0.6885849650903538,-0.4702465281680946,0.7258776199325154,-2.229493254691975,-0.4286484838911737,-0.3528594259863507,-1.6078191886771733,1.7925932159412024,-1.4917867638583655,-0.8522939738286025,-0.3029444850990843,-0.15564219622621273,-0.8516913437553745,1.9066382724108697,-0.6264844604156597,0.06234625415648561,-3.6576914024430116,0.8489453033047615,0.6663080066373779,-2.794668362290301,-0.14340193607480287,0.46961643534909486,0.19466760147991485,-0.18305973698227745,0.2533686282037615,0.22681881963847014,-0.5853685803435907,1.2286869071151012,0.9278399975997879,-0.4069069923876818,0.2798037596885753,-1.440231742955656,-0.25905094443393784,-0.1670331195018515,-0.7801423654656153,-0.33638723727069586,0.1696828002144026,-1.6534073036946215,0.20741424731862965,-0.437475299257197,-0.605281305177192,1.2030690694557755,-1.6945689313328423,0.9344417133260021,0.46676346426075643,1.9170319083784906,0.34351232000814336,0.4415030752463328,-1.8460478325197323,0.8234785283616356,0.09775233667726059,0.4426520294879391,1.3332588195304493,0.6786094057326916,-1.072784991063228,0.1431368184337798,0.37685245253890953,-0.008279655793517674,-0.04025830813754167,-1.496699137527211,0.44668384965429475,0.8282233080065341,0.9187031152698922,0.07574685540103843,0.23778114530311967,1.1209179473646502],\"xaxis\":\"x9\",\"y\":[1.3401787857219047,-1.9553069612319784,0.09675136225434358,-0.8759626344625551,0.5541427096618632,1.3165355670097862,1.408684673970268,-0.8967317424310816,1.2647177893278923,-0.8049786030037357,-0.06522744548821288,1.4644919945838932,0.4350597896711922,-0.8890187839422852,0.8867845306851252,-1.2114753081096763,-1.3938600325853063,1.490322147153945,-0.3553943255278688,0.07275987339103501,0.9468715674905341,-0.7148656043530932,1.130693472818898,0.6658723771144244,0.9517837492043227,-0.12139122701139177,0.6011921603130448,-0.22843679020738578,-0.4576461130254673,1.5217598592429153,0.06970244363116698,-0.36510742882975694,1.79964304659319,-0.4400648704861409,-1.5500450343003,0.7208936566883917,0.9148340324849574,0.5769584974237918,0.7266845772317149,-0.7613464781713648,-0.18127576515236662,0.9813822416561983,0.8648986685162713,-0.23479550261196794,0.9016435261415309,0.22909739222432027,-1.2677417034299547,0.02441969904149327,1.8962194603065503,0.9181516111950895,0.022466458072359596,-1.6147166715521313,0.3641207738676737,-1.1393813221479803,1.2684436695379524,0.07019548392944641,-0.6071693419292494,1.426350084965751,1.6962148664066656,0.19878318228660752,0.6347943664894169,-1.1188234248778783,0.7196057917579274,1.3439620810898105,-0.9282648100560266,0.15984599683557435,-0.02043117007082602,-0.6465765462806012,-0.01337361338853624,-1.7988309469098755,0.5443194498205624,-2.5290357260174927,0.9675397250912268,-0.6300044340653279,-0.5524294384364697,-0.5490247837882021,-0.3632026938472756,1.9574891488442245,-0.8240201845184999,-1.6353559803347641,-0.5264511550055844,1.4312770258432483,0.9065704277847233,-0.3117201080331889,0.16822989010638462,0.1578247697613285,0.20578184362978333,0.022514408713525055,0.2807742047625913,0.04862287024487184,0.7054300808952286,-0.8566338963035328,-2.8904122011862747,-0.8214752611638811,-0.21645791311558232,-0.5476883796592708,-0.5276737589252545,-0.7598497779233351,-2.030836851081924,0.00264599696123195],\"yaxis\":\"y9\",\"type\":\"scatter\"},{\"line\":{\"color\":\"rgba(128, 128, 128, 1.0)\",\"dash\":\"solid\",\"shape\":\"linear\",\"width\":1.3},\"marker\":{\"size\":2,\"symbol\":\"circle\"},\"mode\":\"markers\",\"name\":\"C\",\"text\":\"\",\"x\":[-0.7571651498351455,0.3041841546141356,-0.3634338798273758,-2.0482361777995144,-0.18108815038638867,-0.21190299395233114,-0.7806951399891963,1.8590985191190108,0.48036674314609656,1.8873083466347365,1.1056779689437921,-1.3231700180419348,0.3342805753940904,-0.20369594444050604,0.39088820371926375,-0.48776057521970073,-1.1414327259670378,-0.7808846359062693,1.4920293778079048,0.71079751035893,0.2307135496211187,-0.7211267802065155,-0.3877863925049786,0.5293063371459275,-1.698225399775976,-0.7432359964184969,-1.0633879580111423,-1.1564930777360236,-0.6354873928530012,1.6168674082839893,-2.1397231605343183,0.8591667284039247,-0.4525164669746582,0.6479933531495566,0.4928251204016213,0.5301247456285414,1.2692158824055362,0.4903818486766852,-1.1042304957167466,-0.3604927522499086,0.13344340017146225,-0.5371434200006895,-1.8037554935945654,0.5237936559711996,1.500251268452096,2.179319647875672,-0.009000371183924594,0.7041273574304793,0.8935279013253304,-3.375008844495114,1.1894387874864698,-0.27110581005903794,-0.3603941406302465,-0.19626364838529733,2.504563093248634,0.03156911621838102,0.29881409996396646,-0.386394740622949,-0.3698428488757272,0.8246534678107472,-1.9114009699387526,-0.4623680380986253,0.9077405464515336,-0.7295099857464294,0.6764853912798772,-0.541361568392655,0.47232880482121675,0.6296488331438715,1.7669189062507158,0.5757234831604158,-0.7518036824883677,-0.6340399776230848,-1.4504687727889098,0.4229339994405687,-0.7844403212340828,0.500292917366162,-0.45417782594598816,-0.2602529926846372,1.6907017072679549,2.0122414821517025,-0.9944724957993845,-0.4618705938551304,0.15912344530429562,0.06113220007641856,0.5169371398966918,-1.1232577387697515,-0.21463034116679147,-0.42893393668424407,-1.0968561308131135,2.4209582185902776,-1.242139030854014,-0.9981972941910361,1.6073060927944351,-1.2621170591121773,0.9289617974150245,-0.22342478108118818,0.23205496907907777,-0.7706448922950906,-0.20410847471802354,-0.3025804522844425],\"xaxis\":\"x10\",\"y\":[1.3401787857219047,-1.9553069612319784,0.09675136225434358,-0.8759626344625551,0.5541427096618632,1.3165355670097862,1.408684673970268,-0.8967317424310816,1.2647177893278923,-0.8049786030037357,-0.06522744548821288,1.4644919945838932,0.4350597896711922,-0.8890187839422852,0.8867845306851252,-1.2114753081096763,-1.3938600325853063,1.490322147153945,-0.3553943255278688,0.07275987339103501,0.9468715674905341,-0.7148656043530932,1.130693472818898,0.6658723771144244,0.9517837492043227,-0.12139122701139177,0.6011921603130448,-0.22843679020738578,-0.4576461130254673,1.5217598592429153,0.06970244363116698,-0.36510742882975694,1.79964304659319,-0.4400648704861409,-1.5500450343003,0.7208936566883917,0.9148340324849574,0.5769584974237918,0.7266845772317149,-0.7613464781713648,-0.18127576515236662,0.9813822416561983,0.8648986685162713,-0.23479550261196794,0.9016435261415309,0.22909739222432027,-1.2677417034299547,0.02441969904149327,1.8962194603065503,0.9181516111950895,0.022466458072359596,-1.6147166715521313,0.3641207738676737,-1.1393813221479803,1.2684436695379524,0.07019548392944641,-0.6071693419292494,1.426350084965751,1.6962148664066656,0.19878318228660752,0.6347943664894169,-1.1188234248778783,0.7196057917579274,1.3439620810898105,-0.9282648100560266,0.15984599683557435,-0.02043117007082602,-0.6465765462806012,-0.01337361338853624,-1.7988309469098755,0.5443194498205624,-2.5290357260174927,0.9675397250912268,-0.6300044340653279,-0.5524294384364697,-0.5490247837882021,-0.3632026938472756,1.9574891488442245,-0.8240201845184999,-1.6353559803347641,-0.5264511550055844,1.4312770258432483,0.9065704277847233,-0.3117201080331889,0.16822989010638462,0.1578247697613285,0.20578184362978333,0.022514408713525055,0.2807742047625913,0.04862287024487184,0.7054300808952286,-0.8566338963035328,-2.8904122011862747,-0.8214752611638811,-0.21645791311558232,-0.5476883796592708,-0.5276737589252545,-0.7598497779233351,-2.030836851081924,0.00264599696123195],\"yaxis\":\"y10\",\"type\":\"scatter\"},{\"histfunc\":\"count\",\"histnorm\":\"\",\"marker\":{\"color\":\"rgba(50, 171, 96, 1.0)\",\"line\":{\"color\":\"#4D5663\",\"width\":1.3}},\"name\":\"C\",\"nbinsx\":10,\"opacity\":0.8,\"orientation\":\"v\",\"x\":[1.3401787857219047,-1.9553069612319784,0.09675136225434358,-0.8759626344625551,0.5541427096618632,1.3165355670097862,1.408684673970268,-0.8967317424310816,1.2647177893278923,-0.8049786030037357,-0.06522744548821288,1.4644919945838932,0.4350597896711922,-0.8890187839422852,0.8867845306851252,-1.2114753081096763,-1.3938600325853063,1.490322147153945,-0.3553943255278688,0.07275987339103501,0.9468715674905341,-0.7148656043530932,1.130693472818898,0.6658723771144244,0.9517837492043227,-0.12139122701139177,0.6011921603130448,-0.22843679020738578,-0.4576461130254673,1.5217598592429153,0.06970244363116698,-0.36510742882975694,1.79964304659319,-0.4400648704861409,-1.5500450343003,0.7208936566883917,0.9148340324849574,0.5769584974237918,0.7266845772317149,-0.7613464781713648,-0.18127576515236662,0.9813822416561983,0.8648986685162713,-0.23479550261196794,0.9016435261415309,0.22909739222432027,-1.2677417034299547,0.02441969904149327,1.8962194603065503,0.9181516111950895,0.022466458072359596,-1.6147166715521313,0.3641207738676737,-1.1393813221479803,1.2684436695379524,0.07019548392944641,-0.6071693419292494,1.426350084965751,1.6962148664066656,0.19878318228660752,0.6347943664894169,-1.1188234248778783,0.7196057917579274,1.3439620810898105,-0.9282648100560266,0.15984599683557435,-0.02043117007082602,-0.6465765462806012,-0.01337361338853624,-1.7988309469098755,0.5443194498205624,-2.5290357260174927,0.9675397250912268,-0.6300044340653279,-0.5524294384364697,-0.5490247837882021,-0.3632026938472756,1.9574891488442245,-0.8240201845184999,-1.6353559803347641,-0.5264511550055844,1.4312770258432483,0.9065704277847233,-0.3117201080331889,0.16822989010638462,0.1578247697613285,0.20578184362978333,0.022514408713525055,0.2807742047625913,0.04862287024487184,0.7054300808952286,-0.8566338963035328,-2.8904122011862747,-0.8214752611638811,-0.21645791311558232,-0.5476883796592708,-0.5276737589252545,-0.7598497779233351,-2.030836851081924,0.00264599696123195],\"xaxis\":\"x11\",\"yaxis\":\"y11\",\"type\":\"histogram\"},{\"line\":{\"color\":\"rgba(128, 128, 128, 1.0)\",\"dash\":\"solid\",\"shape\":\"linear\",\"width\":1.3},\"marker\":{\"size\":2,\"symbol\":\"circle\"},\"mode\":\"markers\",\"name\":\"C\",\"text\":\"\",\"x\":[0.24525988548592925,-0.8134924347641136,-0.06301976921784228,1.6767678320421202,0.3244226225073001,-0.1955763371715922,-1.3411201785288194,1.9063827326757339,1.3474940840274094,1.8649816545434144,0.38784495530139607,-0.4614739762068934,2.624423249892742,1.1723960416063304,-0.7989430846361074,-1.6086674507023928,1.0626446977057926,0.3061122651420492,-3.8974087795971033,0.49509476013264314,-0.22890394797898309,1.531323123544235,-0.3299867649224163,-0.6180478692371327,-1.604779874246786,-0.7642244120224729,0.8028952271987085,-1.24118922536906,-0.4037680962139133,0.12671719764900752,-0.28368615581630663,0.5987350777489968,0.6987771419987823,-0.20066747894606912,1.1824188305674441,-0.32855086090261704,-0.9129891829296052,0.6837732875317857,-0.4821839815272349,-0.29299875846855944,0.2358883415177,-1.3480057073255023,0.6119263056858619,-0.5359176160660698,0.7954426240488578,-0.3360177186601398,-0.07746324253214303,-1.5648236415728372,0.2933756393149718,-0.04695088194711037,0.1766689682198699,-0.5239465195284316,2.1456067871766065,0.7615389563566171,-0.8272853511020328,-1.777287515861347,-1.699059001829908,0.48721507787091894,-1.6101843077172044,-0.35869981031815207,-0.7743598576732503,-0.9464883862911435,0.4157114601709713,1.0317807200645843,-0.23342785269896626,0.3283854501960172,0.34753742525171183,1.7770888208835824,-0.2751178467213051,-0.6696298796044111,1.21538700080969,2.1383020557715504,2.2551676774077345,0.37425799100418256,-1.3985445283206148,-0.06632952359706587,-2.007849101781652,1.4629465385445042,-0.30830681518190695,0.454900046618444,0.9704785861065522,1.058971235277724,-0.8688765333946045,-0.8805605039388629,0.9199033135573567,-1.0383100618925594,-1.0034127373954553,0.6512179848694126,-1.3803849052078925,-0.26599409292614745,0.09329712767283055,-1.7980971334936897,-1.3816592922590543,2.06826412084128,0.3773835170733553,0.4945583546436987,-0.12522417275069883,-1.042172817742925,-1.9831712321804318,-0.7012602384195061],\"xaxis\":\"x12\",\"y\":[1.3401787857219047,-1.9553069612319784,0.09675136225434358,-0.8759626344625551,0.5541427096618632,1.3165355670097862,1.408684673970268,-0.8967317424310816,1.2647177893278923,-0.8049786030037357,-0.06522744548821288,1.4644919945838932,0.4350597896711922,-0.8890187839422852,0.8867845306851252,-1.2114753081096763,-1.3938600325853063,1.490322147153945,-0.3553943255278688,0.07275987339103501,0.9468715674905341,-0.7148656043530932,1.130693472818898,0.6658723771144244,0.9517837492043227,-0.12139122701139177,0.6011921603130448,-0.22843679020738578,-0.4576461130254673,1.5217598592429153,0.06970244363116698,-0.36510742882975694,1.79964304659319,-0.4400648704861409,-1.5500450343003,0.7208936566883917,0.9148340324849574,0.5769584974237918,0.7266845772317149,-0.7613464781713648,-0.18127576515236662,0.9813822416561983,0.8648986685162713,-0.23479550261196794,0.9016435261415309,0.22909739222432027,-1.2677417034299547,0.02441969904149327,1.8962194603065503,0.9181516111950895,0.022466458072359596,-1.6147166715521313,0.3641207738676737,-1.1393813221479803,1.2684436695379524,0.07019548392944641,-0.6071693419292494,1.426350084965751,1.6962148664066656,0.19878318228660752,0.6347943664894169,-1.1188234248778783,0.7196057917579274,1.3439620810898105,-0.9282648100560266,0.15984599683557435,-0.02043117007082602,-0.6465765462806012,-0.01337361338853624,-1.7988309469098755,0.5443194498205624,-2.5290357260174927,0.9675397250912268,-0.6300044340653279,-0.5524294384364697,-0.5490247837882021,-0.3632026938472756,1.9574891488442245,-0.8240201845184999,-1.6353559803347641,-0.5264511550055844,1.4312770258432483,0.9065704277847233,-0.3117201080331889,0.16822989010638462,0.1578247697613285,0.20578184362978333,0.022514408713525055,0.2807742047625913,0.04862287024487184,0.7054300808952286,-0.8566338963035328,-2.8904122011862747,-0.8214752611638811,-0.21645791311558232,-0.5476883796592708,-0.5276737589252545,-0.7598497779233351,-2.030836851081924,0.00264599696123195],\"yaxis\":\"y12\",\"type\":\"scatter\"},{\"line\":{\"color\":\"rgba(128, 128, 128, 1.0)\",\"dash\":\"solid\",\"shape\":\"linear\",\"width\":1.3},\"marker\":{\"size\":2,\"symbol\":\"circle\"},\"mode\":\"markers\",\"name\":\"D\",\"text\":\"\",\"x\":[0.29679088647994234,-0.042206202349754085,0.05623496351276302,0.18396487905995018,1.9471896766346395,0.43208920801474165,1.6081901135096244,-0.33939886596474583,-0.005108983403875583,0.8530884673894046,-1.0049122922726699,-0.12868851992931754,1.7353868610859655,-0.08546583156278803,0.19057248696326243,-2.215582342343689,0.5808233212565269,0.5556244407586608,0.6393629473270924,0.8517397885188276,1.004772451678126,1.764774535802342,-1.5928023745870552,0.4490624254607539,-0.7527723767987775,-0.44542373319935846,0.34087288647274944,0.7583254810032551,1.1582430952918201,-0.3687962067699432,0.8684466366474232,1.1573101491711728,0.8106533155680704,0.49441830258067543,0.6885849650903538,-0.4702465281680946,0.7258776199325154,-2.229493254691975,-0.4286484838911737,-0.3528594259863507,-1.6078191886771733,1.7925932159412024,-1.4917867638583655,-0.8522939738286025,-0.3029444850990843,-0.15564219622621273,-0.8516913437553745,1.9066382724108697,-0.6264844604156597,0.06234625415648561,-3.6576914024430116,0.8489453033047615,0.6663080066373779,-2.794668362290301,-0.14340193607480287,0.46961643534909486,0.19466760147991485,-0.18305973698227745,0.2533686282037615,0.22681881963847014,-0.5853685803435907,1.2286869071151012,0.9278399975997879,-0.4069069923876818,0.2798037596885753,-1.440231742955656,-0.25905094443393784,-0.1670331195018515,-0.7801423654656153,-0.33638723727069586,0.1696828002144026,-1.6534073036946215,0.20741424731862965,-0.437475299257197,-0.605281305177192,1.2030690694557755,-1.6945689313328423,0.9344417133260021,0.46676346426075643,1.9170319083784906,0.34351232000814336,0.4415030752463328,-1.8460478325197323,0.8234785283616356,0.09775233667726059,0.4426520294879391,1.3332588195304493,0.6786094057326916,-1.072784991063228,0.1431368184337798,0.37685245253890953,-0.008279655793517674,-0.04025830813754167,-1.496699137527211,0.44668384965429475,0.8282233080065341,0.9187031152698922,0.07574685540103843,0.23778114530311967,1.1209179473646502],\"xaxis\":\"x13\",\"y\":[0.24525988548592925,-0.8134924347641136,-0.06301976921784228,1.6767678320421202,0.3244226225073001,-0.1955763371715922,-1.3411201785288194,1.9063827326757339,1.3474940840274094,1.8649816545434144,0.38784495530139607,-0.4614739762068934,2.624423249892742,1.1723960416063304,-0.7989430846361074,-1.6086674507023928,1.0626446977057926,0.3061122651420492,-3.8974087795971033,0.49509476013264314,-0.22890394797898309,1.531323123544235,-0.3299867649224163,-0.6180478692371327,-1.604779874246786,-0.7642244120224729,0.8028952271987085,-1.24118922536906,-0.4037680962139133,0.12671719764900752,-0.28368615581630663,0.5987350777489968,0.6987771419987823,-0.20066747894606912,1.1824188305674441,-0.32855086090261704,-0.9129891829296052,0.6837732875317857,-0.4821839815272349,-0.29299875846855944,0.2358883415177,-1.3480057073255023,0.6119263056858619,-0.5359176160660698,0.7954426240488578,-0.3360177186601398,-0.07746324253214303,-1.5648236415728372,0.2933756393149718,-0.04695088194711037,0.1766689682198699,-0.5239465195284316,2.1456067871766065,0.7615389563566171,-0.8272853511020328,-1.777287515861347,-1.699059001829908,0.48721507787091894,-1.6101843077172044,-0.35869981031815207,-0.7743598576732503,-0.9464883862911435,0.4157114601709713,1.0317807200645843,-0.23342785269896626,0.3283854501960172,0.34753742525171183,1.7770888208835824,-0.2751178467213051,-0.6696298796044111,1.21538700080969,2.1383020557715504,2.2551676774077345,0.37425799100418256,-1.3985445283206148,-0.06632952359706587,-2.007849101781652,1.4629465385445042,-0.30830681518190695,0.454900046618444,0.9704785861065522,1.058971235277724,-0.8688765333946045,-0.8805605039388629,0.9199033135573567,-1.0383100618925594,-1.0034127373954553,0.6512179848694126,-1.3803849052078925,-0.26599409292614745,0.09329712767283055,-1.7980971334936897,-1.3816592922590543,2.06826412084128,0.3773835170733553,0.4945583546436987,-0.12522417275069883,-1.042172817742925,-1.9831712321804318,-0.7012602384195061],\"yaxis\":\"y13\",\"type\":\"scatter\"},{\"line\":{\"color\":\"rgba(128, 128, 128, 1.0)\",\"dash\":\"solid\",\"shape\":\"linear\",\"width\":1.3},\"marker\":{\"size\":2,\"symbol\":\"circle\"},\"mode\":\"markers\",\"name\":\"D\",\"text\":\"\",\"x\":[-0.7571651498351455,0.3041841546141356,-0.3634338798273758,-2.0482361777995144,-0.18108815038638867,-0.21190299395233114,-0.7806951399891963,1.8590985191190108,0.48036674314609656,1.8873083466347365,1.1056779689437921,-1.3231700180419348,0.3342805753940904,-0.20369594444050604,0.39088820371926375,-0.48776057521970073,-1.1414327259670378,-0.7808846359062693,1.4920293778079048,0.71079751035893,0.2307135496211187,-0.7211267802065155,-0.3877863925049786,0.5293063371459275,-1.698225399775976,-0.7432359964184969,-1.0633879580111423,-1.1564930777360236,-0.6354873928530012,1.6168674082839893,-2.1397231605343183,0.8591667284039247,-0.4525164669746582,0.6479933531495566,0.4928251204016213,0.5301247456285414,1.2692158824055362,0.4903818486766852,-1.1042304957167466,-0.3604927522499086,0.13344340017146225,-0.5371434200006895,-1.8037554935945654,0.5237936559711996,1.500251268452096,2.179319647875672,-0.009000371183924594,0.7041273574304793,0.8935279013253304,-3.375008844495114,1.1894387874864698,-0.27110581005903794,-0.3603941406302465,-0.19626364838529733,2.504563093248634,0.03156911621838102,0.29881409996396646,-0.386394740622949,-0.3698428488757272,0.8246534678107472,-1.9114009699387526,-0.4623680380986253,0.9077405464515336,-0.7295099857464294,0.6764853912798772,-0.541361568392655,0.47232880482121675,0.6296488331438715,1.7669189062507158,0.5757234831604158,-0.7518036824883677,-0.6340399776230848,-1.4504687727889098,0.4229339994405687,-0.7844403212340828,0.500292917366162,-0.45417782594598816,-0.2602529926846372,1.6907017072679549,2.0122414821517025,-0.9944724957993845,-0.4618705938551304,0.15912344530429562,0.06113220007641856,0.5169371398966918,-1.1232577387697515,-0.21463034116679147,-0.42893393668424407,-1.0968561308131135,2.4209582185902776,-1.242139030854014,-0.9981972941910361,1.6073060927944351,-1.2621170591121773,0.9289617974150245,-0.22342478108118818,0.23205496907907777,-0.7706448922950906,-0.20410847471802354,-0.3025804522844425],\"xaxis\":\"x14\",\"y\":[0.24525988548592925,-0.8134924347641136,-0.06301976921784228,1.6767678320421202,0.3244226225073001,-0.1955763371715922,-1.3411201785288194,1.9063827326757339,1.3474940840274094,1.8649816545434144,0.38784495530139607,-0.4614739762068934,2.624423249892742,1.1723960416063304,-0.7989430846361074,-1.6086674507023928,1.0626446977057926,0.3061122651420492,-3.8974087795971033,0.49509476013264314,-0.22890394797898309,1.531323123544235,-0.3299867649224163,-0.6180478692371327,-1.604779874246786,-0.7642244120224729,0.8028952271987085,-1.24118922536906,-0.4037680962139133,0.12671719764900752,-0.28368615581630663,0.5987350777489968,0.6987771419987823,-0.20066747894606912,1.1824188305674441,-0.32855086090261704,-0.9129891829296052,0.6837732875317857,-0.4821839815272349,-0.29299875846855944,0.2358883415177,-1.3480057073255023,0.6119263056858619,-0.5359176160660698,0.7954426240488578,-0.3360177186601398,-0.07746324253214303,-1.5648236415728372,0.2933756393149718,-0.04695088194711037,0.1766689682198699,-0.5239465195284316,2.1456067871766065,0.7615389563566171,-0.8272853511020328,-1.777287515861347,-1.699059001829908,0.48721507787091894,-1.6101843077172044,-0.35869981031815207,-0.7743598576732503,-0.9464883862911435,0.4157114601709713,1.0317807200645843,-0.23342785269896626,0.3283854501960172,0.34753742525171183,1.7770888208835824,-0.2751178467213051,-0.6696298796044111,1.21538700080969,2.1383020557715504,2.2551676774077345,0.37425799100418256,-1.3985445283206148,-0.06632952359706587,-2.007849101781652,1.4629465385445042,-0.30830681518190695,0.454900046618444,0.9704785861065522,1.058971235277724,-0.8688765333946045,-0.8805605039388629,0.9199033135573567,-1.0383100618925594,-1.0034127373954553,0.6512179848694126,-1.3803849052078925,-0.26599409292614745,0.09329712767283055,-1.7980971334936897,-1.3816592922590543,2.06826412084128,0.3773835170733553,0.4945583546436987,-0.12522417275069883,-1.042172817742925,-1.9831712321804318,-0.7012602384195061],\"yaxis\":\"y14\",\"type\":\"scatter\"},{\"line\":{\"color\":\"rgba(128, 128, 128, 1.0)\",\"dash\":\"solid\",\"shape\":\"linear\",\"width\":1.3},\"marker\":{\"size\":2,\"symbol\":\"circle\"},\"mode\":\"markers\",\"name\":\"D\",\"text\":\"\",\"x\":[1.3401787857219047,-1.9553069612319784,0.09675136225434358,-0.8759626344625551,0.5541427096618632,1.3165355670097862,1.408684673970268,-0.8967317424310816,1.2647177893278923,-0.8049786030037357,-0.06522744548821288,1.4644919945838932,0.4350597896711922,-0.8890187839422852,0.8867845306851252,-1.2114753081096763,-1.3938600325853063,1.490322147153945,-0.3553943255278688,0.07275987339103501,0.9468715674905341,-0.7148656043530932,1.130693472818898,0.6658723771144244,0.9517837492043227,-0.12139122701139177,0.6011921603130448,-0.22843679020738578,-0.4576461130254673,1.5217598592429153,0.06970244363116698,-0.36510742882975694,1.79964304659319,-0.4400648704861409,-1.5500450343003,0.7208936566883917,0.9148340324849574,0.5769584974237918,0.7266845772317149,-0.7613464781713648,-0.18127576515236662,0.9813822416561983,0.8648986685162713,-0.23479550261196794,0.9016435261415309,0.22909739222432027,-1.2677417034299547,0.02441969904149327,1.8962194603065503,0.9181516111950895,0.022466458072359596,-1.6147166715521313,0.3641207738676737,-1.1393813221479803,1.2684436695379524,0.07019548392944641,-0.6071693419292494,1.426350084965751,1.6962148664066656,0.19878318228660752,0.6347943664894169,-1.1188234248778783,0.7196057917579274,1.3439620810898105,-0.9282648100560266,0.15984599683557435,-0.02043117007082602,-0.6465765462806012,-0.01337361338853624,-1.7988309469098755,0.5443194498205624,-2.5290357260174927,0.9675397250912268,-0.6300044340653279,-0.5524294384364697,-0.5490247837882021,-0.3632026938472756,1.9574891488442245,-0.8240201845184999,-1.6353559803347641,-0.5264511550055844,1.4312770258432483,0.9065704277847233,-0.3117201080331889,0.16822989010638462,0.1578247697613285,0.20578184362978333,0.022514408713525055,0.2807742047625913,0.04862287024487184,0.7054300808952286,-0.8566338963035328,-2.8904122011862747,-0.8214752611638811,-0.21645791311558232,-0.5476883796592708,-0.5276737589252545,-0.7598497779233351,-2.030836851081924,0.00264599696123195],\"xaxis\":\"x15\",\"y\":[0.24525988548592925,-0.8134924347641136,-0.06301976921784228,1.6767678320421202,0.3244226225073001,-0.1955763371715922,-1.3411201785288194,1.9063827326757339,1.3474940840274094,1.8649816545434144,0.38784495530139607,-0.4614739762068934,2.624423249892742,1.1723960416063304,-0.7989430846361074,-1.6086674507023928,1.0626446977057926,0.3061122651420492,-3.8974087795971033,0.49509476013264314,-0.22890394797898309,1.531323123544235,-0.3299867649224163,-0.6180478692371327,-1.604779874246786,-0.7642244120224729,0.8028952271987085,-1.24118922536906,-0.4037680962139133,0.12671719764900752,-0.28368615581630663,0.5987350777489968,0.6987771419987823,-0.20066747894606912,1.1824188305674441,-0.32855086090261704,-0.9129891829296052,0.6837732875317857,-0.4821839815272349,-0.29299875846855944,0.2358883415177,-1.3480057073255023,0.6119263056858619,-0.5359176160660698,0.7954426240488578,-0.3360177186601398,-0.07746324253214303,-1.5648236415728372,0.2933756393149718,-0.04695088194711037,0.1766689682198699,-0.5239465195284316,2.1456067871766065,0.7615389563566171,-0.8272853511020328,-1.777287515861347,-1.699059001829908,0.48721507787091894,-1.6101843077172044,-0.35869981031815207,-0.7743598576732503,-0.9464883862911435,0.4157114601709713,1.0317807200645843,-0.23342785269896626,0.3283854501960172,0.34753742525171183,1.7770888208835824,-0.2751178467213051,-0.6696298796044111,1.21538700080969,2.1383020557715504,2.2551676774077345,0.37425799100418256,-1.3985445283206148,-0.06632952359706587,-2.007849101781652,1.4629465385445042,-0.30830681518190695,0.454900046618444,0.9704785861065522,1.058971235277724,-0.8688765333946045,-0.8805605039388629,0.9199033135573567,-1.0383100618925594,-1.0034127373954553,0.6512179848694126,-1.3803849052078925,-0.26599409292614745,0.09329712767283055,-1.7980971334936897,-1.3816592922590543,2.06826412084128,0.3773835170733553,0.4945583546436987,-0.12522417275069883,-1.042172817742925,-1.9831712321804318,-0.7012602384195061],\"yaxis\":\"y15\",\"type\":\"scatter\"},{\"histfunc\":\"count\",\"histnorm\":\"\",\"marker\":{\"color\":\"rgba(128, 0, 128, 1.0)\",\"line\":{\"color\":\"#4D5663\",\"width\":1.3}},\"name\":\"D\",\"nbinsx\":10,\"opacity\":0.8,\"orientation\":\"v\",\"x\":[0.24525988548592925,-0.8134924347641136,-0.06301976921784228,1.6767678320421202,0.3244226225073001,-0.1955763371715922,-1.3411201785288194,1.9063827326757339,1.3474940840274094,1.8649816545434144,0.38784495530139607,-0.4614739762068934,2.624423249892742,1.1723960416063304,-0.7989430846361074,-1.6086674507023928,1.0626446977057926,0.3061122651420492,-3.8974087795971033,0.49509476013264314,-0.22890394797898309,1.531323123544235,-0.3299867649224163,-0.6180478692371327,-1.604779874246786,-0.7642244120224729,0.8028952271987085,-1.24118922536906,-0.4037680962139133,0.12671719764900752,-0.28368615581630663,0.5987350777489968,0.6987771419987823,-0.20066747894606912,1.1824188305674441,-0.32855086090261704,-0.9129891829296052,0.6837732875317857,-0.4821839815272349,-0.29299875846855944,0.2358883415177,-1.3480057073255023,0.6119263056858619,-0.5359176160660698,0.7954426240488578,-0.3360177186601398,-0.07746324253214303,-1.5648236415728372,0.2933756393149718,-0.04695088194711037,0.1766689682198699,-0.5239465195284316,2.1456067871766065,0.7615389563566171,-0.8272853511020328,-1.777287515861347,-1.699059001829908,0.48721507787091894,-1.6101843077172044,-0.35869981031815207,-0.7743598576732503,-0.9464883862911435,0.4157114601709713,1.0317807200645843,-0.23342785269896626,0.3283854501960172,0.34753742525171183,1.7770888208835824,-0.2751178467213051,-0.6696298796044111,1.21538700080969,2.1383020557715504,2.2551676774077345,0.37425799100418256,-1.3985445283206148,-0.06632952359706587,-2.007849101781652,1.4629465385445042,-0.30830681518190695,0.454900046618444,0.9704785861065522,1.058971235277724,-0.8688765333946045,-0.8805605039388629,0.9199033135573567,-1.0383100618925594,-1.0034127373954553,0.6512179848694126,-1.3803849052078925,-0.26599409292614745,0.09329712767283055,-1.7980971334936897,-1.3816592922590543,2.06826412084128,0.3773835170733553,0.4945583546436987,-0.12522417275069883,-1.042172817742925,-1.9831712321804318,-0.7012602384195061],\"xaxis\":\"x16\",\"yaxis\":\"y16\",\"type\":\"histogram\"}],                        {\"bargap\":0.02,\"legend\":{\"bgcolor\":\"#F5F6F9\",\"font\":{\"color\":\"#4D5663\"}},\"paper_bgcolor\":\"#F5F6F9\",\"plot_bgcolor\":\"#F5F6F9\",\"showlegend\":false,\"template\":{\"data\":{\"barpolar\":[{\"marker\":{\"line\":{\"color\":\"#E5ECF6\",\"width\":0.5},\"pattern\":{\"fillmode\":\"overlay\",\"size\":10,\"solidity\":0.2}},\"type\":\"barpolar\"}],\"bar\":[{\"error_x\":{\"color\":\"#2a3f5f\"},\"error_y\":{\"color\":\"#2a3f5f\"},\"marker\":{\"line\":{\"color\":\"#E5ECF6\",\"width\":0.5},\"pattern\":{\"fillmode\":\"overlay\",\"size\":10,\"solidity\":0.2}},\"type\":\"bar\"}],\"carpet\":[{\"aaxis\":{\"endlinecolor\":\"#2a3f5f\",\"gridcolor\":\"white\",\"linecolor\":\"white\",\"minorgridcolor\":\"white\",\"startlinecolor\":\"#2a3f5f\"},\"baxis\":{\"endlinecolor\":\"#2a3f5f\",\"gridcolor\":\"white\",\"linecolor\":\"white\",\"minorgridcolor\":\"white\",\"startlinecolor\":\"#2a3f5f\"},\"type\":\"carpet\"}],\"choropleth\":[{\"colorbar\":{\"outlinewidth\":0,\"ticks\":\"\"},\"type\":\"choropleth\"}],\"contourcarpet\":[{\"colorbar\":{\"outlinewidth\":0,\"ticks\":\"\"},\"type\":\"contourcarpet\"}],\"contour\":[{\"colorbar\":{\"outlinewidth\":0,\"ticks\":\"\"},\"colorscale\":[[0.0,\"#0d0887\"],[0.1111111111111111,\"#46039f\"],[0.2222222222222222,\"#7201a8\"],[0.3333333333333333,\"#9c179e\"],[0.4444444444444444,\"#bd3786\"],[0.5555555555555556,\"#d8576b\"],[0.6666666666666666,\"#ed7953\"],[0.7777777777777778,\"#fb9f3a\"],[0.8888888888888888,\"#fdca26\"],[1.0,\"#f0f921\"]],\"type\":\"contour\"}],\"heatmapgl\":[{\"colorbar\":{\"outlinewidth\":0,\"ticks\":\"\"},\"colorscale\":[[0.0,\"#0d0887\"],[0.1111111111111111,\"#46039f\"],[0.2222222222222222,\"#7201a8\"],[0.3333333333333333,\"#9c179e\"],[0.4444444444444444,\"#bd3786\"],[0.5555555555555556,\"#d8576b\"],[0.6666666666666666,\"#ed7953\"],[0.7777777777777778,\"#fb9f3a\"],[0.8888888888888888,\"#fdca26\"],[1.0,\"#f0f921\"]],\"type\":\"heatmapgl\"}],\"heatmap\":[{\"colorbar\":{\"outlinewidth\":0,\"ticks\":\"\"},\"colorscale\":[[0.0,\"#0d0887\"],[0.1111111111111111,\"#46039f\"],[0.2222222222222222,\"#7201a8\"],[0.3333333333333333,\"#9c179e\"],[0.4444444444444444,\"#bd3786\"],[0.5555555555555556,\"#d8576b\"],[0.6666666666666666,\"#ed7953\"],[0.7777777777777778,\"#fb9f3a\"],[0.8888888888888888,\"#fdca26\"],[1.0,\"#f0f921\"]],\"type\":\"heatmap\"}],\"histogram2dcontour\":[{\"colorbar\":{\"outlinewidth\":0,\"ticks\":\"\"},\"colorscale\":[[0.0,\"#0d0887\"],[0.1111111111111111,\"#46039f\"],[0.2222222222222222,\"#7201a8\"],[0.3333333333333333,\"#9c179e\"],[0.4444444444444444,\"#bd3786\"],[0.5555555555555556,\"#d8576b\"],[0.6666666666666666,\"#ed7953\"],[0.7777777777777778,\"#fb9f3a\"],[0.8888888888888888,\"#fdca26\"],[1.0,\"#f0f921\"]],\"type\":\"histogram2dcontour\"}],\"histogram2d\":[{\"colorbar\":{\"outlinewidth\":0,\"ticks\":\"\"},\"colorscale\":[[0.0,\"#0d0887\"],[0.1111111111111111,\"#46039f\"],[0.2222222222222222,\"#7201a8\"],[0.3333333333333333,\"#9c179e\"],[0.4444444444444444,\"#bd3786\"],[0.5555555555555556,\"#d8576b\"],[0.6666666666666666,\"#ed7953\"],[0.7777777777777778,\"#fb9f3a\"],[0.8888888888888888,\"#fdca26\"],[1.0,\"#f0f921\"]],\"type\":\"histogram2d\"}],\"histogram\":[{\"marker\":{\"pattern\":{\"fillmode\":\"overlay\",\"size\":10,\"solidity\":0.2}},\"type\":\"histogram\"}],\"mesh3d\":[{\"colorbar\":{\"outlinewidth\":0,\"ticks\":\"\"},\"type\":\"mesh3d\"}],\"parcoords\":[{\"line\":{\"colorbar\":{\"outlinewidth\":0,\"ticks\":\"\"}},\"type\":\"parcoords\"}],\"pie\":[{\"automargin\":true,\"type\":\"pie\"}],\"scatter3d\":[{\"line\":{\"colorbar\":{\"outlinewidth\":0,\"ticks\":\"\"}},\"marker\":{\"colorbar\":{\"outlinewidth\":0,\"ticks\":\"\"}},\"type\":\"scatter3d\"}],\"scattercarpet\":[{\"marker\":{\"colorbar\":{\"outlinewidth\":0,\"ticks\":\"\"}},\"type\":\"scattercarpet\"}],\"scattergeo\":[{\"marker\":{\"colorbar\":{\"outlinewidth\":0,\"ticks\":\"\"}},\"type\":\"scattergeo\"}],\"scattergl\":[{\"marker\":{\"colorbar\":{\"outlinewidth\":0,\"ticks\":\"\"}},\"type\":\"scattergl\"}],\"scattermapbox\":[{\"marker\":{\"colorbar\":{\"outlinewidth\":0,\"ticks\":\"\"}},\"type\":\"scattermapbox\"}],\"scatterpolargl\":[{\"marker\":{\"colorbar\":{\"outlinewidth\":0,\"ticks\":\"\"}},\"type\":\"scatterpolargl\"}],\"scatterpolar\":[{\"marker\":{\"colorbar\":{\"outlinewidth\":0,\"ticks\":\"\"}},\"type\":\"scatterpolar\"}],\"scatter\":[{\"marker\":{\"colorbar\":{\"outlinewidth\":0,\"ticks\":\"\"}},\"type\":\"scatter\"}],\"scatterternary\":[{\"marker\":{\"colorbar\":{\"outlinewidth\":0,\"ticks\":\"\"}},\"type\":\"scatterternary\"}],\"surface\":[{\"colorbar\":{\"outlinewidth\":0,\"ticks\":\"\"},\"colorscale\":[[0.0,\"#0d0887\"],[0.1111111111111111,\"#46039f\"],[0.2222222222222222,\"#7201a8\"],[0.3333333333333333,\"#9c179e\"],[0.4444444444444444,\"#bd3786\"],[0.5555555555555556,\"#d8576b\"],[0.6666666666666666,\"#ed7953\"],[0.7777777777777778,\"#fb9f3a\"],[0.8888888888888888,\"#fdca26\"],[1.0,\"#f0f921\"]],\"type\":\"surface\"}],\"table\":[{\"cells\":{\"fill\":{\"color\":\"#EBF0F8\"},\"line\":{\"color\":\"white\"}},\"header\":{\"fill\":{\"color\":\"#C8D4E3\"},\"line\":{\"color\":\"white\"}},\"type\":\"table\"}]},\"layout\":{\"annotationdefaults\":{\"arrowcolor\":\"#2a3f5f\",\"arrowhead\":0,\"arrowwidth\":1},\"autotypenumbers\":\"strict\",\"coloraxis\":{\"colorbar\":{\"outlinewidth\":0,\"ticks\":\"\"}},\"colorscale\":{\"diverging\":[[0,\"#8e0152\"],[0.1,\"#c51b7d\"],[0.2,\"#de77ae\"],[0.3,\"#f1b6da\"],[0.4,\"#fde0ef\"],[0.5,\"#f7f7f7\"],[0.6,\"#e6f5d0\"],[0.7,\"#b8e186\"],[0.8,\"#7fbc41\"],[0.9,\"#4d9221\"],[1,\"#276419\"]],\"sequential\":[[0.0,\"#0d0887\"],[0.1111111111111111,\"#46039f\"],[0.2222222222222222,\"#7201a8\"],[0.3333333333333333,\"#9c179e\"],[0.4444444444444444,\"#bd3786\"],[0.5555555555555556,\"#d8576b\"],[0.6666666666666666,\"#ed7953\"],[0.7777777777777778,\"#fb9f3a\"],[0.8888888888888888,\"#fdca26\"],[1.0,\"#f0f921\"]],\"sequentialminus\":[[0.0,\"#0d0887\"],[0.1111111111111111,\"#46039f\"],[0.2222222222222222,\"#7201a8\"],[0.3333333333333333,\"#9c179e\"],[0.4444444444444444,\"#bd3786\"],[0.5555555555555556,\"#d8576b\"],[0.6666666666666666,\"#ed7953\"],[0.7777777777777778,\"#fb9f3a\"],[0.8888888888888888,\"#fdca26\"],[1.0,\"#f0f921\"]]},\"colorway\":[\"#636efa\",\"#EF553B\",\"#00cc96\",\"#ab63fa\",\"#FFA15A\",\"#19d3f3\",\"#FF6692\",\"#B6E880\",\"#FF97FF\",\"#FECB52\"],\"font\":{\"color\":\"#2a3f5f\"},\"geo\":{\"bgcolor\":\"white\",\"lakecolor\":\"white\",\"landcolor\":\"#E5ECF6\",\"showlakes\":true,\"showland\":true,\"subunitcolor\":\"white\"},\"hoverlabel\":{\"align\":\"left\"},\"hovermode\":\"closest\",\"mapbox\":{\"style\":\"light\"},\"paper_bgcolor\":\"white\",\"plot_bgcolor\":\"#E5ECF6\",\"polar\":{\"angularaxis\":{\"gridcolor\":\"white\",\"linecolor\":\"white\",\"ticks\":\"\"},\"bgcolor\":\"#E5ECF6\",\"radialaxis\":{\"gridcolor\":\"white\",\"linecolor\":\"white\",\"ticks\":\"\"}},\"scene\":{\"xaxis\":{\"backgroundcolor\":\"#E5ECF6\",\"gridcolor\":\"white\",\"gridwidth\":2,\"linecolor\":\"white\",\"showbackground\":true,\"ticks\":\"\",\"zerolinecolor\":\"white\"},\"yaxis\":{\"backgroundcolor\":\"#E5ECF6\",\"gridcolor\":\"white\",\"gridwidth\":2,\"linecolor\":\"white\",\"showbackground\":true,\"ticks\":\"\",\"zerolinecolor\":\"white\"},\"zaxis\":{\"backgroundcolor\":\"#E5ECF6\",\"gridcolor\":\"white\",\"gridwidth\":2,\"linecolor\":\"white\",\"showbackground\":true,\"ticks\":\"\",\"zerolinecolor\":\"white\"}},\"shapedefaults\":{\"line\":{\"color\":\"#2a3f5f\"}},\"ternary\":{\"aaxis\":{\"gridcolor\":\"white\",\"linecolor\":\"white\",\"ticks\":\"\"},\"baxis\":{\"gridcolor\":\"white\",\"linecolor\":\"white\",\"ticks\":\"\"},\"bgcolor\":\"#E5ECF6\",\"caxis\":{\"gridcolor\":\"white\",\"linecolor\":\"white\",\"ticks\":\"\"}},\"title\":{\"x\":0.05},\"xaxis\":{\"automargin\":true,\"gridcolor\":\"white\",\"linecolor\":\"white\",\"ticks\":\"\",\"title\":{\"standoff\":15},\"zerolinecolor\":\"white\",\"zerolinewidth\":2},\"yaxis\":{\"automargin\":true,\"gridcolor\":\"white\",\"linecolor\":\"white\",\"ticks\":\"\",\"title\":{\"standoff\":15},\"zerolinecolor\":\"white\",\"zerolinewidth\":2}}},\"title\":{\"font\":{\"color\":\"#4D5663\"}},\"xaxis\":{\"anchor\":\"y\",\"domain\":[0.0,0.2125],\"gridcolor\":\"#E1E5ED\",\"showgrid\":false,\"tickfont\":{\"color\":\"#4D5663\"},\"title\":{\"font\":{\"color\":\"#4D5663\"},\"text\":\"\"},\"zerolinecolor\":\"#E1E5ED\"},\"yaxis\":{\"anchor\":\"x\",\"domain\":[0.8025,1.0],\"gridcolor\":\"#E1E5ED\",\"showgrid\":false,\"tickfont\":{\"color\":\"#4D5663\"},\"title\":{\"font\":{\"color\":\"#4D5663\"},\"text\":\"\"},\"zerolinecolor\":\"#E1E5ED\"},\"xaxis2\":{\"anchor\":\"y2\",\"domain\":[0.2625,0.475],\"gridcolor\":\"#E1E5ED\",\"showgrid\":false,\"tickfont\":{\"color\":\"#4D5663\"},\"title\":{\"font\":{\"color\":\"#4D5663\"},\"text\":\"\"},\"zerolinecolor\":\"#E1E5ED\"},\"yaxis2\":{\"anchor\":\"x2\",\"domain\":[0.8025,1.0],\"gridcolor\":\"#E1E5ED\",\"showgrid\":false,\"tickfont\":{\"color\":\"#4D5663\"},\"title\":{\"font\":{\"color\":\"#4D5663\"},\"text\":\"\"},\"zerolinecolor\":\"#E1E5ED\"},\"xaxis3\":{\"anchor\":\"y3\",\"domain\":[0.525,0.7375],\"gridcolor\":\"#E1E5ED\",\"showgrid\":false,\"tickfont\":{\"color\":\"#4D5663\"},\"title\":{\"font\":{\"color\":\"#4D5663\"},\"text\":\"\"},\"zerolinecolor\":\"#E1E5ED\"},\"yaxis3\":{\"anchor\":\"x3\",\"domain\":[0.8025,1.0],\"gridcolor\":\"#E1E5ED\",\"showgrid\":false,\"tickfont\":{\"color\":\"#4D5663\"},\"title\":{\"font\":{\"color\":\"#4D5663\"},\"text\":\"\"},\"zerolinecolor\":\"#E1E5ED\"},\"xaxis4\":{\"anchor\":\"y4\",\"domain\":[0.7875,1.0],\"gridcolor\":\"#E1E5ED\",\"showgrid\":false,\"tickfont\":{\"color\":\"#4D5663\"},\"title\":{\"font\":{\"color\":\"#4D5663\"},\"text\":\"\"},\"zerolinecolor\":\"#E1E5ED\"},\"yaxis4\":{\"anchor\":\"x4\",\"domain\":[0.8025,1.0],\"gridcolor\":\"#E1E5ED\",\"showgrid\":false,\"tickfont\":{\"color\":\"#4D5663\"},\"title\":{\"font\":{\"color\":\"#4D5663\"},\"text\":\"\"},\"zerolinecolor\":\"#E1E5ED\"},\"xaxis5\":{\"anchor\":\"y5\",\"domain\":[0.0,0.2125],\"gridcolor\":\"#E1E5ED\",\"showgrid\":false,\"tickfont\":{\"color\":\"#4D5663\"},\"title\":{\"font\":{\"color\":\"#4D5663\"},\"text\":\"\"},\"zerolinecolor\":\"#E1E5ED\"},\"yaxis5\":{\"anchor\":\"x5\",\"domain\":[0.535,0.7325],\"gridcolor\":\"#E1E5ED\",\"showgrid\":false,\"tickfont\":{\"color\":\"#4D5663\"},\"title\":{\"font\":{\"color\":\"#4D5663\"},\"text\":\"\"},\"zerolinecolor\":\"#E1E5ED\"},\"xaxis6\":{\"anchor\":\"y6\",\"domain\":[0.2625,0.475],\"gridcolor\":\"#E1E5ED\",\"showgrid\":false,\"tickfont\":{\"color\":\"#4D5663\"},\"title\":{\"font\":{\"color\":\"#4D5663\"},\"text\":\"\"},\"zerolinecolor\":\"#E1E5ED\"},\"yaxis6\":{\"anchor\":\"x6\",\"domain\":[0.535,0.7325],\"gridcolor\":\"#E1E5ED\",\"showgrid\":false,\"tickfont\":{\"color\":\"#4D5663\"},\"title\":{\"font\":{\"color\":\"#4D5663\"},\"text\":\"\"},\"zerolinecolor\":\"#E1E5ED\"},\"xaxis7\":{\"anchor\":\"y7\",\"domain\":[0.525,0.7375],\"gridcolor\":\"#E1E5ED\",\"showgrid\":false,\"tickfont\":{\"color\":\"#4D5663\"},\"title\":{\"font\":{\"color\":\"#4D5663\"},\"text\":\"\"},\"zerolinecolor\":\"#E1E5ED\"},\"yaxis7\":{\"anchor\":\"x7\",\"domain\":[0.535,0.7325],\"gridcolor\":\"#E1E5ED\",\"showgrid\":false,\"tickfont\":{\"color\":\"#4D5663\"},\"title\":{\"font\":{\"color\":\"#4D5663\"},\"text\":\"\"},\"zerolinecolor\":\"#E1E5ED\"},\"xaxis8\":{\"anchor\":\"y8\",\"domain\":[0.7875,1.0],\"gridcolor\":\"#E1E5ED\",\"showgrid\":false,\"tickfont\":{\"color\":\"#4D5663\"},\"title\":{\"font\":{\"color\":\"#4D5663\"},\"text\":\"\"},\"zerolinecolor\":\"#E1E5ED\"},\"yaxis8\":{\"anchor\":\"x8\",\"domain\":[0.535,0.7325],\"gridcolor\":\"#E1E5ED\",\"showgrid\":false,\"tickfont\":{\"color\":\"#4D5663\"},\"title\":{\"font\":{\"color\":\"#4D5663\"},\"text\":\"\"},\"zerolinecolor\":\"#E1E5ED\"},\"xaxis9\":{\"anchor\":\"y9\",\"domain\":[0.0,0.2125],\"gridcolor\":\"#E1E5ED\",\"showgrid\":false,\"tickfont\":{\"color\":\"#4D5663\"},\"title\":{\"font\":{\"color\":\"#4D5663\"},\"text\":\"\"},\"zerolinecolor\":\"#E1E5ED\"},\"yaxis9\":{\"anchor\":\"x9\",\"domain\":[0.2675,0.465],\"gridcolor\":\"#E1E5ED\",\"showgrid\":false,\"tickfont\":{\"color\":\"#4D5663\"},\"title\":{\"font\":{\"color\":\"#4D5663\"},\"text\":\"\"},\"zerolinecolor\":\"#E1E5ED\"},\"xaxis10\":{\"anchor\":\"y10\",\"domain\":[0.2625,0.475],\"gridcolor\":\"#E1E5ED\",\"showgrid\":false,\"tickfont\":{\"color\":\"#4D5663\"},\"title\":{\"font\":{\"color\":\"#4D5663\"},\"text\":\"\"},\"zerolinecolor\":\"#E1E5ED\"},\"yaxis10\":{\"anchor\":\"x10\",\"domain\":[0.2675,0.465],\"gridcolor\":\"#E1E5ED\",\"showgrid\":false,\"tickfont\":{\"color\":\"#4D5663\"},\"title\":{\"font\":{\"color\":\"#4D5663\"},\"text\":\"\"},\"zerolinecolor\":\"#E1E5ED\"},\"xaxis11\":{\"anchor\":\"y11\",\"domain\":[0.525,0.7375],\"gridcolor\":\"#E1E5ED\",\"showgrid\":false,\"tickfont\":{\"color\":\"#4D5663\"},\"title\":{\"font\":{\"color\":\"#4D5663\"},\"text\":\"\"},\"zerolinecolor\":\"#E1E5ED\"},\"yaxis11\":{\"anchor\":\"x11\",\"domain\":[0.2675,0.465],\"gridcolor\":\"#E1E5ED\",\"showgrid\":false,\"tickfont\":{\"color\":\"#4D5663\"},\"title\":{\"font\":{\"color\":\"#4D5663\"},\"text\":\"\"},\"zerolinecolor\":\"#E1E5ED\"},\"xaxis12\":{\"anchor\":\"y12\",\"domain\":[0.7875,1.0],\"gridcolor\":\"#E1E5ED\",\"showgrid\":false,\"tickfont\":{\"color\":\"#4D5663\"},\"title\":{\"font\":{\"color\":\"#4D5663\"},\"text\":\"\"},\"zerolinecolor\":\"#E1E5ED\"},\"yaxis12\":{\"anchor\":\"x12\",\"domain\":[0.2675,0.465],\"gridcolor\":\"#E1E5ED\",\"showgrid\":false,\"tickfont\":{\"color\":\"#4D5663\"},\"title\":{\"font\":{\"color\":\"#4D5663\"},\"text\":\"\"},\"zerolinecolor\":\"#E1E5ED\"},\"xaxis13\":{\"anchor\":\"y13\",\"domain\":[0.0,0.2125],\"gridcolor\":\"#E1E5ED\",\"showgrid\":false,\"tickfont\":{\"color\":\"#4D5663\"},\"title\":{\"font\":{\"color\":\"#4D5663\"},\"text\":\"\"},\"zerolinecolor\":\"#E1E5ED\"},\"yaxis13\":{\"anchor\":\"x13\",\"domain\":[0.0,0.1975],\"gridcolor\":\"#E1E5ED\",\"showgrid\":false,\"tickfont\":{\"color\":\"#4D5663\"},\"title\":{\"font\":{\"color\":\"#4D5663\"},\"text\":\"\"},\"zerolinecolor\":\"#E1E5ED\"},\"xaxis14\":{\"anchor\":\"y14\",\"domain\":[0.2625,0.475],\"gridcolor\":\"#E1E5ED\",\"showgrid\":false,\"tickfont\":{\"color\":\"#4D5663\"},\"title\":{\"font\":{\"color\":\"#4D5663\"},\"text\":\"\"},\"zerolinecolor\":\"#E1E5ED\"},\"yaxis14\":{\"anchor\":\"x14\",\"domain\":[0.0,0.1975],\"gridcolor\":\"#E1E5ED\",\"showgrid\":false,\"tickfont\":{\"color\":\"#4D5663\"},\"title\":{\"font\":{\"color\":\"#4D5663\"},\"text\":\"\"},\"zerolinecolor\":\"#E1E5ED\"},\"xaxis15\":{\"anchor\":\"y15\",\"domain\":[0.525,0.7375],\"gridcolor\":\"#E1E5ED\",\"showgrid\":false,\"tickfont\":{\"color\":\"#4D5663\"},\"title\":{\"font\":{\"color\":\"#4D5663\"},\"text\":\"\"},\"zerolinecolor\":\"#E1E5ED\"},\"yaxis15\":{\"anchor\":\"x15\",\"domain\":[0.0,0.1975],\"gridcolor\":\"#E1E5ED\",\"showgrid\":false,\"tickfont\":{\"color\":\"#4D5663\"},\"title\":{\"font\":{\"color\":\"#4D5663\"},\"text\":\"\"},\"zerolinecolor\":\"#E1E5ED\"},\"xaxis16\":{\"anchor\":\"y16\",\"domain\":[0.7875,1.0],\"gridcolor\":\"#E1E5ED\",\"showgrid\":false,\"tickfont\":{\"color\":\"#4D5663\"},\"title\":{\"font\":{\"color\":\"#4D5663\"},\"text\":\"\"},\"zerolinecolor\":\"#E1E5ED\"},\"yaxis16\":{\"anchor\":\"x16\",\"domain\":[0.0,0.1975],\"gridcolor\":\"#E1E5ED\",\"showgrid\":false,\"tickfont\":{\"color\":\"#4D5663\"},\"title\":{\"font\":{\"color\":\"#4D5663\"},\"text\":\"\"},\"zerolinecolor\":\"#E1E5ED\"}},                        {\"showLink\": true, \"linkText\": \"Export to plot.ly\", \"plotlyServerURL\": \"https://plot.ly\", \"responsive\": true}                    ).then(function(){\n",
       "                            \n",
       "var gd = document.getElementById('ed94451c-86af-4d6d-92dd-09b10bb88f59');\n",
       "var x = new MutationObserver(function (mutations, observer) {{\n",
       "        var display = window.getComputedStyle(gd).display;\n",
       "        if (!display || display === 'none') {{\n",
       "            console.log([gd, 'removed!']);\n",
       "            Plotly.purge(gd);\n",
       "            observer.disconnect();\n",
       "        }}\n",
       "}});\n",
       "\n",
       "// Listen for the removal of the full notebook cells\n",
       "var notebookContainer = gd.closest('#notebook-container');\n",
       "if (notebookContainer) {{\n",
       "    x.observe(notebookContainer, {childList: true});\n",
       "}}\n",
       "\n",
       "// Listen for the clearing of the current output cell\n",
       "var outputEl = gd.closest('.output');\n",
       "if (outputEl) {{\n",
       "    x.observe(outputEl, {childList: true});\n",
       "}}\n",
       "\n",
       "                        })                };                });            </script>        </div>"
      ]
     },
     "metadata": {},
     "output_type": "display_data"
    }
   ],
   "source": [
    "df.scatter_matrix()"
   ]
  },
  {
   "cell_type": "code",
   "execution_count": null,
   "id": "ec444c58",
   "metadata": {},
   "outputs": [],
   "source": [
    "### cufflinks - interactive graphical type \n",
    "### Click on the graph focuse on the values. You can do this thanks to cufflinks"
   ]
  }
 ],
 "metadata": {
  "kernelspec": {
   "display_name": "Python 3 (ipykernel)",
   "language": "python",
   "name": "python3"
  },
  "language_info": {
   "codemirror_mode": {
    "name": "ipython",
    "version": 3
   },
   "file_extension": ".py",
   "mimetype": "text/x-python",
   "name": "python",
   "nbconvert_exporter": "python",
   "pygments_lexer": "ipython3",
   "version": "3.9.7"
  }
 },
 "nbformat": 4,
 "nbformat_minor": 5
}
